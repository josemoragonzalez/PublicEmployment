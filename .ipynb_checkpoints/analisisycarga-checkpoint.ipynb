{
 "cells": [
  {
   "cell_type": "markdown",
   "metadata": {},
   "source": [
    "# Conexión a GS"
   ]
  },
  {
   "cell_type": "code",
   "execution_count": 2,
   "metadata": {},
   "outputs": [],
   "source": [
    "# Import libraries \n",
    "import pandas as pd\n",
    "import warnings\n",
    "warnings.filterwarnings(\"ignore\")\n",
    "# For connect to google sheet\n",
    "import gspread\n",
    "from oauth2client.service_account import ServiceAccountCredentials\n",
    "from df2gspread import df2gspread as d2g"
   ]
  },
  {
   "cell_type": "code",
   "execution_count": 5,
   "metadata": {},
   "outputs": [],
   "source": [
    "# Configure the connection \n",
    "scope = ['https://spreadsheets.google.com/feeds']\n",
    "\n",
    "# Give the path to the Service Account Credential json file \n",
    "credentials = ServiceAccountCredentials.from_json_keyfile_name('jupyter-and-googlsheets-dc0792b33051.json', scope)\n",
    "# Authorise your Notebook\n",
    "gc = gspread.authorize(credentials)\n",
    "\n",
    "# The sprad sheet ID, which can be taken from the link to the sheet\n",
    "spreadsheet_key = '1VdraxFqD8cO6BKhLys4uZ82g080LY9SlWlTvUxMncMw'\n",
    "\n",
    "import mysql.connector as sql\n",
    "import pandas as pd"
   ]
  },
  {
   "cell_type": "markdown",
   "metadata": {},
   "source": [
    "# Análisis"
   ]
  },
  {
   "cell_type": "markdown",
   "metadata": {},
   "source": [
    "### Cantidad de funcionarios por periodo mensual informado"
   ]
  },
  {
   "cell_type": "code",
   "execution_count": 4,
   "metadata": {},
   "outputs": [
    {
     "name": "stdout",
     "output_type": "stream",
     "text": [
      "The sheet is updated successfully\n"
     ]
    }
   ],
   "source": [
    "import mysql.connector as sql\n",
    "import pandas as pd\n",
    "\n",
    "# Hacemos la query  e importamos el resultado en un df\n",
    "db_connection = sql.connect(host='127.0.0.1', database='funcionarios', user='root', password='stavros2020')\n",
    "\n",
    "query='''\n",
    "select count(distinct nombre), anyo, mesN, Regimen\n",
    "from funcionarios.`full` f \n",
    "group by anyo, mesN, Regimen\n",
    "ORDER by anyo desc \n",
    "'''\n",
    "\n",
    "qFun = pd.read_sql(query, con=db_connection)\n",
    "\n",
    "db_connection.close()\n",
    "\n",
    "qFun['mesN'] = qFun['mesN'].astype(int)\n",
    "\n",
    "# Setemos el nomnbre de la hoja y cargamos los datos \n",
    "wks_name = 'qFuncbyMes'\n",
    "cell_of_start_df = 'A1'\n",
    "# upload the dataframe of the clients we want to delete\n",
    "d2g.upload(qFun,\n",
    "           spreadsheet_key,\n",
    "           wks_name,\n",
    "           credentials=credentials,\n",
    "           col_names=True,\n",
    "           row_names=False,\n",
    "           start_cell = cell_of_start_df,\n",
    "           clean=True)\n",
    "print ('The sheet is updated successfully')"
   ]
  },
  {
   "cell_type": "markdown",
   "metadata": {},
   "source": [
    "### Cantidad de Servicios por periodo mensual informado"
   ]
  },
  {
   "cell_type": "code",
   "execution_count": 8,
   "metadata": {},
   "outputs": [
    {
     "name": "stdout",
     "output_type": "stream",
     "text": [
      "The sheet is updated successfully\n"
     ]
    }
   ],
   "source": [
    "# Hacemos la query  e importamos el resultado en un df\n",
    "db_connection = sql.connect(host='127.0.0.1', database='funcionarios', user='root', password='stavros2020')\n",
    "\n",
    "query2='''\n",
    "select count(distinct organismo_codigo), anyo, mesN\n",
    "from funcionarios.`full` f \n",
    "group by anyo, mesN, Regimen\n",
    "ORDER by anyo desc \n",
    "'''\n",
    "\n",
    "qServ = pd.read_sql(query2, con=db_connection)\n",
    "\n",
    "db_connection.close()\n",
    "\n",
    "qServ['mesN'] = qServ['mesN'].astype(int)\n",
    "\n",
    "# Setemos el nomnbre de la hoja y cargamos los datos \n",
    "wks_name = 'qServbyMes'\n",
    "cell_of_start_df = 'A1'\n",
    "# upload the dataframe of the clients we want to delete\n",
    "d2g.upload(qServ,\n",
    "           spreadsheet_key,\n",
    "           wks_name,\n",
    "           credentials=credentials,\n",
    "           col_names=True,\n",
    "           row_names=False,\n",
    "           start_cell = cell_of_start_df,\n",
    "           clean=True)\n",
    "print ('The sheet is updated successfully')"
   ]
  },
  {
   "cell_type": "markdown",
   "metadata": {},
   "source": [
    "### Cantidad de Cargos por periodo mensual informado"
   ]
  },
  {
   "cell_type": "code",
   "execution_count": 9,
   "metadata": {},
   "outputs": [
    {
     "name": "stdout",
     "output_type": "stream",
     "text": [
      "The sheet is updated successfully\n"
     ]
    }
   ],
   "source": [
    "# Hacemos la query  e importamos el resultado en un df\n",
    "db_connection = sql.connect(host='127.0.0.1', database='funcionarios', user='root', password='stavros2020')\n",
    "\n",
    "query3='''\n",
    "select count(distinct `Tipo cargo`), anyo, mesN\n",
    "from funcionarios.`full` f \n",
    "group by anyo, mesN, Regimen\n",
    "ORDER by anyo desc \n",
    "'''\n",
    "\n",
    "qTcargo = pd.read_sql(query3, con=db_connection)\n",
    "\n",
    "db_connection.close()\n",
    "\n",
    "qTcargo['mesN'] = qTcargo['mesN'].astype(int)\n",
    "\n",
    "# Setemos el nomnbre de la hoja y cargamos los datos \n",
    "wks_name = 'qTipoCargoMes'\n",
    "cell_of_start_df = 'A1'\n",
    "# upload the dataframe of the clients we want to delete\n",
    "d2g.upload(qTcargo,\n",
    "           spreadsheet_key,\n",
    "           wks_name,\n",
    "           credentials=credentials,\n",
    "           col_names=True,\n",
    "           row_names=False,\n",
    "           start_cell = cell_of_start_df,\n",
    "           clean=True)\n",
    "print ('The sheet is updated successfully')"
   ]
  },
  {
   "cell_type": "markdown",
   "metadata": {},
   "source": [
    "### Cantidad de Profesiones por periodo mensual informado"
   ]
  },
  {
   "cell_type": "code",
   "execution_count": 10,
   "metadata": {},
   "outputs": [
    {
     "name": "stdout",
     "output_type": "stream",
     "text": [
      "The sheet is updated successfully\n"
     ]
    }
   ],
   "source": [
    "# Hacemos la query  e importamos el resultado en un df\n",
    "db_connection = sql.connect(host='127.0.0.1', database='funcionarios', user='root', password='stavros2020')\n",
    "\n",
    "query3='''\n",
    "select count(distinct `tipo_calificacionp`), anyo, mesN\n",
    "from funcionarios.`full` f \n",
    "group by anyo, mesN, Regimen\n",
    "ORDER by anyo desc \n",
    "'''\n",
    "\n",
    "qTcargo = pd.read_sql(query3, con=db_connection)\n",
    "\n",
    "db_connection.close()\n",
    "\n",
    "qTcargo['mesN'] = qTcargo['mesN'].astype(int)\n",
    "\n",
    "# Setemos el nomnbre de la hoja y cargamos los datos \n",
    "wks_name = 'qTipoProfesionMes'\n",
    "cell_of_start_df = 'A1'\n",
    "# upload the dataframe of the clients we want to delete\n",
    "d2g.upload(qTcargo,\n",
    "           spreadsheet_key,\n",
    "           wks_name,\n",
    "           credentials=credentials,\n",
    "           col_names=True,\n",
    "           row_names=False,\n",
    "           start_cell = cell_of_start_df,\n",
    "           clean=True)\n",
    "print ('The sheet is updated successfully')"
   ]
  },
  {
   "cell_type": "markdown",
   "metadata": {},
   "source": [
    "### Monto mensual promedio por Tipo de Estamento por mes año informado"
   ]
  },
  {
   "cell_type": "code",
   "execution_count": 13,
   "metadata": {},
   "outputs": [
    {
     "name": "stdout",
     "output_type": "stream",
     "text": [
      "The sheet is updated successfully\n"
     ]
    }
   ],
   "source": [
    "# Hacemos la query  e importamos el resultado en un df\n",
    "db_connection = sql.connect(host='127.0.0.1', database='funcionarios', user='root', password='stavros2020')\n",
    "\n",
    "query3='''\n",
    "select `Tipo Estamento`, sum(RemBrutaPesosReal) as 'Remuneracion Mensual', anyo, mes, mesN, región, Regimen , count(nombre) as cantidad\n",
    "from funcionarios.`full` f \n",
    "Group By `Tipo Estamento`,anyo, mes, región, Regimen , mesN\n",
    "'''\n",
    "\n",
    "qTEM = pd.read_sql(query3, con=db_connection)\n",
    "\n",
    "db_connection.close()\n",
    "\n",
    "\n",
    "qTEM['Remuneracion Mensual'] = qTEM['Remuneracion Mensual'].fillna(0)\n",
    "qTEM['Remuneracion Mensual'] = qTEM['Remuneracion Mensual'].astype(int)\n",
    "\n",
    "# Setemos el nomnbre de la hoja y cargamos los datos \n",
    "wks_name = 'qTipoEstbyMes'\n",
    "cell_of_start_df = 'A1'\n",
    "# upload the dataframe of the clients we want to delete\n",
    "d2g.upload(qTEM,\n",
    "           spreadsheet_key,\n",
    "           wks_name,\n",
    "           credentials=credentials,\n",
    "           col_names=True,\n",
    "           row_names=False,\n",
    "           start_cell = cell_of_start_df,\n",
    "           clean=True)\n",
    "print ('The sheet is updated successfully')"
   ]
  },
  {
   "cell_type": "markdown",
   "metadata": {},
   "source": [
    "### Monto mensual promedio por Tipo de Profesión por mes año informado"
   ]
  },
  {
   "cell_type": "code",
   "execution_count": 23,
   "metadata": {},
   "outputs": [
    {
     "name": "stdout",
     "output_type": "stream",
     "text": [
      "The sheet is updated successfully\n"
     ]
    }
   ],
   "source": [
    "# Hacemos la query  e importamos el resultado en un df\n",
    "db_connection = sql.connect(host='127.0.0.1', database='funcionarios', user='root', password='stavros2020')\n",
    "\n",
    "query6='''\n",
    "select tipo_calificacionp , sum(RemBrutaPesosReal) as 'Remuneracion Mensual', anyo, mes, mesN, región, Regimen , count(nombre) as cantidad\n",
    "from funcionarios.`full` f \n",
    "Where anyo = YEAR (now())\n",
    "and convert(mesN, UNSIGNED INTEGER) <= MONTH (NOW() ) - 2\n",
    "Group By anyo, mes, región, mesN, tipo_calificacionp, Regimen \n",
    "'''\n",
    "\n",
    "RemProf = pd.read_sql(query6, con=db_connection)\n",
    "\n",
    "db_connection.close()\n",
    "\n",
    "\n",
    "RemProf['Remuneracion Mensual'] = RemProf['Remuneracion Mensual'].fillna(0)\n",
    "RemProf['Remuneracion Mensual'] = RemProf['Remuneracion Mensual'].astype(int)\n",
    "\n",
    "# Setemos el nomnbre de la hoja y cargamos los datos \n",
    "wks_name = 'MonRemProf'\n",
    "cell_of_start_df = 'A1'\n",
    "# upload the dataframe of the clients we want to delete\n",
    "d2g.upload(RemProf,\n",
    "           spreadsheet_key,\n",
    "           wks_name,\n",
    "           credentials=credentials,\n",
    "           col_names=True,\n",
    "           row_names=False,\n",
    "           start_cell = cell_of_start_df,\n",
    "           clean= True)\n",
    "print ('The sheet is updated successfully')"
   ]
  },
  {
   "cell_type": "markdown",
   "metadata": {},
   "source": [
    "### Monto de Horas Extras del último mes listado detallado por persona"
   ]
  },
  {
   "cell_type": "code",
   "execution_count": 57,
   "metadata": {},
   "outputs": [],
   "source": [
    "# Hacemos la query  e importamos el resultado en un df\n",
    "db_connection = sql.connect(host='127.0.0.1', database='funcionarios', user='root', password='stavros2020')\n",
    "\n",
    "query7='''\n",
    "select nombre , cantHExDiu, cantHExNoc , cantHExFes , HEDiuReal , HEFesReal , HENocReal, organismo_nombre, Mes \n",
    "from funcionarios.`full` f \n",
    "Where anyo = YEAR (now())\n",
    "and convert(mesN, UNSIGNED INTEGER) = MONTH (NOW() ) - 2\n",
    "'''\n",
    "\n",
    "HH = pd.read_sql(query7, con=db_connection)\n",
    "HH = HH.reset_index()\n",
    "db_connection.close()\n",
    "\n",
    "HH1 = HH[['index', 'nombre']]\n",
    "HH2 = HH[['index', 'cantHExFes' , 'HEDiuReal']]\n",
    "HH3 = HH[['index', 'HEFesReal' , 'HENocReal']]\n",
    "HH4 = HH[['index', 'organismo_nombre', 'Mes' ]]\n",
    "HH5 = HH[['index', 'cantHExNoc', 'cantHExDiu']]\n"
   ]
  },
  {
   "cell_type": "code",
   "execution_count": null,
   "metadata": {},
   "outputs": [],
   "source": [
    "largo = round(len(HH1)/4)\n",
    "HH1_1 = HH1[:largo :]\n",
    "HH1_2 = HH1[largo:2*largo :]\n",
    "HH1_3 = HH1[2*largo:3*largo :]\n",
    "HH1_4 = HH1[3*largo:4*largo :]"
   ]
  },
  {
   "cell_type": "code",
   "execution_count": 133,
   "metadata": {},
   "outputs": [
    {
     "name": "stdout",
     "output_type": "stream",
     "text": [
      "The sheet is updated successfully HH1\n"
     ]
    }
   ],
   "source": [
    "# The sprad sheet ID, which can be taken from the link to the sheet\n",
    "spreadsheet_key_HH1_1 = '1Cd_pLz91ibYp2_f-KMdDVeKcQu6YfMB55a95Xx26v6c'\n",
    "\n",
    "# Setemos el nomnbre de la hoja y cargamos los datos \n",
    "wks_name = 'HEdetalle1'\n",
    "cell_of_start_df = 'A1'\n",
    "# upload the dataframe of the clients we want to delete\n",
    "d2g.upload(HH1_1,\n",
    "           spreadsheet_key_HH1_1,\n",
    "           wks_name,\n",
    "           credentials=credentials,\n",
    "           col_names=True,\n",
    "           row_names=False,\n",
    "           start_cell = cell_of_start_df,\n",
    "           clean= True)\n",
    "print ('The sheet is updated successfully HH1')"
   ]
  },
  {
   "cell_type": "code",
   "execution_count": 135,
   "metadata": {},
   "outputs": [
    {
     "name": "stdout",
     "output_type": "stream",
     "text": [
      "The sheet is updated successfully HH1\n"
     ]
    }
   ],
   "source": [
    "# The sprad sheet ID, which can be taken from the link to the sheet\n",
    "spreadsheet_key_HH1_2 = '1bmnOYactLZQxB06nqXaXiNdXpQMos0sLbUq7zhVFSzs'\n",
    "\n",
    "# Setemos el nomnbre de la hoja y cargamos los datos \n",
    "wks_name = 'HEdetalle1'\n",
    "cell_of_start_df = 'A1'\n",
    "# upload the dataframe of the clients we want to delete\n",
    "d2g.upload(HH1_2,\n",
    "           spreadsheet_key_HH1_2,\n",
    "           wks_name,\n",
    "           credentials=credentials,\n",
    "           col_names=True,\n",
    "           row_names=False,\n",
    "           start_cell = cell_of_start_df,\n",
    "           clean= True)\n",
    "print ('The sheet is updated successfully HH1')"
   ]
  },
  {
   "cell_type": "code",
   "execution_count": 136,
   "metadata": {},
   "outputs": [
    {
     "name": "stdout",
     "output_type": "stream",
     "text": [
      "The sheet is updated successfully HH1\n"
     ]
    }
   ],
   "source": [
    "# The sprad sheet ID, which can be taken from the link to the sheet\n",
    "spreadsheet_key_HH1_3 = '1BdEWIV3kYLPSf8ppck2_HnRcbY3yDWOADQMSxvpc9iA'\n",
    "\n",
    "# Setemos el nomnbre de la hoja y cargamos los datos \n",
    "wks_name = 'HEdetalle1'\n",
    "cell_of_start_df = 'A1'\n",
    "# upload the dataframe of the clients we want to delete\n",
    "d2g.upload(HH1_3,\n",
    "           spreadsheet_key_HH1_3,\n",
    "           wks_name,\n",
    "           credentials=credentials,\n",
    "           col_names=True,\n",
    "           row_names=False,\n",
    "           start_cell = cell_of_start_df,\n",
    "           clean= True)\n",
    "print ('The sheet is updated successfully HH1')"
   ]
  },
  {
   "cell_type": "code",
   "execution_count": 137,
   "metadata": {},
   "outputs": [
    {
     "name": "stdout",
     "output_type": "stream",
     "text": [
      "The sheet is updated successfully HH1\n"
     ]
    }
   ],
   "source": [
    "# The sprad sheet ID, which can be taken from the link to the sheet\n",
    "spreadsheet_key_HH1_4 = '11pElai5vUZp9J2m7QWkeiyVID-ze62drZqc0yMAd7s0'\n",
    "\n",
    "# Setemos el nomnbre de la hoja y cargamos los datos \n",
    "wks_name = 'HEdetalle1'\n",
    "cell_of_start_df = 'A1'\n",
    "# upload the dataframe of the clients we want to delete\n",
    "d2g.upload(HH1_4,\n",
    "           spreadsheet_key_HH1_4,\n",
    "           wks_name,\n",
    "           credentials=credentials,\n",
    "           col_names=True,\n",
    "           row_names=False,\n",
    "           start_cell = cell_of_start_df,\n",
    "           clean= True)\n",
    "print ('The sheet is updated successfully HH1')"
   ]
  },
  {
   "cell_type": "markdown",
   "metadata": {},
   "source": [
    "**_______-------------------------------------------------------------------------------------------------------------------------------------------------------------------------------____________**"
   ]
  },
  {
   "cell_type": "code",
   "execution_count": null,
   "metadata": {},
   "outputs": [],
   "source": []
  },
  {
   "cell_type": "code",
   "execution_count": null,
   "metadata": {},
   "outputs": [],
   "source": [
    "# The sprad sheet ID, which can be taken from the link to the sheet\n",
    "spreadsheet_key_HH2 = '1Z0_0U504q9_U1rUnJfwEbmiHDUh_cx7Wa-1D0mzFiYo'\n",
    "\n",
    "# Setemos el nomnbre de la hoja y cargamos los datos \n",
    "wks_name = 'HEdetalle2'\n",
    "cell_of_start_df = 'A1'\n",
    "# upload the dataframe of the clients we want to delete\n",
    "d2g.upload(HH2,\n",
    "           spreadsheet_key_HH2,\n",
    "           wks_name,\n",
    "           credentials=credentials,\n",
    "           col_names=True,\n",
    "           row_names=False,\n",
    "           start_cell = cell_of_start_df,\n",
    "           clean= True)\n",
    "print ('The sheet is updated successfully HH2')"
   ]
  },
  {
   "cell_type": "code",
   "execution_count": 65,
   "metadata": {},
   "outputs": [
    {
     "name": "stdout",
     "output_type": "stream",
     "text": [
      "The sheet is updated successfully HH3\n"
     ]
    }
   ],
   "source": [
    "# The sprad sheet ID, which can be taken from the link to the sheet\n",
    "spreadsheet_key_HH3 = '1JLV0BKeYBGe8U01A6jKjwlM8YgeVqbG7-PC9GnPEVf0'\n",
    "\n",
    "# Setemos el nomnbre de la hoja y cargamos los datos \n",
    "wks_name = 'HEdetalle3'\n",
    "cell_of_start_df = 'A1'\n",
    "# upload the dataframe of the clients we want to delete\n",
    "d2g.upload(HH3,\n",
    "           spreadsheet_key_HH3,\n",
    "           wks_name,\n",
    "           credentials=credentials,\n",
    "           col_names=True,\n",
    "           row_names=False,\n",
    "           start_cell = cell_of_start_df,\n",
    "           clean= True)\n",
    "print ('The sheet is updated successfully HH3')"
   ]
  },
  {
   "cell_type": "code",
   "execution_count": 67,
   "metadata": {},
   "outputs": [
    {
     "name": "stdout",
     "output_type": "stream",
     "text": [
      "The sheet is updated successfully HH4\n"
     ]
    }
   ],
   "source": [
    "# The sprad sheet ID, which can be taken from the link to the sheet\n",
    "spreadsheet_key_HH4 = '16bo6I_wDUwtwCiVzn1xmPexP_rCQYdiilP5wnHvgyis'\n",
    "\n",
    "# Setemos el nomnbre de la hoja y cargamos los datos \n",
    "wks_name = 'HEdetalle4'\n",
    "cell_of_start_df = 'A1'\n",
    "# upload the dataframe of the clients we want to delete\n",
    "d2g.upload(HH4,\n",
    "           spreadsheet_key_HH4,\n",
    "           wks_name,\n",
    "           credentials=credentials,\n",
    "           col_names=True,\n",
    "           row_names=False,\n",
    "           start_cell = cell_of_start_df,\n",
    "           clean= True)\n",
    "print ('The sheet is updated successfully HH4')"
   ]
  },
  {
   "cell_type": "code",
   "execution_count": 88,
   "metadata": {},
   "outputs": [
    {
     "name": "stdout",
     "output_type": "stream",
     "text": [
      "The sheet is updated successfully HH5\n"
     ]
    }
   ],
   "source": [
    "# The sprad sheet ID, which can be taken from the link to the sheet\n",
    "spreadsheet_key_HH5 = '1jaE93tqxDozmfTCf3ZWKAOjaT846FzdcW72_ACR57Ec'\n",
    "\n",
    "# Setemos el nomnbre de la hoja y cargamos los datos \n",
    "wks_name = 'HEdetalle5'\n",
    "cell_of_start_df = 'A1'\n",
    "# upload the dataframe of the clients we want to delete\n",
    "d2g.upload(HH5,\n",
    "           spreadsheet_key_HH5,\n",
    "           wks_name,\n",
    "           credentials=credentials,\n",
    "           col_names=True,\n",
    "           row_names=False,\n",
    "           start_cell = cell_of_start_df,\n",
    "           clean= True)\n",
    "print ('The sheet is updated successfully HH5')"
   ]
  },
  {
   "cell_type": "markdown",
   "metadata": {},
   "source": [
    "### Monto de Viáticos del último mes listado detallado por persona"
   ]
  },
  {
   "cell_type": "code",
   "execution_count": 140,
   "metadata": {},
   "outputs": [],
   "source": [
    "# Hacemos la query  e importamos el resultado en un df\n",
    "db_connection = sql.connect(host='127.0.0.1', database='funcionarios', user='root', password='stavros2020')\n",
    "\n",
    "query8='''\n",
    "select nombre , ViaticosReal, organismo_nombre, Mes ,`Tipo cargo`\n",
    "from funcionarios.`full` f \n",
    "Where anyo = YEAR (now())\n",
    "and convert(mesN, UNSIGNED INTEGER) = MONTH (NOW() ) - 2\n",
    "'''\n",
    "\n",
    "Viat = pd.read_sql(query8, con=db_connection)\n",
    "Viat = Viat.reset_index()\n",
    "db_connection.close()\n"
   ]
  },
  {
   "cell_type": "code",
   "execution_count": 143,
   "metadata": {},
   "outputs": [
    {
     "data": {
      "text/html": [
       "<div>\n",
       "<style scoped>\n",
       "    .dataframe tbody tr th:only-of-type {\n",
       "        vertical-align: middle;\n",
       "    }\n",
       "\n",
       "    .dataframe tbody tr th {\n",
       "        vertical-align: top;\n",
       "    }\n",
       "\n",
       "    .dataframe thead th {\n",
       "        text-align: right;\n",
       "    }\n",
       "</style>\n",
       "<table border=\"1\" class=\"dataframe\">\n",
       "  <thead>\n",
       "    <tr style=\"text-align: right;\">\n",
       "      <th></th>\n",
       "      <th>index</th>\n",
       "      <th>nombre</th>\n",
       "      <th>ViaticosReal</th>\n",
       "      <th>organismo_nombre</th>\n",
       "      <th>Mes</th>\n",
       "      <th>Tipo cargo</th>\n",
       "    </tr>\n",
       "  </thead>\n",
       "  <tbody>\n",
       "    <tr>\n",
       "      <th>0</th>\n",
       "      <td>0</td>\n",
       "      <td>Lopez Diaz Francisco Javier</td>\n",
       "      <td>0.0</td>\n",
       "      <td>Subsecretaría De Energía</td>\n",
       "      <td>Marzo</td>\n",
       "      <td>Subsecretario De Energia</td>\n",
       "    </tr>\n",
       "    <tr>\n",
       "      <th>1</th>\n",
       "      <td>1</td>\n",
       "      <td>Jobet Eluchans Juan Carlos</td>\n",
       "      <td>0.0</td>\n",
       "      <td>Subsecretaría De Energía</td>\n",
       "      <td>Marzo</td>\n",
       "      <td>Ministro De Energia</td>\n",
       "    </tr>\n",
       "    <tr>\n",
       "      <th>2</th>\n",
       "      <td>2</td>\n",
       "      <td>Herrera Araya Alvaro Ignacio</td>\n",
       "      <td>0.0</td>\n",
       "      <td>Subsecretaría De Energía</td>\n",
       "      <td>Marzo</td>\n",
       "      <td>Secretario Regional Ministerial De Coquimbo</td>\n",
       "    </tr>\n",
       "    <tr>\n",
       "      <th>3</th>\n",
       "      <td>3</td>\n",
       "      <td>Henriquez Flores Mauricio</td>\n",
       "      <td>0.0</td>\n",
       "      <td>Subsecretaría De Energía</td>\n",
       "      <td>Marzo</td>\n",
       "      <td>Secretario Regional Ministerial De Biobio</td>\n",
       "    </tr>\n",
       "    <tr>\n",
       "      <th>4</th>\n",
       "      <td>4</td>\n",
       "      <td>Guzman Perez Alfredo Jose</td>\n",
       "      <td>0.0</td>\n",
       "      <td>Subsecretaría De Energía</td>\n",
       "      <td>Marzo</td>\n",
       "      <td>Jefe Division De Desarrollo De Proyectos</td>\n",
       "    </tr>\n",
       "    <tr>\n",
       "      <th>...</th>\n",
       "      <td>...</td>\n",
       "      <td>...</td>\n",
       "      <td>...</td>\n",
       "      <td>...</td>\n",
       "      <td>...</td>\n",
       "      <td>...</td>\n",
       "    </tr>\n",
       "    <tr>\n",
       "      <th>485285</th>\n",
       "      <td>485285</td>\n",
       "      <td>Duarte Romero Sandra</td>\n",
       "      <td>0.0</td>\n",
       "      <td>Corporación Municipal Cultural Y Patrimonial D...</td>\n",
       "      <td>Marzo</td>\n",
       "      <td>0</td>\n",
       "    </tr>\n",
       "    <tr>\n",
       "      <th>485286</th>\n",
       "      <td>485286</td>\n",
       "      <td>Nuñez Donoso Victoria Alejandra</td>\n",
       "      <td>0.0</td>\n",
       "      <td>Corporación Municipal Cultural Y Patrimonial D...</td>\n",
       "      <td>Marzo</td>\n",
       "      <td>0</td>\n",
       "    </tr>\n",
       "    <tr>\n",
       "      <th>485287</th>\n",
       "      <td>485287</td>\n",
       "      <td>Perez Lopez Macarena Del Rosario</td>\n",
       "      <td>0.0</td>\n",
       "      <td>Corporación Municipal Cultural Y Patrimonial D...</td>\n",
       "      <td>Marzo</td>\n",
       "      <td>0</td>\n",
       "    </tr>\n",
       "    <tr>\n",
       "      <th>485288</th>\n",
       "      <td>485288</td>\n",
       "      <td>Ponce Navarrete Cristian</td>\n",
       "      <td>0.0</td>\n",
       "      <td>Corporación Municipal Cultural Y Patrimonial D...</td>\n",
       "      <td>Marzo</td>\n",
       "      <td>0</td>\n",
       "    </tr>\n",
       "    <tr>\n",
       "      <th>485289</th>\n",
       "      <td>485289</td>\n",
       "      <td>Soto Vivar America</td>\n",
       "      <td>0.0</td>\n",
       "      <td>Corporación Municipal Cultural Y Patrimonial D...</td>\n",
       "      <td>Marzo</td>\n",
       "      <td>0</td>\n",
       "    </tr>\n",
       "  </tbody>\n",
       "</table>\n",
       "<p>485290 rows × 6 columns</p>\n",
       "</div>"
      ],
      "text/plain": [
       "         index                            nombre  ViaticosReal  \\\n",
       "0            0       Lopez Diaz Francisco Javier           0.0   \n",
       "1            1        Jobet Eluchans Juan Carlos           0.0   \n",
       "2            2      Herrera Araya Alvaro Ignacio           0.0   \n",
       "3            3         Henriquez Flores Mauricio           0.0   \n",
       "4            4         Guzman Perez Alfredo Jose           0.0   \n",
       "...        ...                               ...           ...   \n",
       "485285  485285              Duarte Romero Sandra           0.0   \n",
       "485286  485286   Nuñez Donoso Victoria Alejandra           0.0   \n",
       "485287  485287  Perez Lopez Macarena Del Rosario           0.0   \n",
       "485288  485288          Ponce Navarrete Cristian           0.0   \n",
       "485289  485289                Soto Vivar America           0.0   \n",
       "\n",
       "                                         organismo_nombre    Mes  \\\n",
       "0                                Subsecretaría De Energía  Marzo   \n",
       "1                                Subsecretaría De Energía  Marzo   \n",
       "2                                Subsecretaría De Energía  Marzo   \n",
       "3                                Subsecretaría De Energía  Marzo   \n",
       "4                                Subsecretaría De Energía  Marzo   \n",
       "...                                                   ...    ...   \n",
       "485285  Corporación Municipal Cultural Y Patrimonial D...  Marzo   \n",
       "485286  Corporación Municipal Cultural Y Patrimonial D...  Marzo   \n",
       "485287  Corporación Municipal Cultural Y Patrimonial D...  Marzo   \n",
       "485288  Corporación Municipal Cultural Y Patrimonial D...  Marzo   \n",
       "485289  Corporación Municipal Cultural Y Patrimonial D...  Marzo   \n",
       "\n",
       "                                         Tipo cargo  \n",
       "0                          Subsecretario De Energia  \n",
       "1                               Ministro De Energia  \n",
       "2       Secretario Regional Ministerial De Coquimbo  \n",
       "3         Secretario Regional Ministerial De Biobio  \n",
       "4          Jefe Division De Desarrollo De Proyectos  \n",
       "...                                             ...  \n",
       "485285                                            0  \n",
       "485286                                            0  \n",
       "485287                                            0  \n",
       "485288                                            0  \n",
       "485289                                            0  \n",
       "\n",
       "[485290 rows x 6 columns]"
      ]
     },
     "execution_count": 143,
     "metadata": {},
     "output_type": "execute_result"
    }
   ],
   "source": [
    "Viat"
   ]
  },
  {
   "cell_type": "code",
   "execution_count": null,
   "metadata": {},
   "outputs": [],
   "source": [
    "Viat1 = Viat[['index', 'nombre']]\n",
    "Viat2 = Viat[['index', 'ViaticosReal', 'Mes']]\n",
    "Viat3 = Viat[['index', 'organismo_nombre' , 'HENocReal']]\n",
    "Viat4 = Viat[['index', 'Tipocargo']]"
   ]
  },
  {
   "cell_type": "code",
   "execution_count": null,
   "metadata": {},
   "outputs": [],
   "source": [
    "largo = round(len(Viat1)/4)\n",
    "Viat1_1 = Viat1[:largo :]\n",
    "Viat1_2 = Viat1[largo:2*largo :]\n",
    "Viat1_3 = Viat1[2*largo:3*largo :]\n",
    "Viat1_4 = Viat1[3*largo:4*largo :]"
   ]
  },
  {
   "cell_type": "code",
   "execution_count": null,
   "metadata": {},
   "outputs": [],
   "source": [
    "# The sprad sheet ID, which can be taken from the link to the sheet\n",
    "spreadsheet_key_Viat = '15Pd1edwhpqZACv1jefLqkC0p6YwXoXLNCBLCOIHtB6E'\n",
    "\n",
    "# Setemos el nomnbre de la hoja y cargamos los datos \n",
    "wks_name = 'Viaticos'\n",
    "cell_of_start_df = 'A1'\n",
    "# upload the dataframe of the clients we want to delete\n",
    "d2g.upload(HH1,\n",
    "           spreadsheet_key_Viat,\n",
    "           wks_name,\n",
    "           credentials=credentials,\n",
    "           col_names=True,\n",
    "           row_names=False,\n",
    "           start_cell = cell_of_start_df,\n",
    "           clean= True)\n",
    "print ('The sheet is updated successfully Viat')"
   ]
  },
  {
   "cell_type": "code",
   "execution_count": null,
   "metadata": {},
   "outputs": [],
   "source": []
  },
  {
   "cell_type": "code",
   "execution_count": null,
   "metadata": {},
   "outputs": [],
   "source": []
  },
  {
   "cell_type": "code",
   "execution_count": null,
   "metadata": {},
   "outputs": [],
   "source": []
  },
  {
   "cell_type": "code",
   "execution_count": null,
   "metadata": {},
   "outputs": [],
   "source": []
  },
  {
   "cell_type": "code",
   "execution_count": null,
   "metadata": {},
   "outputs": [],
   "source": []
  },
  {
   "cell_type": "code",
   "execution_count": null,
   "metadata": {},
   "outputs": [],
   "source": []
  },
  {
   "cell_type": "code",
   "execution_count": null,
   "metadata": {},
   "outputs": [],
   "source": []
  },
  {
   "cell_type": "code",
   "execution_count": null,
   "metadata": {},
   "outputs": [],
   "source": []
  },
  {
   "cell_type": "code",
   "execution_count": null,
   "metadata": {},
   "outputs": [],
   "source": []
  },
  {
   "cell_type": "code",
   "execution_count": null,
   "metadata": {},
   "outputs": [],
   "source": []
  },
  {
   "cell_type": "code",
   "execution_count": null,
   "metadata": {},
   "outputs": [],
   "source": []
  },
  {
   "cell_type": "code",
   "execution_count": null,
   "metadata": {},
   "outputs": [],
   "source": []
  },
  {
   "cell_type": "code",
   "execution_count": null,
   "metadata": {},
   "outputs": [],
   "source": []
  },
  {
   "cell_type": "code",
   "execution_count": null,
   "metadata": {},
   "outputs": [],
   "source": []
  },
  {
   "cell_type": "code",
   "execution_count": null,
   "metadata": {},
   "outputs": [],
   "source": []
  },
  {
   "cell_type": "code",
   "execution_count": null,
   "metadata": {},
   "outputs": [],
   "source": []
  },
  {
   "cell_type": "code",
   "execution_count": null,
   "metadata": {},
   "outputs": [],
   "source": []
  },
  {
   "cell_type": "code",
   "execution_count": null,
   "metadata": {},
   "outputs": [],
   "source": []
  },
  {
   "cell_type": "code",
   "execution_count": null,
   "metadata": {},
   "outputs": [],
   "source": []
  },
  {
   "cell_type": "code",
   "execution_count": null,
   "metadata": {},
   "outputs": [],
   "source": []
  },
  {
   "cell_type": "code",
   "execution_count": null,
   "metadata": {},
   "outputs": [],
   "source": []
  },
  {
   "cell_type": "code",
   "execution_count": null,
   "metadata": {},
   "outputs": [],
   "source": []
  },
  {
   "cell_type": "code",
   "execution_count": null,
   "metadata": {},
   "outputs": [],
   "source": [
    "# Set the sheet name you want to upload data to and the start cell where the upload data begins \n",
    "wks_name = 'hoja'\n",
    "cell_of_start_df = 'A1'\n",
    "# upload the dataframe of the clients we want to delete\n",
    "d2g.upload(df,\n",
    "           spreadsheet_key,\n",
    "           wks_name,\n",
    "           credentials=credentials,\n",
    "           col_names=True,\n",
    "           row_names=False,\n",
    "           start_cell = cell_of_start_df,\n",
    "           clean=False)\n",
    "print ('The sheet is updated successfully')"
   ]
  },
  {
   "cell_type": "raw",
   "metadata": {},
   "source": [
    "1VdraxFqD8cO6BKhLys4uZ82g080LY9SlWlTvUxMncMw"
   ]
  }
 ],
 "metadata": {
  "kernelspec": {
   "display_name": "Python 3",
   "language": "python",
   "name": "python3"
  },
  "language_info": {
   "codemirror_mode": {
    "name": "ipython",
    "version": 3
   },
   "file_extension": ".py",
   "mimetype": "text/x-python",
   "name": "python",
   "nbconvert_exporter": "python",
   "pygments_lexer": "ipython3",
   "version": "3.7.7"
  }
 },
 "nbformat": 4,
 "nbformat_minor": 4
}
