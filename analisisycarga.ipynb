{
 "cells": [
  {
   "cell_type": "markdown",
   "metadata": {},
   "source": [
    "# Conexión a GS"
   ]
  },
  {
   "cell_type": "code",
   "execution_count": null,
   "metadata": {},
   "outputs": [],
   "source": [
    "# Import libraries \n",
    "import pandas as pd\n",
    "import warnings\n",
    "warnings.filterwarnings(\"ignore\")\n",
    "# For connect to google sheet\n",
    "import gspread\n",
    "from oauth2client.service_account import ServiceAccountCredentials\n",
    "from df2gspread import df2gspread as d2g"
   ]
  },
  {
   "cell_type": "code",
   "execution_count": null,
   "metadata": {},
   "outputs": [],
   "source": [
    "# Configure the connection \n",
    "scope = ['https://spreadsheets.google.com/feeds']\n",
    "\n",
    "# Give the path to the Service Account Credential json file \n",
    "credentials = ServiceAccountCredentials.from_json_keyfile_name('jupyter-and-googlsheets-dc0792b33051.json', scope)\n",
    "# Authorise your Notebook\n",
    "gc = gspread.authorize(credentials)\n",
    "\n",
    "# The sprad sheet ID, which can be taken from the link to the sheet\n",
    "spreadsheet_key = '1VdraxFqD8cO6BKhLys4uZ82g080LY9SlWlTvUxMncMw'"
   ]
  },
  {
   "cell_type": "code",
   "execution_count": null,
   "metadata": {},
   "outputs": [],
   "source": []
  },
  {
   "cell_type": "code",
   "execution_count": null,
   "metadata": {},
   "outputs": [],
   "source": []
  },
  {
   "cell_type": "markdown",
   "metadata": {},
   "source": [
    "# Análisis"
   ]
  },
  {
   "cell_type": "markdown",
   "metadata": {},
   "source": [
    "### Cantidad de funcionarios por periodo mensual informado"
   ]
  },
  {
   "cell_type": "code",
   "execution_count": null,
   "metadata": {},
   "outputs": [],
   "source": [
    "import mysql.connector as sql\n",
    "import pandas as pd\n",
    "\n",
    "# Hacemos la query  e importamos el resultado en un df\n",
    "db_connection = sql.connect(host='127.0.0.1', database='funcionarios', user='root', password='stavros2020')\n",
    "\n",
    "query='''\n",
    "select count(distinct nombre), anyo, f.mes, Regimen\n",
    "from funcionarios.`full` f \n",
    "group by anyo, mes, Regimen\n",
    "ORDER by anyo desc \n",
    "'''\n",
    "\n",
    "qFun = pd.read_sql(query, con=db_connection)\n",
    "\n",
    "db_connection.close()\n",
    "\n",
    "#Generamos el mes como número\n",
    "qFun.loc[qFun['mes']=='Enero', 'mesN'] = 1\n",
    "qFun.loc[qFun['mes']=='Febrero', 'mesN'] = 2\n",
    "qFun.loc[qFun['mes']=='Marzo', 'mesN'] = 3\n",
    "qFun.loc[qFun['mes']=='Abril', 'mesN'] = 4\n",
    "qFun.loc[qFun['mes']=='Mayo', 'mesN'] = 5\n",
    "qFun.loc[qFun['mes']=='Junio', 'mesN'] = 6\n",
    "qFun.loc[qFun['mes']=='Julio', 'mesN'] = 7\n",
    "qFun.loc[qFun['mes']=='Agosto', 'mesN'] = 8\n",
    "qFun.loc[qFun['mes']=='Septiembre', 'mesN'] = 9\n",
    "qFun.loc[qFun['mes']=='Octubre', 'mesN'] = 10\n",
    "qFun.loc[qFun['mes']=='Noviembre', 'mesN'] = 11\n",
    "qFun.loc[qFun['mes']=='Diciembre', 'mesN'] = 12\n",
    "qFun['mesN'] = qFun['mesN'].astype(int)\n",
    "\n",
    "# Setemos el nomnbre de la hoja y cargamos los datos \n",
    "wks_name = 'qFuncbyMes'\n",
    "cell_of_start_df = 'A1'\n",
    "# upload the dataframe of the clients we want to delete\n",
    "d2g.upload(qFun,\n",
    "           spreadsheet_key,\n",
    "           wks_name,\n",
    "           credentials=credentials,\n",
    "           col_names=True,\n",
    "           row_names=False,\n",
    "           start_cell = cell_of_start_df,\n",
    "           clean=False)\n",
    "print ('The sheet is updated successfully')"
   ]
  },
  {
   "cell_type": "markdown",
   "metadata": {},
   "source": [
    "### Cantidad de Servicios por periodo mensual informado"
   ]
  },
  {
   "cell_type": "code",
   "execution_count": 14,
   "metadata": {},
   "outputs": [
    {
     "name": "stdout",
     "output_type": "stream",
     "text": [
      "The sheet is updated successfully\n"
     ]
    }
   ],
   "source": [
    "# Hacemos la query  e importamos el resultado en un df\n",
    "db_connection = sql.connect(host='127.0.0.1', database='funcionarios', user='root', password='stavros2020')\n",
    "\n",
    "query2='''\n",
    "select count(distinct organismo_codigo), anyo, f.mes, Regimen\n",
    "from funcionarios.`full` f \n",
    "group by anyo, mes, Regimen\n",
    "ORDER by anyo desc \n",
    "'''\n",
    "\n",
    "qServ = pd.read_sql(query2, con=db_connection)\n",
    "\n",
    "db_connection.close()\n",
    "\n",
    "#Generamos el mes como número\n",
    "qServ.loc[qServ['mes']=='Enero', 'mesN'] = 1\n",
    "qServ.loc[qServ['mes']=='Febrero', 'mesN'] = 2\n",
    "qServ.loc[qServ['mes']=='Marzo', 'mesN'] = 3\n",
    "qServ.loc[qServ['mes']=='Abril', 'mesN'] = 4\n",
    "qServ.loc[qServ['mes']=='Mayo', 'mesN'] = 5\n",
    "qServ.loc[qServ['mes']=='Junio', 'mesN'] = 6\n",
    "qServ.loc[qServ['mes']=='Julio', 'mesN'] = 7\n",
    "qServ.loc[qServ['mes']=='Agosto', 'mesN'] = 8\n",
    "qServ.loc[qServ['mes']=='Septiembre', 'mesN'] = 9\n",
    "qServ.loc[qServ['mes']=='Octubre', 'mesN'] = 10\n",
    "qServ.loc[qServ['mes']=='Noviembre', 'mesN'] = 11\n",
    "qServ.loc[qServ['mes']=='Diciembre', 'mesN'] = 12\n",
    "qServ['mesN'] = qServ['mesN'].astype(int)\n",
    "\n",
    "# Setemos el nomnbre de la hoja y cargamos los datos \n",
    "wks_name = 'qServbyMes'\n",
    "cell_of_start_df = 'A1'\n",
    "# upload the dataframe of the clients we want to delete\n",
    "d2g.upload(qServ,\n",
    "           spreadsheet_key,\n",
    "           wks_name,\n",
    "           credentials=credentials,\n",
    "           col_names=True,\n",
    "           row_names=False,\n",
    "           start_cell = cell_of_start_df,\n",
    "           clean=False)\n",
    "print ('The sheet is updated successfully')"
   ]
  },
  {
   "cell_type": "markdown",
   "metadata": {},
   "source": [
    "### Monto mensual promedio por Tipo de Estamento por mes año informado"
   ]
  },
  {
   "cell_type": "code",
   "execution_count": 20,
   "metadata": {},
   "outputs": [
    {
     "name": "stdout",
     "output_type": "stream",
     "text": [
      "The sheet is updated successfully\n"
     ]
    }
   ],
   "source": [
    "# Hacemos la query  e importamos el resultado en un df\n",
    "db_connection = sql.connect(host='127.0.0.1', database='funcionarios', user='root', password='stavros2020')\n",
    "\n",
    "query3='''\n",
    "select `Tipo Estamento`, avg(remuliquida_mensual ), anyo, mes \n",
    "from funcionarios.`full` f \n",
    "Group By `Tipo Estamento`, anyo, Mes\n",
    "'''\n",
    "\n",
    "qTEM = pd.read_sql(query3, con=db_connection)\n",
    "\n",
    "db_connection.close()\n",
    "\n",
    "#Generamos el mes como número\n",
    "qTEM.loc[qTEM['mes']=='Enero', 'mesN'] = 1\n",
    "qTEM.loc[qTEM['mes']=='Febrero', 'mesN'] = 2\n",
    "qTEM.loc[qTEM['mes']=='Marzo', 'mesN'] = 3\n",
    "qTEM.loc[qTEM['mes']=='Abril', 'mesN'] = 4\n",
    "qTEM.loc[qTEM['mes']=='Mayo', 'mesN'] = 5\n",
    "qTEM.loc[qTEM['mes']=='Junio', 'mesN'] = 6\n",
    "qTEM.loc[qTEM['mes']=='Julio', 'mesN'] = 7\n",
    "qTEM.loc[qTEM['mes']=='Agosto', 'mesN'] = 8\n",
    "qTEM.loc[qTEM['mes']=='Septiembre', 'mesN'] = 9\n",
    "qTEM.loc[qTEM['mes']=='Octubre', 'mesN'] = 10\n",
    "qTEM.loc[qTEM['mes']=='Noviembre', 'mesN'] = 11\n",
    "qTEM.loc[qTEM['mes']=='Diciembre', 'mesN'] = 12\n",
    "qTEM['mesN'] = qTEM['mesN'].astype(int)\n",
    "qTEM['avg(remuliquida_mensual )'] = qTEM['avg(remuliquida_mensual )'].fillna(0)\n",
    "qTEM['avg(remuliquida_mensual )'] = qTEM['avg(remuliquida_mensual )'].astype(int)\n",
    "\n",
    "# Setemos el nomnbre de la hoja y cargamos los datos \n",
    "wks_name = 'qTipoEstbyMes'\n",
    "cell_of_start_df = 'A1'\n",
    "# upload the dataframe of the clients we want to delete\n",
    "d2g.upload(qTEM,\n",
    "           spreadsheet_key,\n",
    "           wks_name,\n",
    "           credentials=credentials,\n",
    "           col_names=True,\n",
    "           row_names=False,\n",
    "           start_cell = cell_of_start_df,\n",
    "           clean=False)\n",
    "print ('The sheet is updated successfully')"
   ]
  },
  {
   "cell_type": "code",
   "execution_count": 22,
   "metadata": {},
   "outputs": [
    {
     "name": "stdout",
     "output_type": "stream",
     "text": [
      "The sheet is updated successfully\n"
     ]
    }
   ],
   "source": []
  },
  {
   "cell_type": "code",
   "execution_count": null,
   "metadata": {},
   "outputs": [],
   "source": []
  },
  {
   "cell_type": "code",
   "execution_count": null,
   "metadata": {},
   "outputs": [],
   "source": []
  },
  {
   "cell_type": "code",
   "execution_count": null,
   "metadata": {},
   "outputs": [],
   "source": []
  },
  {
   "cell_type": "code",
   "execution_count": null,
   "metadata": {},
   "outputs": [],
   "source": []
  },
  {
   "cell_type": "code",
   "execution_count": null,
   "metadata": {},
   "outputs": [],
   "source": []
  },
  {
   "cell_type": "code",
   "execution_count": null,
   "metadata": {},
   "outputs": [],
   "source": []
  },
  {
   "cell_type": "code",
   "execution_count": null,
   "metadata": {},
   "outputs": [],
   "source": []
  },
  {
   "cell_type": "code",
   "execution_count": null,
   "metadata": {},
   "outputs": [],
   "source": []
  },
  {
   "cell_type": "code",
   "execution_count": null,
   "metadata": {},
   "outputs": [],
   "source": []
  },
  {
   "cell_type": "code",
   "execution_count": null,
   "metadata": {},
   "outputs": [],
   "source": []
  },
  {
   "cell_type": "code",
   "execution_count": null,
   "metadata": {},
   "outputs": [],
   "source": []
  },
  {
   "cell_type": "code",
   "execution_count": null,
   "metadata": {},
   "outputs": [],
   "source": []
  },
  {
   "cell_type": "code",
   "execution_count": null,
   "metadata": {},
   "outputs": [],
   "source": []
  },
  {
   "cell_type": "code",
   "execution_count": null,
   "metadata": {},
   "outputs": [],
   "source": []
  },
  {
   "cell_type": "code",
   "execution_count": null,
   "metadata": {},
   "outputs": [],
   "source": []
  },
  {
   "cell_type": "code",
   "execution_count": null,
   "metadata": {},
   "outputs": [],
   "source": []
  },
  {
   "cell_type": "code",
   "execution_count": null,
   "metadata": {},
   "outputs": [],
   "source": []
  },
  {
   "cell_type": "code",
   "execution_count": null,
   "metadata": {},
   "outputs": [],
   "source": []
  },
  {
   "cell_type": "code",
   "execution_count": null,
   "metadata": {},
   "outputs": [],
   "source": []
  },
  {
   "cell_type": "code",
   "execution_count": null,
   "metadata": {},
   "outputs": [],
   "source": []
  },
  {
   "cell_type": "code",
   "execution_count": null,
   "metadata": {},
   "outputs": [],
   "source": []
  },
  {
   "cell_type": "code",
   "execution_count": null,
   "metadata": {},
   "outputs": [],
   "source": []
  },
  {
   "cell_type": "code",
   "execution_count": null,
   "metadata": {},
   "outputs": [],
   "source": []
  },
  {
   "cell_type": "code",
   "execution_count": null,
   "metadata": {},
   "outputs": [],
   "source": []
  },
  {
   "cell_type": "code",
   "execution_count": null,
   "metadata": {},
   "outputs": [],
   "source": []
  },
  {
   "cell_type": "code",
   "execution_count": null,
   "metadata": {},
   "outputs": [],
   "source": [
    "# Set the sheet name you want to upload data to and the start cell where the upload data begins \n",
    "wks_name = 'hoja'\n",
    "cell_of_start_df = 'A1'\n",
    "# upload the dataframe of the clients we want to delete\n",
    "d2g.upload(df,\n",
    "           spreadsheet_key,\n",
    "           wks_name,\n",
    "           credentials=credentials,\n",
    "           col_names=True,\n",
    "           row_names=False,\n",
    "           start_cell = cell_of_start_df,\n",
    "           clean=False)\n",
    "print ('The sheet is updated successfully')"
   ]
  },
  {
   "cell_type": "raw",
   "metadata": {},
   "source": [
    "1VdraxFqD8cO6BKhLys4uZ82g080LY9SlWlTvUxMncMw"
   ]
  }
 ],
 "metadata": {
  "kernelspec": {
   "display_name": "Python 3",
   "language": "python",
   "name": "python3"
  },
  "language_info": {
   "codemirror_mode": {
    "name": "ipython",
    "version": 3
   },
   "file_extension": ".py",
   "mimetype": "text/x-python",
   "name": "python",
   "nbconvert_exporter": "python",
   "pygments_lexer": "ipython3",
   "version": "3.7.7"
  }
 },
 "nbformat": 4,
 "nbformat_minor": 4
}
