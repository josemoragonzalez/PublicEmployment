{
 "cells": [
  {
   "cell_type": "markdown",
   "metadata": {},
   "source": [
    "# Funcionarios Públicos\n",
    "\n",
    "El presente notobook permite descargar, limpiar y almacenar los datos provenietes del [repositorio de datos abiertos de personal](https://www.portaltransparencia.cl/PortalPdT/web/guest/opendata#_48_INSTANCE_GI66ozEZ7DNy_=dataset%2Ftransparencia-activa-publicada-en-el-portal) del Consejo Para La Transparencia (CPLT).\n",
    "Para ejecutar este notebook, se tienen los siguiente prerequisitos:\n",
    "\n",
    "- Tener instalado el gestor de base de datos MySQL en algún servidor accesible por el usuario con permisos de escritura.\n",
    "- Tener instalado Anaconda Python y creado un ambiente que contenga las siguientes librerías: pandas, numpy, time, date, datetime, functools, urllib, json, mysql.connector, sqlalchemy\n"
   ]
  },
  {
   "cell_type": "markdown",
   "metadata": {},
   "source": [
    "### Descarga de datos desde el Portal de Transparencia\n",
    "⚠️ **La ejecución de este notebook requiere de al menos 32GB de RAM**, de preferencia 64 GB de RAM par evitar uso de SWAP memeroy, especialmente si utilizas discos HDD y no SSD"
   ]
  },
  {
   "cell_type": "code",
   "execution_count": 1,
   "metadata": {},
   "outputs": [
    {
     "name": "stderr",
     "output_type": "stream",
     "text": [
      "C:\\ProgramData\\Anaconda3\\lib\\site-packages\\IPython\\core\\interactiveshell.py:3444: DtypeWarning: Columns (10) have mixed types.Specify dtype option on import or set low_memory=False.\n",
      "  exec(code_obj, self.user_global_ns, self.user_ns)\n",
      "C:\\ProgramData\\Anaconda3\\lib\\site-packages\\IPython\\core\\interactiveshell.py:3444: DtypeWarning: Columns (9) have mixed types.Specify dtype option on import or set low_memory=False.\n",
      "  exec(code_obj, self.user_global_ns, self.user_ns)\n"
     ]
    }
   ],
   "source": [
    "# librerias necesarias\n",
    "import pandas as pd\n",
    "\n",
    "# Descarga de las cuatro bases (planta, contrata, honorarios, cod trabajo)\n",
    "#Planta\n",
    "planta = pd.read_csv('http://www.cplt.cl/transparencia_activa/datoabierto/archivos/TA_PersonalPlanta.csv', encoding = 'cp1252', sep = ';')\n",
    "planta.to_csv('G:/temp/planta.csv')\n",
    "planta['Regimen'] = 'Planta'\n",
    "#Contrata\n",
    "contrata = pd.read_csv('http://www.cplt.cl/transparencia_activa/datoabierto/archivos/TA_PersonalContrata.csv', encoding = 'cp1252', sep = ';')\n",
    "contrata['Regimen'] = 'Contrata'\n",
    "#Honorarios\n",
    "honorarios = pd.read_csv('http://www.cplt.cl/transparencia_activa/datoabierto/archivos/TA_PersonalContratohonorarios.csv', encoding = 'cp1252', sep = ';')\n",
    "honorarios['Regimen'] = 'Honorarios'\n",
    "honorarios = honorarios.rename(columns={'remuneracionbruta': 'remuneracionbruta_mensual'})\n",
    "#Código del Trabajo\n",
    "codTrabajo = pd.read_csv('http://www.cplt.cl/transparencia_activa/datoabierto/archivos/TA_PersonalCodigotrabajo.csv', encoding = 'cp1252', sep = ';')\n",
    "codTrabajo['Regimen'] = 'Código del Trabajo'\n",
    "\n",
    "planta.to_csv('G:/temp/planta.csv')\n",
    "contrata.to_csv('G:/temp/contrata.csv')\n",
    "honorarios.to_csv('G:/temp/honorarios.csv')\n",
    "codTrabajo.to_csv('G:/temp/codTrabajo.csv')"
   ]
  },
  {
   "cell_type": "code",
   "execution_count": 2,
   "metadata": {},
   "outputs": [
    {
     "name": "stderr",
     "output_type": "stream",
     "text": [
      "C:\\ProgramData\\Anaconda3\\lib\\site-packages\\IPython\\core\\interactiveshell.py:3444: DtypeWarning: Columns (11,27) have mixed types.Specify dtype option on import or set low_memory=False.\n",
      "  exec(code_obj, self.user_global_ns, self.user_ns)\n",
      "C:\\ProgramData\\Anaconda3\\lib\\site-packages\\IPython\\core\\interactiveshell.py:3444: DtypeWarning: Columns (11) have mixed types.Specify dtype option on import or set low_memory=False.\n",
      "  exec(code_obj, self.user_global_ns, self.user_ns)\n"
     ]
    }
   ],
   "source": [
    "import pandas as pd\n",
    "\n",
    "# Descarga de las cuatro bases (planta, contrata, honorarios, cod trabajo)\n",
    "#Planta\n",
    "planta = pd.read_csv('G:/temp/planta.csv', sep = ',')\n",
    "planta['Regimen'] = 'Planta'\n",
    "#Contrata\n",
    "contrata = pd.read_csv('G:/temp/contrata.csv', sep = ',')\n",
    "contrata['Regimen'] = 'Contrata'\n",
    "#Honorarios\n",
    "honorarios = pd.read_csv('G:/temp/honorarios.csv', sep = ',')\n",
    "honorarios['Regimen'] = 'Honorarios'\n",
    "honorarios = honorarios.rename(columns={'remuneracionbruta': 'remuneracionbruta_mensual'})\n",
    "#Código del Trabajo\n",
    "codTrabajo = pd.read_csv('G:/temp/codTrabajo.csv', sep = ',')\n",
    "codTrabajo['Regimen'] = 'Código del Trabajo'"
   ]
  },
  {
   "cell_type": "code",
   "execution_count": 3,
   "metadata": {},
   "outputs": [],
   "source": [
    "#Unimos los datasets\n",
    "funHist = pd.concat([planta, contrata, codTrabajo, honorarios], sort = True)\n"
   ]
  },
  {
   "cell_type": "code",
   "execution_count": 4,
   "metadata": {},
   "outputs": [
    {
     "name": "stdout",
     "output_type": "stream",
     "text": [
      "<class 'pandas.core.frame.DataFrame'>\n",
      "Int64Index: 38013788 entries, 0 to 4875321\n",
      "Data columns (total 34 columns):\n",
      " #   Column                     Dtype  \n",
      "---  ------                     -----  \n",
      " 0   Horas extra diurnas        float64\n",
      " 1   Horas extra festivas       float64\n",
      " 2   Horas extra nocturnas      float64\n",
      " 3   Materno                    object \n",
      " 4   Mes                        object \n",
      " 5   Nombres                    object \n",
      " 6   Pago extra diurnas         float64\n",
      " 7   Pago extra festivas        float64\n",
      " 8   Pago extra nocturnas       float64\n",
      " 9   Paterno                    object \n",
      " 10  Regimen                    object \n",
      " 11  Tipo Estamento             object \n",
      " 12  Tipo Unidad monetaria      object \n",
      " 13  Tipo cargo                 object \n",
      " 14  Unnamed: 0                 int64  \n",
      " 15  activado                   object \n",
      " 16  anyo                       int64  \n",
      " 17  asignaciones               object \n",
      " 18  camino                     object \n",
      " 19  descripcion_funcion        object \n",
      " 20  enlace                     object \n",
      " 21  fecha_ingreso              object \n",
      " 22  fecha_publicacion          object \n",
      " 23  fecha_termino              object \n",
      " 24  grado_eus                  object \n",
      " 25  observaciones              object \n",
      " 26  organismo_codigo           object \n",
      " 27  organismo_nombre           object \n",
      " 28  pago_mensuales             object \n",
      " 29  region                     object \n",
      " 30  remuliquida_mensual        float64\n",
      " 31  remuneracionbruta_mensual  int64  \n",
      " 32  tipo_calificacionp         object \n",
      " 33  viaticos                   float64\n",
      "dtypes: float64(8), int64(3), object(23)\n",
      "memory usage: 9.9+ GB\n"
     ]
    }
   ],
   "source": [
    "funHist.info()"
   ]
  },
  {
   "cell_type": "markdown",
   "metadata": {},
   "source": [
    "#### **Limpieza de cada campo**"
   ]
  },
  {
   "cell_type": "code",
   "execution_count": 5,
   "metadata": {
    "scrolled": true
   },
   "outputs": [],
   "source": [
    "# eliminamos campos innecesarios\n",
    "funHist = funHist.drop(columns = {'camino', 'enlace', 'observaciones', 'remuliquida_mensual'})"
   ]
  },
  {
   "cell_type": "markdown",
   "metadata": {},
   "source": [
    "pd.set_option('display.max_rows', 500)\n",
    "pd.set_option('display.max_columns', 500)\n",
    "pd.set_option('display.width', 1000)\n",
    "funHist.iloc[1000000:1000004]"
   ]
  },
  {
   "cell_type": "code",
   "execution_count": 6,
   "metadata": {},
   "outputs": [],
   "source": [
    "#Limpieza de las horas extras\n",
    "\n",
    "funHist = funHist.rename(columns={'Pago extra diurnas':'montoHExDiu', 'Horas extra diurnas':'cantHExDiu'\n",
    "                                , 'Pago extra nocturnas':'montoHExNoc', 'Horas extra nocturnas':'cantHExNoc'\n",
    "                                , 'Pago extra festivas':'montoHExFes', 'Horas extra festivas':'cantHExFes'})\n",
    "\n",
    "#Diurnas\n",
    "funHist['montoHExDiu'] = pd.to_numeric(funHist['montoHExDiu'], errors = 'coerce') # convertimos a números\n",
    "funHist['montoHExDiu'] = funHist['montoHExDiu'].fillna(0.0) # imputamos missing\n",
    "\n",
    "funHist['cantHExDiu'] = pd.to_numeric(funHist['cantHExDiu'], errors = 'coerce') # convertimos a números\n",
    "funHist['cantHExDiu'] = funHist['cantHExDiu'].fillna(0.0) # imputamos missing\n",
    "\n",
    "#Nocturnas\n",
    "funHist['montoHExNoc'] = pd.to_numeric(funHist['montoHExNoc'], errors = 'coerce') # convertimos a números\n",
    "funHist['montoHExNoc'] = funHist['montoHExNoc'].fillna(0.0) # imputamos missing\n",
    "\n",
    "funHist['cantHExNoc'] = pd.to_numeric(funHist['cantHExNoc'], errors = 'coerce') # convertimos a números\n",
    "funHist['cantHExNoc'] = funHist['cantHExNoc'].fillna(0.0) # imputamos missing\n",
    "\n",
    "#Festivas\n",
    "funHist['montoHExFes'] = pd.to_numeric(funHist['montoHExFes'], errors = 'coerce') # convertimos a números\n",
    "funHist['montoHExFes'] = funHist['montoHExFes'].fillna(0.0) # imputamos missing\n",
    "\n",
    "funHist['cantHExFes'] = pd.to_numeric(funHist['cantHExFes'], errors = 'coerce') # convertimos a números\n",
    "funHist['cantHExFes'] = funHist['cantHExFes'].fillna(0.0) # imputamos missing"
   ]
  },
  {
   "cell_type": "code",
   "execution_count": 7,
   "metadata": {},
   "outputs": [
    {
     "name": "stderr",
     "output_type": "stream",
     "text": [
      "C:\\Users\\Jose\\AppData\\Local\\Temp\\2/ipykernel_11788/1475773041.py:2: FutureWarning: The default value of regex will change from True to False in a future version.\n",
      "  funHist['fecha_ingreso'] = funHist['fecha_ingreso'].str.replace(' 00:00:00.000', '').str.replace('1-01-01 00:00:00', '')\n",
      "C:\\Users\\Jose\\AppData\\Local\\Temp\\2/ipykernel_11788/1475773041.py:5: FutureWarning: The default value of regex will change from True to False in a future version.\n",
      "  funHist['fecha_publicacion'] = funHist['fecha_publicacion'].str.replace(' 00:00:00.000', '').str.replace('1-01-01 00:00:00', '')\n",
      "C:\\Users\\Jose\\AppData\\Local\\Temp\\2/ipykernel_11788/1475773041.py:8: FutureWarning: The default value of regex will change from True to False in a future version.\n",
      "  funHist['fecha_termino'] = funHist['fecha_termino'].str.replace(r'Indefinido|Sin fecha término','').str.replace(r'31\\/12\\/(([2-9][0-9][3-9][0-9])|([3-9][0-9][0-9][0-9])|([2-9][1-9][0-9][0-9]))', '').fillna('')\n"
     ]
    }
   ],
   "source": [
    "#Limpieza de fechas\n",
    "funHist['fecha_ingreso'] = funHist['fecha_ingreso'].str.replace(' 00:00:00.000', '').str.replace('1-01-01 00:00:00', '')\n",
    "funHist['fecha_ingreso'] = pd.to_datetime(funHist.fecha_ingreso, errors = 'coerce').dt.strftime('%d/%m/%Y')\n",
    "\n",
    "funHist['fecha_publicacion'] = funHist['fecha_publicacion'].str.replace(' 00:00:00.000', '').str.replace('1-01-01 00:00:00', '')\n",
    "funHist['fecha_publicacion'] = pd.to_datetime(funHist.fecha_publicacion, errors = 'coerce').dt.strftime('%d/%m/%Y')\n",
    "\n",
    "funHist['fecha_termino'] = funHist['fecha_termino'].str.replace(r'Indefinido|Sin fecha término','').str.replace(r'31\\/12\\/(([2-9][0-9][3-9][0-9])|([3-9][0-9][0-9][0-9])|([2-9][1-9][0-9][0-9]))', '').fillna('')\n",
    "funHist['fecha_termino'] = pd.to_datetime(funHist['fecha_termino'], errors = 'coerce').dt.strftime('%d/%m/%Y')"
   ]
  },
  {
   "cell_type": "code",
   "execution_count": 8,
   "metadata": {},
   "outputs": [
    {
     "data": {
      "text/plain": [
       "Index(['cantHExDiu', 'cantHExFes', 'cantHExNoc', 'Materno', 'Mes', 'Nombres',\n",
       "       'montoHExDiu', 'montoHExFes', 'montoHExNoc', 'Paterno', 'Regimen',\n",
       "       'Tipo Estamento', 'Tipo Unidad monetaria', 'Tipo cargo', 'Unnamed: 0',\n",
       "       'activado', 'anyo', 'asignaciones', 'descripcion_funcion',\n",
       "       'fecha_ingreso', 'fecha_publicacion', 'fecha_termino', 'grado_eus',\n",
       "       'organismo_codigo', 'organismo_nombre', 'pago_mensuales', 'region',\n",
       "       'remuneracionbruta_mensual', 'tipo_calificacionp', 'viaticos'],\n",
       "      dtype='object')"
      ]
     },
     "execution_count": 8,
     "metadata": {},
     "output_type": "execute_result"
    }
   ],
   "source": [
    "funHist.keys()"
   ]
  },
  {
   "cell_type": "code",
   "execution_count": 9,
   "metadata": {},
   "outputs": [],
   "source": [
    "#limpieza de Tipo Cargo\n",
    "funHist['Tipo cargo'] = funHist['Tipo cargo'].str.title()\n",
    "\n",
    "#Limpieza de años\n",
    "funHist.loc[funHist['anyo'] < 1900, 'anyo'] = 0\n",
    "funHist.loc[funHist['anyo'] > 2021, 'anyo'] = 0\n",
    "\n",
    "#Limpieza de descripciones\n",
    "funHist['descripcion_funcion'] = funHist['descripcion_funcion'].str.title()\n",
    "\n",
    "#Limpieza de nombres\n",
    "funHist['nombre'] = funHist['Nombres'].str.title()\n",
    "\n",
    "#Limpieza de Organismo\n",
    "funHist['organismo_nombre'] = funHist['organismo_nombre'].str.title()\n",
    "\n",
    "#Limpieza de región\n",
    "funHist['region'] = funHist['region'].str.title()\n",
    "\n",
    "#Limpieza de tipo de calificación\n",
    "funHist['tipo_calificacionp'] = funHist['tipo_calificacionp'].str.title()   "
   ]
  },
  {
   "cell_type": "code",
   "execution_count": 10,
   "metadata": {},
   "outputs": [],
   "source": [
    "# Limpiamos las rentas que no están en pesos\n",
    "funHist.loc[(funHist['Tipo Unidad monetaria']!='Pesos') & (funHist['remuneracionbruta_mensual'] > 30000) , 'Tipo Unidad monetaria'] = 'Pesos'\n"
   ]
  },
  {
   "cell_type": "markdown",
   "metadata": {},
   "source": [
    "## ***Pendiente limpieza a los grados en super complejo de abordar"
   ]
  },
  {
   "cell_type": "markdown",
   "metadata": {},
   "source": [
    "#### Descarga de datos para realizar transformaciones de moneda y correción monentaria"
   ]
  },
  {
   "cell_type": "code",
   "execution_count": 11,
   "metadata": {},
   "outputs": [
    {
     "name": "stderr",
     "output_type": "stream",
     "text": [
      "C:\\Users\\Jose\\AppData\\Local\\Temp\\2/ipykernel_11788/1340341544.py:64: SettingWithCopyWarning: \n",
      "A value is trying to be set on a copy of a slice from a DataFrame\n",
      "\n",
      "See the caveats in the documentation: https://pandas.pydata.org/pandas-docs/stable/user_guide/indexing.html#returning-a-view-versus-a-copy\n",
      "  monedas['ipcIndices'][index] =  72.0007284469403\n",
      "C:\\Users\\Jose\\AppData\\Local\\Temp\\2/ipykernel_11788/1340341544.py:66: SettingWithCopyWarning: \n",
      "A value is trying to be set on a copy of a slice from a DataFrame\n",
      "\n",
      "See the caveats in the documentation: https://pandas.pydata.org/pandas-docs/stable/user_guide/indexing.html#returning-a-view-versus-a-copy\n",
      "  monedas['ipcIndices'][index] = monedas['ipcIndices'][index - 1] + monedas['IPC'][index] * monedas['ipcIndices'][index - 1] / 100\n",
      "C:\\Users\\Jose\\AppData\\Local\\Temp\\2/ipykernel_11788/1340341544.py:71: SettingWithCopyWarning: \n",
      "A value is trying to be set on a copy of a slice from a DataFrame\n",
      "\n",
      "See the caveats in the documentation: https://pandas.pydata.org/pandas-docs/stable/user_guide/indexing.html#returning-a-view-versus-a-copy\n",
      "  monedas['factorIPC'][index] = monedas['ipcIndices'][len(monedas)-1] / monedas['ipcIndices'][index]\n"
     ]
    }
   ],
   "source": [
    "#Imports necesarios\n",
    "import time #librería necesaria para medir el tiempo de ejecución \n",
    "import datetime\n",
    "import pandas as pd\n",
    "import numpy as np\n",
    "from functools import reduce\n",
    "import urllib.request\n",
    "import json\n",
    "\n",
    "# Creamos los dataframes vacios para almacenar los valores de UTM y Fechas\n",
    "dolarDiarioDF = pd.DataFrame(columns=['Fecha', 'Dolar'])\n",
    "CLFDiarioDF = pd.DataFrame(columns=['Fecha', 'CLF'])\n",
    "euroDiarioDF = pd.DataFrame(columns=['Fecha', 'Euro'])\n",
    "utmDF = pd.DataFrame(columns=['Fecha', 'UTM'])\n",
    "ipcDF = pd.DataFrame(columns=['Fecha', 'IPC'])\n",
    "\n",
    "# Generamos el ciclo para recorrer los años y leer desde la API los datos de UTM\n",
    "for i in range(2008, 2021):\n",
    "    with urllib.request.urlopen(\"https://mindicador.cl/api/dolar/\"+str(i)) as url:\n",
    "        dolar = json.loads(url.read().decode())\n",
    "    \n",
    "    with urllib.request.urlopen(\"https://mindicador.cl/api/uf/\"+str(i)) as url:\n",
    "        uf = json.loads(url.read().decode())\n",
    "    \n",
    "    with urllib.request.urlopen(\"https://mindicador.cl/api/euro/\"+str(i)) as url:\n",
    "        euro = json.loads(url.read().decode())\n",
    "    \n",
    "    with urllib.request.urlopen(\"https://mindicador.cl/api/utm/\"+str(i)) as url:\n",
    "        utm = json.loads(url.read().decode())\n",
    "        \n",
    "    with urllib.request.urlopen(\"https://mindicador.cl/api/ipc/\"+str(i)) as url:\n",
    "        ipc = json.loads(url.read().decode())\n",
    "    \n",
    "    # Generamos los ciclos en que se añaden los dataframes los valores obtenidos desde la API    \n",
    "    for x in range(len(dolar['serie'])):\n",
    "        dolarDiarioDF = dolarDiarioDF.append({'Fecha' : dolar['serie'][x]['fecha'][0:7] , 'Dolar' : dolar['serie'][x]['valor']} , ignore_index=True) \n",
    "    \n",
    "    for x in range(len(uf['serie'])):\n",
    "        CLFDiarioDF = CLFDiarioDF.append({'Fecha' : uf['serie'][x]['fecha'][0:7] , 'CLF' : uf['serie'][x]['valor']} , ignore_index=True)\n",
    "    \n",
    "    for x in range(len(euro['serie'])):\n",
    "        euroDiarioDF = euroDiarioDF.append({'Fecha' : euro['serie'][x]['fecha'][0:7] , 'Euro' : euro['serie'][x]['valor']} , ignore_index=True)\n",
    "    \n",
    "    for x in range(len(utm['serie'])):\n",
    "        utmDF = utmDF.append({'Fecha' : utm['serie'][x]['fecha'][0:7] , 'UTM' : utm['serie'][x]['valor']} , ignore_index=True)\n",
    "        \n",
    "    for x in range(len(ipc['serie'])):\n",
    "        ipcDF = ipcDF.append({'Fecha' : ipc['serie'][x]['fecha'][0:7] , 'IPC' : ipc['serie'][x]['valor']} , ignore_index=True)\n",
    "\n",
    "\n",
    "# Agrupamos por promedio para efectos prácticos\n",
    "dolarDF = dolarDiarioDF.groupby(['Fecha'])[['Dolar']].mean()\n",
    "CLFDF = CLFDiarioDF.groupby(['Fecha'])[['CLF']].mean()\n",
    "euroDF = euroDiarioDF.groupby(['Fecha'])[['Euro']].mean()\n",
    "\n",
    "# Unimos los dataframes y lo guardamos en uno nuevo\n",
    "monedas = reduce(lambda x,y: pd.merge(x,y, on='Fecha', how='left'), [dolarDF, CLFDF, euroDF, utmDF, ipcDF])\n",
    "\n",
    "# calculamos el IPC en términos de su valor en índice\n",
    "monedas['IPC'] = monedas['IPC'].fillna(0)\n",
    "monedas['ipcIndices'] = 0.0\n",
    "for index, row in monedas.iterrows():\n",
    "    if index == 0:\n",
    "        monedas['ipcIndices'][index] =  72.0007284469403   \n",
    "    else:\n",
    "        monedas['ipcIndices'][index] = monedas['ipcIndices'][index - 1] + monedas['IPC'][index] * monedas['ipcIndices'][index - 1] / 100\n",
    "\n",
    "# en base al valor índice calculamos los factores de corrección y limpiamos el dataframe\n",
    "monedas['factorIPC'] = 0.0\n",
    "for index, row in monedas.iterrows():\n",
    "    monedas['factorIPC'][index] = monedas['ipcIndices'][len(monedas)-1] / monedas['ipcIndices'][index]\n",
    "    \n",
    "monedas = monedas.drop(columns = ['IPC'])\n"
   ]
  },
  {
   "cell_type": "code",
   "execution_count": 12,
   "metadata": {},
   "outputs": [],
   "source": [
    "#elimación de datos de IPC innecesarios\n",
    "monedas = monedas.drop(columns = {'ipcIndices'})"
   ]
  },
  {
   "cell_type": "code",
   "execution_count": 13,
   "metadata": {},
   "outputs": [],
   "source": [
    "#creación del campo mes como \"numero\" para hacer merge con monedas\n",
    "funHist.loc[funHist['Mes']=='Enero', 'mesN'] = '01'\n",
    "funHist.loc[funHist['Mes']=='Febrero', 'mesN'] = '02'\n",
    "funHist.loc[funHist['Mes']=='Marzo', 'mesN'] = '03'\n",
    "funHist.loc[funHist['Mes']=='Abril', 'mesN'] = '04'\n",
    "funHist.loc[funHist['Mes']=='Mayo', 'mesN'] = '05'\n",
    "funHist.loc[funHist['Mes']=='Junio', 'mesN'] = '06'\n",
    "funHist.loc[funHist['Mes']=='Julio', 'mesN'] = '07'\n",
    "funHist.loc[funHist['Mes']=='Agosto', 'mesN'] = '08'\n",
    "funHist.loc[funHist['Mes']=='Septiembre', 'mesN'] = '09'\n",
    "funHist.loc[funHist['Mes']=='Octubre', 'mesN'] = '10'\n",
    "funHist.loc[funHist['Mes']=='Noviembre', 'mesN'] = '11'\n",
    "funHist.loc[funHist['Mes']=='Diciembre', 'mesN'] = '12'"
   ]
  },
  {
   "cell_type": "code",
   "execution_count": 14,
   "metadata": {},
   "outputs": [],
   "source": [
    "#creación del campo año mes para fusionar con monedas\n",
    "funHist['Fecha'] = funHist['anyo'].astype(str) + '-' + funHist['mesN']"
   ]
  },
  {
   "cell_type": "code",
   "execution_count": 15,
   "metadata": {},
   "outputs": [],
   "source": [
    "# merge con monedas\n",
    "funHist = funHist.merge(monedas, how = 'left', left_on = 'Fecha', right_on = 'Fecha')"
   ]
  },
  {
   "cell_type": "code",
   "execution_count": 16,
   "metadata": {
    "scrolled": true
   },
   "outputs": [],
   "source": [
    "# Calculo de remuneración bruta mensual en pesos reales\n",
    "funHist['RemBrutaPesosReal'] = 0\n",
    "funHist.loc[funHist['Tipo Unidad monetaria']=='Pesos', 'RemBrutaPesosReal'] = funHist['remuneracionbruta_mensual'] * funHist['factorIPC']\n",
    "funHist.loc[funHist['Tipo Unidad monetaria']=='Dólares', 'RemBrutaPesosReal'] = funHist['remuneracionbruta_mensual'] * funHist['factorIPC'] * funHist['Dolar']\n",
    "funHist.loc[funHist['Tipo Unidad monetaria']=='UTM', 'RemBrutaPesosReal'] = funHist['remuneracionbruta_mensual'] * funHist['factorIPC'] * funHist['UTM']\n",
    "funHist.loc[funHist['Tipo Unidad monetaria']=='Miles de pesos', 'RemBrutaPesosReal'] = funHist['remuneracionbruta_mensual'] * funHist['factorIPC'] * 1000\n",
    "funHist.loc[funHist['Tipo Unidad monetaria']=='Euros', 'RemBrutaPesosReal'] = funHist['remuneracionbruta_mensual'] * funHist['factorIPC'] * funHist['Euro']\n",
    "funHist.loc[funHist['Tipo Unidad monetaria']=='UF', 'RemBrutaPesosReal'] = funHist['remuneracionbruta_mensual'] * funHist['factorIPC'] * funHist['CLF']\n"
   ]
  },
  {
   "cell_type": "code",
   "execution_count": 17,
   "metadata": {},
   "outputs": [],
   "source": [
    "# Calculo de montos de horas extrasmensual en pesos reales\n",
    "funHist['HEDiuReal'] = funHist['montoHExDiu'] * funHist['factorIPC']\n",
    "funHist['HENocReal'] = funHist['montoHExNoc'] * funHist['factorIPC']\n",
    "funHist['HEFesReal'] = funHist['montoHExFes'] * funHist['factorIPC']\n",
    "funHist['ViaticosReal'] = funHist['viaticos'] * funHist['factorIPC']\n",
    "funHist['HorasExtrasMontoReal'] = funHist['HEDiuReal'] + funHist['HENocReal'] + funHist['HEFesReal']\n",
    "funHist['HorasExtrasCantTotal'] = funHist['cantHExDiu'] + funHist['cantHExNoc'] + funHist['cantHExFes']\n"
   ]
  },
  {
   "cell_type": "code",
   "execution_count": 18,
   "metadata": {},
   "outputs": [],
   "source": [
    "# Eliminamos las monedas a no ser usadas\n",
    "funHist = funHist.drop(columns = {'factorIPC', 'Dolar', 'UTM', 'Euro', 'CLF'})"
   ]
  },
  {
   "cell_type": "code",
   "execution_count": 19,
   "metadata": {},
   "outputs": [],
   "source": [
    "funHist['Regimen'] = funHist['Regimen'].astype('category')\n",
    "funHist['Tipo Estamento'] = funHist['Tipo Estamento'].astype('category')\n",
    "funHist['Tipo Unidad monetaria'] = funHist['Tipo Unidad monetaria'].astype('category')\n",
    "funHist['Tipo cargo'] = funHist['Tipo cargo'].astype('category')\n",
    "funHist['asignaciones'] = funHist['asignaciones'].astype('category')\n",
    "funHist['descripcion_funcion'] = funHist['descripcion_funcion'].astype('category')\n",
    "funHist['fecha_ingreso'] = pd.to_datetime(funHist['fecha_ingreso'])\n",
    "funHist['fecha_publicacion'] = pd.to_datetime(funHist['fecha_publicacion'])\n",
    "funHist['fecha_termino'] = pd.to_datetime(funHist['fecha_termino'])\n",
    "funHist['grado_eus'] = funHist['grado_eus'].astype('category')\n",
    "funHist['nombre'] = funHist['nombre'].astype('category')\n",
    "funHist['organismo_codigo'] = funHist['organismo_codigo'].astype('category')\n",
    "funHist['organismo_nombre'] = funHist['organismo_nombre'].astype('category')\n",
    "funHist['pago_mensuales'] = funHist['pago_mensuales'].astype('category')\n",
    "funHist['region'] = funHist['region'].astype('category')\n",
    "funHist['tipo_calificacionp'] = funHist['tipo_calificacionp'].astype('category')\n",
    "funHist['mesN'] = funHist['mesN'].astype('category')\n",
    "funHist['Fecha'] = funHist['Fecha'].astype('category')\n",
    "funHist['RemBrutaPesosReal'] = funHist['RemBrutaPesosReal'].astype(float)"
   ]
  },
  {
   "cell_type": "code",
   "execution_count": 20,
   "metadata": {},
   "outputs": [],
   "source": [
    "funHist2 = funHist.copy()"
   ]
  },
  {
   "cell_type": "markdown",
   "metadata": {},
   "source": [
    "### Respaldo de lo trabajado en bbdd"
   ]
  },
  {
   "cell_type": "code",
   "execution_count": 21,
   "metadata": {},
   "outputs": [],
   "source": [
    "import sqlalchemy as sa\n",
    "import vertica_python\n",
    "from sqlalchemy import event\n",
    "\n",
    "engine2 = sa.create_engine('vertica+vertica_python://dbadmin:1@192.168.2.2:5433/chc')\n",
    "\n",
    "@event.listens_for(engine2, \"before_cursor_execute\")\n",
    "def receive_before_cursor_execute(\n",
    "       conn, cursor, statement, params, context, executemany\n",
    "        ):\n",
    "            if executemany:\n",
    "                cursor.fast_executemany = True"
   ]
  },
  {
   "cell_type": "markdown",
   "metadata": {},
   "source": [
    "### Tabla de Servicios"
   ]
  },
  {
   "cell_type": "code",
   "execution_count": 22,
   "metadata": {},
   "outputs": [
    {
     "name": "stdout",
     "output_type": "stream",
     "text": [
      "<class 'pandas.core.frame.DataFrame'>\n",
      "Int64Index: 38013788 entries, 0 to 38013787\n",
      "Data columns (total 40 columns):\n",
      " #   Column                     Dtype         \n",
      "---  ------                     -----         \n",
      " 0   cantHExDiu                 float64       \n",
      " 1   cantHExFes                 float64       \n",
      " 2   cantHExNoc                 float64       \n",
      " 3   Materno                    object        \n",
      " 4   Mes                        object        \n",
      " 5   Nombres                    object        \n",
      " 6   montoHExDiu                float64       \n",
      " 7   montoHExFes                float64       \n",
      " 8   montoHExNoc                float64       \n",
      " 9   Paterno                    object        \n",
      " 10  Regimen                    category      \n",
      " 11  Tipo Estamento             category      \n",
      " 12  Tipo Unidad monetaria      category      \n",
      " 13  Tipo cargo                 category      \n",
      " 14  Unnamed: 0                 int64         \n",
      " 15  activado                   object        \n",
      " 16  anyo                       int64         \n",
      " 17  asignaciones               category      \n",
      " 18  descripcion_funcion        category      \n",
      " 19  fecha_ingreso              datetime64[ns]\n",
      " 20  fecha_publicacion          datetime64[ns]\n",
      " 21  fecha_termino              datetime64[ns]\n",
      " 22  grado_eus                  category      \n",
      " 23  organismo_codigo           category      \n",
      " 24  organismo_nombre           category      \n",
      " 25  pago_mensuales             category      \n",
      " 26  region                     category      \n",
      " 27  remuneracionbruta_mensual  int64         \n",
      " 28  tipo_calificacionp         category      \n",
      " 29  viaticos                   float64       \n",
      " 30  nombre                     category      \n",
      " 31  mesN                       category      \n",
      " 32  Fecha                      category      \n",
      " 33  RemBrutaPesosReal          float64       \n",
      " 34  HEDiuReal                  float64       \n",
      " 35  HENocReal                  float64       \n",
      " 36  HEFesReal                  float64       \n",
      " 37  ViaticosReal               float64       \n",
      " 38  HorasExtrasMontoReal       float64       \n",
      " 39  HorasExtrasCantTotal       float64       \n",
      "dtypes: category(15), datetime64[ns](3), float64(14), int64(3), object(5)\n",
      "memory usage: 9.6+ GB\n"
     ]
    }
   ],
   "source": [
    "funHist2.info()"
   ]
  },
  {
   "cell_type": "code",
   "execution_count": 23,
   "metadata": {},
   "outputs": [],
   "source": [
    "funHist2 = funHist2.rename(columns = {'Tipo Estamento':'TipoEstamento', 'Tipo Unidad monetaria':'TipoUnidadMonetaria', \n",
    "                                     'Tipo cargo': 'TipoCargo', 'descripcion_funcion':'DescripcionFuncion',\n",
    "                                     'fecha_ingreso': 'FechaIngreso', 'fecha_publicacion':'FechaPublicacion',\n",
    "                                     'fecha_termino':'FechaTermino', 'grado_eus':'GradoEus', 'organismo_codigo':'OrganismoCodigo',\n",
    "                                     'organismo_nombre':'OrganismoNombre', 'pago_mensuales':'PagoMensuales',\n",
    "                                     'tipo_calificacionp':'TipoCalificacionp', 'remuneracionbruta_mensual':'remuneracionbrutamensual', 'Unnamed: 0':'indice'})"
   ]
  },
  {
   "cell_type": "code",
   "execution_count": 24,
   "metadata": {},
   "outputs": [],
   "source": [
    "funHist2.to_sql(name='full', con=engine2, if_exists = 'replace', index=False ,chunksize = 60000, schema = 'funcionarios',\n",
    "               dtype={'Mes': sa.types.VARCHAR(50),\n",
    "                      'Regimen': sa.types.VARCHAR(50),\n",
    "                      'TipoEstamento': sa.types.VARCHAR(255),\n",
    "                      'TipoUnidadMonetaria': sa.types.VARCHAR(50),\n",
    "                      'TipoCargo': sa.types.VARCHAR(255),\n",
    "                      'asignaciones': sa.types.VARCHAR(2500),\n",
    "                      'DescripcionFuncion': sa.types.VARCHAR(8000),\n",
    "                      'FechaIngreso': sa.types.VARCHAR(50),\n",
    "                      'FechaPublicacion': sa.types.VARCHAR(50),\n",
    "                      'FechaTermino': sa.types.VARCHAR(50),\n",
    "                      'GradoEus': sa.types.VARCHAR(255),\n",
    "                      'Nombres': sa.types.VARCHAR(500),\n",
    "                      'Materno': sa.types.VARCHAR(500),\n",
    "                      'Paterno': sa.types.VARCHAR(500),\n",
    "                      'OrganismoCodigo': sa.types.VARCHAR(50),\n",
    "                      'OrganismoNombre': sa.types.VARCHAR(255),\n",
    "                      'PagoMensuales': sa.types.VARCHAR(255),\n",
    "                      'region': sa.types.VARCHAR(255),\n",
    "                      'TipoCalificacionp': sa.types.VARCHAR(2500),\n",
    "                      'Fecha': sa.types.VARCHAR(255),\n",
    "                      'mesN': sa.types.VARCHAR(50),\n",
    "                      'nombre': sa.types.VARCHAR(500),\n",
    "                      'activado': sa.types.VARCHAR(50)})"
   ]
  },
  {
   "cell_type": "code",
   "execution_count": 25,
   "metadata": {},
   "outputs": [],
   "source": [
    "Servicios = pd.read_csv('http://www.cplt.cl/transparencia_activa/datoabierto/archivos/Organismos_360.csv', encoding = 'cp1252', sep = ';')\n",
    "Servicios.to_sql(name='Servicios', con=engine2, if_exists = 'replace', index=False ,chunksize = 1000, schema = 'funcionarios',\n",
    "               dtype={\"Codigo_org\": sa.types.VARCHAR(50), \n",
    "                        \"Organismo\" : sa.types.VARCHAR(255), \n",
    "                        \"Codigo_padre\" : sa.types.VARCHAR(255), \n",
    "                        \"Padre_org\" : sa.types.VARCHAR(255), \n",
    "                        \"Region\" : sa.types.VARCHAR(255), \n",
    "                        \"Municipalidad\" : sa.types.VARCHAR(255), \n",
    "                        \"direccion\" : sa.types.VARCHAR(255), \n",
    "                        \"telefono\" : sa.types.VARCHAR(255), \n",
    "                        \"url_organismo\" : sa.types.VARCHAR(255), \n",
    "                        \"url_orgtransparencia\" : sa.types.VARCHAR(255), \n",
    "                        \"horario_publico\" : sa.types.VARCHAR(500), \n",
    "                        \"nombre_encargado\" : sa.types.VARCHAR(255), \n",
    "                        \"email\" : sa.types.VARCHAR(255), \n",
    "                        \"rut\" : sa.types.VARCHAR(255), \n",
    "                        \"tipo_cuenta\" : sa.types.VARCHAR(255), \n",
    "                        \"banco\" : sa.types.VARCHAR(255), \n",
    "                        \"url_sai\" : sa.types.VARCHAR(255), \n",
    "                        \"fax\" : sa.types.VARCHAR(255), \n",
    "                        \"Ingresa\" : sa.types.VARCHAR(255), \n",
    "                        \"obligadorecibir_sai\" : sa.types.VARCHAR(255), \n",
    "                        \"organismo_autonomo\" : sa.types.VARCHAR(255), \n",
    "                        \"interopera\" : sa.types.VARCHAR(255), \n",
    "                        \"tiene_ta\" : sa.types.VARCHAR(255), \n",
    "                        \"fecha_ta\" : sa.types.VARCHAR(255),\n",
    "                        'activado': sa.types.VARCHAR(50)})"
   ]
  },
  {
   "cell_type": "code",
   "execution_count": null,
   "metadata": {},
   "outputs": [],
   "source": []
  }
 ],
 "metadata": {
  "interpreter": {
   "hash": "b3ba2566441a7c06988d0923437866b63cedc61552a5af99d1f4fb67d367b25f"
  },
  "kernelspec": {
   "display_name": "Python 3.8.11 64-bit ('base': conda)",
   "name": "python3"
  },
  "language_info": {
   "codemirror_mode": {
    "name": "ipython",
    "version": 3
   },
   "file_extension": ".py",
   "mimetype": "text/x-python",
   "name": "python",
   "nbconvert_exporter": "python",
   "pygments_lexer": "ipython3",
   "version": "3.8.12"
  }
 },
 "nbformat": 4,
 "nbformat_minor": 4
}
