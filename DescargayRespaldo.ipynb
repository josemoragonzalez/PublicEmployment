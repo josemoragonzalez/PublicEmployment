{
 "cells": [
  {
   "cell_type": "markdown",
   "metadata": {},
   "source": [
    "# Funcionarios Públicos\n",
    "\n",
    "El presente notobook permite descargar, limpiar y almacenar los datos provenietes del [repositorio de datos abiertos de personal](https://www.portaltransparencia.cl/PortalPdT/web/guest/opendata#_48_INSTANCE_GI66ozEZ7DNy_=dataset%2Ftransparencia-activa-publicada-en-el-portal) del Consejo Para La Transparencia (CPLT).\n",
    "Para ejecutar este notebook, se tienen los siguiente prerequisitos:\n",
    "\n",
    "- Tener instalado el gestor de base de datos MySQL en algún servidor accesible por el usuario con permisos de escritura.\n",
    "- Tener instalado Anaconda Python y creado un ambiente que contenga las siguientes librerías: pandas, numpy, time, date, datetime, functools, urllib, json, mysql.connector, sqlalchemy\n"
   ]
  },
  {
   "cell_type": "markdown",
   "metadata": {},
   "source": [
    "### Descarga de datos desde el Portal de Transparencia\n",
    "⚠️ **La ejecución de este notebook requiere de al menos 32GB de RAM**, de preferencia 64 GB de RAM par evitar uso de SWAP memeroy, especialmente si utilizas discos HDD y no SSD"
   ]
  },
  {
   "cell_type": "code",
   "execution_count": null,
   "metadata": {},
   "outputs": [],
   "source": [
    "# librerias necesarias\n",
    "import pandas as pd\n",
    "\n",
    "# Descarga de las cuatro bases (planta, contrata, honorarios, cod trabajo)\n",
    "#Planta\n",
    "planta = pd.read_csv('http://www.cplt.cl/transparencia_activa/datoabierto/archivos/TA_PersonalPlanta.csv', encoding = 'cp1252', sep = ';')\n",
    "plata.to_csv('G:/temp/planta.csv')\n",
    "planta['Regimen'] = 'Planta'\n",
    "#Contrata\n",
    "contrata = pd.read_csv('http://www.cplt.cl/transparencia_activa/datoabierto/archivos/TA_PersonalContrata.csv', encoding = 'cp1252', sep = ';')\n",
    "contrata['Regimen'] = 'Contrata'\n",
    "#Honorarios\n",
    "honorarios = pd.read_csv('http://www.cplt.cl/transparencia_activa/datoabierto/archivos/TA_PersonalContratohonorarios.csv', encoding = 'cp1252', sep = ';')\n",
    "honorarios['Regimen'] = 'Honorarios'\n",
    "honorarios = honorarios.rename(columns={'remuneracionbruta': 'remuneracionbruta_mensual'})\n",
    "#Código del Trabajo\n",
    "codTrabajo = pd.read_csv('http://www.cplt.cl/transparencia_activa/datoabierto/archivos/TA_PersonalCodigotrabajo.csv', encoding = 'cp1252', sep = ';')\n",
    "codTrabajo['Regimen'] = 'Código del Trabajo'\n",
    "\n",
    "planta.to_csv('G:/temp/planta.csv')\n",
    "contrata.to_csv('G:/temp/contrata.csv')\n",
    "honorarios.to_csv('G:/temp/honorarios.csv')\n",
    "codTrabajo.to_csv('G:/temp/codTrabajo.csv')"
   ]
  },
  {
   "cell_type": "code",
   "execution_count": 5,
   "metadata": {},
   "outputs": [
    {
     "name": "stderr",
     "output_type": "stream",
     "text": [
      "C:\\ProgramData\\Anaconda3\\lib\\site-packages\\IPython\\core\\interactiveshell.py:3063: DtypeWarning: Columns (8) have mixed types.Specify dtype option on import or set low_memory=False.\n",
      "  interactivity=interactivity, compiler=compiler, result=result)\n"
     ]
    }
   ],
   "source": [
    "import pandas as pd\n",
    "\n",
    "# Descarga de las cuatro bases (planta, contrata, honorarios, cod trabajo)\n",
    "#Planta\n",
    "planta = pd.read_csv('G:/temp/TA_PersonalPlanta.csv', encoding = 'cp1252', sep = ';')\n",
    "planta['Regimen'] = 'Planta'\n",
    "#Contrata\n",
    "contrata = pd.read_csv('G:/temp/TA_PersonalContrata.csv', encoding = 'cp1252', sep = ';')\n",
    "contrata['Regimen'] = 'Contrata'\n",
    "#Honorarios\n",
    "honorarios = pd.read_csv('G:/temp/TA_PersonalContratohonorarios.csv', encoding = 'cp1252', sep = ';')\n",
    "honorarios['Regimen'] = 'Honorarios'\n",
    "honorarios = honorarios.rename(columns={'remuneracionbruta': 'remuneracionbruta_mensual'})\n",
    "#Código del Trabajo\n",
    "codTrabajo = pd.read_csv('G:/temp/TA_PersonalCodigotrabajo.csv', encoding = 'cp1252', sep = ';')\n",
    "codTrabajo['Regimen'] = 'Código del Trabajo'"
   ]
  },
  {
   "cell_type": "code",
   "execution_count": 9,
   "metadata": {},
   "outputs": [],
   "source": [
    "#Unimos los datasets\n",
    "funHist = pd.concat([planta, contrata, codTrabajo, honorarios], sort = True)\n"
   ]
  },
  {
   "cell_type": "markdown",
   "metadata": {},
   "source": [
    "#### **Limpieza de cada campo**"
   ]
  },
  {
   "cell_type": "code",
   "execution_count": 23,
   "metadata": {
    "scrolled": true
   },
   "outputs": [
    {
     "ename": "KeyError",
     "evalue": "\"['enlace' 'camino' 'remuliquida_mensual' 'observaciones'] not found in axis\"",
     "output_type": "error",
     "traceback": [
      "\u001b[1;31m---------------------------------------------------------------------------\u001b[0m",
      "\u001b[1;31mKeyError\u001b[0m                                  Traceback (most recent call last)",
      "\u001b[1;32m<ipython-input-23-f6a29f8e9cce>\u001b[0m in \u001b[0;36m<module>\u001b[1;34m\u001b[0m\n\u001b[0;32m      1\u001b[0m \u001b[1;31m# eliminamos campos innecesarios\u001b[0m\u001b[1;33m\u001b[0m\u001b[1;33m\u001b[0m\u001b[1;33m\u001b[0m\u001b[0m\n\u001b[1;32m----> 2\u001b[1;33m \u001b[0mfunHist\u001b[0m \u001b[1;33m=\u001b[0m \u001b[0mfunHist\u001b[0m\u001b[1;33m.\u001b[0m\u001b[0mdrop\u001b[0m\u001b[1;33m(\u001b[0m\u001b[0mcolumns\u001b[0m \u001b[1;33m=\u001b[0m \u001b[1;33m{\u001b[0m\u001b[1;34m'camino'\u001b[0m\u001b[1;33m,\u001b[0m \u001b[1;34m'enlace'\u001b[0m\u001b[1;33m,\u001b[0m \u001b[1;34m'observaciones'\u001b[0m\u001b[1;33m,\u001b[0m \u001b[1;34m'remuliquida_mensual'\u001b[0m\u001b[1;33m}\u001b[0m\u001b[1;33m)\u001b[0m\u001b[1;33m\u001b[0m\u001b[1;33m\u001b[0m\u001b[0m\n\u001b[0m",
      "\u001b[1;32mC:\\ProgramData\\Anaconda3\\lib\\site-packages\\pandas\\core\\frame.py\u001b[0m in \u001b[0;36mdrop\u001b[1;34m(self, labels, axis, index, columns, level, inplace, errors)\u001b[0m\n\u001b[0;32m   3995\u001b[0m             \u001b[0mlevel\u001b[0m\u001b[1;33m=\u001b[0m\u001b[0mlevel\u001b[0m\u001b[1;33m,\u001b[0m\u001b[1;33m\u001b[0m\u001b[1;33m\u001b[0m\u001b[0m\n\u001b[0;32m   3996\u001b[0m             \u001b[0minplace\u001b[0m\u001b[1;33m=\u001b[0m\u001b[0minplace\u001b[0m\u001b[1;33m,\u001b[0m\u001b[1;33m\u001b[0m\u001b[1;33m\u001b[0m\u001b[0m\n\u001b[1;32m-> 3997\u001b[1;33m             \u001b[0merrors\u001b[0m\u001b[1;33m=\u001b[0m\u001b[0merrors\u001b[0m\u001b[1;33m,\u001b[0m\u001b[1;33m\u001b[0m\u001b[1;33m\u001b[0m\u001b[0m\n\u001b[0m\u001b[0;32m   3998\u001b[0m         )\n\u001b[0;32m   3999\u001b[0m \u001b[1;33m\u001b[0m\u001b[0m\n",
      "\u001b[1;32mC:\\ProgramData\\Anaconda3\\lib\\site-packages\\pandas\\core\\generic.py\u001b[0m in \u001b[0;36mdrop\u001b[1;34m(self, labels, axis, index, columns, level, inplace, errors)\u001b[0m\n\u001b[0;32m   3934\u001b[0m         \u001b[1;32mfor\u001b[0m \u001b[0maxis\u001b[0m\u001b[1;33m,\u001b[0m \u001b[0mlabels\u001b[0m \u001b[1;32min\u001b[0m \u001b[0maxes\u001b[0m\u001b[1;33m.\u001b[0m\u001b[0mitems\u001b[0m\u001b[1;33m(\u001b[0m\u001b[1;33m)\u001b[0m\u001b[1;33m:\u001b[0m\u001b[1;33m\u001b[0m\u001b[1;33m\u001b[0m\u001b[0m\n\u001b[0;32m   3935\u001b[0m             \u001b[1;32mif\u001b[0m \u001b[0mlabels\u001b[0m \u001b[1;32mis\u001b[0m \u001b[1;32mnot\u001b[0m \u001b[1;32mNone\u001b[0m\u001b[1;33m:\u001b[0m\u001b[1;33m\u001b[0m\u001b[1;33m\u001b[0m\u001b[0m\n\u001b[1;32m-> 3936\u001b[1;33m                 \u001b[0mobj\u001b[0m \u001b[1;33m=\u001b[0m \u001b[0mobj\u001b[0m\u001b[1;33m.\u001b[0m\u001b[0m_drop_axis\u001b[0m\u001b[1;33m(\u001b[0m\u001b[0mlabels\u001b[0m\u001b[1;33m,\u001b[0m \u001b[0maxis\u001b[0m\u001b[1;33m,\u001b[0m \u001b[0mlevel\u001b[0m\u001b[1;33m=\u001b[0m\u001b[0mlevel\u001b[0m\u001b[1;33m,\u001b[0m \u001b[0merrors\u001b[0m\u001b[1;33m=\u001b[0m\u001b[0merrors\u001b[0m\u001b[1;33m)\u001b[0m\u001b[1;33m\u001b[0m\u001b[1;33m\u001b[0m\u001b[0m\n\u001b[0m\u001b[0;32m   3937\u001b[0m \u001b[1;33m\u001b[0m\u001b[0m\n\u001b[0;32m   3938\u001b[0m         \u001b[1;32mif\u001b[0m \u001b[0minplace\u001b[0m\u001b[1;33m:\u001b[0m\u001b[1;33m\u001b[0m\u001b[1;33m\u001b[0m\u001b[0m\n",
      "\u001b[1;32mC:\\ProgramData\\Anaconda3\\lib\\site-packages\\pandas\\core\\generic.py\u001b[0m in \u001b[0;36m_drop_axis\u001b[1;34m(self, labels, axis, level, errors)\u001b[0m\n\u001b[0;32m   3968\u001b[0m                 \u001b[0mnew_axis\u001b[0m \u001b[1;33m=\u001b[0m \u001b[0maxis\u001b[0m\u001b[1;33m.\u001b[0m\u001b[0mdrop\u001b[0m\u001b[1;33m(\u001b[0m\u001b[0mlabels\u001b[0m\u001b[1;33m,\u001b[0m \u001b[0mlevel\u001b[0m\u001b[1;33m=\u001b[0m\u001b[0mlevel\u001b[0m\u001b[1;33m,\u001b[0m \u001b[0merrors\u001b[0m\u001b[1;33m=\u001b[0m\u001b[0merrors\u001b[0m\u001b[1;33m)\u001b[0m\u001b[1;33m\u001b[0m\u001b[1;33m\u001b[0m\u001b[0m\n\u001b[0;32m   3969\u001b[0m             \u001b[1;32melse\u001b[0m\u001b[1;33m:\u001b[0m\u001b[1;33m\u001b[0m\u001b[1;33m\u001b[0m\u001b[0m\n\u001b[1;32m-> 3970\u001b[1;33m                 \u001b[0mnew_axis\u001b[0m \u001b[1;33m=\u001b[0m \u001b[0maxis\u001b[0m\u001b[1;33m.\u001b[0m\u001b[0mdrop\u001b[0m\u001b[1;33m(\u001b[0m\u001b[0mlabels\u001b[0m\u001b[1;33m,\u001b[0m \u001b[0merrors\u001b[0m\u001b[1;33m=\u001b[0m\u001b[0merrors\u001b[0m\u001b[1;33m)\u001b[0m\u001b[1;33m\u001b[0m\u001b[1;33m\u001b[0m\u001b[0m\n\u001b[0m\u001b[0;32m   3971\u001b[0m             \u001b[0mresult\u001b[0m \u001b[1;33m=\u001b[0m \u001b[0mself\u001b[0m\u001b[1;33m.\u001b[0m\u001b[0mreindex\u001b[0m\u001b[1;33m(\u001b[0m\u001b[1;33m**\u001b[0m\u001b[1;33m{\u001b[0m\u001b[0maxis_name\u001b[0m\u001b[1;33m:\u001b[0m \u001b[0mnew_axis\u001b[0m\u001b[1;33m}\u001b[0m\u001b[1;33m)\u001b[0m\u001b[1;33m\u001b[0m\u001b[1;33m\u001b[0m\u001b[0m\n\u001b[0;32m   3972\u001b[0m \u001b[1;33m\u001b[0m\u001b[0m\n",
      "\u001b[1;32mC:\\ProgramData\\Anaconda3\\lib\\site-packages\\pandas\\core\\indexes\\base.py\u001b[0m in \u001b[0;36mdrop\u001b[1;34m(self, labels, errors)\u001b[0m\n\u001b[0;32m   5016\u001b[0m         \u001b[1;32mif\u001b[0m \u001b[0mmask\u001b[0m\u001b[1;33m.\u001b[0m\u001b[0many\u001b[0m\u001b[1;33m(\u001b[0m\u001b[1;33m)\u001b[0m\u001b[1;33m:\u001b[0m\u001b[1;33m\u001b[0m\u001b[1;33m\u001b[0m\u001b[0m\n\u001b[0;32m   5017\u001b[0m             \u001b[1;32mif\u001b[0m \u001b[0merrors\u001b[0m \u001b[1;33m!=\u001b[0m \u001b[1;34m\"ignore\"\u001b[0m\u001b[1;33m:\u001b[0m\u001b[1;33m\u001b[0m\u001b[1;33m\u001b[0m\u001b[0m\n\u001b[1;32m-> 5018\u001b[1;33m                 \u001b[1;32mraise\u001b[0m \u001b[0mKeyError\u001b[0m\u001b[1;33m(\u001b[0m\u001b[1;34mf\"{labels[mask]} not found in axis\"\u001b[0m\u001b[1;33m)\u001b[0m\u001b[1;33m\u001b[0m\u001b[1;33m\u001b[0m\u001b[0m\n\u001b[0m\u001b[0;32m   5019\u001b[0m             \u001b[0mindexer\u001b[0m \u001b[1;33m=\u001b[0m \u001b[0mindexer\u001b[0m\u001b[1;33m[\u001b[0m\u001b[1;33m~\u001b[0m\u001b[0mmask\u001b[0m\u001b[1;33m]\u001b[0m\u001b[1;33m\u001b[0m\u001b[1;33m\u001b[0m\u001b[0m\n\u001b[0;32m   5020\u001b[0m         \u001b[1;32mreturn\u001b[0m \u001b[0mself\u001b[0m\u001b[1;33m.\u001b[0m\u001b[0mdelete\u001b[0m\u001b[1;33m(\u001b[0m\u001b[0mindexer\u001b[0m\u001b[1;33m)\u001b[0m\u001b[1;33m\u001b[0m\u001b[1;33m\u001b[0m\u001b[0m\n",
      "\u001b[1;31mKeyError\u001b[0m: \"['enlace' 'camino' 'remuliquida_mensual' 'observaciones'] not found in axis\""
     ]
    }
   ],
   "source": [
    "# eliminamos campos innecesarios\n",
    "funHist = funHist.drop(columns = {'camino', 'enlace', 'observaciones', 'remuliquida_mensual'})"
   ]
  },
  {
   "cell_type": "code",
   "execution_count": 22,
   "metadata": {},
   "outputs": [],
   "source": [
    "#Limpieza de las horas extras\n",
    "#Diurnas\n",
    "funHist['montoHExDiu'] = pd.DataFrame(funHist['diurnas'].str.split(' ', expand = True))[0] #primero monto\n",
    "funHist['montoHExDiu'] = funHist['montoHExDiu'].str.replace(',', '').str.replace('No', '0').str.replace('$', '') #eliminamos caracteres inncecesarios y dejamos solo números\n",
    "funHist['montoHExDiu'] = pd.to_numeric(funHist['montoHExDiu'], errors = 'coerce') # convertimos a números\n",
    "funHist['montoHExDiu'] = funHist['montoHExDiu'].fillna(0.0) # imputamos missing\n",
    "\n",
    "funHist['cantHExDiu'] = pd.DataFrame(funHist['diurnas'].str.split(' ', expand = True))[1] #segundo cantidad\n",
    "funHist['cantHExDiu'] = funHist['cantHExDiu'].str.replace('tiene', '0').str.replace('hrs', '') #eliminamos caracteres inncecesarios y dejamos solo números\n",
    "funHist['cantHExDiu'] = pd.to_numeric(funHist['cantHExDiu'], errors = 'coerce') # convertimos a números\n",
    "funHist['cantHExDiu'] = funHist['cantHExDiu'].fillna(0.0) # imputamos missing\n",
    "\n",
    "#Nocturnas\n",
    "funHist['montoHExNoc'] = pd.DataFrame(funHist['nocturnas'].str.split(' ', expand = True))[0] #primero monto\n",
    "funHist['montoHExNoc'] = funHist['montoHExNoc'].str.replace(',', '').str.replace('No', '0').str.replace('$', '') #eliminamos caracteres inncecesarios y dejamos solo números\n",
    "funHist['montoHExNoc'] = pd.to_numeric(funHist['montoHExNoc'], errors = 'coerce') # convertimos a números\n",
    "funHist['montoHExNoc'] = funHist['montoHExNoc'].fillna(0.0) # imputamos missing\n",
    "\n",
    "funHist['cantHExNoc'] = pd.DataFrame(funHist['nocturnas'].str.split(' ', expand = True))[1] #segundo cantidad\n",
    "funHist['cantHExNoc'] = funHist['cantHExNoc'].str.replace('tiene', '0').str.replace('hrs', '') #eliminamos caracteres inncecesarios y dejamos solo números\n",
    "funHist['cantHExNoc'] = pd.to_numeric(funHist['cantHExNoc'], errors = 'coerce') # convertimos a números\n",
    "funHist['cantHExNoc'] = funHist['cantHExNoc'].fillna(0.0) # imputamos missing\n",
    "\n",
    "#Festivas\n",
    "funHist['montoHExFes'] = pd.DataFrame(funHist['festivas'].str.split(' ', expand = True))[0] #primero monto\n",
    "funHist['montoHExFes'] = funHist['montoHExFes'].str.replace(',', '').str.replace('No', '0').str.replace('$', '') #eliminamos caracteres inncecesarios y dejamos solo números\n",
    "funHist['montoHExFes'] = pd.to_numeric(funHist['montoHExFes'], errors = 'coerce') # convertimos a números\n",
    "funHist['montoHExFes'] = funHist['montoHExFes'].fillna(0.0) # imputamos missing\n",
    "\n",
    "funHist['cantHExFes'] = pd.DataFrame(funHist['festivas'].str.split(' ', expand = True))[1] #segundo cantidad\n",
    "funHist['cantHExFes'] = funHist['cantHExFes'].str.replace('tiene', '0').str.replace('hrs', '') #eliminamos caracteres inncecesarios y dejamos solo números\n",
    "funHist['cantHExFes'] = pd.to_numeric(funHist['cantHExFes'], errors = 'coerce') # convertimos a números\n",
    "funHist['cantHExFes'] = funHist['cantHExFes'].fillna(0.0) # imputamos missing"
   ]
  },
  {
   "cell_type": "code",
   "execution_count": 24,
   "metadata": {},
   "outputs": [],
   "source": [
    "#Limpieza de fechas\n",
    "funHist['fecha_ingreso'] = funHist['fecha_ingreso'].str.replace(' 00:00:00.000', '')\n",
    "funHist['fecha_ingreso'] = pd.to_datetime(funHist.fecha_ingreso).dt.strftime('%d/%m/%Y')\n",
    "\n",
    "funHist['fecha_ingreso'] = funHist['fecha_publicacion'].str.replace(' 00:00:00.000', '')\n",
    "funHist['fecha_ingreso'] = pd.to_datetime(funHist.fecha_ingreso).dt.strftime('%d/%m/%Y')\n",
    "\n",
    "funHist['fecha_termino'] = funHist['fecha_termino'].str.replace(r'Indefinido|Sin fecha término','').str.replace(r'31\\/12\\/(([2-9][0-9][3-9][0-9])|([3-9][0-9][0-9][0-9])|([2-9][1-9][0-9][0-9]))', '').fillna('')\n",
    "funHist['fecha_termino'] = pd.to_datetime(funHist['fecha_termino'], errors = 'coerce').dt.strftime('%d/%m/%Y')"
   ]
  },
  {
   "cell_type": "code",
   "execution_count": 25,
   "metadata": {},
   "outputs": [],
   "source": [
    "#limpieza de Tipo Cargo\n",
    "funHist['Tipo cargo'] = funHist['Tipo cargo'].str.title()\n",
    "\n",
    "#Limpieza de años\n",
    "funHist.loc[funHist['anyo'] < 1900, 'anyo'] = 0\n",
    "funHist.loc[funHist['anyo'] > 2021, 'anyo'] = 0\n",
    "\n",
    "#Limpieza de descripciones\n",
    "funHist['descripcion_funcion'] = funHist['descripcion_funcion'].str.title()\n",
    "\n",
    "#Limpieza de nombres\n",
    "funHist['nombre'] = funHist['nombre'].str.title()\n",
    "\n",
    "#Limpieza de Organismo\n",
    "funHist['organismo_nombre'] = funHist['organismo_nombre'].str.title()\n",
    "\n",
    "#Limpieza de región\n",
    "funHist['region'] = funHist['region'].str.title()\n",
    "\n",
    "#Limpieza de tipo de calificación\n",
    "funHist['tipo_calificacionp'] = funHist['tipo_calificacionp'].str.title()   "
   ]
  },
  {
   "cell_type": "code",
   "execution_count": 26,
   "metadata": {},
   "outputs": [],
   "source": [
    "# Eliminamos campos que no entregan valor para trabajar con un dataframe más liviano\n",
    "funHist = funHist.drop(columns = {'diurnas', 'festivas', 'nocturnas'})\n",
    "\n",
    "# Limpiamos las rentas que no están en pesos\n",
    "funHist.loc[(funHist['Tipo Unidad monetaria']!='Pesos') & (funHist['remuneracionbruta_mensual'] > 30000) , 'Tipo Unidad monetaria'] = 'Pesos'\n"
   ]
  },
  {
   "cell_type": "markdown",
   "metadata": {},
   "source": [
    "## ***Pendiente limpieza a los grados en super complejo de abordar"
   ]
  },
  {
   "cell_type": "markdown",
   "metadata": {},
   "source": [
    "#### Descarga de datos para realizar transformaciones de moneda y correción monentaria"
   ]
  },
  {
   "cell_type": "code",
   "execution_count": 27,
   "metadata": {},
   "outputs": [
    {
     "name": "stderr",
     "output_type": "stream",
     "text": [
      "C:\\ProgramData\\Anaconda3\\lib\\site-packages\\ipykernel_launcher.py:64: SettingWithCopyWarning: \n",
      "A value is trying to be set on a copy of a slice from a DataFrame\n",
      "\n",
      "See the caveats in the documentation: https://pandas.pydata.org/pandas-docs/stable/user_guide/indexing.html#returning-a-view-versus-a-copy\n",
      "C:\\ProgramData\\Anaconda3\\lib\\site-packages\\ipykernel_launcher.py:66: SettingWithCopyWarning: \n",
      "A value is trying to be set on a copy of a slice from a DataFrame\n",
      "\n",
      "See the caveats in the documentation: https://pandas.pydata.org/pandas-docs/stable/user_guide/indexing.html#returning-a-view-versus-a-copy\n",
      "C:\\ProgramData\\Anaconda3\\lib\\site-packages\\ipykernel_launcher.py:71: SettingWithCopyWarning: \n",
      "A value is trying to be set on a copy of a slice from a DataFrame\n",
      "\n",
      "See the caveats in the documentation: https://pandas.pydata.org/pandas-docs/stable/user_guide/indexing.html#returning-a-view-versus-a-copy\n"
     ]
    }
   ],
   "source": [
    "#Imports necesarios\n",
    "import time #librería necesaria para medir el tiempo de ejecución \n",
    "import datetime\n",
    "import pandas as pd\n",
    "import numpy as np\n",
    "from functools import reduce\n",
    "import urllib.request\n",
    "import json\n",
    "\n",
    "# Creamos los dataframes vacios para almacenar los valores de UTM y Fechas\n",
    "dolarDiarioDF = pd.DataFrame(columns=['Fecha', 'Dolar'])\n",
    "CLFDiarioDF = pd.DataFrame(columns=['Fecha', 'CLF'])\n",
    "euroDiarioDF = pd.DataFrame(columns=['Fecha', 'Euro'])\n",
    "utmDF = pd.DataFrame(columns=['Fecha', 'UTM'])\n",
    "ipcDF = pd.DataFrame(columns=['Fecha', 'IPC'])\n",
    "\n",
    "# Generamos el ciclo para recorrer los años y leer desde la API los datos de UTM\n",
    "for i in range(2008, 2021):\n",
    "    with urllib.request.urlopen(\"https://mindicador.cl/api/dolar/\"+str(i)) as url:\n",
    "        dolar = json.loads(url.read().decode())\n",
    "    \n",
    "    with urllib.request.urlopen(\"https://mindicador.cl/api/uf/\"+str(i)) as url:\n",
    "        uf = json.loads(url.read().decode())\n",
    "    \n",
    "    with urllib.request.urlopen(\"https://mindicador.cl/api/euro/\"+str(i)) as url:\n",
    "        euro = json.loads(url.read().decode())\n",
    "    \n",
    "    with urllib.request.urlopen(\"https://mindicador.cl/api/utm/\"+str(i)) as url:\n",
    "        utm = json.loads(url.read().decode())\n",
    "        \n",
    "    with urllib.request.urlopen(\"https://mindicador.cl/api/ipc/\"+str(i)) as url:\n",
    "        ipc = json.loads(url.read().decode())\n",
    "    \n",
    "    # Generamos los ciclos en que se añaden los dataframes los valores obtenidos desde la API    \n",
    "    for x in range(len(dolar['serie'])):\n",
    "        dolarDiarioDF = dolarDiarioDF.append({'Fecha' : dolar['serie'][x]['fecha'][0:7] , 'Dolar' : dolar['serie'][x]['valor']} , ignore_index=True) \n",
    "    \n",
    "    for x in range(len(uf['serie'])):\n",
    "        CLFDiarioDF = CLFDiarioDF.append({'Fecha' : uf['serie'][x]['fecha'][0:7] , 'CLF' : uf['serie'][x]['valor']} , ignore_index=True)\n",
    "    \n",
    "    for x in range(len(euro['serie'])):\n",
    "        euroDiarioDF = euroDiarioDF.append({'Fecha' : euro['serie'][x]['fecha'][0:7] , 'Euro' : euro['serie'][x]['valor']} , ignore_index=True)\n",
    "    \n",
    "    for x in range(len(utm['serie'])):\n",
    "        utmDF = utmDF.append({'Fecha' : utm['serie'][x]['fecha'][0:7] , 'UTM' : utm['serie'][x]['valor']} , ignore_index=True)\n",
    "        \n",
    "    for x in range(len(ipc['serie'])):\n",
    "        ipcDF = ipcDF.append({'Fecha' : ipc['serie'][x]['fecha'][0:7] , 'IPC' : ipc['serie'][x]['valor']} , ignore_index=True)\n",
    "\n",
    "\n",
    "# Agrupamos por promedio para efectos prácticos\n",
    "dolarDF = dolarDiarioDF.groupby(['Fecha'])[['Dolar']].mean()\n",
    "CLFDF = CLFDiarioDF.groupby(['Fecha'])[['CLF']].mean()\n",
    "euroDF = euroDiarioDF.groupby(['Fecha'])[['Euro']].mean()\n",
    "\n",
    "# Unimos los dataframes y lo guardamos en uno nuevo\n",
    "monedas = reduce(lambda x,y: pd.merge(x,y, on='Fecha', how='left'), [dolarDF, CLFDF, euroDF, utmDF, ipcDF])\n",
    "\n",
    "# calculamos el IPC en términos de su valor en índice\n",
    "monedas['IPC'] = monedas['IPC'].fillna(0)\n",
    "monedas['ipcIndices'] = 0.0\n",
    "for index, row in monedas.iterrows():\n",
    "    if index == 0:\n",
    "        monedas['ipcIndices'][index] =  72.0007284469403   \n",
    "    else:\n",
    "        monedas['ipcIndices'][index] = monedas['ipcIndices'][index - 1] + monedas['IPC'][index] * monedas['ipcIndices'][index - 1] / 100\n",
    "\n",
    "# en base al valor índice calculamos los factores de corrección y limpiamos el dataframe\n",
    "monedas['factorIPC'] = 0.0\n",
    "for index, row in monedas.iterrows():\n",
    "    monedas['factorIPC'][index] = monedas['ipcIndices'][len(monedas)-1] / monedas['ipcIndices'][index]\n",
    "    \n",
    "monedas = monedas.drop(columns = ['IPC'])\n"
   ]
  },
  {
   "cell_type": "code",
   "execution_count": 28,
   "metadata": {},
   "outputs": [],
   "source": [
    "#elimación de datos de IPC innecesarios\n",
    "monedas = monedas.drop(columns = {'ipcIndices'})"
   ]
  },
  {
   "cell_type": "code",
   "execution_count": null,
   "metadata": {},
   "outputs": [],
   "source": [
    "funHist"
   ]
  },
  {
   "cell_type": "code",
   "execution_count": 29,
   "metadata": {},
   "outputs": [],
   "source": [
    "#creación del campo mes como \"numero\" para hacer merge con monedas\n",
    "funHist.loc[funHist['Mes']=='Enero', 'mesN'] = '01'\n",
    "funHist.loc[funHist['Mes']=='Febrero', 'mesN'] = '02'\n",
    "funHist.loc[funHist['Mes']=='Marzo', 'mesN'] = '03'\n",
    "funHist.loc[funHist['Mes']=='Abril', 'mesN'] = '04'\n",
    "funHist.loc[funHist['Mes']=='Mayo', 'mesN'] = '05'\n",
    "funHist.loc[funHist['Mes']=='Junio', 'mesN'] = '06'\n",
    "funHist.loc[funHist['Mes']=='Julio', 'mesN'] = '07'\n",
    "funHist.loc[funHist['Mes']=='Agosto', 'mesN'] = '08'\n",
    "funHist.loc[funHist['Mes']=='Septiembre', 'mesN'] = '09'\n",
    "funHist.loc[funHist['Mes']=='Octubre', 'mesN'] = '10'\n",
    "funHist.loc[funHist['Mes']=='Noviembre', 'mesN'] = '11'\n",
    "funHist.loc[funHist['Mes']=='Diciembre', 'mesN'] = '12'"
   ]
  },
  {
   "cell_type": "code",
   "execution_count": 30,
   "metadata": {},
   "outputs": [],
   "source": [
    "#creación del campo año mes para fusionar con monedas\n",
    "funHist['Fecha'] = funHist['anyo'].astype(str) + '-' + funHist['mesN']"
   ]
  },
  {
   "cell_type": "code",
   "execution_count": 31,
   "metadata": {},
   "outputs": [],
   "source": [
    "# merge con monedas\n",
    "funHist = funHist.merge(monedas, how = 'left', left_on = 'Fecha', right_on = 'Fecha')"
   ]
  },
  {
   "cell_type": "code",
   "execution_count": 33,
   "metadata": {
    "scrolled": true
   },
   "outputs": [],
   "source": [
    "# Calculo de remuneración bruta mensual en pesos reales\n",
    "funHist['RemBrutaPesosReal'] = 0\n",
    "funHist.loc[funHist['Tipo Unidad monetaria']=='Pesos', 'RemBrutaPesosReal'] = funHist['remuneracionbruta_mensual'] * funHist['factorIPC']\n",
    "funHist.loc[funHist['Tipo Unidad monetaria']=='Dólares', 'RemBrutaPesosReal'] = funHist['remuneracionbruta_mensual'] * funHist['factorIPC'] * funHist['Dolar']\n",
    "funHist.loc[funHist['Tipo Unidad monetaria']=='UTM', 'RemBrutaPesosReal'] = funHist['remuneracionbruta_mensual'] * funHist['factorIPC'] * funHist['UTM']\n",
    "funHist.loc[funHist['Tipo Unidad monetaria']=='Miles de pesos', 'RemBrutaPesosReal'] = funHist['remuneracionbruta_mensual'] * funHist['factorIPC'] * 1000\n",
    "funHist.loc[funHist['Tipo Unidad monetaria']=='Euros', 'RemBrutaPesosReal'] = funHist['remuneracionbruta_mensual'] * funHist['factorIPC'] * funHist['Euro']\n",
    "funHist.loc[funHist['Tipo Unidad monetaria']=='UF', 'RemBrutaPesosReal'] = funHist['remuneracionbruta_mensual'] * funHist['factorIPC'] * funHist['CLF']\n"
   ]
  },
  {
   "cell_type": "code",
   "execution_count": 34,
   "metadata": {},
   "outputs": [],
   "source": [
    "# Calculo de montos de horas extrasmensual en pesos reales\n",
    "funHist['HEDiuReal'] = funHist['montoHExDiu'] * funHist['factorIPC']\n",
    "funHist['HENocReal'] = funHist['montoHExNoc'] * funHist['factorIPC']\n",
    "funHist['HEFesReal'] = funHist['montoHExFes'] * funHist['factorIPC']\n",
    "funHist['ViaticosReal'] = funHist['viaticos'] * funHist['factorIPC']\n",
    "funHist['HorasExtrasMontoReal'] = funHist['HEDiuReal'] + funHist['HENocReal'] + funHist['HEFesReal']\n",
    "funHist['HorasExtrasCantTotal'] = funHist['cantHExDiu'] + funHist['cantHExNoc'] + funHist['cantHExFes']\n"
   ]
  },
  {
   "cell_type": "code",
   "execution_count": 35,
   "metadata": {},
   "outputs": [],
   "source": [
    "# Eliminamos las monedas a no ser usadas\n",
    "funHist = funHist.drop(columns = {'factorIPC', 'Dolar', 'UTM', 'Euro', 'CLF'})"
   ]
  },
  {
   "cell_type": "code",
   "execution_count": null,
   "metadata": {},
   "outputs": [],
   "source": [
    "funHist['Regimen'] = funHist['Regimen'].astype('category')\n",
    "funHist['Tipo Estamento'] = funHist['Tipo Estamento'].astype('category')\n",
    "funHist['Tipo Unidad monetaria'] = funHist['Tipo Unidad monetaria'].astype('category')\n",
    "funHist['Tipo cargo'] = funHist['Tipo cargo'].astype('category')\n",
    "funHist['asignaciones'] = funHist['asignaciones'].astype('category')\n",
    "funHist['descripcion_funcion'] = funHist['descripcion_funcion'].astype('category')\n",
    "funHist['fecha_ingreso'] = pd.to_datetime(funHist['fecha_ingreso'])\n",
    "funHist['fecha_publicacion'] = pd.to_datetime(funHist['fecha_publicacion'])\n",
    "funHist['fecha_termino'] = pd.to_datetime(funHist['fecha_termino'])\n",
    "funHist['grado_eus'] = funHist['grado_eus'].astype('category')\n",
    "funHist['nombre'] = funHist['nombre'].astype('category')\n",
    "funHist['organismo_codigo'] = funHist['organismo_codigo'].astype('category')\n",
    "funHist['organismo_nombre'] = funHist['organismo_nombre'].astype('category')\n",
    "funHist['pago_mensuales'] = funHist['pago_mensuales'].astype('category')\n",
    "funHist['region'] = funHist['region'].astype('category')\n",
    "funHist['tipo_calificacionp'] = funHist['tipo_calificacionp'].astype('category')\n",
    "funHist['mesN'] = funHist['mesN'].astype('category')\n",
    "funHist['Fecha'] = funHist['Fecha'].astype('category')\n",
    "funHist['RemBrutaPesosReal'] = funHist['RemBrutaPesosReal'].astype(float)"
   ]
  },
  {
   "cell_type": "code",
   "execution_count": 194,
   "metadata": {},
   "outputs": [],
   "source": [
    "funHist2 = funHist.copy()"
   ]
  },
  {
   "cell_type": "markdown",
   "metadata": {},
   "source": [
    "### Respaldo de lo trabajado en bbdd"
   ]
  },
  {
   "cell_type": "code",
   "execution_count": 112,
   "metadata": {},
   "outputs": [],
   "source": [
    "import os\n",
    "os.environ['MYSQL_FUNC_USER'] = 'server'\n",
    "os.environ['MYSQL_FUNC_PASS'] = 'server'\n",
    "os.environ['MYSQL_FUNC_HOST'] = '192.168.2.2'\n",
    "os.environ['MYSQL_FUNC_DB'] = 'funcionarios'\n",
    "\n",
    "#Importamos las credenciales que usaremos en todo el notebook\n",
    "\n",
    "user = os.getenv('MYSQL_FUNC_USER')\n",
    "passwd = os.getenv('MYSQL_FUNC_PASS')\n",
    "host = os.getenv('MYSQL_FUNC_HOST')\n",
    "db = os.getenv('MYSQL_FUNC_DB')"
   ]
  },
  {
   "cell_type": "markdown",
   "metadata": {},
   "source": [
    "### Tabla de Servicios"
   ]
  },
  {
   "cell_type": "code",
   "execution_count": 163,
   "metadata": {},
   "outputs": [],
   "source": [
    "#Código del Trabajo\n",
    "Servicios = pd.read_csv('http://www.cplt.cl/transparencia_activa/datoabierto/archivos/Organismos_360.csv', encoding = 'cp1252', sep = ';')\n",
    "Servicios.to_sql(name='Servicios', con=engine, if_exists = 'replace', index=True, chunksize = 10000)"
   ]
  },
  {
   "cell_type": "code",
   "execution_count": 182,
   "metadata": {},
   "outputs": [],
   "source": [
    "import sqlalchemy as sa\n",
    "\n",
    "engine2 = sa.create_engine('vertica+vertica_python://dbadmin:1@192.168.2.2:5433/chc')"
   ]
  },
  {
   "cell_type": "code",
   "execution_count": 183,
   "metadata": {},
   "outputs": [],
   "source": [
    "funHist2 = funHist2.rename(columns = {'Tipo Estamento':'TipoEstamento', 'Tipo Unidad monetaria':'TipoUnidadMonetaria', \n",
    "                                     'Tipo cargo': 'TipoCargo', 'descripcion_funcion':'DescripcionFuncion',\n",
    "                                     'fecha_ingreso': 'FechaIngreso', 'fecha_publicacion':'FechaPublicacion',\n",
    "                                     'fecha_termino':'FechaTermino', 'grado_eus':'GradoEus', 'organismo_codigo':'OrganismoCodigo',\n",
    "                                     'organismo_nombre':'OrganismoNombre', 'pago_mensuales':'PagoMensuales',\n",
    "                                     'tipo_calificacionp':'TipoCalificacionp', 'remuneracionbruta_mensual':'remuneracionbrutamensual'})"
   ]
  },
  {
   "cell_type": "code",
   "execution_count": 186,
   "metadata": {},
   "outputs": [],
   "source": [
    "funHist2.to_sql(name='full', con=engine2, if_exists = 'replace', index=False ,chunksize = 60000, schema = 'funcionarios',\n",
    "               dtype={'Mes': VARCHAR(50),\n",
    "                      'Regimen': VARCHAR(50),\n",
    "                      'TipoEstamento': VARCHAR(255),\n",
    "                      'TipoUnidadMonetaria': VARCHAR(50),\n",
    "                      'TipoCargo': VARCHAR(255),\n",
    "                      'asignaciones': VARCHAR(2500),\n",
    "                      'DescripcionFuncion': VARCHAR(8000),\n",
    "                      'FechaIngreso': VARCHAR(50),\n",
    "                      'FechaPublicacion': VARCHAR(50),\n",
    "                      'FechaTermino': VARCHAR(50),\n",
    "                      'GradoEus': VARCHAR(255),\n",
    "                      'nombre': VARCHAR(500),\n",
    "                      'OrganismoCodigo': VARCHAR(50),\n",
    "                      'OrganismoNombre': VARCHAR(255),\n",
    "                      'PagoMensuales': VARCHAR(255),\n",
    "                      'region': VARCHAR(255),\n",
    "                      'TipoCalificacionp': VARCHAR(2500),\n",
    "                      'Fecha': VARCHAR(255),\n",
    "                      'mesN': VARCHAR(50)})"
   ]
  },
  {
   "cell_type": "code",
   "execution_count": 193,
   "metadata": {},
   "outputs": [],
   "source": [
    "#Servicios = pd.read_csv('http://www.cplt.cl/transparencia_activa/datoabierto/archivos/Organismos_360.csv', encoding = 'cp1252', sep = ';')\n",
    "Servicios.to_sql(name='Servicios', con=engine2, if_exists = 'replace', index=False ,chunksize = 1000, schema = 'funcionarios',\n",
    "               dtype={\"Codigo_org\": VARCHAR(50), \n",
    "                        \"Organismo\" : VARCHAR(255), \n",
    "                        \"Codigo_padre\" : VARCHAR(255), \n",
    "                        \"Padre_org\" : VARCHAR(255), \n",
    "                        \"Region\" : VARCHAR(255), \n",
    "                        \"Municipalidad\" : VARCHAR(255), \n",
    "                        \"direccion\" : VARCHAR(255), \n",
    "                        \"telefono\" : VARCHAR(255), \n",
    "                        \"url_organismo\" : VARCHAR(255), \n",
    "                        \"url_orgtransparencia\" : VARCHAR(255), \n",
    "                        \"horario_publico\" : VARCHAR(500), \n",
    "                        \"nombre_encargado\" : VARCHAR(255), \n",
    "                        \"email\" : VARCHAR(255), \n",
    "                        \"rut\" : VARCHAR(255), \n",
    "                        \"tipo_cuenta\" : VARCHAR(255), \n",
    "                        \"banco\" : VARCHAR(255), \n",
    "                        \"url_sai\" : VARCHAR(255), \n",
    "                        \"fax\" : VARCHAR(255), \n",
    "                        \"Ingresa\" : VARCHAR(255), \n",
    "                        \"obligadorecibir_sai\" : VARCHAR(255), \n",
    "                        \"organismo_autonomo\" : VARCHAR(255), \n",
    "                        \"interopera\" : VARCHAR(255), \n",
    "                        \"tiene_ta\" : VARCHAR(255), \n",
    "                        \"fecha_ta\" : VARCHAR(255)})"
   ]
  }
 ],
 "metadata": {
  "kernelspec": {
   "display_name": "Python 3",
   "language": "python",
   "name": "python3"
  },
  "language_info": {
   "codemirror_mode": {
    "name": "ipython",
    "version": 3
   },
   "file_extension": ".py",
   "mimetype": "text/x-python",
   "name": "python",
   "nbconvert_exporter": "python",
   "pygments_lexer": "ipython3",
   "version": "3.7.6"
  }
 },
 "nbformat": 4,
 "nbformat_minor": 4
}
