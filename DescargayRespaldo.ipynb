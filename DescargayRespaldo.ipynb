{
 "cells": [
  {
   "cell_type": "markdown",
   "source": [
    "# Funcionarios Públicos\n",
    "\n",
    "El presente notobook permite descargar, limpiar y almacenar los datos provenietes del [repositorio de datos abiertos de personal](https://www.portaltransparencia.cl/PortalPdT/web/guest/opendata#_48_INSTANCE_GI66ozEZ7DNy_=dataset%2Ftransparencia-activa-publicada-en-el-portal) del Consejo Para La Transparencia (CPLT).\n",
    "Para ejecutar este notebook, se tienen los siguiente prerequisitos:\n",
    "\n",
    "- Tener instalado el gestor de base de datos MySQL en algún servidor accesible por el usuario con permisos de escritura.\n",
    "- Tener instalado Anaconda Python y creado un ambiente que contenga las siguientes librerías: pandas, numpy, time, date, datetime, functools, urllib, json, mysql.connector, sqlalchemy\n"
   ],
   "metadata": {}
  },
  {
   "cell_type": "markdown",
   "source": [
    "### Descarga de datos desde el Portal de Transparencia\n",
    "⚠️ **La ejecución de este notebook requiere de al menos 32GB de RAM**, de preferencia 64 GB de RAM par evitar uso de SWAP memeroy, especialmente si utilizas discos HDD y no SSD"
   ],
   "metadata": {}
  },
  {
   "cell_type": "code",
   "execution_count": null,
   "source": [
    "# librerias necesarias\r\n",
    "import pandas as pd\r\n",
    "\r\n",
    "# Descarga de las cuatro bases (planta, contrata, honorarios, cod trabajo)\r\n",
    "#Planta\r\n",
    "planta = pd.read_csv('http://www.cplt.cl/transparencia_activa/datoabierto/archivos/TA_PersonalPlanta.csv', encoding = 'cp1252', sep = ';')\r\n",
    "planta.to_csv('G:/temp/planta.csv')\r\n",
    "planta['Regimen'] = 'Planta'\r\n",
    "#Contrata\r\n",
    "contrata = pd.read_csv('http://www.cplt.cl/transparencia_activa/datoabierto/archivos/TA_PersonalContrata.csv', encoding = 'cp1252', sep = ';')\r\n",
    "contrata['Regimen'] = 'Contrata'\r\n",
    "#Honorarios\r\n",
    "honorarios = pd.read_csv('http://www.cplt.cl/transparencia_activa/datoabierto/archivos/TA_PersonalContratohonorarios.csv', encoding = 'cp1252', sep = ';')\r\n",
    "honorarios['Regimen'] = 'Honorarios'\r\n",
    "honorarios = honorarios.rename(columns={'remuneracionbruta': 'remuneracionbruta_mensual'})\r\n",
    "#Código del Trabajo\r\n",
    "codTrabajo = pd.read_csv('http://www.cplt.cl/transparencia_activa/datoabierto/archivos/TA_PersonalCodigotrabajo.csv', encoding = 'cp1252', sep = ';')\r\n",
    "codTrabajo['Regimen'] = 'Código del Trabajo'\r\n",
    "\r\n",
    "planta.to_csv('G:/temp/planta.csv')\r\n",
    "contrata.to_csv('G:/temp/contrata.csv')\r\n",
    "honorarios.to_csv('G:/temp/honorarios.csv')\r\n",
    "codTrabajo.to_csv('G:/temp/codTrabajo.csv')"
   ],
   "outputs": [
    {
     "output_type": "stream",
     "name": "stderr",
     "text": [
      "C:\\ProgramData\\Anaconda3\\lib\\site-packages\\IPython\\core\\interactiveshell.py:3441: DtypeWarning: Columns (10) have mixed types.Specify dtype option on import or set low_memory=False.\n",
      "  exec(code_obj, self.user_global_ns, self.user_ns)\n"
     ]
    }
   ],
   "metadata": {}
  },
  {
   "cell_type": "code",
   "execution_count": null,
   "source": [
    "import pandas as pd\r\n",
    "\r\n",
    "# Descarga de las cuatro bases (planta, contrata, honorarios, cod trabajo)\r\n",
    "#Planta\r\n",
    "planta = pd.read_csv('G:/temp/planta.csv', sep = ',')\r\n",
    "planta['Regimen'] = 'Planta'\r\n",
    "#Contrata\r\n",
    "contrata = pd.read_csv('G:/temp/contrata.csv', sep = ',')\r\n",
    "contrata['Regimen'] = 'Contrata'\r\n",
    "#Honorarios\r\n",
    "honorarios = pd.read_csv('G:/temp/honorarios.csv', sep = ',')\r\n",
    "honorarios['Regimen'] = 'Honorarios'\r\n",
    "honorarios = honorarios.rename(columns={'remuneracionbruta': 'remuneracionbruta_mensual'})\r\n",
    "#Código del Trabajo\r\n",
    "codTrabajo = pd.read_csv('G:/temp/codTrabajo.csv', sep = ',')\r\n",
    "codTrabajo['Regimen'] = 'Código del Trabajo'"
   ],
   "outputs": [
    {
     "output_type": "stream",
     "name": "stderr",
     "text": [
      "C:\\ProgramData\\Anaconda3\\lib\\site-packages\\IPython\\core\\interactiveshell.py:3441: DtypeWarning: Columns (11,27) have mixed types.Specify dtype option on import or set low_memory=False.\n",
      "  exec(code_obj, self.user_global_ns, self.user_ns)\n",
      "C:\\ProgramData\\Anaconda3\\lib\\site-packages\\IPython\\core\\interactiveshell.py:3441: DtypeWarning: Columns (11) have mixed types.Specify dtype option on import or set low_memory=False.\n",
      "  exec(code_obj, self.user_global_ns, self.user_ns)\n"
     ]
    }
   ],
   "metadata": {}
  },
  {
   "cell_type": "code",
   "execution_count": null,
   "source": [
    "#Unimos los datasets\r\n",
    "funHist = pd.concat([planta, contrata, codTrabajo, honorarios], sort = True)\r\n"
   ],
   "outputs": [],
   "metadata": {}
  },
  {
   "cell_type": "code",
   "execution_count": null,
   "source": [
    "funHist.info()"
   ],
   "outputs": [
    {
     "output_type": "stream",
     "name": "stdout",
     "text": [
      "<class 'pandas.core.frame.DataFrame'>\n",
      "Int64Index: 35064494 entries, 0 to 6385513\n",
      "Data columns (total 34 columns):\n",
      " #   Column                     Dtype  \n",
      "---  ------                     -----  \n",
      " 0   Horas extra diurnas        float64\n",
      " 1   Horas extra festivas       float64\n",
      " 2   Horas extra nocturnas      float64\n",
      " 3   Materno                    object \n",
      " 4   Mes                        object \n",
      " 5   Nombres                    object \n",
      " 6   Pago extra diurnas         float64\n",
      " 7   Pago extra festivas        float64\n",
      " 8   Pago extra nocturnas       float64\n",
      " 9   Paterno                    object \n",
      " 10  Regimen                    object \n",
      " 11  Tipo Estamento             object \n",
      " 12  Tipo Unidad monetaria      object \n",
      " 13  Tipo cargo                 object \n",
      " 14  Unnamed: 0                 int64  \n",
      " 15  activado                   object \n",
      " 16  anyo                       int64  \n",
      " 17  asignaciones               object \n",
      " 18  camino                     object \n",
      " 19  descripcion_funcion        object \n",
      " 20  enlace                     object \n",
      " 21  fecha_ingreso              object \n",
      " 22  fecha_publicacion          object \n",
      " 23  fecha_termino              object \n",
      " 24  grado_eus                  object \n",
      " 25  observaciones              object \n",
      " 26  organismo_codigo           object \n",
      " 27  organismo_nombre           object \n",
      " 28  pago_mensuales             object \n",
      " 29  region                     object \n",
      " 30  remuliquida_mensual        float64\n",
      " 31  remuneracionbruta_mensual  int64  \n",
      " 32  tipo_calificacionp         object \n",
      " 33  viaticos                   float64\n",
      "dtypes: float64(8), int64(3), object(23)\n",
      "memory usage: 9.1+ GB\n"
     ]
    }
   ],
   "metadata": {}
  },
  {
   "cell_type": "markdown",
   "source": [
    "#### **Limpieza de cada campo**"
   ],
   "metadata": {}
  },
  {
   "cell_type": "code",
   "execution_count": null,
   "source": [
    "# eliminamos campos innecesarios\r\n",
    "funHist = funHist.drop(columns = {'camino', 'enlace', 'observaciones', 'remuliquida_mensual'})"
   ],
   "outputs": [],
   "metadata": {
    "scrolled": true
   }
  },
  {
   "cell_type": "markdown",
   "source": [
    "pd.set_option('display.max_rows', 500)\r\n",
    "pd.set_option('display.max_columns', 500)\r\n",
    "pd.set_option('display.width', 1000)\r\n",
    "funHist.iloc[1000000:1000004]"
   ],
   "metadata": {}
  },
  {
   "cell_type": "code",
   "execution_count": null,
   "source": [
    "#Limpieza de las horas extras\r\n",
    "\r\n",
    "funHist = funHist.rename(columns={'Pago extra diurnas':'montoHExDiu', 'Horas extra diurnas':'cantHExDiu'\r\n",
    "                                , 'Pago extra nocturnas':'montoHExNoc', 'Horas extra nocturnas':'cantHExNoc'\r\n",
    "                                , 'Pago extra festivas':'montoHExFes', 'Horas extra festivas':'cantHExFes'})\r\n",
    "\r\n",
    "#Diurnas\r\n",
    "funHist['montoHExDiu'] = pd.to_numeric(funHist['montoHExDiu'], errors = 'coerce') # convertimos a números\r\n",
    "funHist['montoHExDiu'] = funHist['montoHExDiu'].fillna(0.0) # imputamos missing\r\n",
    "\r\n",
    "funHist['cantHExDiu'] = pd.to_numeric(funHist['cantHExDiu'], errors = 'coerce') # convertimos a números\r\n",
    "funHist['cantHExDiu'] = funHist['cantHExDiu'].fillna(0.0) # imputamos missing\r\n",
    "\r\n",
    "#Nocturnas\r\n",
    "funHist['montoHExNoc'] = pd.to_numeric(funHist['montoHExNoc'], errors = 'coerce') # convertimos a números\r\n",
    "funHist['montoHExNoc'] = funHist['montoHExNoc'].fillna(0.0) # imputamos missing\r\n",
    "\r\n",
    "funHist['cantHExNoc'] = pd.to_numeric(funHist['cantHExNoc'], errors = 'coerce') # convertimos a números\r\n",
    "funHist['cantHExNoc'] = funHist['cantHExNoc'].fillna(0.0) # imputamos missing\r\n",
    "\r\n",
    "#Festivas\r\n",
    "funHist['montoHExFes'] = pd.to_numeric(funHist['montoHExFes'], errors = 'coerce') # convertimos a números\r\n",
    "funHist['montoHExFes'] = funHist['montoHExFes'].fillna(0.0) # imputamos missing\r\n",
    "\r\n",
    "funHist['cantHExFes'] = pd.to_numeric(funHist['cantHExFes'], errors = 'coerce') # convertimos a números\r\n",
    "funHist['cantHExFes'] = funHist['cantHExFes'].fillna(0.0) # imputamos missing"
   ],
   "outputs": [],
   "metadata": {}
  },
  {
   "cell_type": "code",
   "execution_count": null,
   "source": [
    "#Limpieza de fechas\r\n",
    "funHist['fecha_ingreso'] = funHist['fecha_ingreso'].str.replace(' 00:00:00.000', '').str.replace('1-01-01 00:00:00', '')\r\n",
    "funHist['fecha_ingreso'] = pd.to_datetime(funHist.fecha_ingreso, errors = 'coerce').dt.strftime('%d/%m/%Y')\r\n",
    "\r\n",
    "funHist['fecha_publicacion'] = funHist['fecha_publicacion'].str.replace(' 00:00:00.000', '').str.replace('1-01-01 00:00:00', '')\r\n",
    "funHist['fecha_publicacion'] = pd.to_datetime(funHist.fecha_publicacion, errors = 'coerce').dt.strftime('%d/%m/%Y')\r\n",
    "\r\n",
    "funHist['fecha_termino'] = funHist['fecha_termino'].str.replace(r'Indefinido|Sin fecha término','').str.replace(r'31\\/12\\/(([2-9][0-9][3-9][0-9])|([3-9][0-9][0-9][0-9])|([2-9][1-9][0-9][0-9]))', '').fillna('')\r\n",
    "funHist['fecha_termino'] = pd.to_datetime(funHist['fecha_termino'], errors = 'coerce').dt.strftime('%d/%m/%Y')"
   ],
   "outputs": [
    {
     "output_type": "stream",
     "name": "stderr",
     "text": [
      "<ipython-input-41-6373bf0e29d9>:2: FutureWarning: The default value of regex will change from True to False in a future version.\n",
      "  funHist['fecha_ingreso'] = funHist['fecha_ingreso'].str.replace(' 00:00:00.000', '').str.replace('1-01-01 00:00:00', '')\n",
      "<ipython-input-41-6373bf0e29d9>:5: FutureWarning: The default value of regex will change from True to False in a future version.\n",
      "  funHist['fecha_publicacion'] = funHist['fecha_publicacion'].str.replace(' 00:00:00.000', '').str.replace('1-01-01 00:00:00', '')\n",
      "<ipython-input-41-6373bf0e29d9>:8: FutureWarning: The default value of regex will change from True to False in a future version.\n",
      "  funHist['fecha_termino'] = funHist['fecha_termino'].str.replace(r'Indefinido|Sin fecha término','').str.replace(r'31\\/12\\/(([2-9][0-9][3-9][0-9])|([3-9][0-9][0-9][0-9])|([2-9][1-9][0-9][0-9]))', '').fillna('')\n"
     ]
    }
   ],
   "metadata": {}
  },
  {
   "cell_type": "code",
   "execution_count": null,
   "source": [
    "funHist.keys()"
   ],
   "outputs": [
    {
     "output_type": "execute_result",
     "data": {
      "text/plain": [
       "Index(['cantHExDiu', 'cantHExFes', 'cantHExNoc', 'Materno', 'Mes', 'Nombres', 'montoHExDiu', 'montoHExFes', 'montoHExNoc', 'Paterno', 'Regimen', 'Tipo Estamento', 'Tipo Unidad monetaria', 'Tipo cargo', 'Unnamed: 0', 'activado', 'anyo', 'asignaciones', 'descripcion_funcion', 'fecha_ingreso', 'fecha_publicacion', 'fecha_termino', 'grado_eus', 'organismo_codigo', 'organismo_nombre', 'pago_mensuales', 'region', 'remuneracionbruta_mensual', 'tipo_calificacionp', 'viaticos'], dtype='object')"
      ]
     },
     "metadata": {},
     "execution_count": 43
    }
   ],
   "metadata": {}
  },
  {
   "cell_type": "code",
   "execution_count": null,
   "source": [
    "#limpieza de Tipo Cargo\r\n",
    "funHist['Tipo cargo'] = funHist['Tipo cargo'].str.title()\r\n",
    "\r\n",
    "#Limpieza de años\r\n",
    "funHist.loc[funHist['anyo'] < 1900, 'anyo'] = 0\r\n",
    "funHist.loc[funHist['anyo'] > 2021, 'anyo'] = 0\r\n",
    "\r\n",
    "#Limpieza de descripciones\r\n",
    "funHist['descripcion_funcion'] = funHist['descripcion_funcion'].str.title()\r\n",
    "\r\n",
    "#Limpieza de nombres\r\n",
    "funHist['nombre'] = funHist['Nombres'].str.title()\r\n",
    "\r\n",
    "#Limpieza de Organismo\r\n",
    "funHist['organismo_nombre'] = funHist['organismo_nombre'].str.title()\r\n",
    "\r\n",
    "#Limpieza de región\r\n",
    "funHist['region'] = funHist['region'].str.title()\r\n",
    "\r\n",
    "#Limpieza de tipo de calificación\r\n",
    "funHist['tipo_calificacionp'] = funHist['tipo_calificacionp'].str.title()   "
   ],
   "outputs": [],
   "metadata": {}
  },
  {
   "cell_type": "code",
   "execution_count": null,
   "source": [
    "# Limpiamos las rentas que no están en pesos\r\n",
    "funHist.loc[(funHist['Tipo Unidad monetaria']!='Pesos') & (funHist['remuneracionbruta_mensual'] > 30000) , 'Tipo Unidad monetaria'] = 'Pesos'\r\n"
   ],
   "outputs": [],
   "metadata": {}
  },
  {
   "cell_type": "markdown",
   "source": [
    "## ***Pendiente limpieza a los grados en super complejo de abordar"
   ],
   "metadata": {}
  },
  {
   "cell_type": "markdown",
   "source": [
    "#### Descarga de datos para realizar transformaciones de moneda y correción monentaria"
   ],
   "metadata": {}
  },
  {
   "cell_type": "code",
   "execution_count": null,
   "source": [
    "#Imports necesarios\r\n",
    "import time #librería necesaria para medir el tiempo de ejecución \r\n",
    "import datetime\r\n",
    "import pandas as pd\r\n",
    "import numpy as np\r\n",
    "from functools import reduce\r\n",
    "import urllib.request\r\n",
    "import json\r\n",
    "\r\n",
    "# Creamos los dataframes vacios para almacenar los valores de UTM y Fechas\r\n",
    "dolarDiarioDF = pd.DataFrame(columns=['Fecha', 'Dolar'])\r\n",
    "CLFDiarioDF = pd.DataFrame(columns=['Fecha', 'CLF'])\r\n",
    "euroDiarioDF = pd.DataFrame(columns=['Fecha', 'Euro'])\r\n",
    "utmDF = pd.DataFrame(columns=['Fecha', 'UTM'])\r\n",
    "ipcDF = pd.DataFrame(columns=['Fecha', 'IPC'])\r\n",
    "\r\n",
    "# Generamos el ciclo para recorrer los años y leer desde la API los datos de UTM\r\n",
    "for i in range(2008, 2021):\r\n",
    "    with urllib.request.urlopen(\"https://mindicador.cl/api/dolar/\"+str(i)) as url:\r\n",
    "        dolar = json.loads(url.read().decode())\r\n",
    "    \r\n",
    "    with urllib.request.urlopen(\"https://mindicador.cl/api/uf/\"+str(i)) as url:\r\n",
    "        uf = json.loads(url.read().decode())\r\n",
    "    \r\n",
    "    with urllib.request.urlopen(\"https://mindicador.cl/api/euro/\"+str(i)) as url:\r\n",
    "        euro = json.loads(url.read().decode())\r\n",
    "    \r\n",
    "    with urllib.request.urlopen(\"https://mindicador.cl/api/utm/\"+str(i)) as url:\r\n",
    "        utm = json.loads(url.read().decode())\r\n",
    "        \r\n",
    "    with urllib.request.urlopen(\"https://mindicador.cl/api/ipc/\"+str(i)) as url:\r\n",
    "        ipc = json.loads(url.read().decode())\r\n",
    "    \r\n",
    "    # Generamos los ciclos en que se añaden los dataframes los valores obtenidos desde la API    \r\n",
    "    for x in range(len(dolar['serie'])):\r\n",
    "        dolarDiarioDF = dolarDiarioDF.append({'Fecha' : dolar['serie'][x]['fecha'][0:7] , 'Dolar' : dolar['serie'][x]['valor']} , ignore_index=True) \r\n",
    "    \r\n",
    "    for x in range(len(uf['serie'])):\r\n",
    "        CLFDiarioDF = CLFDiarioDF.append({'Fecha' : uf['serie'][x]['fecha'][0:7] , 'CLF' : uf['serie'][x]['valor']} , ignore_index=True)\r\n",
    "    \r\n",
    "    for x in range(len(euro['serie'])):\r\n",
    "        euroDiarioDF = euroDiarioDF.append({'Fecha' : euro['serie'][x]['fecha'][0:7] , 'Euro' : euro['serie'][x]['valor']} , ignore_index=True)\r\n",
    "    \r\n",
    "    for x in range(len(utm['serie'])):\r\n",
    "        utmDF = utmDF.append({'Fecha' : utm['serie'][x]['fecha'][0:7] , 'UTM' : utm['serie'][x]['valor']} , ignore_index=True)\r\n",
    "        \r\n",
    "    for x in range(len(ipc['serie'])):\r\n",
    "        ipcDF = ipcDF.append({'Fecha' : ipc['serie'][x]['fecha'][0:7] , 'IPC' : ipc['serie'][x]['valor']} , ignore_index=True)\r\n",
    "\r\n",
    "\r\n",
    "# Agrupamos por promedio para efectos prácticos\r\n",
    "dolarDF = dolarDiarioDF.groupby(['Fecha'])[['Dolar']].mean()\r\n",
    "CLFDF = CLFDiarioDF.groupby(['Fecha'])[['CLF']].mean()\r\n",
    "euroDF = euroDiarioDF.groupby(['Fecha'])[['Euro']].mean()\r\n",
    "\r\n",
    "# Unimos los dataframes y lo guardamos en uno nuevo\r\n",
    "monedas = reduce(lambda x,y: pd.merge(x,y, on='Fecha', how='left'), [dolarDF, CLFDF, euroDF, utmDF, ipcDF])\r\n",
    "\r\n",
    "# calculamos el IPC en términos de su valor en índice\r\n",
    "monedas['IPC'] = monedas['IPC'].fillna(0)\r\n",
    "monedas['ipcIndices'] = 0.0\r\n",
    "for index, row in monedas.iterrows():\r\n",
    "    if index == 0:\r\n",
    "        monedas['ipcIndices'][index] =  72.0007284469403   \r\n",
    "    else:\r\n",
    "        monedas['ipcIndices'][index] = monedas['ipcIndices'][index - 1] + monedas['IPC'][index] * monedas['ipcIndices'][index - 1] / 100\r\n",
    "\r\n",
    "# en base al valor índice calculamos los factores de corrección y limpiamos el dataframe\r\n",
    "monedas['factorIPC'] = 0.0\r\n",
    "for index, row in monedas.iterrows():\r\n",
    "    monedas['factorIPC'][index] = monedas['ipcIndices'][len(monedas)-1] / monedas['ipcIndices'][index]\r\n",
    "    \r\n",
    "monedas = monedas.drop(columns = ['IPC'])\r\n"
   ],
   "outputs": [
    {
     "output_type": "stream",
     "name": "stderr",
     "text": [
      "<ipython-input-46-82bdab4f78e7>:64: SettingWithCopyWarning: \n",
      "A value is trying to be set on a copy of a slice from a DataFrame\n",
      "\n",
      "See the caveats in the documentation: https://pandas.pydata.org/pandas-docs/stable/user_guide/indexing.html#returning-a-view-versus-a-copy\n",
      "  monedas['ipcIndices'][index] =  72.0007284469403\n",
      "<ipython-input-46-82bdab4f78e7>:66: SettingWithCopyWarning: \n",
      "A value is trying to be set on a copy of a slice from a DataFrame\n",
      "\n",
      "See the caveats in the documentation: https://pandas.pydata.org/pandas-docs/stable/user_guide/indexing.html#returning-a-view-versus-a-copy\n",
      "  monedas['ipcIndices'][index] = monedas['ipcIndices'][index - 1] + monedas['IPC'][index] * monedas['ipcIndices'][index - 1] / 100\n",
      "<ipython-input-46-82bdab4f78e7>:71: SettingWithCopyWarning: \n",
      "A value is trying to be set on a copy of a slice from a DataFrame\n",
      "\n",
      "See the caveats in the documentation: https://pandas.pydata.org/pandas-docs/stable/user_guide/indexing.html#returning-a-view-versus-a-copy\n",
      "  monedas['factorIPC'][index] = monedas['ipcIndices'][len(monedas)-1] / monedas['ipcIndices'][index]\n"
     ]
    }
   ],
   "metadata": {}
  },
  {
   "cell_type": "code",
   "execution_count": null,
   "source": [
    "#elimación de datos de IPC innecesarios\r\n",
    "monedas = monedas.drop(columns = {'ipcIndices'})"
   ],
   "outputs": [],
   "metadata": {}
  },
  {
   "cell_type": "code",
   "execution_count": null,
   "source": [
    "#creación del campo mes como \"numero\" para hacer merge con monedas\r\n",
    "funHist.loc[funHist['Mes']=='Enero', 'mesN'] = '01'\r\n",
    "funHist.loc[funHist['Mes']=='Febrero', 'mesN'] = '02'\r\n",
    "funHist.loc[funHist['Mes']=='Marzo', 'mesN'] = '03'\r\n",
    "funHist.loc[funHist['Mes']=='Abril', 'mesN'] = '04'\r\n",
    "funHist.loc[funHist['Mes']=='Mayo', 'mesN'] = '05'\r\n",
    "funHist.loc[funHist['Mes']=='Junio', 'mesN'] = '06'\r\n",
    "funHist.loc[funHist['Mes']=='Julio', 'mesN'] = '07'\r\n",
    "funHist.loc[funHist['Mes']=='Agosto', 'mesN'] = '08'\r\n",
    "funHist.loc[funHist['Mes']=='Septiembre', 'mesN'] = '09'\r\n",
    "funHist.loc[funHist['Mes']=='Octubre', 'mesN'] = '10'\r\n",
    "funHist.loc[funHist['Mes']=='Noviembre', 'mesN'] = '11'\r\n",
    "funHist.loc[funHist['Mes']=='Diciembre', 'mesN'] = '12'"
   ],
   "outputs": [],
   "metadata": {}
  },
  {
   "cell_type": "code",
   "execution_count": null,
   "source": [
    "#creación del campo año mes para fusionar con monedas\r\n",
    "funHist['Fecha'] = funHist['anyo'].astype(str) + '-' + funHist['mesN']"
   ],
   "outputs": [],
   "metadata": {}
  },
  {
   "cell_type": "code",
   "execution_count": null,
   "source": [
    "# merge con monedas\r\n",
    "funHist = funHist.merge(monedas, how = 'left', left_on = 'Fecha', right_on = 'Fecha')"
   ],
   "outputs": [],
   "metadata": {}
  },
  {
   "cell_type": "code",
   "execution_count": null,
   "source": [
    "# Calculo de remuneración bruta mensual en pesos reales\r\n",
    "funHist['RemBrutaPesosReal'] = 0\r\n",
    "funHist.loc[funHist['Tipo Unidad monetaria']=='Pesos', 'RemBrutaPesosReal'] = funHist['remuneracionbruta_mensual'] * funHist['factorIPC']\r\n",
    "funHist.loc[funHist['Tipo Unidad monetaria']=='Dólares', 'RemBrutaPesosReal'] = funHist['remuneracionbruta_mensual'] * funHist['factorIPC'] * funHist['Dolar']\r\n",
    "funHist.loc[funHist['Tipo Unidad monetaria']=='UTM', 'RemBrutaPesosReal'] = funHist['remuneracionbruta_mensual'] * funHist['factorIPC'] * funHist['UTM']\r\n",
    "funHist.loc[funHist['Tipo Unidad monetaria']=='Miles de pesos', 'RemBrutaPesosReal'] = funHist['remuneracionbruta_mensual'] * funHist['factorIPC'] * 1000\r\n",
    "funHist.loc[funHist['Tipo Unidad monetaria']=='Euros', 'RemBrutaPesosReal'] = funHist['remuneracionbruta_mensual'] * funHist['factorIPC'] * funHist['Euro']\r\n",
    "funHist.loc[funHist['Tipo Unidad monetaria']=='UF', 'RemBrutaPesosReal'] = funHist['remuneracionbruta_mensual'] * funHist['factorIPC'] * funHist['CLF']\r\n"
   ],
   "outputs": [],
   "metadata": {
    "scrolled": true
   }
  },
  {
   "cell_type": "code",
   "execution_count": null,
   "source": [
    "# Calculo de montos de horas extrasmensual en pesos reales\r\n",
    "funHist['HEDiuReal'] = funHist['montoHExDiu'] * funHist['factorIPC']\r\n",
    "funHist['HENocReal'] = funHist['montoHExNoc'] * funHist['factorIPC']\r\n",
    "funHist['HEFesReal'] = funHist['montoHExFes'] * funHist['factorIPC']\r\n",
    "funHist['ViaticosReal'] = funHist['viaticos'] * funHist['factorIPC']\r\n",
    "funHist['HorasExtrasMontoReal'] = funHist['HEDiuReal'] + funHist['HENocReal'] + funHist['HEFesReal']\r\n",
    "funHist['HorasExtrasCantTotal'] = funHist['cantHExDiu'] + funHist['cantHExNoc'] + funHist['cantHExFes']\r\n"
   ],
   "outputs": [],
   "metadata": {}
  },
  {
   "cell_type": "code",
   "execution_count": null,
   "source": [
    "# Eliminamos las monedas a no ser usadas\r\n",
    "funHist = funHist.drop(columns = {'factorIPC', 'Dolar', 'UTM', 'Euro', 'CLF'})"
   ],
   "outputs": [],
   "metadata": {}
  },
  {
   "cell_type": "code",
   "execution_count": null,
   "source": [
    "funHist['Regimen'] = funHist['Regimen'].astype('category')\r\n",
    "funHist['Tipo Estamento'] = funHist['Tipo Estamento'].astype('category')\r\n",
    "funHist['Tipo Unidad monetaria'] = funHist['Tipo Unidad monetaria'].astype('category')\r\n",
    "funHist['Tipo cargo'] = funHist['Tipo cargo'].astype('category')\r\n",
    "funHist['asignaciones'] = funHist['asignaciones'].astype('category')\r\n",
    "funHist['descripcion_funcion'] = funHist['descripcion_funcion'].astype('category')\r\n",
    "funHist['fecha_ingreso'] = pd.to_datetime(funHist['fecha_ingreso'])\r\n",
    "funHist['fecha_publicacion'] = pd.to_datetime(funHist['fecha_publicacion'])\r\n",
    "funHist['fecha_termino'] = pd.to_datetime(funHist['fecha_termino'])\r\n",
    "funHist['grado_eus'] = funHist['grado_eus'].astype('category')\r\n",
    "funHist['nombre'] = funHist['nombre'].astype('category')\r\n",
    "funHist['organismo_codigo'] = funHist['organismo_codigo'].astype('category')\r\n",
    "funHist['organismo_nombre'] = funHist['organismo_nombre'].astype('category')\r\n",
    "funHist['pago_mensuales'] = funHist['pago_mensuales'].astype('category')\r\n",
    "funHist['region'] = funHist['region'].astype('category')\r\n",
    "funHist['tipo_calificacionp'] = funHist['tipo_calificacionp'].astype('category')\r\n",
    "funHist['mesN'] = funHist['mesN'].astype('category')\r\n",
    "funHist['Fecha'] = funHist['Fecha'].astype('category')\r\n",
    "funHist['RemBrutaPesosReal'] = funHist['RemBrutaPesosReal'].astype(float)"
   ],
   "outputs": [],
   "metadata": {}
  },
  {
   "cell_type": "code",
   "execution_count": null,
   "source": [
    "funHist2 = funHist.copy()"
   ],
   "outputs": [],
   "metadata": {}
  },
  {
   "cell_type": "markdown",
   "source": [
    "### Respaldo de lo trabajado en bbdd"
   ],
   "metadata": {}
  },
  {
   "cell_type": "code",
   "execution_count": null,
   "source": [
    "import sqlalchemy as sa\r\n",
    "import vertica_python\r\n",
    "from sqlalchemy import event\r\n",
    "\r\n",
    "engine2 = sa.create_engine('vertica+vertica_python://dbadmin:1@192.168.2.2:5433/chc')\r\n",
    "\r\n",
    "@event.listens_for(engine2, \"before_cursor_execute\")\r\n",
    "def receive_before_cursor_execute(\r\n",
    "       conn, cursor, statement, params, context, executemany\r\n",
    "        ):\r\n",
    "            if executemany:\r\n",
    "                cursor.fast_executemany = True"
   ],
   "outputs": [],
   "metadata": {}
  },
  {
   "cell_type": "markdown",
   "source": [
    "### Tabla de Servicios"
   ],
   "metadata": {}
  },
  {
   "cell_type": "code",
   "execution_count": null,
   "source": [
    "funHist2.info()"
   ],
   "outputs": [
    {
     "output_type": "stream",
     "name": "stdout",
     "text": [
      "<class 'pandas.core.frame.DataFrame'>\n",
      "Int64Index: 35064494 entries, 0 to 35064493\n",
      "Data columns (total 40 columns):\n",
      " #   Column                    Dtype         \n",
      "---  ------                    -----         \n",
      " 0   cantHExDiu                float64       \n",
      " 1   cantHExFes                float64       \n",
      " 2   cantHExNoc                float64       \n",
      " 3   Materno                   object        \n",
      " 4   Mes                       object        \n",
      " 5   Nombres                   object        \n",
      " 6   montoHExDiu               float64       \n",
      " 7   montoHExFes               float64       \n",
      " 8   montoHExNoc               float64       \n",
      " 9   Paterno                   object        \n",
      " 10  Regimen                   category      \n",
      " 11  TipoEstamento             category      \n",
      " 12  TipoUnidadMonetaria       category      \n",
      " 13  TipoCargo                 category      \n",
      " 14  Unnamed: 0                int64         \n",
      " 15  activado                  object        \n",
      " 16  anyo                      int64         \n",
      " 17  asignaciones              category      \n",
      " 18  DescripcionFuncion        category      \n",
      " 19  FechaIngreso              datetime64[ns]\n",
      " 20  FechaPublicacion          datetime64[ns]\n",
      " 21  FechaTermino              datetime64[ns]\n",
      " 22  GradoEus                  category      \n",
      " 23  OrganismoCodigo           category      \n",
      " 24  OrganismoNombre           category      \n",
      " 25  PagoMensuales             category      \n",
      " 26  region                    category      \n",
      " 27  remuneracionbrutamensual  int64         \n",
      " 28  TipoCalificacionp         category      \n",
      " 29  viaticos                  float64       \n",
      " 30  nombre                    category      \n",
      " 31  mesN                      category      \n",
      " 32  Fecha                     category      \n",
      " 33  RemBrutaPesosReal         float64       \n",
      " 34  HEDiuReal                 float64       \n",
      " 35  HENocReal                 float64       \n",
      " 36  HEFesReal                 float64       \n",
      " 37  ViaticosReal              float64       \n",
      " 38  HorasExtrasMontoReal      float64       \n",
      " 39  HorasExtrasCantTotal      float64       \n",
      "dtypes: category(15), datetime64[ns](3), float64(14), int64(3), object(5)\n",
      "memory usage: 9.0+ GB\n"
     ]
    }
   ],
   "metadata": {}
  },
  {
   "cell_type": "code",
   "execution_count": null,
   "source": [
    "funHist2 = funHist2.rename(columns = {'Tipo Estamento':'TipoEstamento', 'Tipo Unidad monetaria':'TipoUnidadMonetaria', \r\n",
    "                                     'Tipo cargo': 'TipoCargo', 'descripcion_funcion':'DescripcionFuncion',\r\n",
    "                                     'fecha_ingreso': 'FechaIngreso', 'fecha_publicacion':'FechaPublicacion',\r\n",
    "                                     'fecha_termino':'FechaTermino', 'grado_eus':'GradoEus', 'organismo_codigo':'OrganismoCodigo',\r\n",
    "                                     'organismo_nombre':'OrganismoNombre', 'pago_mensuales':'PagoMensuales',\r\n",
    "                                     'tipo_calificacionp':'TipoCalificacionp', 'remuneracionbruta_mensual':'remuneracionbrutamensual', 'Unnamed: 0':'indice'})"
   ],
   "outputs": [],
   "metadata": {}
  },
  {
   "cell_type": "code",
   "execution_count": null,
   "source": [
    "funHist2.to_sql(name='full', con=engine2, if_exists = 'replace', index=False ,chunksize = 60000, schema = 'funcionarios',\r\n",
    "               dtype={'Mes': sa.types.VARCHAR(50),\r\n",
    "                      'Regimen': sa.types.VARCHAR(50),\r\n",
    "                      'TipoEstamento': sa.types.VARCHAR(255),\r\n",
    "                      'TipoUnidadMonetaria': sa.types.VARCHAR(50),\r\n",
    "                      'TipoCargo': sa.types.VARCHAR(255),\r\n",
    "                      'asignaciones': sa.types.VARCHAR(2500),\r\n",
    "                      'DescripcionFuncion': sa.types.VARCHAR(8000),\r\n",
    "                      'FechaIngreso': sa.types.VARCHAR(50),\r\n",
    "                      'FechaPublicacion': sa.types.VARCHAR(50),\r\n",
    "                      'FechaTermino': sa.types.VARCHAR(50),\r\n",
    "                      'GradoEus': sa.types.VARCHAR(255),\r\n",
    "                      'Nombres': sa.types.VARCHAR(500),\r\n",
    "                      'Materno': sa.types.VARCHAR(500),\r\n",
    "                      'Paterno': sa.types.VARCHAR(500),\r\n",
    "                      'OrganismoCodigo': sa.types.VARCHAR(50),\r\n",
    "                      'OrganismoNombre': sa.types.VARCHAR(255),\r\n",
    "                      'PagoMensuales': sa.types.VARCHAR(255),\r\n",
    "                      'region': sa.types.VARCHAR(255),\r\n",
    "                      'TipoCalificacionp': sa.types.VARCHAR(2500),\r\n",
    "                      'Fecha': sa.types.VARCHAR(255),\r\n",
    "                      'mesN': sa.types.VARCHAR(50),\r\n",
    "                      'nombre': sa.types.VARCHAR(500),\r\n",
    "                      'activado': sa.types.VARCHAR(50)})"
   ],
   "outputs": [
    {
     "output_type": "error",
     "ename": "ProgrammingError",
     "evalue": "(vertica_python.errors.InsufficientResources) Severity: ERROR, Message: Too many ROS containers exist for the following projections: \nfuncionarios.full_super (limit = 41984, ROS files = 41984, DV files = 0, new files = 41), Sqlstate: 53000, Hint: Please wait for the tuple mover to catch up.  Use 'select * from v_monitor.tuple_mover_operations;' to monitor, Routine: Exec_preparePlanForLaunch, File: /data/qb_workspaces/jenkins2/ReleaseBuilds/Grader/REL-9_2_1-x_grader/build/vertica/Dist/Dist.cpp, Line: 2009, Error Code: 5065, SQL: 'COPY funcionarios.\"full\" (cantHExDiu,cantHExFes,cantHExNoc,Materno,Mes,Nombres,montoHExDiu,montoHExFes,montoHExNoc,Paterno,Regimen,TipoEstamento,TipoUnidadMonetaria,TipoCargo,indice,activado,anyo,asignaciones,DescripcionFuncion,FechaIngreso,FechaPublicacion,FechaTermino,GradoEus,OrganismoCodigo,OrganismoNombre,PagoMensuales,region,remuneracionbrutamensual,TipoCalificacionp,viaticos,nombre,mesN,Fecha,RemBrutaPesosReal,HEDiuReal,HENocReal,HEFesReal,ViaticosReal,HorasExtrasMontoReal,HorasExtrasCantTotal) FROM STDIN DELIMITER \\',\\' ENCLOSED BY \\'\"\\' ENFORCELENGTH ABORT ON ERROR NO COMMIT'\n[SQL: INSERT INTO funcionarios.\"full\" (\"cantHExDiu\", \"cantHExFes\", \"cantHExNoc\", \"Materno\", \"Mes\", \"Nombres\", \"montoHExDiu\", \"montoHExFes\", \"montoHExNoc\", \"Paterno\", \"Regimen\", \"TipoEstamento\", \"TipoUnidadMonetaria\", \"TipoCargo\", indice, activado, anyo, asignaciones, \"DescripcionFuncion\", \"FechaIngreso\", \"FechaPublicacion\", \"FechaTermino\", \"GradoEus\", \"OrganismoCodigo\", \"OrganismoNombre\", \"PagoMensuales\", region, remuneracionbrutamensual, \"TipoCalificacionp\", viaticos, nombre, \"mesN\", \"Fecha\", \"RemBrutaPesosReal\", \"HEDiuReal\", \"HENocReal\", \"HEFesReal\", \"ViaticosReal\", \"HorasExtrasMontoReal\", \"HorasExtrasCantTotal\") VALUES (:cantHExDiu, :cantHExFes, :cantHExNoc, :Materno, :Mes, :Nombres, :montoHExDiu, :montoHExFes, :montoHExNoc, :Paterno, :Regimen, :TipoEstamento, :TipoUnidadMonetaria, :TipoCargo, :indice, :activado, :anyo, :asignaciones, :DescripcionFuncion, :FechaIngreso, :FechaPublicacion, :FechaTermino, :GradoEus, :OrganismoCodigo, :OrganismoNombre, :PagoMensuales, :region, :remuneracionbrutamensual, :TipoCalificacionp, :viaticos, :nombre, :mesN, :Fecha, :RemBrutaPesosReal, :HEDiuReal, :HENocReal, :HEFesReal, :ViaticosReal, :HorasExtrasMontoReal, :HorasExtrasCantTotal)]\n[parameters: ({'cantHExDiu': 0.0, 'cantHExFes': 0.0, 'cantHExNoc': 0.0, 'Materno': 'TRIVIÑO', 'Mes': 'Enero', 'Nombres': 'DANIELA PAZ', 'montoHExDiu': 0.0, 'montoHExFes': 0.0, 'montoHExNoc': 0.0, 'Paterno': 'CORTEZ', 'Regimen': 'Contrata', 'TipoEstamento': 'Profesional', 'TipoUnidadMonetaria': 'Pesos', 'TipoCargo': 'Abogado', 'indice': 1019145, 'activado': 'SÍ', 'anyo': 2019, 'asignaciones': '(07)(71)(75)(76)(131)(165)(166)', 'DescripcionFuncion': None, 'FechaIngreso': datetime.datetime(2016, 1, 1, 0, 0), 'FechaPublicacion': datetime.datetime(2021, 7, 30, 0, 0), 'FechaTermino': datetime.datetime(2019, 12, 31, 0, 0), 'GradoEus': 13, 'OrganismoCodigo': 'AK004', 'OrganismoNombre': 'Servicio Nacional De Menores (Sename)', 'PagoMensuales': None, 'region': 'Región Metropolitana De Santiago', 'remuneracionbrutamensual': 1578502, 'TipoCalificacionp': 'Abogadoa', 'viaticos': None, 'nombre': 'Daniela Paz', 'mesN': '01', 'Fecha': '2019-01', 'RemBrutaPesosReal': 1669167.3175519647, 'HEDiuReal': 0.0, 'HENocReal': 0.0, 'HEFesReal': 0.0, 'ViaticosReal': None, 'HorasExtrasMontoReal': 0.0, 'HorasExtrasCantTotal': 0.0}, {'cantHExDiu': 0.0, 'cantHExFes': 0.0, 'cantHExNoc': 0.0, 'Materno': 'SAN FRANCISC', 'Mes': 'Enero', 'Nombres': 'ELSA DE LAS MERCEDES', 'montoHExDiu': 0.0, 'montoHExFes': 0.0, 'montoHExNoc': 0.0, 'Paterno': 'CORTEZ', 'Regimen': 'Contrata', 'TipoEstamento': 'Técnico', 'TipoUnidadMonetaria': 'Pesos', 'TipoCargo': 'Encargadoa Oirs', 'indice': 1019146, 'activado': 'SÍ', 'anyo': 2019, 'asignaciones': '(07)(37)(51)(71)(75)(76)(131)(166)(221)', 'DescripcionFuncion': None, 'FechaIngreso': datetime.datetime(2007, 2, 2, 0, 0), 'FechaPublicacion': datetime.datetime(2021, 7, 30, 0, 0), 'FechaTermino': datetime.datetime(2019, 12, 31, 0, 0), 'GradoEus': 12, 'OrganismoCodigo': 'AK004', 'OrganismoNombre': 'Servicio Nacional De Menores (Sename)', 'PagoMensuales': None, 'region': 'Región De Arica Y Parinacota', 'remuneracionbrutamensual': 1966441, 'TipoCalificacionp': 'Trabajadora Social', 'viaticos': None, 'nombre': 'Elsa De Las Mercedes', 'mesN': '01', 'Fecha': '2019-01', 'RemBrutaPesosReal': 2079388.5906347935, 'HEDiuReal': 0.0, 'HENocReal': 0.0, 'HEFesReal': 0.0, 'ViaticosReal': None, 'HorasExtrasMontoReal': 0.0, 'HorasExtrasCantTotal': 0.0}, {'cantHExDiu': 0.0, 'cantHExFes': 0.0, 'cantHExNoc': 0.0, 'Materno': 'ONETO', 'Mes': 'Enero', 'Nombres': 'MARLENE ANDREA', 'montoHExDiu': 0.0, 'montoHExFes': 0.0, 'montoHExNoc': 0.0, 'Paterno': 'CORTEZ', 'Regimen': 'Contrata', 'TipoEstamento': 'Auxiliar', 'TipoUnidadMonetaria': 'Pesos', 'TipoCargo': 'Auxiliar De Lavanderiaroperia', 'indice': 1019147, 'activado': 'SÍ', 'anyo': 2019, 'asignaciones': '(07)(54)(71)(75)(76)(131)(165)', 'DescripcionFuncion': None, 'FechaIngreso': datetime.datetime(2016, 8, 1, 0, 0), 'FechaPublicacion': datetime.datetime(2021, 7, 30, 0, 0), 'FechaTermino': datetime.datetime(2019, 12, 31, 0, 0), 'GradoEus': 21, 'OrganismoCodigo': 'AK004', 'OrganismoNombre': 'Servicio Nacional De Menores (Sename)', 'PagoMensuales': None, 'region': 'Región Metropolitana De Santiago', 'remuneracionbrutamensual': 675350, 'TipoCalificacionp': 'Educacion Media', 'viaticos': None, 'nombre': 'Marlene Andrea', 'mesN': '01', 'Fecha': '2019-01', 'RemBrutaPesosReal': 714140.4622285682, 'HEDiuReal': 0.0, 'HENocReal': 0.0, 'HEFesReal': 0.0, 'ViaticosReal': None, 'HorasExtrasMontoReal': 0.0, 'HorasExtrasCantTotal': 0.0}, {'cantHExDiu': 0.0, 'cantHExFes': 0.0, 'cantHExNoc': 0.0, 'Materno': 'MEZA', 'Mes': 'Enero', 'Nombres': 'ROSSANA ISABEL', 'montoHExDiu': 0.0, 'montoHExFes': 0.0, 'montoHExNoc': 0.0, 'Paterno': 'CORTEZ', 'Regimen': 'Contrata', 'TipoEstamento': 'Profesional', 'TipoUnidadMonetaria': 'Pesos', 'TipoCargo': 'Gestor De Redes', 'indice': 1019148, 'activado': 'SÍ', 'anyo': 2019, 'asignaciones': '(07)(37)(71)(75)(76)(131)(165)(166)', 'DescripcionFuncion': None, 'FechaIngreso': datetime.datetime(2009, 11, 23, 0, 0), 'FechaPublicacion': datetime.datetime(2021, 7, 30, 0, 0), 'FechaTermino': datetime.datetime(2019, 12, 31, 0, 0), 'GradoEus': 11, 'OrganismoCodigo': 'AK004', 'OrganismoNombre': 'Servicio Nacional De Menores (Sename)', 'PagoMensuales': None, 'region': 'Región De Coquimbo', 'remuneracionbrutamensual': 1918884, 'TipoCalificacionp': 'Trabajadora Social', 'viaticos': None, 'nombre': 'Rossana Isabel', 'mesN': '01', 'Fecha': '2019-01', 'RemBrutaPesosReal': 2029100.0321655495, 'HEDiuReal': 0.0, 'HENocReal': 0.0, 'HEFesReal': 0.0, 'ViaticosReal': None, 'HorasExtrasMontoReal': 0.0, 'HorasExtrasCantTotal': 0.0}, {'cantHExDiu': 0.0, 'cantHExFes': 0.0, 'cantHExNoc': 0.0, 'Materno': 'BOSCH', 'Mes': 'Enero', 'Nombres': 'LUIS ALBERTO', 'montoHExDiu': 0.0, 'montoHExFes': 0.0, 'montoHExNoc': 0.0, 'Paterno': 'CORTEZ', 'Regimen': 'Contrata', 'TipoEstamento': 'Profesional', 'TipoUnidadMonetaria': 'Pesos', 'TipoCargo': 'Monitora De Taller', 'indice': 1019149, 'activado': 'SÍ', 'anyo': 2019, 'asignaciones': '(07)(71)(75)(76)(131)(165)(166)', 'DescripcionFuncion': None, 'FechaIngreso': datetime.datetime(1991, 3, 1, 0, 0), 'FechaPublicacion': datetime.datetime(2021, 7, 30, 0, 0), 'FechaTermino': datetime.datetime(2019, 12, 31, 0, 0), 'GradoEus': 11, 'OrganismoCodigo': 'AK004', 'OrganismoNombre': 'Servicio Nacional De Menores (Sename)', 'PagoMensuales': None, 'region': 'Región De Valparaíso', 'remuneracionbrutamensual': 1867308, 'TipoCalificacionp': 'Trabajadora Social', 'viaticos': None, 'nombre': 'Luis Alberto', 'mesN': '01', 'Fecha': '2019-01', 'RemBrutaPesosReal': 1974561.632106468, 'HEDiuReal': 0.0, 'HENocReal': 0.0, 'HEFesReal': 0.0, 'ViaticosReal': None, 'HorasExtrasMontoReal': 0.0, 'HorasExtrasCantTotal': 0.0}, {'cantHExDiu': 0.0, 'cantHExFes': 0.0, 'cantHExNoc': 0.0, 'Materno': 'BOSCH', 'Mes': 'Enero', 'Nombres': 'JULIA DORIS', 'montoHExDiu': 0.0, 'montoHExFes': 666044.0, 'montoHExNoc': 0.0, 'Paterno': 'CORTEZ', 'Regimen': 'Contrata', 'TipoEstamento': 'Técnico', 'TipoUnidadMonetaria': 'Pesos', 'TipoCargo': 'Etd Rotativo', 'indice': 1019150, 'activado': 'SÍ', 'anyo': 2019, 'asignaciones': '(07)(37)(51)(71)(75)(76)(131)(166)(221)', 'DescripcionFuncion': None, 'FechaIngreso': datetime.datetime(1996, 1, 2, 0, 0), 'FechaPublicacion': datetime.datetime(2021, 7, 30, 0, 0), 'FechaTermino': datetime.datetime(2019, 12, 31, 0, 0), 'GradoEus': 13, 'OrganismoCodigo': 'AK004', 'OrganismoNombre': 'Servicio Nacional De Menores (Sename)', 'PagoMensuales': None, 'region': 'Región De Arica Y Parinacota', 'remuneracionbrutamensual': 2469468, 'TipoCalificacionp': 'Planificador Social', 'viaticos': None, 'nombre': 'Julia Doris', 'mesN': '01', 'Fecha': '2019-01', 'RemBrutaPesosReal': 2611308.2386594475, 'HEDiuReal': 0.0, 'HENocReal': 0.0, 'HEFesReal': 704299.9482113933, 'ViaticosReal': None, 'HorasExtrasMontoReal': 704299.9482113933, 'HorasExtrasCantTotal': 0.0}, {'cantHExDiu': 0.0, 'cantHExFes': 0.0, 'cantHExNoc': 0.0, 'Materno': 'VEGA', 'Mes': 'Enero', 'Nombres': 'KARINA ANDREA', 'montoHExDiu': 0.0, 'montoHExFes': 0.0, 'montoHExNoc': 0.0, 'Paterno': 'CORTES', 'Regimen': 'Contrata', 'TipoEstamento': 'Administrativo', 'TipoUnidadMonetaria': 'Pesos', 'TipoCargo': 'Encargadoa Contabpresupuesto', 'indice': 1019151, 'activado': 'SÍ', 'anyo': 2019, 'asignaciones': '(07)(37)(75)(76)(131)(165)', 'DescripcionFuncion': None, 'FechaIngreso': datetime.datetime(2018, 8, 27, 0, 0), 'FechaPublicacion': datetime.datetime(2021, 7, 30, 0, 0), 'FechaTermino': datetime.datetime(2019, 1, 23, 0, 0), 'GradoEus': 18, 'OrganismoCodigo': 'AK004', 'OrganismoNombre': 'Servicio Nacional De Menores (Sename)', 'PagoMensuales': None, 'region': 'Región De Coquimbo', 'remuneracionbrutamensual': 518495, 'TipoCalificacionp': 'Educacion Media', 'viaticos': None, 'nombre': 'Karina Andrea', 'mesN': '01', 'Fecha': '2019-01', 'RemBrutaPesosReal': 548276.092342047, 'HEDiuReal': 0.0, 'HENocReal': 0.0, 'HEFesReal': 0.0, 'ViaticosReal': None, 'HorasExtrasMontoReal': 0.0, 'HorasExtrasCantTotal': 0.0}, {'cantHExDiu': 0.0, 'cantHExFes': 0.0, 'cantHExNoc': 0.0, 'Materno': 'TRONCOSO', 'Mes': 'Enero', 'Nombres': 'JUAN MANUEL', 'montoHExDiu': 0.0, 'montoHExFes': 0.0, 'montoHExNoc': 0.0, 'Paterno': 'CORTES', 'Regimen': 'Contrata', 'TipoEstamento': 'Administrativo', 'TipoUnidadMonetaria': 'Pesos', 'TipoCargo': 'Administrativo De Linea', 'indice': 1019152, 'activado': 'SÍ', 'anyo': 2019, 'asignaciones': '(07)(71)(75)(76)(131)(165)', 'DescripcionFuncion': None, 'FechaIngreso': datetime.datetime(2016, 1, 1, 0, 0), 'FechaPublicacion': datetime.datetime(2021, 7, 30, 0, 0), 'FechaTermino': datetime.datetime(2019, 3, 31, 0, 0), 'GradoEus': 14, 'OrganismoCodigo': 'AK004', 'OrganismoNombre': 'Servicio Nacional De Menores (Sename)', 'PagoMensuales': None, 'region': 'Región Metropolitana De Santiago', 'remuneracionbrutamensual': 916776, 'TipoCalificacionp': 'Educacion Media', 'viaticos': None, 'nombre': 'Juan Manuel', 'mesN': '01', 'Fecha': '2019-01', 'RemBrutaPesosReal': 969433.3847635416, 'HEDiuReal': 0.0, 'HENocReal': 0.0, 'HEFesReal': 0.0, 'ViaticosReal': None, 'HorasExtrasMontoReal': 0.0, 'HorasExtrasCantTotal': 0.0}  ... displaying 10 of 6000 total bound parameter sets ...  {'cantHExDiu': 0.0, 'cantHExFes': 0.0, 'cantHExNoc': 0.0, 'Materno': 'MONTERO', 'Mes': 'Abril', 'Nombres': 'ILSE LORENA', 'montoHExDiu': 0.0, 'montoHExFes': 0.0, 'montoHExNoc': 0.0, 'Paterno': 'ARDURA', 'Regimen': 'Contrata', 'TipoEstamento': 'Profesional', 'TipoUnidadMonetaria': 'Pesos', 'TipoCargo': 'Profesional De Linea', 'indice': 1025143, 'activado': 'SÍ', 'anyo': 2019, 'asignaciones': '(07)(75)(76)(131)(165)(166)', 'DescripcionFuncion': None, 'FechaIngreso': datetime.datetime(1998, 1, 19, 0, 0), 'FechaPublicacion': datetime.datetime(2021, 7, 30, 0, 0), 'FechaTermino': datetime.datetime(2019, 12, 31, 0, 0), 'GradoEus': 5, 'OrganismoCodigo': 'AK004', 'OrganismoNombre': 'Servicio Nacional De Menores (Sename)', 'PagoMensuales': None, 'region': 'Región Metropolitana De Santiago', 'remuneracionbrutamensual': 3096345, 'TipoCalificacionp': 'Periodista', 'viaticos': None, 'nombre': 'Ilse Lorena', 'mesN': '04', 'Fecha': '2019-04', 'RemBrutaPesosReal': 3248157.546867419, 'HEDiuReal': 0.0, 'HENocReal': 0.0, 'HEFesReal': 0.0, 'ViaticosReal': None, 'HorasExtrasMontoReal': 0.0, 'HorasExtrasCantTotal': 0.0}, {'cantHExDiu': 0.0, 'cantHExFes': 0.0, 'cantHExNoc': 0.0, 'Materno': 'VALENZUELA', 'Mes': 'Abril', 'Nombres': 'MANUEL ENRIQUE', 'montoHExDiu': 0.0, 'montoHExFes': 0.0, 'montoHExNoc': 0.0, 'Paterno': 'ARCOS', 'Regimen': 'Contrata', 'TipoEstamento': 'Profesional', 'TipoUnidadMonetaria': 'Pesos', 'TipoCargo': 'Supervisora Tecnico', 'indice': 1025144, 'activado': 'SÍ', 'anyo': 2019, 'asignaciones': '(07)(37)(75)(76)(131)(165)(166)', 'DescripcionFuncion': None, 'FechaIngreso': datetime.datetime(1999, 11, 22, 0, 0), 'FechaPublicacion': datetime.datetime(2021, 7, 30, 0, 0), 'FechaTermino': datetime.datetime(2019, 12, 31, 0, 0), 'GradoEus': 8, 'OrganismoCodigo': 'AK004', 'OrganismoNombre': 'Servicio Nacional De Menores (Sename)', 'PagoMensuales': None, 'region': 'Región Del Biobío', 'remuneracionbrutamensual': 2564302, 'TipoCalificacionp': 'Asistente Social', 'viaticos': None, 'nombre': 'Manuel Enrique', 'mesN': '04', 'Fecha': '2019-04', 'RemBrutaPesosReal': 2690028.69310339, 'HEDiuReal': 0.0, 'HENocReal': 0.0, 'HEFesReal': 0.0, 'ViaticosReal': None, 'HorasExtrasMontoReal': 0.0, 'HorasExtrasCantTotal': 0.0})]\n(Background on this error at: https://sqlalche.me/e/14/f405)",
     "traceback": [
      "\u001b[1;31m---------------------------------------------------------------------------\u001b[0m",
      "\u001b[1;31mInsufficientResources\u001b[0m                     Traceback (most recent call last)",
      "\u001b[1;32mC:\\ProgramData\\Anaconda3\\lib\\site-packages\\sqlalchemy\\engine\\base.py\u001b[0m in \u001b[0;36m_execute_context\u001b[1;34m(self, dialect, constructor, statement, parameters, execution_options, *args, **kw)\u001b[0m\n\u001b[0;32m   1750\u001b[0m                 \u001b[1;32mif\u001b[0m \u001b[1;32mnot\u001b[0m \u001b[0mevt_handled\u001b[0m\u001b[1;33m:\u001b[0m\u001b[1;33m\u001b[0m\u001b[1;33m\u001b[0m\u001b[0m\n\u001b[1;32m-> 1751\u001b[1;33m                     self.dialect.do_executemany(\n\u001b[0m\u001b[0;32m   1752\u001b[0m                         \u001b[0mcursor\u001b[0m\u001b[1;33m,\u001b[0m \u001b[0mstatement\u001b[0m\u001b[1;33m,\u001b[0m \u001b[0mparameters\u001b[0m\u001b[1;33m,\u001b[0m \u001b[0mcontext\u001b[0m\u001b[1;33m\u001b[0m\u001b[1;33m\u001b[0m\u001b[0m\n",
      "\u001b[1;32mC:\\ProgramData\\Anaconda3\\lib\\site-packages\\sqlalchemy\\engine\\default.py\u001b[0m in \u001b[0;36mdo_executemany\u001b[1;34m(self, cursor, statement, parameters, context)\u001b[0m\n\u001b[0;32m    713\u001b[0m     \u001b[1;32mdef\u001b[0m \u001b[0mdo_executemany\u001b[0m\u001b[1;33m(\u001b[0m\u001b[0mself\u001b[0m\u001b[1;33m,\u001b[0m \u001b[0mcursor\u001b[0m\u001b[1;33m,\u001b[0m \u001b[0mstatement\u001b[0m\u001b[1;33m,\u001b[0m \u001b[0mparameters\u001b[0m\u001b[1;33m,\u001b[0m \u001b[0mcontext\u001b[0m\u001b[1;33m=\u001b[0m\u001b[1;32mNone\u001b[0m\u001b[1;33m)\u001b[0m\u001b[1;33m:\u001b[0m\u001b[1;33m\u001b[0m\u001b[1;33m\u001b[0m\u001b[0m\n\u001b[1;32m--> 714\u001b[1;33m         \u001b[0mcursor\u001b[0m\u001b[1;33m.\u001b[0m\u001b[0mexecutemany\u001b[0m\u001b[1;33m(\u001b[0m\u001b[0mstatement\u001b[0m\u001b[1;33m,\u001b[0m \u001b[0mparameters\u001b[0m\u001b[1;33m)\u001b[0m\u001b[1;33m\u001b[0m\u001b[1;33m\u001b[0m\u001b[0m\n\u001b[0m\u001b[0;32m    715\u001b[0m \u001b[1;33m\u001b[0m\u001b[0m\n",
      "\u001b[1;32mC:\\ProgramData\\Anaconda3\\lib\\site-packages\\vertica_python\\vertica\\cursor.py\u001b[0m in \u001b[0;36mexecutemany\u001b[1;34m(self, operation, seq_of_parameters, use_prepared_statements)\u001b[0m\n\u001b[0;32m    272\u001b[0m \u001b[1;33m\u001b[0m\u001b[0m\n\u001b[1;32m--> 273\u001b[1;33m                 \u001b[0mself\u001b[0m\u001b[1;33m.\u001b[0m\u001b[0mcopy\u001b[0m\u001b[1;33m(\u001b[0m\u001b[0mcopy_statement\u001b[0m\u001b[1;33m,\u001b[0m \u001b[0mdata\u001b[0m\u001b[1;33m)\u001b[0m\u001b[1;33m\u001b[0m\u001b[1;33m\u001b[0m\u001b[0m\n\u001b[0m\u001b[0;32m    274\u001b[0m             \u001b[1;32melse\u001b[0m\u001b[1;33m:\u001b[0m\u001b[1;33m\u001b[0m\u001b[1;33m\u001b[0m\u001b[0m\n",
      "\u001b[1;32mC:\\ProgramData\\Anaconda3\\lib\\site-packages\\vertica_python\\vertica\\cursor.py\u001b[0m in \u001b[0;36mcopy\u001b[1;34m(self, sql, data, **kwargs)\u001b[0m\n\u001b[0;32m    434\u001b[0m             \u001b[1;32mif\u001b[0m \u001b[0misinstance\u001b[0m\u001b[1;33m(\u001b[0m\u001b[0mmessage\u001b[0m\u001b[1;33m,\u001b[0m \u001b[0mmessages\u001b[0m\u001b[1;33m.\u001b[0m\u001b[0mErrorResponse\u001b[0m\u001b[1;33m)\u001b[0m\u001b[1;33m:\u001b[0m\u001b[1;33m\u001b[0m\u001b[1;33m\u001b[0m\u001b[0m\n\u001b[1;32m--> 435\u001b[1;33m                 \u001b[1;32mraise\u001b[0m \u001b[0merrors\u001b[0m\u001b[1;33m.\u001b[0m\u001b[0mQueryError\u001b[0m\u001b[1;33m.\u001b[0m\u001b[0mfrom_error_response\u001b[0m\u001b[1;33m(\u001b[0m\u001b[0mmessage\u001b[0m\u001b[1;33m,\u001b[0m \u001b[0msql\u001b[0m\u001b[1;33m)\u001b[0m\u001b[1;33m\u001b[0m\u001b[1;33m\u001b[0m\u001b[0m\n\u001b[0m\u001b[0;32m    436\u001b[0m             \u001b[1;32melif\u001b[0m \u001b[0misinstance\u001b[0m\u001b[1;33m(\u001b[0m\u001b[0mmessage\u001b[0m\u001b[1;33m,\u001b[0m \u001b[0mmessages\u001b[0m\u001b[1;33m.\u001b[0m\u001b[0mReadyForQuery\u001b[0m\u001b[1;33m)\u001b[0m\u001b[1;33m:\u001b[0m\u001b[1;33m\u001b[0m\u001b[1;33m\u001b[0m\u001b[0m\n",
      "\u001b[1;31mInsufficientResources\u001b[0m: Severity: ERROR, Message: Too many ROS containers exist for the following projections: \nfuncionarios.full_super (limit = 41984, ROS files = 41984, DV files = 0, new files = 41), Sqlstate: 53000, Hint: Please wait for the tuple mover to catch up.  Use 'select * from v_monitor.tuple_mover_operations;' to monitor, Routine: Exec_preparePlanForLaunch, File: /data/qb_workspaces/jenkins2/ReleaseBuilds/Grader/REL-9_2_1-x_grader/build/vertica/Dist/Dist.cpp, Line: 2009, Error Code: 5065, SQL: 'COPY funcionarios.\"full\" (cantHExDiu,cantHExFes,cantHExNoc,Materno,Mes,Nombres,montoHExDiu,montoHExFes,montoHExNoc,Paterno,Regimen,TipoEstamento,TipoUnidadMonetaria,TipoCargo,indice,activado,anyo,asignaciones,DescripcionFuncion,FechaIngreso,FechaPublicacion,FechaTermino,GradoEus,OrganismoCodigo,OrganismoNombre,PagoMensuales,region,remuneracionbrutamensual,TipoCalificacionp,viaticos,nombre,mesN,Fecha,RemBrutaPesosReal,HEDiuReal,HENocReal,HEFesReal,ViaticosReal,HorasExtrasMontoReal,HorasExtrasCantTotal) FROM STDIN DELIMITER \\',\\' ENCLOSED BY \\'\"\\' ENFORCELENGTH ABORT ON ERROR NO COMMIT'",
      "\nThe above exception was the direct cause of the following exception:\n",
      "\u001b[1;31mProgrammingError\u001b[0m                          Traceback (most recent call last)",
      "\u001b[1;32m<ipython-input-79-81503e7e025c>\u001b[0m in \u001b[0;36m<module>\u001b[1;34m\u001b[0m\n\u001b[1;32m----> 1\u001b[1;33m funHist2.to_sql(name='full', con=engine2, if_exists = 'replace', index=False ,chunksize = 6000, schema = 'funcionarios',\n\u001b[0m\u001b[0;32m      2\u001b[0m                dtype={'Mes': sa.types.VARCHAR(50),\n\u001b[0;32m      3\u001b[0m                       \u001b[1;34m'Regimen'\u001b[0m\u001b[1;33m:\u001b[0m \u001b[0msa\u001b[0m\u001b[1;33m.\u001b[0m\u001b[0mtypes\u001b[0m\u001b[1;33m.\u001b[0m\u001b[0mVARCHAR\u001b[0m\u001b[1;33m(\u001b[0m\u001b[1;36m50\u001b[0m\u001b[1;33m)\u001b[0m\u001b[1;33m,\u001b[0m\u001b[1;33m\u001b[0m\u001b[1;33m\u001b[0m\u001b[0m\n\u001b[0;32m      4\u001b[0m                       \u001b[1;34m'TipoEstamento'\u001b[0m\u001b[1;33m:\u001b[0m \u001b[0msa\u001b[0m\u001b[1;33m.\u001b[0m\u001b[0mtypes\u001b[0m\u001b[1;33m.\u001b[0m\u001b[0mVARCHAR\u001b[0m\u001b[1;33m(\u001b[0m\u001b[1;36m255\u001b[0m\u001b[1;33m)\u001b[0m\u001b[1;33m,\u001b[0m\u001b[1;33m\u001b[0m\u001b[1;33m\u001b[0m\u001b[0m\n\u001b[0;32m      5\u001b[0m                       \u001b[1;34m'TipoUnidadMonetaria'\u001b[0m\u001b[1;33m:\u001b[0m \u001b[0msa\u001b[0m\u001b[1;33m.\u001b[0m\u001b[0mtypes\u001b[0m\u001b[1;33m.\u001b[0m\u001b[0mVARCHAR\u001b[0m\u001b[1;33m(\u001b[0m\u001b[1;36m50\u001b[0m\u001b[1;33m)\u001b[0m\u001b[1;33m,\u001b[0m\u001b[1;33m\u001b[0m\u001b[1;33m\u001b[0m\u001b[0m\n",
      "\u001b[1;32mC:\\ProgramData\\Anaconda3\\lib\\site-packages\\pandas\\core\\generic.py\u001b[0m in \u001b[0;36mto_sql\u001b[1;34m(self, name, con, schema, if_exists, index, index_label, chunksize, dtype, method)\u001b[0m\n\u001b[0;32m   2867\u001b[0m         \u001b[1;32mfrom\u001b[0m \u001b[0mpandas\u001b[0m\u001b[1;33m.\u001b[0m\u001b[0mio\u001b[0m \u001b[1;32mimport\u001b[0m \u001b[0msql\u001b[0m\u001b[1;33m\u001b[0m\u001b[1;33m\u001b[0m\u001b[0m\n\u001b[0;32m   2868\u001b[0m \u001b[1;33m\u001b[0m\u001b[0m\n\u001b[1;32m-> 2869\u001b[1;33m         sql.to_sql(\n\u001b[0m\u001b[0;32m   2870\u001b[0m             \u001b[0mself\u001b[0m\u001b[1;33m,\u001b[0m\u001b[1;33m\u001b[0m\u001b[1;33m\u001b[0m\u001b[0m\n\u001b[0;32m   2871\u001b[0m             \u001b[0mname\u001b[0m\u001b[1;33m,\u001b[0m\u001b[1;33m\u001b[0m\u001b[1;33m\u001b[0m\u001b[0m\n",
      "\u001b[1;32mC:\\ProgramData\\Anaconda3\\lib\\site-packages\\pandas\\io\\sql.py\u001b[0m in \u001b[0;36mto_sql\u001b[1;34m(frame, name, con, schema, if_exists, index, index_label, chunksize, dtype, method, engine, **engine_kwargs)\u001b[0m\n\u001b[0;32m    715\u001b[0m         )\n\u001b[0;32m    716\u001b[0m \u001b[1;33m\u001b[0m\u001b[0m\n\u001b[1;32m--> 717\u001b[1;33m     pandas_sql.to_sql(\n\u001b[0m\u001b[0;32m    718\u001b[0m         \u001b[0mframe\u001b[0m\u001b[1;33m,\u001b[0m\u001b[1;33m\u001b[0m\u001b[1;33m\u001b[0m\u001b[0m\n\u001b[0;32m    719\u001b[0m         \u001b[0mname\u001b[0m\u001b[1;33m,\u001b[0m\u001b[1;33m\u001b[0m\u001b[1;33m\u001b[0m\u001b[0m\n",
      "\u001b[1;32mC:\\ProgramData\\Anaconda3\\lib\\site-packages\\pandas\\io\\sql.py\u001b[0m in \u001b[0;36mto_sql\u001b[1;34m(self, frame, name, if_exists, index, index_label, schema, chunksize, dtype, method, engine, **engine_kwargs)\u001b[0m\n\u001b[0;32m   1759\u001b[0m         )\n\u001b[0;32m   1760\u001b[0m \u001b[1;33m\u001b[0m\u001b[0m\n\u001b[1;32m-> 1761\u001b[1;33m         sql_engine.insert_records(\n\u001b[0m\u001b[0;32m   1762\u001b[0m             \u001b[0mtable\u001b[0m\u001b[1;33m=\u001b[0m\u001b[0mtable\u001b[0m\u001b[1;33m,\u001b[0m\u001b[1;33m\u001b[0m\u001b[1;33m\u001b[0m\u001b[0m\n\u001b[0;32m   1763\u001b[0m             \u001b[0mcon\u001b[0m\u001b[1;33m=\u001b[0m\u001b[0mself\u001b[0m\u001b[1;33m.\u001b[0m\u001b[0mconnectable\u001b[0m\u001b[1;33m,\u001b[0m\u001b[1;33m\u001b[0m\u001b[1;33m\u001b[0m\u001b[0m\n",
      "\u001b[1;32mC:\\ProgramData\\Anaconda3\\lib\\site-packages\\pandas\\io\\sql.py\u001b[0m in \u001b[0;36minsert_records\u001b[1;34m(self, table, con, frame, name, index, schema, chunksize, method, **engine_kwargs)\u001b[0m\n\u001b[0;32m   1348\u001b[0m                 \u001b[1;32mraise\u001b[0m \u001b[0mValueError\u001b[0m\u001b[1;33m(\u001b[0m\u001b[1;34m\"inf cannot be used with MySQL\"\u001b[0m\u001b[1;33m)\u001b[0m \u001b[1;32mfrom\u001b[0m \u001b[0merr\u001b[0m\u001b[1;33m\u001b[0m\u001b[1;33m\u001b[0m\u001b[0m\n\u001b[0;32m   1349\u001b[0m             \u001b[1;32melse\u001b[0m\u001b[1;33m:\u001b[0m\u001b[1;33m\u001b[0m\u001b[1;33m\u001b[0m\u001b[0m\n\u001b[1;32m-> 1350\u001b[1;33m                 \u001b[1;32mraise\u001b[0m \u001b[0merr\u001b[0m\u001b[1;33m\u001b[0m\u001b[1;33m\u001b[0m\u001b[0m\n\u001b[0m\u001b[0;32m   1351\u001b[0m \u001b[1;33m\u001b[0m\u001b[0m\n\u001b[0;32m   1352\u001b[0m \u001b[1;33m\u001b[0m\u001b[0m\n",
      "\u001b[1;32mC:\\ProgramData\\Anaconda3\\lib\\site-packages\\pandas\\io\\sql.py\u001b[0m in \u001b[0;36minsert_records\u001b[1;34m(self, table, con, frame, name, index, schema, chunksize, method, **engine_kwargs)\u001b[0m\n\u001b[0;32m   1338\u001b[0m \u001b[1;33m\u001b[0m\u001b[0m\n\u001b[0;32m   1339\u001b[0m         \u001b[1;32mtry\u001b[0m\u001b[1;33m:\u001b[0m\u001b[1;33m\u001b[0m\u001b[1;33m\u001b[0m\u001b[0m\n\u001b[1;32m-> 1340\u001b[1;33m             \u001b[0mtable\u001b[0m\u001b[1;33m.\u001b[0m\u001b[0minsert\u001b[0m\u001b[1;33m(\u001b[0m\u001b[0mchunksize\u001b[0m\u001b[1;33m=\u001b[0m\u001b[0mchunksize\u001b[0m\u001b[1;33m,\u001b[0m \u001b[0mmethod\u001b[0m\u001b[1;33m=\u001b[0m\u001b[0mmethod\u001b[0m\u001b[1;33m)\u001b[0m\u001b[1;33m\u001b[0m\u001b[1;33m\u001b[0m\u001b[0m\n\u001b[0m\u001b[0;32m   1341\u001b[0m         \u001b[1;32mexcept\u001b[0m \u001b[0mexc\u001b[0m\u001b[1;33m.\u001b[0m\u001b[0mSQLAlchemyError\u001b[0m \u001b[1;32mas\u001b[0m \u001b[0merr\u001b[0m\u001b[1;33m:\u001b[0m\u001b[1;33m\u001b[0m\u001b[1;33m\u001b[0m\u001b[0m\n\u001b[0;32m   1342\u001b[0m             \u001b[1;31m# GH34431\u001b[0m\u001b[1;33m\u001b[0m\u001b[1;33m\u001b[0m\u001b[1;33m\u001b[0m\u001b[0m\n",
      "\u001b[1;32mC:\\ProgramData\\Anaconda3\\lib\\site-packages\\pandas\\io\\sql.py\u001b[0m in \u001b[0;36minsert\u001b[1;34m(self, chunksize, method)\u001b[0m\n\u001b[0;32m    965\u001b[0m \u001b[1;33m\u001b[0m\u001b[0m\n\u001b[0;32m    966\u001b[0m                 \u001b[0mchunk_iter\u001b[0m \u001b[1;33m=\u001b[0m \u001b[0mzip\u001b[0m\u001b[1;33m(\u001b[0m\u001b[1;33m*\u001b[0m\u001b[1;33m[\u001b[0m\u001b[0marr\u001b[0m\u001b[1;33m[\u001b[0m\u001b[0mstart_i\u001b[0m\u001b[1;33m:\u001b[0m\u001b[0mend_i\u001b[0m\u001b[1;33m]\u001b[0m \u001b[1;32mfor\u001b[0m \u001b[0marr\u001b[0m \u001b[1;32min\u001b[0m \u001b[0mdata_list\u001b[0m\u001b[1;33m]\u001b[0m\u001b[1;33m)\u001b[0m\u001b[1;33m\u001b[0m\u001b[1;33m\u001b[0m\u001b[0m\n\u001b[1;32m--> 967\u001b[1;33m                 \u001b[0mexec_insert\u001b[0m\u001b[1;33m(\u001b[0m\u001b[0mconn\u001b[0m\u001b[1;33m,\u001b[0m \u001b[0mkeys\u001b[0m\u001b[1;33m,\u001b[0m \u001b[0mchunk_iter\u001b[0m\u001b[1;33m)\u001b[0m\u001b[1;33m\u001b[0m\u001b[1;33m\u001b[0m\u001b[0m\n\u001b[0m\u001b[0;32m    968\u001b[0m \u001b[1;33m\u001b[0m\u001b[0m\n\u001b[0;32m    969\u001b[0m     def _query_iterator(\n",
      "\u001b[1;32mC:\\ProgramData\\Anaconda3\\lib\\site-packages\\pandas\\io\\sql.py\u001b[0m in \u001b[0;36m_execute_insert\u001b[1;34m(self, conn, keys, data_iter)\u001b[0m\n\u001b[0;32m    880\u001b[0m         \"\"\"\n\u001b[0;32m    881\u001b[0m         \u001b[0mdata\u001b[0m \u001b[1;33m=\u001b[0m \u001b[1;33m[\u001b[0m\u001b[0mdict\u001b[0m\u001b[1;33m(\u001b[0m\u001b[0mzip\u001b[0m\u001b[1;33m(\u001b[0m\u001b[0mkeys\u001b[0m\u001b[1;33m,\u001b[0m \u001b[0mrow\u001b[0m\u001b[1;33m)\u001b[0m\u001b[1;33m)\u001b[0m \u001b[1;32mfor\u001b[0m \u001b[0mrow\u001b[0m \u001b[1;32min\u001b[0m \u001b[0mdata_iter\u001b[0m\u001b[1;33m]\u001b[0m\u001b[1;33m\u001b[0m\u001b[1;33m\u001b[0m\u001b[0m\n\u001b[1;32m--> 882\u001b[1;33m         \u001b[0mconn\u001b[0m\u001b[1;33m.\u001b[0m\u001b[0mexecute\u001b[0m\u001b[1;33m(\u001b[0m\u001b[0mself\u001b[0m\u001b[1;33m.\u001b[0m\u001b[0mtable\u001b[0m\u001b[1;33m.\u001b[0m\u001b[0minsert\u001b[0m\u001b[1;33m(\u001b[0m\u001b[1;33m)\u001b[0m\u001b[1;33m,\u001b[0m \u001b[0mdata\u001b[0m\u001b[1;33m)\u001b[0m\u001b[1;33m\u001b[0m\u001b[1;33m\u001b[0m\u001b[0m\n\u001b[0m\u001b[0;32m    883\u001b[0m \u001b[1;33m\u001b[0m\u001b[0m\n\u001b[0;32m    884\u001b[0m     \u001b[1;32mdef\u001b[0m \u001b[0m_execute_insert_multi\u001b[0m\u001b[1;33m(\u001b[0m\u001b[0mself\u001b[0m\u001b[1;33m,\u001b[0m \u001b[0mconn\u001b[0m\u001b[1;33m,\u001b[0m \u001b[0mkeys\u001b[0m\u001b[1;33m:\u001b[0m \u001b[0mlist\u001b[0m\u001b[1;33m[\u001b[0m\u001b[0mstr\u001b[0m\u001b[1;33m]\u001b[0m\u001b[1;33m,\u001b[0m \u001b[0mdata_iter\u001b[0m\u001b[1;33m)\u001b[0m\u001b[1;33m:\u001b[0m\u001b[1;33m\u001b[0m\u001b[1;33m\u001b[0m\u001b[0m\n",
      "\u001b[1;32mC:\\ProgramData\\Anaconda3\\lib\\site-packages\\sqlalchemy\\engine\\base.py\u001b[0m in \u001b[0;36mexecute\u001b[1;34m(self, statement, *multiparams, **params)\u001b[0m\n\u001b[0;32m   1261\u001b[0m             )\n\u001b[0;32m   1262\u001b[0m         \u001b[1;32melse\u001b[0m\u001b[1;33m:\u001b[0m\u001b[1;33m\u001b[0m\u001b[1;33m\u001b[0m\u001b[0m\n\u001b[1;32m-> 1263\u001b[1;33m             \u001b[1;32mreturn\u001b[0m \u001b[0mmeth\u001b[0m\u001b[1;33m(\u001b[0m\u001b[0mself\u001b[0m\u001b[1;33m,\u001b[0m \u001b[0mmultiparams\u001b[0m\u001b[1;33m,\u001b[0m \u001b[0mparams\u001b[0m\u001b[1;33m,\u001b[0m \u001b[0m_EMPTY_EXECUTION_OPTS\u001b[0m\u001b[1;33m)\u001b[0m\u001b[1;33m\u001b[0m\u001b[1;33m\u001b[0m\u001b[0m\n\u001b[0m\u001b[0;32m   1264\u001b[0m \u001b[1;33m\u001b[0m\u001b[0m\n\u001b[0;32m   1265\u001b[0m     \u001b[1;32mdef\u001b[0m \u001b[0m_execute_function\u001b[0m\u001b[1;33m(\u001b[0m\u001b[0mself\u001b[0m\u001b[1;33m,\u001b[0m \u001b[0mfunc\u001b[0m\u001b[1;33m,\u001b[0m \u001b[0mmultiparams\u001b[0m\u001b[1;33m,\u001b[0m \u001b[0mparams\u001b[0m\u001b[1;33m,\u001b[0m \u001b[0mexecution_options\u001b[0m\u001b[1;33m)\u001b[0m\u001b[1;33m:\u001b[0m\u001b[1;33m\u001b[0m\u001b[1;33m\u001b[0m\u001b[0m\n",
      "\u001b[1;32mC:\\ProgramData\\Anaconda3\\lib\\site-packages\\sqlalchemy\\sql\\elements.py\u001b[0m in \u001b[0;36m_execute_on_connection\u001b[1;34m(self, connection, multiparams, params, execution_options, _force)\u001b[0m\n\u001b[0;32m    321\u001b[0m     ):\n\u001b[0;32m    322\u001b[0m         \u001b[1;32mif\u001b[0m \u001b[0m_force\u001b[0m \u001b[1;32mor\u001b[0m \u001b[0mself\u001b[0m\u001b[1;33m.\u001b[0m\u001b[0msupports_execution\u001b[0m\u001b[1;33m:\u001b[0m\u001b[1;33m\u001b[0m\u001b[1;33m\u001b[0m\u001b[0m\n\u001b[1;32m--> 323\u001b[1;33m             return connection._execute_clauseelement(\n\u001b[0m\u001b[0;32m    324\u001b[0m                 \u001b[0mself\u001b[0m\u001b[1;33m,\u001b[0m \u001b[0mmultiparams\u001b[0m\u001b[1;33m,\u001b[0m \u001b[0mparams\u001b[0m\u001b[1;33m,\u001b[0m \u001b[0mexecution_options\u001b[0m\u001b[1;33m\u001b[0m\u001b[1;33m\u001b[0m\u001b[0m\n\u001b[0;32m    325\u001b[0m             )\n",
      "\u001b[1;32mC:\\ProgramData\\Anaconda3\\lib\\site-packages\\sqlalchemy\\engine\\base.py\u001b[0m in \u001b[0;36m_execute_clauseelement\u001b[1;34m(self, elem, multiparams, params, execution_options)\u001b[0m\n\u001b[0;32m   1450\u001b[0m             \u001b[0mlinting\u001b[0m\u001b[1;33m=\u001b[0m\u001b[0mself\u001b[0m\u001b[1;33m.\u001b[0m\u001b[0mdialect\u001b[0m\u001b[1;33m.\u001b[0m\u001b[0mcompiler_linting\u001b[0m \u001b[1;33m|\u001b[0m \u001b[0mcompiler\u001b[0m\u001b[1;33m.\u001b[0m\u001b[0mWARN_LINTING\u001b[0m\u001b[1;33m,\u001b[0m\u001b[1;33m\u001b[0m\u001b[1;33m\u001b[0m\u001b[0m\n\u001b[0;32m   1451\u001b[0m         )\n\u001b[1;32m-> 1452\u001b[1;33m         ret = self._execute_context(\n\u001b[0m\u001b[0;32m   1453\u001b[0m             \u001b[0mdialect\u001b[0m\u001b[1;33m,\u001b[0m\u001b[1;33m\u001b[0m\u001b[1;33m\u001b[0m\u001b[0m\n\u001b[0;32m   1454\u001b[0m             \u001b[0mdialect\u001b[0m\u001b[1;33m.\u001b[0m\u001b[0mexecution_ctx_cls\u001b[0m\u001b[1;33m.\u001b[0m\u001b[0m_init_compiled\u001b[0m\u001b[1;33m,\u001b[0m\u001b[1;33m\u001b[0m\u001b[1;33m\u001b[0m\u001b[0m\n",
      "\u001b[1;32mC:\\ProgramData\\Anaconda3\\lib\\site-packages\\sqlalchemy\\engine\\base.py\u001b[0m in \u001b[0;36m_execute_context\u001b[1;34m(self, dialect, constructor, statement, parameters, execution_options, *args, **kw)\u001b[0m\n\u001b[0;32m   1812\u001b[0m \u001b[1;33m\u001b[0m\u001b[0m\n\u001b[0;32m   1813\u001b[0m         \u001b[1;32mexcept\u001b[0m \u001b[0mBaseException\u001b[0m \u001b[1;32mas\u001b[0m \u001b[0me\u001b[0m\u001b[1;33m:\u001b[0m\u001b[1;33m\u001b[0m\u001b[1;33m\u001b[0m\u001b[0m\n\u001b[1;32m-> 1814\u001b[1;33m             self._handle_dbapi_exception(\n\u001b[0m\u001b[0;32m   1815\u001b[0m                 \u001b[0me\u001b[0m\u001b[1;33m,\u001b[0m \u001b[0mstatement\u001b[0m\u001b[1;33m,\u001b[0m \u001b[0mparameters\u001b[0m\u001b[1;33m,\u001b[0m \u001b[0mcursor\u001b[0m\u001b[1;33m,\u001b[0m \u001b[0mcontext\u001b[0m\u001b[1;33m\u001b[0m\u001b[1;33m\u001b[0m\u001b[0m\n\u001b[0;32m   1816\u001b[0m             )\n",
      "\u001b[1;32mC:\\ProgramData\\Anaconda3\\lib\\site-packages\\sqlalchemy\\engine\\base.py\u001b[0m in \u001b[0;36m_handle_dbapi_exception\u001b[1;34m(self, e, statement, parameters, cursor, context)\u001b[0m\n\u001b[0;32m   1993\u001b[0m                 \u001b[0mutil\u001b[0m\u001b[1;33m.\u001b[0m\u001b[0mraise_\u001b[0m\u001b[1;33m(\u001b[0m\u001b[0mnewraise\u001b[0m\u001b[1;33m,\u001b[0m \u001b[0mwith_traceback\u001b[0m\u001b[1;33m=\u001b[0m\u001b[0mexc_info\u001b[0m\u001b[1;33m[\u001b[0m\u001b[1;36m2\u001b[0m\u001b[1;33m]\u001b[0m\u001b[1;33m,\u001b[0m \u001b[0mfrom_\u001b[0m\u001b[1;33m=\u001b[0m\u001b[0me\u001b[0m\u001b[1;33m)\u001b[0m\u001b[1;33m\u001b[0m\u001b[1;33m\u001b[0m\u001b[0m\n\u001b[0;32m   1994\u001b[0m             \u001b[1;32melif\u001b[0m \u001b[0mshould_wrap\u001b[0m\u001b[1;33m:\u001b[0m\u001b[1;33m\u001b[0m\u001b[1;33m\u001b[0m\u001b[0m\n\u001b[1;32m-> 1995\u001b[1;33m                 util.raise_(\n\u001b[0m\u001b[0;32m   1996\u001b[0m                     \u001b[0msqlalchemy_exception\u001b[0m\u001b[1;33m,\u001b[0m \u001b[0mwith_traceback\u001b[0m\u001b[1;33m=\u001b[0m\u001b[0mexc_info\u001b[0m\u001b[1;33m[\u001b[0m\u001b[1;36m2\u001b[0m\u001b[1;33m]\u001b[0m\u001b[1;33m,\u001b[0m \u001b[0mfrom_\u001b[0m\u001b[1;33m=\u001b[0m\u001b[0me\u001b[0m\u001b[1;33m\u001b[0m\u001b[1;33m\u001b[0m\u001b[0m\n\u001b[0;32m   1997\u001b[0m                 )\n",
      "\u001b[1;32mC:\\ProgramData\\Anaconda3\\lib\\site-packages\\sqlalchemy\\util\\compat.py\u001b[0m in \u001b[0;36mraise_\u001b[1;34m(***failed resolving arguments***)\u001b[0m\n\u001b[0;32m    205\u001b[0m \u001b[1;33m\u001b[0m\u001b[0m\n\u001b[0;32m    206\u001b[0m         \u001b[1;32mtry\u001b[0m\u001b[1;33m:\u001b[0m\u001b[1;33m\u001b[0m\u001b[1;33m\u001b[0m\u001b[0m\n\u001b[1;32m--> 207\u001b[1;33m             \u001b[1;32mraise\u001b[0m \u001b[0mexception\u001b[0m\u001b[1;33m\u001b[0m\u001b[1;33m\u001b[0m\u001b[0m\n\u001b[0m\u001b[0;32m    208\u001b[0m         \u001b[1;32mfinally\u001b[0m\u001b[1;33m:\u001b[0m\u001b[1;33m\u001b[0m\u001b[1;33m\u001b[0m\u001b[0m\n\u001b[0;32m    209\u001b[0m             \u001b[1;31m# credit to\u001b[0m\u001b[1;33m\u001b[0m\u001b[1;33m\u001b[0m\u001b[1;33m\u001b[0m\u001b[0m\n",
      "\u001b[1;32mC:\\ProgramData\\Anaconda3\\lib\\site-packages\\sqlalchemy\\engine\\base.py\u001b[0m in \u001b[0;36m_execute_context\u001b[1;34m(self, dialect, constructor, statement, parameters, execution_options, *args, **kw)\u001b[0m\n\u001b[0;32m   1749\u001b[0m                             \u001b[1;32mbreak\u001b[0m\u001b[1;33m\u001b[0m\u001b[1;33m\u001b[0m\u001b[0m\n\u001b[0;32m   1750\u001b[0m                 \u001b[1;32mif\u001b[0m \u001b[1;32mnot\u001b[0m \u001b[0mevt_handled\u001b[0m\u001b[1;33m:\u001b[0m\u001b[1;33m\u001b[0m\u001b[1;33m\u001b[0m\u001b[0m\n\u001b[1;32m-> 1751\u001b[1;33m                     self.dialect.do_executemany(\n\u001b[0m\u001b[0;32m   1752\u001b[0m                         \u001b[0mcursor\u001b[0m\u001b[1;33m,\u001b[0m \u001b[0mstatement\u001b[0m\u001b[1;33m,\u001b[0m \u001b[0mparameters\u001b[0m\u001b[1;33m,\u001b[0m \u001b[0mcontext\u001b[0m\u001b[1;33m\u001b[0m\u001b[1;33m\u001b[0m\u001b[0m\n\u001b[0;32m   1753\u001b[0m                     )\n",
      "\u001b[1;32mC:\\ProgramData\\Anaconda3\\lib\\site-packages\\sqlalchemy\\engine\\default.py\u001b[0m in \u001b[0;36mdo_executemany\u001b[1;34m(self, cursor, statement, parameters, context)\u001b[0m\n\u001b[0;32m    712\u001b[0m \u001b[1;33m\u001b[0m\u001b[0m\n\u001b[0;32m    713\u001b[0m     \u001b[1;32mdef\u001b[0m \u001b[0mdo_executemany\u001b[0m\u001b[1;33m(\u001b[0m\u001b[0mself\u001b[0m\u001b[1;33m,\u001b[0m \u001b[0mcursor\u001b[0m\u001b[1;33m,\u001b[0m \u001b[0mstatement\u001b[0m\u001b[1;33m,\u001b[0m \u001b[0mparameters\u001b[0m\u001b[1;33m,\u001b[0m \u001b[0mcontext\u001b[0m\u001b[1;33m=\u001b[0m\u001b[1;32mNone\u001b[0m\u001b[1;33m)\u001b[0m\u001b[1;33m:\u001b[0m\u001b[1;33m\u001b[0m\u001b[1;33m\u001b[0m\u001b[0m\n\u001b[1;32m--> 714\u001b[1;33m         \u001b[0mcursor\u001b[0m\u001b[1;33m.\u001b[0m\u001b[0mexecutemany\u001b[0m\u001b[1;33m(\u001b[0m\u001b[0mstatement\u001b[0m\u001b[1;33m,\u001b[0m \u001b[0mparameters\u001b[0m\u001b[1;33m)\u001b[0m\u001b[1;33m\u001b[0m\u001b[1;33m\u001b[0m\u001b[0m\n\u001b[0m\u001b[0;32m    715\u001b[0m \u001b[1;33m\u001b[0m\u001b[0m\n\u001b[0;32m    716\u001b[0m     \u001b[1;32mdef\u001b[0m \u001b[0mdo_execute\u001b[0m\u001b[1;33m(\u001b[0m\u001b[0mself\u001b[0m\u001b[1;33m,\u001b[0m \u001b[0mcursor\u001b[0m\u001b[1;33m,\u001b[0m \u001b[0mstatement\u001b[0m\u001b[1;33m,\u001b[0m \u001b[0mparameters\u001b[0m\u001b[1;33m,\u001b[0m \u001b[0mcontext\u001b[0m\u001b[1;33m=\u001b[0m\u001b[1;32mNone\u001b[0m\u001b[1;33m)\u001b[0m\u001b[1;33m:\u001b[0m\u001b[1;33m\u001b[0m\u001b[1;33m\u001b[0m\u001b[0m\n",
      "\u001b[1;32mC:\\ProgramData\\Anaconda3\\lib\\site-packages\\vertica_python\\vertica\\cursor.py\u001b[0m in \u001b[0;36mexecutemany\u001b[1;34m(self, operation, seq_of_parameters, use_prepared_statements)\u001b[0m\n\u001b[0;32m    271\u001b[0m                     \" NO COMMIT\" if not self.connection.autocommit else '')\n\u001b[0;32m    272\u001b[0m \u001b[1;33m\u001b[0m\u001b[0m\n\u001b[1;32m--> 273\u001b[1;33m                 \u001b[0mself\u001b[0m\u001b[1;33m.\u001b[0m\u001b[0mcopy\u001b[0m\u001b[1;33m(\u001b[0m\u001b[0mcopy_statement\u001b[0m\u001b[1;33m,\u001b[0m \u001b[0mdata\u001b[0m\u001b[1;33m)\u001b[0m\u001b[1;33m\u001b[0m\u001b[1;33m\u001b[0m\u001b[0m\n\u001b[0m\u001b[0;32m    274\u001b[0m             \u001b[1;32melse\u001b[0m\u001b[1;33m:\u001b[0m\u001b[1;33m\u001b[0m\u001b[1;33m\u001b[0m\u001b[0m\n\u001b[0;32m    275\u001b[0m                 raise NotImplementedError(\n",
      "\u001b[1;32mC:\\ProgramData\\Anaconda3\\lib\\site-packages\\vertica_python\\vertica\\cursor.py\u001b[0m in \u001b[0;36mcopy\u001b[1;34m(self, sql, data, **kwargs)\u001b[0m\n\u001b[0;32m    433\u001b[0m             \u001b[0mself\u001b[0m\u001b[1;33m.\u001b[0m\u001b[0m_message\u001b[0m \u001b[1;33m=\u001b[0m \u001b[0mmessage\u001b[0m\u001b[1;33m\u001b[0m\u001b[1;33m\u001b[0m\u001b[0m\n\u001b[0;32m    434\u001b[0m             \u001b[1;32mif\u001b[0m \u001b[0misinstance\u001b[0m\u001b[1;33m(\u001b[0m\u001b[0mmessage\u001b[0m\u001b[1;33m,\u001b[0m \u001b[0mmessages\u001b[0m\u001b[1;33m.\u001b[0m\u001b[0mErrorResponse\u001b[0m\u001b[1;33m)\u001b[0m\u001b[1;33m:\u001b[0m\u001b[1;33m\u001b[0m\u001b[1;33m\u001b[0m\u001b[0m\n\u001b[1;32m--> 435\u001b[1;33m                 \u001b[1;32mraise\u001b[0m \u001b[0merrors\u001b[0m\u001b[1;33m.\u001b[0m\u001b[0mQueryError\u001b[0m\u001b[1;33m.\u001b[0m\u001b[0mfrom_error_response\u001b[0m\u001b[1;33m(\u001b[0m\u001b[0mmessage\u001b[0m\u001b[1;33m,\u001b[0m \u001b[0msql\u001b[0m\u001b[1;33m)\u001b[0m\u001b[1;33m\u001b[0m\u001b[1;33m\u001b[0m\u001b[0m\n\u001b[0m\u001b[0;32m    436\u001b[0m             \u001b[1;32melif\u001b[0m \u001b[0misinstance\u001b[0m\u001b[1;33m(\u001b[0m\u001b[0mmessage\u001b[0m\u001b[1;33m,\u001b[0m \u001b[0mmessages\u001b[0m\u001b[1;33m.\u001b[0m\u001b[0mReadyForQuery\u001b[0m\u001b[1;33m)\u001b[0m\u001b[1;33m:\u001b[0m\u001b[1;33m\u001b[0m\u001b[1;33m\u001b[0m\u001b[0m\n\u001b[0;32m    437\u001b[0m                 \u001b[1;32mbreak\u001b[0m\u001b[1;33m\u001b[0m\u001b[1;33m\u001b[0m\u001b[0m\n",
      "\u001b[1;31mProgrammingError\u001b[0m: (vertica_python.errors.InsufficientResources) Severity: ERROR, Message: Too many ROS containers exist for the following projections: \nfuncionarios.full_super (limit = 41984, ROS files = 41984, DV files = 0, new files = 41), Sqlstate: 53000, Hint: Please wait for the tuple mover to catch up.  Use 'select * from v_monitor.tuple_mover_operations;' to monitor, Routine: Exec_preparePlanForLaunch, File: /data/qb_workspaces/jenkins2/ReleaseBuilds/Grader/REL-9_2_1-x_grader/build/vertica/Dist/Dist.cpp, Line: 2009, Error Code: 5065, SQL: 'COPY funcionarios.\"full\" (cantHExDiu,cantHExFes,cantHExNoc,Materno,Mes,Nombres,montoHExDiu,montoHExFes,montoHExNoc,Paterno,Regimen,TipoEstamento,TipoUnidadMonetaria,TipoCargo,indice,activado,anyo,asignaciones,DescripcionFuncion,FechaIngreso,FechaPublicacion,FechaTermino,GradoEus,OrganismoCodigo,OrganismoNombre,PagoMensuales,region,remuneracionbrutamensual,TipoCalificacionp,viaticos,nombre,mesN,Fecha,RemBrutaPesosReal,HEDiuReal,HENocReal,HEFesReal,ViaticosReal,HorasExtrasMontoReal,HorasExtrasCantTotal) FROM STDIN DELIMITER \\',\\' ENCLOSED BY \\'\"\\' ENFORCELENGTH ABORT ON ERROR NO COMMIT'\n[SQL: INSERT INTO funcionarios.\"full\" (\"cantHExDiu\", \"cantHExFes\", \"cantHExNoc\", \"Materno\", \"Mes\", \"Nombres\", \"montoHExDiu\", \"montoHExFes\", \"montoHExNoc\", \"Paterno\", \"Regimen\", \"TipoEstamento\", \"TipoUnidadMonetaria\", \"TipoCargo\", indice, activado, anyo, asignaciones, \"DescripcionFuncion\", \"FechaIngreso\", \"FechaPublicacion\", \"FechaTermino\", \"GradoEus\", \"OrganismoCodigo\", \"OrganismoNombre\", \"PagoMensuales\", region, remuneracionbrutamensual, \"TipoCalificacionp\", viaticos, nombre, \"mesN\", \"Fecha\", \"RemBrutaPesosReal\", \"HEDiuReal\", \"HENocReal\", \"HEFesReal\", \"ViaticosReal\", \"HorasExtrasMontoReal\", \"HorasExtrasCantTotal\") VALUES (:cantHExDiu, :cantHExFes, :cantHExNoc, :Materno, :Mes, :Nombres, :montoHExDiu, :montoHExFes, :montoHExNoc, :Paterno, :Regimen, :TipoEstamento, :TipoUnidadMonetaria, :TipoCargo, :indice, :activado, :anyo, :asignaciones, :DescripcionFuncion, :FechaIngreso, :FechaPublicacion, :FechaTermino, :GradoEus, :OrganismoCodigo, :OrganismoNombre, :PagoMensuales, :region, :remuneracionbrutamensual, :TipoCalificacionp, :viaticos, :nombre, :mesN, :Fecha, :RemBrutaPesosReal, :HEDiuReal, :HENocReal, :HEFesReal, :ViaticosReal, :HorasExtrasMontoReal, :HorasExtrasCantTotal)]\n[parameters: ({'cantHExDiu': 0.0, 'cantHExFes': 0.0, 'cantHExNoc': 0.0, 'Materno': 'TRIVIÑO', 'Mes': 'Enero', 'Nombres': 'DANIELA PAZ', 'montoHExDiu': 0.0, 'montoHExFes': 0.0, 'montoHExNoc': 0.0, 'Paterno': 'CORTEZ', 'Regimen': 'Contrata', 'TipoEstamento': 'Profesional', 'TipoUnidadMonetaria': 'Pesos', 'TipoCargo': 'Abogado', 'indice': 1019145, 'activado': 'SÍ', 'anyo': 2019, 'asignaciones': '(07)(71)(75)(76)(131)(165)(166)', 'DescripcionFuncion': None, 'FechaIngreso': datetime.datetime(2016, 1, 1, 0, 0), 'FechaPublicacion': datetime.datetime(2021, 7, 30, 0, 0), 'FechaTermino': datetime.datetime(2019, 12, 31, 0, 0), 'GradoEus': 13, 'OrganismoCodigo': 'AK004', 'OrganismoNombre': 'Servicio Nacional De Menores (Sename)', 'PagoMensuales': None, 'region': 'Región Metropolitana De Santiago', 'remuneracionbrutamensual': 1578502, 'TipoCalificacionp': 'Abogadoa', 'viaticos': None, 'nombre': 'Daniela Paz', 'mesN': '01', 'Fecha': '2019-01', 'RemBrutaPesosReal': 1669167.3175519647, 'HEDiuReal': 0.0, 'HENocReal': 0.0, 'HEFesReal': 0.0, 'ViaticosReal': None, 'HorasExtrasMontoReal': 0.0, 'HorasExtrasCantTotal': 0.0}, {'cantHExDiu': 0.0, 'cantHExFes': 0.0, 'cantHExNoc': 0.0, 'Materno': 'SAN FRANCISC', 'Mes': 'Enero', 'Nombres': 'ELSA DE LAS MERCEDES', 'montoHExDiu': 0.0, 'montoHExFes': 0.0, 'montoHExNoc': 0.0, 'Paterno': 'CORTEZ', 'Regimen': 'Contrata', 'TipoEstamento': 'Técnico', 'TipoUnidadMonetaria': 'Pesos', 'TipoCargo': 'Encargadoa Oirs', 'indice': 1019146, 'activado': 'SÍ', 'anyo': 2019, 'asignaciones': '(07)(37)(51)(71)(75)(76)(131)(166)(221)', 'DescripcionFuncion': None, 'FechaIngreso': datetime.datetime(2007, 2, 2, 0, 0), 'FechaPublicacion': datetime.datetime(2021, 7, 30, 0, 0), 'FechaTermino': datetime.datetime(2019, 12, 31, 0, 0), 'GradoEus': 12, 'OrganismoCodigo': 'AK004', 'OrganismoNombre': 'Servicio Nacional De Menores (Sename)', 'PagoMensuales': None, 'region': 'Región De Arica Y Parinacota', 'remuneracionbrutamensual': 1966441, 'TipoCalificacionp': 'Trabajadora Social', 'viaticos': None, 'nombre': 'Elsa De Las Mercedes', 'mesN': '01', 'Fecha': '2019-01', 'RemBrutaPesosReal': 2079388.5906347935, 'HEDiuReal': 0.0, 'HENocReal': 0.0, 'HEFesReal': 0.0, 'ViaticosReal': None, 'HorasExtrasMontoReal': 0.0, 'HorasExtrasCantTotal': 0.0}, {'cantHExDiu': 0.0, 'cantHExFes': 0.0, 'cantHExNoc': 0.0, 'Materno': 'ONETO', 'Mes': 'Enero', 'Nombres': 'MARLENE ANDREA', 'montoHExDiu': 0.0, 'montoHExFes': 0.0, 'montoHExNoc': 0.0, 'Paterno': 'CORTEZ', 'Regimen': 'Contrata', 'TipoEstamento': 'Auxiliar', 'TipoUnidadMonetaria': 'Pesos', 'TipoCargo': 'Auxiliar De Lavanderiaroperia', 'indice': 1019147, 'activado': 'SÍ', 'anyo': 2019, 'asignaciones': '(07)(54)(71)(75)(76)(131)(165)', 'DescripcionFuncion': None, 'FechaIngreso': datetime.datetime(2016, 8, 1, 0, 0), 'FechaPublicacion': datetime.datetime(2021, 7, 30, 0, 0), 'FechaTermino': datetime.datetime(2019, 12, 31, 0, 0), 'GradoEus': 21, 'OrganismoCodigo': 'AK004', 'OrganismoNombre': 'Servicio Nacional De Menores (Sename)', 'PagoMensuales': None, 'region': 'Región Metropolitana De Santiago', 'remuneracionbrutamensual': 675350, 'TipoCalificacionp': 'Educacion Media', 'viaticos': None, 'nombre': 'Marlene Andrea', 'mesN': '01', 'Fecha': '2019-01', 'RemBrutaPesosReal': 714140.4622285682, 'HEDiuReal': 0.0, 'HENocReal': 0.0, 'HEFesReal': 0.0, 'ViaticosReal': None, 'HorasExtrasMontoReal': 0.0, 'HorasExtrasCantTotal': 0.0}, {'cantHExDiu': 0.0, 'cantHExFes': 0.0, 'cantHExNoc': 0.0, 'Materno': 'MEZA', 'Mes': 'Enero', 'Nombres': 'ROSSANA ISABEL', 'montoHExDiu': 0.0, 'montoHExFes': 0.0, 'montoHExNoc': 0.0, 'Paterno': 'CORTEZ', 'Regimen': 'Contrata', 'TipoEstamento': 'Profesional', 'TipoUnidadMonetaria': 'Pesos', 'TipoCargo': 'Gestor De Redes', 'indice': 1019148, 'activado': 'SÍ', 'anyo': 2019, 'asignaciones': '(07)(37)(71)(75)(76)(131)(165)(166)', 'DescripcionFuncion': None, 'FechaIngreso': datetime.datetime(2009, 11, 23, 0, 0), 'FechaPublicacion': datetime.datetime(2021, 7, 30, 0, 0), 'FechaTermino': datetime.datetime(2019, 12, 31, 0, 0), 'GradoEus': 11, 'OrganismoCodigo': 'AK004', 'OrganismoNombre': 'Servicio Nacional De Menores (Sename)', 'PagoMensuales': None, 'region': 'Región De Coquimbo', 'remuneracionbrutamensual': 1918884, 'TipoCalificacionp': 'Trabajadora Social', 'viaticos': None, 'nombre': 'Rossana Isabel', 'mesN': '01', 'Fecha': '2019-01', 'RemBrutaPesosReal': 2029100.0321655495, 'HEDiuReal': 0.0, 'HENocReal': 0.0, 'HEFesReal': 0.0, 'ViaticosReal': None, 'HorasExtrasMontoReal': 0.0, 'HorasExtrasCantTotal': 0.0}, {'cantHExDiu': 0.0, 'cantHExFes': 0.0, 'cantHExNoc': 0.0, 'Materno': 'BOSCH', 'Mes': 'Enero', 'Nombres': 'LUIS ALBERTO', 'montoHExDiu': 0.0, 'montoHExFes': 0.0, 'montoHExNoc': 0.0, 'Paterno': 'CORTEZ', 'Regimen': 'Contrata', 'TipoEstamento': 'Profesional', 'TipoUnidadMonetaria': 'Pesos', 'TipoCargo': 'Monitora De Taller', 'indice': 1019149, 'activado': 'SÍ', 'anyo': 2019, 'asignaciones': '(07)(71)(75)(76)(131)(165)(166)', 'DescripcionFuncion': None, 'FechaIngreso': datetime.datetime(1991, 3, 1, 0, 0), 'FechaPublicacion': datetime.datetime(2021, 7, 30, 0, 0), 'FechaTermino': datetime.datetime(2019, 12, 31, 0, 0), 'GradoEus': 11, 'OrganismoCodigo': 'AK004', 'OrganismoNombre': 'Servicio Nacional De Menores (Sename)', 'PagoMensuales': None, 'region': 'Región De Valparaíso', 'remuneracionbrutamensual': 1867308, 'TipoCalificacionp': 'Trabajadora Social', 'viaticos': None, 'nombre': 'Luis Alberto', 'mesN': '01', 'Fecha': '2019-01', 'RemBrutaPesosReal': 1974561.632106468, 'HEDiuReal': 0.0, 'HENocReal': 0.0, 'HEFesReal': 0.0, 'ViaticosReal': None, 'HorasExtrasMontoReal': 0.0, 'HorasExtrasCantTotal': 0.0}, {'cantHExDiu': 0.0, 'cantHExFes': 0.0, 'cantHExNoc': 0.0, 'Materno': 'BOSCH', 'Mes': 'Enero', 'Nombres': 'JULIA DORIS', 'montoHExDiu': 0.0, 'montoHExFes': 666044.0, 'montoHExNoc': 0.0, 'Paterno': 'CORTEZ', 'Regimen': 'Contrata', 'TipoEstamento': 'Técnico', 'TipoUnidadMonetaria': 'Pesos', 'TipoCargo': 'Etd Rotativo', 'indice': 1019150, 'activado': 'SÍ', 'anyo': 2019, 'asignaciones': '(07)(37)(51)(71)(75)(76)(131)(166)(221)', 'DescripcionFuncion': None, 'FechaIngreso': datetime.datetime(1996, 1, 2, 0, 0), 'FechaPublicacion': datetime.datetime(2021, 7, 30, 0, 0), 'FechaTermino': datetime.datetime(2019, 12, 31, 0, 0), 'GradoEus': 13, 'OrganismoCodigo': 'AK004', 'OrganismoNombre': 'Servicio Nacional De Menores (Sename)', 'PagoMensuales': None, 'region': 'Región De Arica Y Parinacota', 'remuneracionbrutamensual': 2469468, 'TipoCalificacionp': 'Planificador Social', 'viaticos': None, 'nombre': 'Julia Doris', 'mesN': '01', 'Fecha': '2019-01', 'RemBrutaPesosReal': 2611308.2386594475, 'HEDiuReal': 0.0, 'HENocReal': 0.0, 'HEFesReal': 704299.9482113933, 'ViaticosReal': None, 'HorasExtrasMontoReal': 704299.9482113933, 'HorasExtrasCantTotal': 0.0}, {'cantHExDiu': 0.0, 'cantHExFes': 0.0, 'cantHExNoc': 0.0, 'Materno': 'VEGA', 'Mes': 'Enero', 'Nombres': 'KARINA ANDREA', 'montoHExDiu': 0.0, 'montoHExFes': 0.0, 'montoHExNoc': 0.0, 'Paterno': 'CORTES', 'Regimen': 'Contrata', 'TipoEstamento': 'Administrativo', 'TipoUnidadMonetaria': 'Pesos', 'TipoCargo': 'Encargadoa Contabpresupuesto', 'indice': 1019151, 'activado': 'SÍ', 'anyo': 2019, 'asignaciones': '(07)(37)(75)(76)(131)(165)', 'DescripcionFuncion': None, 'FechaIngreso': datetime.datetime(2018, 8, 27, 0, 0), 'FechaPublicacion': datetime.datetime(2021, 7, 30, 0, 0), 'FechaTermino': datetime.datetime(2019, 1, 23, 0, 0), 'GradoEus': 18, 'OrganismoCodigo': 'AK004', 'OrganismoNombre': 'Servicio Nacional De Menores (Sename)', 'PagoMensuales': None, 'region': 'Región De Coquimbo', 'remuneracionbrutamensual': 518495, 'TipoCalificacionp': 'Educacion Media', 'viaticos': None, 'nombre': 'Karina Andrea', 'mesN': '01', 'Fecha': '2019-01', 'RemBrutaPesosReal': 548276.092342047, 'HEDiuReal': 0.0, 'HENocReal': 0.0, 'HEFesReal': 0.0, 'ViaticosReal': None, 'HorasExtrasMontoReal': 0.0, 'HorasExtrasCantTotal': 0.0}, {'cantHExDiu': 0.0, 'cantHExFes': 0.0, 'cantHExNoc': 0.0, 'Materno': 'TRONCOSO', 'Mes': 'Enero', 'Nombres': 'JUAN MANUEL', 'montoHExDiu': 0.0, 'montoHExFes': 0.0, 'montoHExNoc': 0.0, 'Paterno': 'CORTES', 'Regimen': 'Contrata', 'TipoEstamento': 'Administrativo', 'TipoUnidadMonetaria': 'Pesos', 'TipoCargo': 'Administrativo De Linea', 'indice': 1019152, 'activado': 'SÍ', 'anyo': 2019, 'asignaciones': '(07)(71)(75)(76)(131)(165)', 'DescripcionFuncion': None, 'FechaIngreso': datetime.datetime(2016, 1, 1, 0, 0), 'FechaPublicacion': datetime.datetime(2021, 7, 30, 0, 0), 'FechaTermino': datetime.datetime(2019, 3, 31, 0, 0), 'GradoEus': 14, 'OrganismoCodigo': 'AK004', 'OrganismoNombre': 'Servicio Nacional De Menores (Sename)', 'PagoMensuales': None, 'region': 'Región Metropolitana De Santiago', 'remuneracionbrutamensual': 916776, 'TipoCalificacionp': 'Educacion Media', 'viaticos': None, 'nombre': 'Juan Manuel', 'mesN': '01', 'Fecha': '2019-01', 'RemBrutaPesosReal': 969433.3847635416, 'HEDiuReal': 0.0, 'HENocReal': 0.0, 'HEFesReal': 0.0, 'ViaticosReal': None, 'HorasExtrasMontoReal': 0.0, 'HorasExtrasCantTotal': 0.0}  ... displaying 10 of 6000 total bound parameter sets ...  {'cantHExDiu': 0.0, 'cantHExFes': 0.0, 'cantHExNoc': 0.0, 'Materno': 'MONTERO', 'Mes': 'Abril', 'Nombres': 'ILSE LORENA', 'montoHExDiu': 0.0, 'montoHExFes': 0.0, 'montoHExNoc': 0.0, 'Paterno': 'ARDURA', 'Regimen': 'Contrata', 'TipoEstamento': 'Profesional', 'TipoUnidadMonetaria': 'Pesos', 'TipoCargo': 'Profesional De Linea', 'indice': 1025143, 'activado': 'SÍ', 'anyo': 2019, 'asignaciones': '(07)(75)(76)(131)(165)(166)', 'DescripcionFuncion': None, 'FechaIngreso': datetime.datetime(1998, 1, 19, 0, 0), 'FechaPublicacion': datetime.datetime(2021, 7, 30, 0, 0), 'FechaTermino': datetime.datetime(2019, 12, 31, 0, 0), 'GradoEus': 5, 'OrganismoCodigo': 'AK004', 'OrganismoNombre': 'Servicio Nacional De Menores (Sename)', 'PagoMensuales': None, 'region': 'Región Metropolitana De Santiago', 'remuneracionbrutamensual': 3096345, 'TipoCalificacionp': 'Periodista', 'viaticos': None, 'nombre': 'Ilse Lorena', 'mesN': '04', 'Fecha': '2019-04', 'RemBrutaPesosReal': 3248157.546867419, 'HEDiuReal': 0.0, 'HENocReal': 0.0, 'HEFesReal': 0.0, 'ViaticosReal': None, 'HorasExtrasMontoReal': 0.0, 'HorasExtrasCantTotal': 0.0}, {'cantHExDiu': 0.0, 'cantHExFes': 0.0, 'cantHExNoc': 0.0, 'Materno': 'VALENZUELA', 'Mes': 'Abril', 'Nombres': 'MANUEL ENRIQUE', 'montoHExDiu': 0.0, 'montoHExFes': 0.0, 'montoHExNoc': 0.0, 'Paterno': 'ARCOS', 'Regimen': 'Contrata', 'TipoEstamento': 'Profesional', 'TipoUnidadMonetaria': 'Pesos', 'TipoCargo': 'Supervisora Tecnico', 'indice': 1025144, 'activado': 'SÍ', 'anyo': 2019, 'asignaciones': '(07)(37)(75)(76)(131)(165)(166)', 'DescripcionFuncion': None, 'FechaIngreso': datetime.datetime(1999, 11, 22, 0, 0), 'FechaPublicacion': datetime.datetime(2021, 7, 30, 0, 0), 'FechaTermino': datetime.datetime(2019, 12, 31, 0, 0), 'GradoEus': 8, 'OrganismoCodigo': 'AK004', 'OrganismoNombre': 'Servicio Nacional De Menores (Sename)', 'PagoMensuales': None, 'region': 'Región Del Biobío', 'remuneracionbrutamensual': 2564302, 'TipoCalificacionp': 'Asistente Social', 'viaticos': None, 'nombre': 'Manuel Enrique', 'mesN': '04', 'Fecha': '2019-04', 'RemBrutaPesosReal': 2690028.69310339, 'HEDiuReal': 0.0, 'HENocReal': 0.0, 'HEFesReal': 0.0, 'ViaticosReal': None, 'HorasExtrasMontoReal': 0.0, 'HorasExtrasCantTotal': 0.0})]\n(Background on this error at: https://sqlalche.me/e/14/f405)"
     ]
    }
   ],
   "metadata": {}
  },
  {
   "cell_type": "code",
   "execution_count": null,
   "source": [
    "#Servicios = pd.read_csv('http://www.cplt.cl/transparencia_activa/datoabierto/archivos/Organismos_360.csv', encoding = 'cp1252', sep = ';')\r\n",
    "Servicios.to_sql(name='Servicios', con=engine2, if_exists = 'replace', index=False ,chunksize = 1000, schema = 'funcionarios',\r\n",
    "               dtype={\"Codigo_org\": sa.types.VARCHAR(50), \r\n",
    "                        \"Organismo\" : sa.types.VARCHAR(255), \r\n",
    "                        \"Codigo_padre\" : sa.types.VARCHAR(255), \r\n",
    "                        \"Padre_org\" : sa.types.VARCHAR(255), \r\n",
    "                        \"Region\" : sa.types.VARCHAR(255), \r\n",
    "                        \"Municipalidad\" : sa.types.VARCHAR(255), \r\n",
    "                        \"direccion\" : sa.types.VARCHAR(255), \r\n",
    "                        \"telefono\" : sa.types.VARCHAR(255), \r\n",
    "                        \"url_organismo\" : sa.types.VARCHAR(255), \r\n",
    "                        \"url_orgtransparencia\" : sa.types.VARCHAR(255), \r\n",
    "                        \"horario_publico\" : sa.types.VARCHAR(500), \r\n",
    "                        \"nombre_encargado\" : VARCHAR(255), \r\n",
    "                        \"email\" : VARCHAR(255), \r\n",
    "                        \"rut\" : VARCHAR(255), \r\n",
    "                        \"tipo_cuenta\" : VARCHAR(255), \r\n",
    "                        \"banco\" : VARCHAR(255), \r\n",
    "                        \"url_sai\" : VARCHAR(255), \r\n",
    "                        \"fax\" : VARCHAR(255), \r\n",
    "                        \"Ingresa\" : VARCHAR(255), \r\n",
    "                        \"obligadorecibir_sai\" : VARCHAR(255), \r\n",
    "                        \"organismo_autonomo\" : VARCHAR(255), \r\n",
    "                        \"interopera\" : VARCHAR(255), \r\n",
    "                        \"tiene_ta\" : VARCHAR(255), \r\n",
    "                        \"fecha_ta\" : VARCHAR(255),\r\n",
    "                        'activado': VARCHAR(50})"
   ],
   "outputs": [],
   "metadata": {}
  }
 ],
 "metadata": {
  "kernelspec": {
   "name": "python3",
   "display_name": "Python 3.8.11 64-bit ('base': conda)"
  },
  "language_info": {
   "codemirror_mode": {
    "name": "ipython",
    "version": 3
   },
   "file_extension": ".py",
   "mimetype": "text/x-python",
   "name": "python",
   "nbconvert_exporter": "python",
   "pygments_lexer": "ipython3",
   "version": "3.8.11"
  },
  "interpreter": {
   "hash": "b3ba2566441a7c06988d0923437866b63cedc61552a5af99d1f4fb67d367b25f"
  }
 },
 "nbformat": 4,
 "nbformat_minor": 4
}