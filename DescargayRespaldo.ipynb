{
 "cells": [
  {
   "cell_type": "markdown",
   "source": [
    "# Funcionarios Públicos\n",
    "\n",
    "El presente notobook permite descargar, limpiar y almacenar los datos provenietes del [repositorio de datos abiertos de personal](https://www.portaltransparencia.cl/PortalPdT/web/guest/opendata#_48_INSTANCE_GI66ozEZ7DNy_=dataset%2Ftransparencia-activa-publicada-en-el-portal) del Consejo Para La Transparencia (CPLT).\n",
    "Para ejecutar este notebook, se tienen los siguiente prerequisitos:\n",
    "\n",
    "- Tener instalado el gestor de base de datos MySQL en algún servidor accesible por el usuario con permisos de escritura.\n",
    "- Tener instalado Anaconda Python y creado un ambiente que contenga las siguientes librerías: pandas, numpy, time, date, datetime, functools, urllib, json, mysql.connector, sqlalchemy\n"
   ],
   "metadata": {}
  },
  {
   "cell_type": "markdown",
   "source": [
    "### Descarga de datos desde el Portal de Transparencia\n",
    "⚠️ **La ejecución de este notebook requiere de al menos 32GB de RAM**, de preferencia 64 GB de RAM par evitar uso de SWAP memeroy, especialmente si utilizas discos HDD y no SSD"
   ],
   "metadata": {}
  },
  {
   "cell_type": "code",
   "execution_count": 1,
   "source": [
    "# librerias necesarias\r\n",
    "import pandas as pd\r\n",
    "\r\n",
    "# Descarga de las cuatro bases (planta, contrata, honorarios, cod trabajo)\r\n",
    "#Planta\r\n",
    "planta = pd.read_csv('http://www.cplt.cl/transparencia_activa/datoabierto/archivos/TA_PersonalPlanta.csv', encoding = 'cp1252', sep = ';')\r\n",
    "planta.to_csv('G:/temp/planta.csv')\r\n",
    "planta['Regimen'] = 'Planta'\r\n",
    "#Contrata\r\n",
    "contrata = pd.read_csv('http://www.cplt.cl/transparencia_activa/datoabierto/archivos/TA_PersonalContrata.csv', encoding = 'cp1252', sep = ';')\r\n",
    "contrata['Regimen'] = 'Contrata'\r\n",
    "#Honorarios\r\n",
    "honorarios = pd.read_csv('http://www.cplt.cl/transparencia_activa/datoabierto/archivos/TA_PersonalContratohonorarios.csv', encoding = 'cp1252', sep = ';')\r\n",
    "honorarios['Regimen'] = 'Honorarios'\r\n",
    "honorarios = honorarios.rename(columns={'remuneracionbruta': 'remuneracionbruta_mensual'})\r\n",
    "#Código del Trabajo\r\n",
    "codTrabajo = pd.read_csv('http://www.cplt.cl/transparencia_activa/datoabierto/archivos/TA_PersonalCodigotrabajo.csv', encoding = 'cp1252', sep = ';')\r\n",
    "codTrabajo['Regimen'] = 'Código del Trabajo'\r\n",
    "\r\n",
    "planta.to_csv('G:/temp/planta.csv')\r\n",
    "contrata.to_csv('G:/temp/contrata.csv')\r\n",
    "honorarios.to_csv('G:/temp/honorarios.csv')\r\n",
    "codTrabajo.to_csv('G:/temp/codTrabajo.csv')"
   ],
   "outputs": [
    {
     "output_type": "stream",
     "name": "stderr",
     "text": [
      "C:\\ProgramData\\Anaconda3\\lib\\site-packages\\IPython\\core\\interactiveshell.py:3441: DtypeWarning: Columns (10) have mixed types.Specify dtype option on import or set low_memory=False.\n",
      "  exec(code_obj, self.user_global_ns, self.user_ns)\n"
     ]
    }
   ],
   "metadata": {}
  },
  {
   "cell_type": "code",
   "execution_count": 10,
   "source": [
    "import pandas as pd\r\n",
    "\r\n",
    "# Descarga de las cuatro bases (planta, contrata, honorarios, cod trabajo)\r\n",
    "#Planta\r\n",
    "planta = pd.read_csv('G:/temp/planta.csv', sep = ',')\r\n",
    "planta['Regimen'] = 'Planta'\r\n",
    "#Contrata\r\n",
    "contrata = pd.read_csv('G:/temp/contrata.csv', sep = ',')\r\n",
    "contrata['Regimen'] = 'Contrata'\r\n",
    "#Honorarios\r\n",
    "honorarios = pd.read_csv('G:/temp/honorarios.csv', sep = ',')\r\n",
    "honorarios['Regimen'] = 'Honorarios'\r\n",
    "honorarios = honorarios.rename(columns={'remuneracionbruta': 'remuneracionbruta_mensual'})\r\n",
    "#Código del Trabajo\r\n",
    "codTrabajo = pd.read_csv('G:/temp/codTrabajo.csv', sep = ',')\r\n",
    "codTrabajo['Regimen'] = 'Código del Trabajo'"
   ],
   "outputs": [
    {
     "output_type": "stream",
     "name": "stderr",
     "text": [
      "C:\\ProgramData\\Anaconda3\\lib\\site-packages\\IPython\\core\\interactiveshell.py:3441: DtypeWarning: Columns (11,27) have mixed types.Specify dtype option on import or set low_memory=False.\n",
      "  exec(code_obj, self.user_global_ns, self.user_ns)\n",
      "C:\\ProgramData\\Anaconda3\\lib\\site-packages\\IPython\\core\\interactiveshell.py:3441: DtypeWarning: Columns (11) have mixed types.Specify dtype option on import or set low_memory=False.\n",
      "  exec(code_obj, self.user_global_ns, self.user_ns)\n"
     ]
    }
   ],
   "metadata": {}
  },
  {
   "cell_type": "code",
   "execution_count": 11,
   "source": [
    "#Unimos los datasets\r\n",
    "funHist = pd.concat([planta, contrata, codTrabajo, honorarios], sort = True)\r\n"
   ],
   "outputs": [],
   "metadata": {}
  },
  {
   "cell_type": "markdown",
   "source": [
    "#### **Limpieza de cada campo**"
   ],
   "metadata": {}
  },
  {
   "cell_type": "code",
   "execution_count": 12,
   "source": [
    "# eliminamos campos innecesarios\r\n",
    "funHist = funHist.drop(columns = {'camino', 'enlace', 'observaciones', 'remuliquida_mensual'})"
   ],
   "outputs": [],
   "metadata": {
    "scrolled": true
   }
  },
  {
   "cell_type": "code",
   "execution_count": 20,
   "source": [
    "pd.set_option('display.max_rows', 500)\r\n",
    "pd.set_option('display.max_columns', 500)\r\n",
    "pd.set_option('display.width', 1000)\r\n",
    "funHist.iloc[1000000:1000004]"
   ],
   "outputs": [
    {
     "output_type": "execute_result",
     "data": {
      "text/plain": [
       "         Horas extra diurnas  Horas extra festivas  Horas extra nocturnas    Materno     Mes             Nombres  Pago extra diurnas  Pago extra festivas  Pago extra nocturnas  Paterno Regimen     Tipo Estamento Tipo Unidad monetaria                                         Tipo cargo  Unnamed: 0 activado  anyo                           asignaciones descripcion_funcion fecha_ingreso fecha_publicacion fecha_termino         grado_eus organismo_codigo         organismo_nombre pago_mensuales               region  remuneracionbruta_mensual                  tipo_calificacionp  viaticos\n",
       "1000000                  0.0                   0.0                    0.0     VARGAS  Agosto   RICARDO FRANCISCO                 0.0                  0.0                   0.0  PAREDES  Planta            Docente                 Pesos  DOCENTE DE LENGUA Y LITERATURA LICEO INDUSTRIA...     1000000       SÍ  2019      (183)(182)(124)(125)(37)(33)(101)                 NaN    01/01/1996        2021/07/13    Indefinido  JORNADA 30 HORAS            MU191  Municipalidad de Osorno            NaN  Región de Los Lagos                    1514231         PROFESOR DE EDUCACION MEDIA       0.0\n",
       "1000001                  0.0                   0.0                    0.0      SILVA  Agosto   GLORIA JACQUELINE                 0.0                  0.0                   0.0  PAREDES  Planta            Docente                 Pesos  DOCENTE DIFERENCIAL DE EDUCACION BASICA ESCUEL...     1000001       SÍ  2019      (183)(182)(124)(125)(37)(33)(101)                 NaN    01/03/2010        2021/07/13    Indefinido  JORNADA 32 HORAS            MU191  Municipalidad de Osorno            NaN  Región de Los Lagos                    1047545  PROFESORA DE EDUCACION DIFERENCIAL       0.0\n",
       "1000002                  1.0                   0.0                    0.0  RODRÍGUEZ  Agosto    FRANCISCO JAVIER             11744.0                  0.0                   0.0  PAREDES  Planta            Docente                 Pesos                DIRECTOR(A) DE  LICEO DE RAHUE ALTO     1000002       SÍ  2019  (183)(182)(124)(125)(99)(37)(33)(101)                 NaN    01/03/2016        2021/07/13    31/07/2023  JORNADA 44 HORAS            MU191  Municipalidad de Osorno            NaN  Región de Los Lagos                    1688431         PROFESOR DE EDUCACION MEDIA       0.0\n",
       "1000003                  0.0                   0.0                    0.0      PEREZ  Agosto  MARCELA DEL CARMEN                 0.0                  0.0                   0.0  PAREDES  Planta  Técnicopedagógico                 Pesos  JEFE(A) UNIDAD TECNICA PEDAGOGICA DE EDUCACION...     1000003       SÍ  2019      (183)(182)(125)(100)(37)(33)(101)                 NaN    25/04/2002        2021/07/13    Indefinido  JORNADA 44 HORAS            MU191  Municipalidad de Osorno            NaN  Región de Los Lagos                    2174828        PROFESOR DE EDUCACION BASICA       0.0"
      ],
      "text/html": [
       "<div>\n",
       "<style scoped>\n",
       "    .dataframe tbody tr th:only-of-type {\n",
       "        vertical-align: middle;\n",
       "    }\n",
       "\n",
       "    .dataframe tbody tr th {\n",
       "        vertical-align: top;\n",
       "    }\n",
       "\n",
       "    .dataframe thead th {\n",
       "        text-align: right;\n",
       "    }\n",
       "</style>\n",
       "<table border=\"1\" class=\"dataframe\">\n",
       "  <thead>\n",
       "    <tr style=\"text-align: right;\">\n",
       "      <th></th>\n",
       "      <th>Horas extra diurnas</th>\n",
       "      <th>Horas extra festivas</th>\n",
       "      <th>Horas extra nocturnas</th>\n",
       "      <th>Materno</th>\n",
       "      <th>Mes</th>\n",
       "      <th>Nombres</th>\n",
       "      <th>Pago extra diurnas</th>\n",
       "      <th>Pago extra festivas</th>\n",
       "      <th>Pago extra nocturnas</th>\n",
       "      <th>Paterno</th>\n",
       "      <th>Regimen</th>\n",
       "      <th>Tipo Estamento</th>\n",
       "      <th>Tipo Unidad monetaria</th>\n",
       "      <th>Tipo cargo</th>\n",
       "      <th>Unnamed: 0</th>\n",
       "      <th>activado</th>\n",
       "      <th>anyo</th>\n",
       "      <th>asignaciones</th>\n",
       "      <th>descripcion_funcion</th>\n",
       "      <th>fecha_ingreso</th>\n",
       "      <th>fecha_publicacion</th>\n",
       "      <th>fecha_termino</th>\n",
       "      <th>grado_eus</th>\n",
       "      <th>organismo_codigo</th>\n",
       "      <th>organismo_nombre</th>\n",
       "      <th>pago_mensuales</th>\n",
       "      <th>region</th>\n",
       "      <th>remuneracionbruta_mensual</th>\n",
       "      <th>tipo_calificacionp</th>\n",
       "      <th>viaticos</th>\n",
       "    </tr>\n",
       "  </thead>\n",
       "  <tbody>\n",
       "    <tr>\n",
       "      <th>1000000</th>\n",
       "      <td>0.0</td>\n",
       "      <td>0.0</td>\n",
       "      <td>0.0</td>\n",
       "      <td>VARGAS</td>\n",
       "      <td>Agosto</td>\n",
       "      <td>RICARDO FRANCISCO</td>\n",
       "      <td>0.0</td>\n",
       "      <td>0.0</td>\n",
       "      <td>0.0</td>\n",
       "      <td>PAREDES</td>\n",
       "      <td>Planta</td>\n",
       "      <td>Docente</td>\n",
       "      <td>Pesos</td>\n",
       "      <td>DOCENTE DE LENGUA Y LITERATURA LICEO INDUSTRIA...</td>\n",
       "      <td>1000000</td>\n",
       "      <td>SÍ</td>\n",
       "      <td>2019</td>\n",
       "      <td>(183)(182)(124)(125)(37)(33)(101)</td>\n",
       "      <td>NaN</td>\n",
       "      <td>01/01/1996</td>\n",
       "      <td>2021/07/13</td>\n",
       "      <td>Indefinido</td>\n",
       "      <td>JORNADA 30 HORAS</td>\n",
       "      <td>MU191</td>\n",
       "      <td>Municipalidad de Osorno</td>\n",
       "      <td>NaN</td>\n",
       "      <td>Región de Los Lagos</td>\n",
       "      <td>1514231</td>\n",
       "      <td>PROFESOR DE EDUCACION MEDIA</td>\n",
       "      <td>0.0</td>\n",
       "    </tr>\n",
       "    <tr>\n",
       "      <th>1000001</th>\n",
       "      <td>0.0</td>\n",
       "      <td>0.0</td>\n",
       "      <td>0.0</td>\n",
       "      <td>SILVA</td>\n",
       "      <td>Agosto</td>\n",
       "      <td>GLORIA JACQUELINE</td>\n",
       "      <td>0.0</td>\n",
       "      <td>0.0</td>\n",
       "      <td>0.0</td>\n",
       "      <td>PAREDES</td>\n",
       "      <td>Planta</td>\n",
       "      <td>Docente</td>\n",
       "      <td>Pesos</td>\n",
       "      <td>DOCENTE DIFERENCIAL DE EDUCACION BASICA ESCUEL...</td>\n",
       "      <td>1000001</td>\n",
       "      <td>SÍ</td>\n",
       "      <td>2019</td>\n",
       "      <td>(183)(182)(124)(125)(37)(33)(101)</td>\n",
       "      <td>NaN</td>\n",
       "      <td>01/03/2010</td>\n",
       "      <td>2021/07/13</td>\n",
       "      <td>Indefinido</td>\n",
       "      <td>JORNADA 32 HORAS</td>\n",
       "      <td>MU191</td>\n",
       "      <td>Municipalidad de Osorno</td>\n",
       "      <td>NaN</td>\n",
       "      <td>Región de Los Lagos</td>\n",
       "      <td>1047545</td>\n",
       "      <td>PROFESORA DE EDUCACION DIFERENCIAL</td>\n",
       "      <td>0.0</td>\n",
       "    </tr>\n",
       "    <tr>\n",
       "      <th>1000002</th>\n",
       "      <td>1.0</td>\n",
       "      <td>0.0</td>\n",
       "      <td>0.0</td>\n",
       "      <td>RODRÍGUEZ</td>\n",
       "      <td>Agosto</td>\n",
       "      <td>FRANCISCO JAVIER</td>\n",
       "      <td>11744.0</td>\n",
       "      <td>0.0</td>\n",
       "      <td>0.0</td>\n",
       "      <td>PAREDES</td>\n",
       "      <td>Planta</td>\n",
       "      <td>Docente</td>\n",
       "      <td>Pesos</td>\n",
       "      <td>DIRECTOR(A) DE  LICEO DE RAHUE ALTO</td>\n",
       "      <td>1000002</td>\n",
       "      <td>SÍ</td>\n",
       "      <td>2019</td>\n",
       "      <td>(183)(182)(124)(125)(99)(37)(33)(101)</td>\n",
       "      <td>NaN</td>\n",
       "      <td>01/03/2016</td>\n",
       "      <td>2021/07/13</td>\n",
       "      <td>31/07/2023</td>\n",
       "      <td>JORNADA 44 HORAS</td>\n",
       "      <td>MU191</td>\n",
       "      <td>Municipalidad de Osorno</td>\n",
       "      <td>NaN</td>\n",
       "      <td>Región de Los Lagos</td>\n",
       "      <td>1688431</td>\n",
       "      <td>PROFESOR DE EDUCACION MEDIA</td>\n",
       "      <td>0.0</td>\n",
       "    </tr>\n",
       "    <tr>\n",
       "      <th>1000003</th>\n",
       "      <td>0.0</td>\n",
       "      <td>0.0</td>\n",
       "      <td>0.0</td>\n",
       "      <td>PEREZ</td>\n",
       "      <td>Agosto</td>\n",
       "      <td>MARCELA DEL CARMEN</td>\n",
       "      <td>0.0</td>\n",
       "      <td>0.0</td>\n",
       "      <td>0.0</td>\n",
       "      <td>PAREDES</td>\n",
       "      <td>Planta</td>\n",
       "      <td>Técnicopedagógico</td>\n",
       "      <td>Pesos</td>\n",
       "      <td>JEFE(A) UNIDAD TECNICA PEDAGOGICA DE EDUCACION...</td>\n",
       "      <td>1000003</td>\n",
       "      <td>SÍ</td>\n",
       "      <td>2019</td>\n",
       "      <td>(183)(182)(125)(100)(37)(33)(101)</td>\n",
       "      <td>NaN</td>\n",
       "      <td>25/04/2002</td>\n",
       "      <td>2021/07/13</td>\n",
       "      <td>Indefinido</td>\n",
       "      <td>JORNADA 44 HORAS</td>\n",
       "      <td>MU191</td>\n",
       "      <td>Municipalidad de Osorno</td>\n",
       "      <td>NaN</td>\n",
       "      <td>Región de Los Lagos</td>\n",
       "      <td>2174828</td>\n",
       "      <td>PROFESOR DE EDUCACION BASICA</td>\n",
       "      <td>0.0</td>\n",
       "    </tr>\n",
       "  </tbody>\n",
       "</table>\n",
       "</div>"
      ]
     },
     "metadata": {},
     "execution_count": 20
    }
   ],
   "metadata": {}
  },
  {
   "cell_type": "code",
   "execution_count": null,
   "source": [
    "#Limpieza de las horas extras\r\n",
    "\r\n",
    "funHist = funHist.rename(columns={'Pago extra diurnas':'montoHExDiu', 'Horas extra diurnas':'cantHExDiu'\r\n",
    "                                , 'Pago extra nocturnas':'montoHExNoc', 'Horas extra nocturnas':'cantHExNoc'\r\n",
    "                                , 'Pago extra festivas':'montoHExFes', 'Horas extra festivas':'cantHExFes'})\r\n",
    "\r\n",
    "#Diurnas\r\n",
    "funHist['montoHExDiu'] = pd.to_numeric(funHist['montoHExDiu'], errors = 'coerce') # convertimos a números\r\n",
    "funHist['montoHExDiu'] = funHist['montoHExDiu'].fillna(0.0) # imputamos missing\r\n",
    "\r\n",
    "funHist['cantHExDiu'] = pd.to_numeric(funHist['cantHExDiu'], errors = 'coerce') # convertimos a números\r\n",
    "funHist['cantHExDiu'] = funHist['cantHExDiu'].fillna(0.0) # imputamos missing\r\n",
    "\r\n",
    "#Nocturnas\r\n",
    "funHist['montoHExNoc'] = pd.to_numeric(funHist['montoHExNoc'], errors = 'coerce') # convertimos a números\r\n",
    "funHist['montoHExNoc'] = funHist['montoHExNoc'].fillna(0.0) # imputamos missing\r\n",
    "\r\n",
    "funHist['cantHExNoc'] = pd.to_numeric(funHist['cantHExNoc'], errors = 'coerce') # convertimos a números\r\n",
    "funHist['cantHExNoc'] = funHist['cantHExNoc'].fillna(0.0) # imputamos missing\r\n",
    "\r\n",
    "#Festivas\r\n",
    "unHist['montoHExFes'] = pd.to_numeric(funHist['montoHExFes'], errors = 'coerce') # convertimos a números\r\n",
    "funHist['montoHExFes'] = funHist['montoHExFes'].fillna(0.0) # imputamos missing\r\n",
    "\r\n",
    "funHist['cantHExFes'] = pd.to_numeric(funHist['cantHExFes'], errors = 'coerce') # convertimos a números\r\n",
    "funHist['cantHExFes'] = funHist['cantHExFes'].fillna(0.0) # imputamos missing"
   ],
   "outputs": [],
   "metadata": {}
  },
  {
   "cell_type": "code",
   "execution_count": 24,
   "source": [
    "#Limpieza de fechas\r\n",
    "funHist['fecha_ingreso'] = funHist['fecha_ingreso'].str.replace(' 00:00:00.000', '')\r\n",
    "funHist['fecha_ingreso'] = pd.to_datetime(funHist.fecha_ingreso).dt.strftime('%d/%m/%Y')\r\n",
    "\r\n",
    "funHist['fecha_ingreso'] = funHist['fecha_publicacion'].str.replace(' 00:00:00.000', '')\r\n",
    "funHist['fecha_ingreso'] = pd.to_datetime(funHist.fecha_ingreso).dt.strftime('%d/%m/%Y')\r\n",
    "\r\n",
    "funHist['fecha_termino'] = funHist['fecha_termino'].str.replace(r'Indefinido|Sin fecha término','').str.replace(r'31\\/12\\/(([2-9][0-9][3-9][0-9])|([3-9][0-9][0-9][0-9])|([2-9][1-9][0-9][0-9]))', '').fillna('')\r\n",
    "funHist['fecha_termino'] = pd.to_datetime(funHist['fecha_termino'], errors = 'coerce').dt.strftime('%d/%m/%Y')"
   ],
   "outputs": [],
   "metadata": {}
  },
  {
   "cell_type": "code",
   "execution_count": 25,
   "source": [
    "#limpieza de Tipo Cargo\r\n",
    "funHist['Tipo cargo'] = funHist['Tipo cargo'].str.title()\r\n",
    "\r\n",
    "#Limpieza de años\r\n",
    "funHist.loc[funHist['anyo'] < 1900, 'anyo'] = 0\r\n",
    "funHist.loc[funHist['anyo'] > 2021, 'anyo'] = 0\r\n",
    "\r\n",
    "#Limpieza de descripciones\r\n",
    "funHist['descripcion_funcion'] = funHist['descripcion_funcion'].str.title()\r\n",
    "\r\n",
    "#Limpieza de nombres\r\n",
    "funHist['nombre'] = funHist['nombre'].str.title()\r\n",
    "\r\n",
    "#Limpieza de Organismo\r\n",
    "funHist['organismo_nombre'] = funHist['organismo_nombre'].str.title()\r\n",
    "\r\n",
    "#Limpieza de región\r\n",
    "funHist['region'] = funHist['region'].str.title()\r\n",
    "\r\n",
    "#Limpieza de tipo de calificación\r\n",
    "funHist['tipo_calificacionp'] = funHist['tipo_calificacionp'].str.title()   "
   ],
   "outputs": [],
   "metadata": {}
  },
  {
   "cell_type": "code",
   "execution_count": 26,
   "source": [
    "# Eliminamos campos que no entregan valor para trabajar con un dataframe más liviano\n",
    "funHist = funHist.drop(columns = {'diurnas', 'festivas', 'nocturnas'})\n",
    "\n",
    "# Limpiamos las rentas que no están en pesos\n",
    "funHist.loc[(funHist['Tipo Unidad monetaria']!='Pesos') & (funHist['remuneracionbruta_mensual'] > 30000) , 'Tipo Unidad monetaria'] = 'Pesos'\n"
   ],
   "outputs": [],
   "metadata": {}
  },
  {
   "cell_type": "markdown",
   "source": [
    "## ***Pendiente limpieza a los grados en super complejo de abordar"
   ],
   "metadata": {}
  },
  {
   "cell_type": "markdown",
   "source": [
    "#### Descarga de datos para realizar transformaciones de moneda y correción monentaria"
   ],
   "metadata": {}
  },
  {
   "cell_type": "code",
   "execution_count": 27,
   "source": [
    "#Imports necesarios\n",
    "import time #librería necesaria para medir el tiempo de ejecución \n",
    "import datetime\n",
    "import pandas as pd\n",
    "import numpy as np\n",
    "from functools import reduce\n",
    "import urllib.request\n",
    "import json\n",
    "\n",
    "# Creamos los dataframes vacios para almacenar los valores de UTM y Fechas\n",
    "dolarDiarioDF = pd.DataFrame(columns=['Fecha', 'Dolar'])\n",
    "CLFDiarioDF = pd.DataFrame(columns=['Fecha', 'CLF'])\n",
    "euroDiarioDF = pd.DataFrame(columns=['Fecha', 'Euro'])\n",
    "utmDF = pd.DataFrame(columns=['Fecha', 'UTM'])\n",
    "ipcDF = pd.DataFrame(columns=['Fecha', 'IPC'])\n",
    "\n",
    "# Generamos el ciclo para recorrer los años y leer desde la API los datos de UTM\n",
    "for i in range(2008, 2021):\n",
    "    with urllib.request.urlopen(\"https://mindicador.cl/api/dolar/\"+str(i)) as url:\n",
    "        dolar = json.loads(url.read().decode())\n",
    "    \n",
    "    with urllib.request.urlopen(\"https://mindicador.cl/api/uf/\"+str(i)) as url:\n",
    "        uf = json.loads(url.read().decode())\n",
    "    \n",
    "    with urllib.request.urlopen(\"https://mindicador.cl/api/euro/\"+str(i)) as url:\n",
    "        euro = json.loads(url.read().decode())\n",
    "    \n",
    "    with urllib.request.urlopen(\"https://mindicador.cl/api/utm/\"+str(i)) as url:\n",
    "        utm = json.loads(url.read().decode())\n",
    "        \n",
    "    with urllib.request.urlopen(\"https://mindicador.cl/api/ipc/\"+str(i)) as url:\n",
    "        ipc = json.loads(url.read().decode())\n",
    "    \n",
    "    # Generamos los ciclos en que se añaden los dataframes los valores obtenidos desde la API    \n",
    "    for x in range(len(dolar['serie'])):\n",
    "        dolarDiarioDF = dolarDiarioDF.append({'Fecha' : dolar['serie'][x]['fecha'][0:7] , 'Dolar' : dolar['serie'][x]['valor']} , ignore_index=True) \n",
    "    \n",
    "    for x in range(len(uf['serie'])):\n",
    "        CLFDiarioDF = CLFDiarioDF.append({'Fecha' : uf['serie'][x]['fecha'][0:7] , 'CLF' : uf['serie'][x]['valor']} , ignore_index=True)\n",
    "    \n",
    "    for x in range(len(euro['serie'])):\n",
    "        euroDiarioDF = euroDiarioDF.append({'Fecha' : euro['serie'][x]['fecha'][0:7] , 'Euro' : euro['serie'][x]['valor']} , ignore_index=True)\n",
    "    \n",
    "    for x in range(len(utm['serie'])):\n",
    "        utmDF = utmDF.append({'Fecha' : utm['serie'][x]['fecha'][0:7] , 'UTM' : utm['serie'][x]['valor']} , ignore_index=True)\n",
    "        \n",
    "    for x in range(len(ipc['serie'])):\n",
    "        ipcDF = ipcDF.append({'Fecha' : ipc['serie'][x]['fecha'][0:7] , 'IPC' : ipc['serie'][x]['valor']} , ignore_index=True)\n",
    "\n",
    "\n",
    "# Agrupamos por promedio para efectos prácticos\n",
    "dolarDF = dolarDiarioDF.groupby(['Fecha'])[['Dolar']].mean()\n",
    "CLFDF = CLFDiarioDF.groupby(['Fecha'])[['CLF']].mean()\n",
    "euroDF = euroDiarioDF.groupby(['Fecha'])[['Euro']].mean()\n",
    "\n",
    "# Unimos los dataframes y lo guardamos en uno nuevo\n",
    "monedas = reduce(lambda x,y: pd.merge(x,y, on='Fecha', how='left'), [dolarDF, CLFDF, euroDF, utmDF, ipcDF])\n",
    "\n",
    "# calculamos el IPC en términos de su valor en índice\n",
    "monedas['IPC'] = monedas['IPC'].fillna(0)\n",
    "monedas['ipcIndices'] = 0.0\n",
    "for index, row in monedas.iterrows():\n",
    "    if index == 0:\n",
    "        monedas['ipcIndices'][index] =  72.0007284469403   \n",
    "    else:\n",
    "        monedas['ipcIndices'][index] = monedas['ipcIndices'][index - 1] + monedas['IPC'][index] * monedas['ipcIndices'][index - 1] / 100\n",
    "\n",
    "# en base al valor índice calculamos los factores de corrección y limpiamos el dataframe\n",
    "monedas['factorIPC'] = 0.0\n",
    "for index, row in monedas.iterrows():\n",
    "    monedas['factorIPC'][index] = monedas['ipcIndices'][len(monedas)-1] / monedas['ipcIndices'][index]\n",
    "    \n",
    "monedas = monedas.drop(columns = ['IPC'])\n"
   ],
   "outputs": [
    {
     "output_type": "stream",
     "name": "stderr",
     "text": [
      "C:\\ProgramData\\Anaconda3\\lib\\site-packages\\ipykernel_launcher.py:64: SettingWithCopyWarning: \n",
      "A value is trying to be set on a copy of a slice from a DataFrame\n",
      "\n",
      "See the caveats in the documentation: https://pandas.pydata.org/pandas-docs/stable/user_guide/indexing.html#returning-a-view-versus-a-copy\n",
      "C:\\ProgramData\\Anaconda3\\lib\\site-packages\\ipykernel_launcher.py:66: SettingWithCopyWarning: \n",
      "A value is trying to be set on a copy of a slice from a DataFrame\n",
      "\n",
      "See the caveats in the documentation: https://pandas.pydata.org/pandas-docs/stable/user_guide/indexing.html#returning-a-view-versus-a-copy\n",
      "C:\\ProgramData\\Anaconda3\\lib\\site-packages\\ipykernel_launcher.py:71: SettingWithCopyWarning: \n",
      "A value is trying to be set on a copy of a slice from a DataFrame\n",
      "\n",
      "See the caveats in the documentation: https://pandas.pydata.org/pandas-docs/stable/user_guide/indexing.html#returning-a-view-versus-a-copy\n"
     ]
    }
   ],
   "metadata": {}
  },
  {
   "cell_type": "code",
   "execution_count": 28,
   "source": [
    "#elimación de datos de IPC innecesarios\n",
    "monedas = monedas.drop(columns = {'ipcIndices'})"
   ],
   "outputs": [],
   "metadata": {}
  },
  {
   "cell_type": "code",
   "execution_count": null,
   "source": [
    "funHist"
   ],
   "outputs": [],
   "metadata": {}
  },
  {
   "cell_type": "code",
   "execution_count": 29,
   "source": [
    "#creación del campo mes como \"numero\" para hacer merge con monedas\n",
    "funHist.loc[funHist['Mes']=='Enero', 'mesN'] = '01'\n",
    "funHist.loc[funHist['Mes']=='Febrero', 'mesN'] = '02'\n",
    "funHist.loc[funHist['Mes']=='Marzo', 'mesN'] = '03'\n",
    "funHist.loc[funHist['Mes']=='Abril', 'mesN'] = '04'\n",
    "funHist.loc[funHist['Mes']=='Mayo', 'mesN'] = '05'\n",
    "funHist.loc[funHist['Mes']=='Junio', 'mesN'] = '06'\n",
    "funHist.loc[funHist['Mes']=='Julio', 'mesN'] = '07'\n",
    "funHist.loc[funHist['Mes']=='Agosto', 'mesN'] = '08'\n",
    "funHist.loc[funHist['Mes']=='Septiembre', 'mesN'] = '09'\n",
    "funHist.loc[funHist['Mes']=='Octubre', 'mesN'] = '10'\n",
    "funHist.loc[funHist['Mes']=='Noviembre', 'mesN'] = '11'\n",
    "funHist.loc[funHist['Mes']=='Diciembre', 'mesN'] = '12'"
   ],
   "outputs": [],
   "metadata": {}
  },
  {
   "cell_type": "code",
   "execution_count": 30,
   "source": [
    "#creación del campo año mes para fusionar con monedas\n",
    "funHist['Fecha'] = funHist['anyo'].astype(str) + '-' + funHist['mesN']"
   ],
   "outputs": [],
   "metadata": {}
  },
  {
   "cell_type": "code",
   "execution_count": 31,
   "source": [
    "# merge con monedas\n",
    "funHist = funHist.merge(monedas, how = 'left', left_on = 'Fecha', right_on = 'Fecha')"
   ],
   "outputs": [],
   "metadata": {}
  },
  {
   "cell_type": "code",
   "execution_count": 33,
   "source": [
    "# Calculo de remuneración bruta mensual en pesos reales\n",
    "funHist['RemBrutaPesosReal'] = 0\n",
    "funHist.loc[funHist['Tipo Unidad monetaria']=='Pesos', 'RemBrutaPesosReal'] = funHist['remuneracionbruta_mensual'] * funHist['factorIPC']\n",
    "funHist.loc[funHist['Tipo Unidad monetaria']=='Dólares', 'RemBrutaPesosReal'] = funHist['remuneracionbruta_mensual'] * funHist['factorIPC'] * funHist['Dolar']\n",
    "funHist.loc[funHist['Tipo Unidad monetaria']=='UTM', 'RemBrutaPesosReal'] = funHist['remuneracionbruta_mensual'] * funHist['factorIPC'] * funHist['UTM']\n",
    "funHist.loc[funHist['Tipo Unidad monetaria']=='Miles de pesos', 'RemBrutaPesosReal'] = funHist['remuneracionbruta_mensual'] * funHist['factorIPC'] * 1000\n",
    "funHist.loc[funHist['Tipo Unidad monetaria']=='Euros', 'RemBrutaPesosReal'] = funHist['remuneracionbruta_mensual'] * funHist['factorIPC'] * funHist['Euro']\n",
    "funHist.loc[funHist['Tipo Unidad monetaria']=='UF', 'RemBrutaPesosReal'] = funHist['remuneracionbruta_mensual'] * funHist['factorIPC'] * funHist['CLF']\n"
   ],
   "outputs": [],
   "metadata": {
    "scrolled": true
   }
  },
  {
   "cell_type": "code",
   "execution_count": 34,
   "source": [
    "# Calculo de montos de horas extrasmensual en pesos reales\n",
    "funHist['HEDiuReal'] = funHist['montoHExDiu'] * funHist['factorIPC']\n",
    "funHist['HENocReal'] = funHist['montoHExNoc'] * funHist['factorIPC']\n",
    "funHist['HEFesReal'] = funHist['montoHExFes'] * funHist['factorIPC']\n",
    "funHist['ViaticosReal'] = funHist['viaticos'] * funHist['factorIPC']\n",
    "funHist['HorasExtrasMontoReal'] = funHist['HEDiuReal'] + funHist['HENocReal'] + funHist['HEFesReal']\n",
    "funHist['HorasExtrasCantTotal'] = funHist['cantHExDiu'] + funHist['cantHExNoc'] + funHist['cantHExFes']\n"
   ],
   "outputs": [],
   "metadata": {}
  },
  {
   "cell_type": "code",
   "execution_count": 35,
   "source": [
    "# Eliminamos las monedas a no ser usadas\n",
    "funHist = funHist.drop(columns = {'factorIPC', 'Dolar', 'UTM', 'Euro', 'CLF'})"
   ],
   "outputs": [],
   "metadata": {}
  },
  {
   "cell_type": "code",
   "execution_count": null,
   "source": [
    "funHist['Regimen'] = funHist['Regimen'].astype('category')\n",
    "funHist['Tipo Estamento'] = funHist['Tipo Estamento'].astype('category')\n",
    "funHist['Tipo Unidad monetaria'] = funHist['Tipo Unidad monetaria'].astype('category')\n",
    "funHist['Tipo cargo'] = funHist['Tipo cargo'].astype('category')\n",
    "funHist['asignaciones'] = funHist['asignaciones'].astype('category')\n",
    "funHist['descripcion_funcion'] = funHist['descripcion_funcion'].astype('category')\n",
    "funHist['fecha_ingreso'] = pd.to_datetime(funHist['fecha_ingreso'])\n",
    "funHist['fecha_publicacion'] = pd.to_datetime(funHist['fecha_publicacion'])\n",
    "funHist['fecha_termino'] = pd.to_datetime(funHist['fecha_termino'])\n",
    "funHist['grado_eus'] = funHist['grado_eus'].astype('category')\n",
    "funHist['nombre'] = funHist['nombre'].astype('category')\n",
    "funHist['organismo_codigo'] = funHist['organismo_codigo'].astype('category')\n",
    "funHist['organismo_nombre'] = funHist['organismo_nombre'].astype('category')\n",
    "funHist['pago_mensuales'] = funHist['pago_mensuales'].astype('category')\n",
    "funHist['region'] = funHist['region'].astype('category')\n",
    "funHist['tipo_calificacionp'] = funHist['tipo_calificacionp'].astype('category')\n",
    "funHist['mesN'] = funHist['mesN'].astype('category')\n",
    "funHist['Fecha'] = funHist['Fecha'].astype('category')\n",
    "funHist['RemBrutaPesosReal'] = funHist['RemBrutaPesosReal'].astype(float)"
   ],
   "outputs": [],
   "metadata": {}
  },
  {
   "cell_type": "code",
   "execution_count": 194,
   "source": [
    "funHist2 = funHist.copy()"
   ],
   "outputs": [],
   "metadata": {}
  },
  {
   "cell_type": "markdown",
   "source": [
    "### Respaldo de lo trabajado en bbdd"
   ],
   "metadata": {}
  },
  {
   "cell_type": "code",
   "execution_count": 112,
   "source": [
    "import os\n",
    "os.environ['MYSQL_FUNC_USER'] = 'server'\n",
    "os.environ['MYSQL_FUNC_PASS'] = 'server'\n",
    "os.environ['MYSQL_FUNC_HOST'] = '192.168.2.2'\n",
    "os.environ['MYSQL_FUNC_DB'] = 'funcionarios'\n",
    "\n",
    "#Importamos las credenciales que usaremos en todo el notebook\n",
    "\n",
    "user = os.getenv('MYSQL_FUNC_USER')\n",
    "passwd = os.getenv('MYSQL_FUNC_PASS')\n",
    "host = os.getenv('MYSQL_FUNC_HOST')\n",
    "db = os.getenv('MYSQL_FUNC_DB')"
   ],
   "outputs": [],
   "metadata": {}
  },
  {
   "cell_type": "markdown",
   "source": [
    "### Tabla de Servicios"
   ],
   "metadata": {}
  },
  {
   "cell_type": "code",
   "execution_count": 163,
   "source": [
    "#Código del Trabajo\n",
    "Servicios = pd.read_csv('http://www.cplt.cl/transparencia_activa/datoabierto/archivos/Organismos_360.csv', encoding = 'cp1252', sep = ';')\n",
    "Servicios.to_sql(name='Servicios', con=engine, if_exists = 'replace', index=True, chunksize = 10000)"
   ],
   "outputs": [],
   "metadata": {}
  },
  {
   "cell_type": "code",
   "execution_count": 182,
   "source": [
    "import sqlalchemy as sa\n",
    "\n",
    "engine2 = sa.create_engine('vertica+vertica_python://dbadmin:1@192.168.2.2:5433/chc')"
   ],
   "outputs": [],
   "metadata": {}
  },
  {
   "cell_type": "code",
   "execution_count": 183,
   "source": [
    "funHist2 = funHist2.rename(columns = {'Tipo Estamento':'TipoEstamento', 'Tipo Unidad monetaria':'TipoUnidadMonetaria', \n",
    "                                     'Tipo cargo': 'TipoCargo', 'descripcion_funcion':'DescripcionFuncion',\n",
    "                                     'fecha_ingreso': 'FechaIngreso', 'fecha_publicacion':'FechaPublicacion',\n",
    "                                     'fecha_termino':'FechaTermino', 'grado_eus':'GradoEus', 'organismo_codigo':'OrganismoCodigo',\n",
    "                                     'organismo_nombre':'OrganismoNombre', 'pago_mensuales':'PagoMensuales',\n",
    "                                     'tipo_calificacionp':'TipoCalificacionp', 'remuneracionbruta_mensual':'remuneracionbrutamensual'})"
   ],
   "outputs": [],
   "metadata": {}
  },
  {
   "cell_type": "code",
   "execution_count": 186,
   "source": [
    "funHist2.to_sql(name='full', con=engine2, if_exists = 'replace', index=False ,chunksize = 60000, schema = 'funcionarios',\n",
    "               dtype={'Mes': VARCHAR(50),\n",
    "                      'Regimen': VARCHAR(50),\n",
    "                      'TipoEstamento': VARCHAR(255),\n",
    "                      'TipoUnidadMonetaria': VARCHAR(50),\n",
    "                      'TipoCargo': VARCHAR(255),\n",
    "                      'asignaciones': VARCHAR(2500),\n",
    "                      'DescripcionFuncion': VARCHAR(8000),\n",
    "                      'FechaIngreso': VARCHAR(50),\n",
    "                      'FechaPublicacion': VARCHAR(50),\n",
    "                      'FechaTermino': VARCHAR(50),\n",
    "                      'GradoEus': VARCHAR(255),\n",
    "                      'nombre': VARCHAR(500),\n",
    "                      'OrganismoCodigo': VARCHAR(50),\n",
    "                      'OrganismoNombre': VARCHAR(255),\n",
    "                      'PagoMensuales': VARCHAR(255),\n",
    "                      'region': VARCHAR(255),\n",
    "                      'TipoCalificacionp': VARCHAR(2500),\n",
    "                      'Fecha': VARCHAR(255),\n",
    "                      'mesN': VARCHAR(50)})"
   ],
   "outputs": [],
   "metadata": {}
  },
  {
   "cell_type": "code",
   "execution_count": 193,
   "source": [
    "#Servicios = pd.read_csv('http://www.cplt.cl/transparencia_activa/datoabierto/archivos/Organismos_360.csv', encoding = 'cp1252', sep = ';')\n",
    "Servicios.to_sql(name='Servicios', con=engine2, if_exists = 'replace', index=False ,chunksize = 1000, schema = 'funcionarios',\n",
    "               dtype={\"Codigo_org\": VARCHAR(50), \n",
    "                        \"Organismo\" : VARCHAR(255), \n",
    "                        \"Codigo_padre\" : VARCHAR(255), \n",
    "                        \"Padre_org\" : VARCHAR(255), \n",
    "                        \"Region\" : VARCHAR(255), \n",
    "                        \"Municipalidad\" : VARCHAR(255), \n",
    "                        \"direccion\" : VARCHAR(255), \n",
    "                        \"telefono\" : VARCHAR(255), \n",
    "                        \"url_organismo\" : VARCHAR(255), \n",
    "                        \"url_orgtransparencia\" : VARCHAR(255), \n",
    "                        \"horario_publico\" : VARCHAR(500), \n",
    "                        \"nombre_encargado\" : VARCHAR(255), \n",
    "                        \"email\" : VARCHAR(255), \n",
    "                        \"rut\" : VARCHAR(255), \n",
    "                        \"tipo_cuenta\" : VARCHAR(255), \n",
    "                        \"banco\" : VARCHAR(255), \n",
    "                        \"url_sai\" : VARCHAR(255), \n",
    "                        \"fax\" : VARCHAR(255), \n",
    "                        \"Ingresa\" : VARCHAR(255), \n",
    "                        \"obligadorecibir_sai\" : VARCHAR(255), \n",
    "                        \"organismo_autonomo\" : VARCHAR(255), \n",
    "                        \"interopera\" : VARCHAR(255), \n",
    "                        \"tiene_ta\" : VARCHAR(255), \n",
    "                        \"fecha_ta\" : VARCHAR(255)})"
   ],
   "outputs": [],
   "metadata": {}
  }
 ],
 "metadata": {
  "kernelspec": {
   "name": "python3",
   "display_name": "Python 3.8.11 64-bit ('base': conda)"
  },
  "language_info": {
   "codemirror_mode": {
    "name": "ipython",
    "version": 3
   },
   "file_extension": ".py",
   "mimetype": "text/x-python",
   "name": "python",
   "nbconvert_exporter": "python",
   "pygments_lexer": "ipython3",
   "version": "3.8.11"
  },
  "interpreter": {
   "hash": "b3ba2566441a7c06988d0923437866b63cedc61552a5af99d1f4fb67d367b25f"
  }
 },
 "nbformat": 4,
 "nbformat_minor": 4
}