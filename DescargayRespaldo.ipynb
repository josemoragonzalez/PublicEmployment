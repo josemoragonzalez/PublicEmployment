{
 "cells": [
  {
   "cell_type": "markdown",
   "source": [
    "# Funcionarios Públicos\n",
    "\n",
    "El presente notobook permite descargar, limpiar y almacenar los datos provenietes del [repositorio de datos abiertos de personal](https://www.portaltransparencia.cl/PortalPdT/web/guest/opendata#_48_INSTANCE_GI66ozEZ7DNy_=dataset%2Ftransparencia-activa-publicada-en-el-portal) del Consejo Para La Transparencia (CPLT).\n",
    "Para ejecutar este notebook, se tienen los siguiente prerequisitos:\n",
    "\n",
    "- Tener instalado el gestor de base de datos MySQL en algún servidor accesible por el usuario con permisos de escritura.\n",
    "- Tener instalado Anaconda Python y creado un ambiente que contenga las siguientes librerías: pandas, numpy, time, date, datetime, functools, urllib, json, mysql.connector, sqlalchemy\n"
   ],
   "metadata": {}
  },
  {
   "cell_type": "markdown",
   "source": [
    "### Descarga de datos desde el Portal de Transparencia\n",
    "⚠️ **La ejecución de este notebook requiere de al menos 32GB de RAM**, de preferencia 64 GB de RAM par evitar uso de SWAP memeroy, especialmente si utilizas discos HDD y no SSD"
   ],
   "metadata": {}
  },
  {
   "cell_type": "code",
   "execution_count": 1,
   "source": [
    "# librerias necesarias\r\n",
    "import pandas as pd\r\n",
    "\r\n",
    "# Descarga de las cuatro bases (planta, contrata, honorarios, cod trabajo)\r\n",
    "#Planta\r\n",
    "planta = pd.read_csv('http://www.cplt.cl/transparencia_activa/datoabierto/archivos/TA_PersonalPlanta.csv', encoding = 'cp1252', sep = ';')\r\n",
    "planta.to_csv('G:/temp/planta.csv')\r\n",
    "planta['Regimen'] = 'Planta'\r\n",
    "#Contrata\r\n",
    "contrata = pd.read_csv('http://www.cplt.cl/transparencia_activa/datoabierto/archivos/TA_PersonalContrata.csv', encoding = 'cp1252', sep = ';')\r\n",
    "contrata['Regimen'] = 'Contrata'\r\n",
    "#Honorarios\r\n",
    "honorarios = pd.read_csv('http://www.cplt.cl/transparencia_activa/datoabierto/archivos/TA_PersonalContratohonorarios.csv', encoding = 'cp1252', sep = ';')\r\n",
    "honorarios['Regimen'] = 'Honorarios'\r\n",
    "honorarios = honorarios.rename(columns={'remuneracionbruta': 'remuneracionbruta_mensual'})\r\n",
    "#Código del Trabajo\r\n",
    "codTrabajo = pd.read_csv('http://www.cplt.cl/transparencia_activa/datoabierto/archivos/TA_PersonalCodigotrabajo.csv', encoding = 'cp1252', sep = ';')\r\n",
    "codTrabajo['Regimen'] = 'Código del Trabajo'\r\n",
    "\r\n",
    "planta.to_csv('G:/temp/planta.csv')\r\n",
    "contrata.to_csv('G:/temp/contrata.csv')\r\n",
    "honorarios.to_csv('G:/temp/honorarios.csv')\r\n",
    "codTrabajo.to_csv('G:/temp/codTrabajo.csv')"
   ],
   "outputs": [
    {
     "output_type": "stream",
     "name": "stderr",
     "text": [
      "C:\\ProgramData\\Anaconda3\\lib\\site-packages\\IPython\\core\\interactiveshell.py:3441: DtypeWarning: Columns (10) have mixed types.Specify dtype option on import or set low_memory=False.\n",
      "  exec(code_obj, self.user_global_ns, self.user_ns)\n"
     ]
    }
   ],
   "metadata": {}
  },
  {
   "cell_type": "code",
   "execution_count": 2,
   "source": [
    "import pandas as pd\r\n",
    "\r\n",
    "# Descarga de las cuatro bases (planta, contrata, honorarios, cod trabajo)\r\n",
    "#Planta\r\n",
    "planta = pd.read_csv('G:/temp/planta.csv', sep = ',')\r\n",
    "planta['Regimen'] = 'Planta'\r\n",
    "#Contrata\r\n",
    "contrata = pd.read_csv('G:/temp/contrata.csv', sep = ',')\r\n",
    "contrata['Regimen'] = 'Contrata'\r\n",
    "#Honorarios\r\n",
    "honorarios = pd.read_csv('G:/temp/honorarios.csv', sep = ',')\r\n",
    "honorarios['Regimen'] = 'Honorarios'\r\n",
    "honorarios = honorarios.rename(columns={'remuneracionbruta': 'remuneracionbruta_mensual'})\r\n",
    "#Código del Trabajo\r\n",
    "codTrabajo = pd.read_csv('G:/temp/codTrabajo.csv', sep = ',')\r\n",
    "codTrabajo['Regimen'] = 'Código del Trabajo'"
   ],
   "outputs": [
    {
     "output_type": "stream",
     "name": "stderr",
     "text": [
      "C:\\ProgramData\\Anaconda3\\lib\\site-packages\\IPython\\core\\interactiveshell.py:3441: DtypeWarning: Columns (11,27) have mixed types.Specify dtype option on import or set low_memory=False.\n",
      "  exec(code_obj, self.user_global_ns, self.user_ns)\n",
      "C:\\ProgramData\\Anaconda3\\lib\\site-packages\\IPython\\core\\interactiveshell.py:3441: DtypeWarning: Columns (11) have mixed types.Specify dtype option on import or set low_memory=False.\n",
      "  exec(code_obj, self.user_global_ns, self.user_ns)\n"
     ]
    }
   ],
   "metadata": {}
  },
  {
   "cell_type": "code",
   "execution_count": 3,
   "source": [
    "#Unimos los datasets\r\n",
    "funHist = pd.concat([planta, contrata, codTrabajo, honorarios], sort = True)\r\n"
   ],
   "outputs": [],
   "metadata": {}
  },
  {
   "cell_type": "code",
   "execution_count": 4,
   "source": [
    "funHist.info()"
   ],
   "outputs": [
    {
     "output_type": "stream",
     "name": "stdout",
     "text": [
      "<class 'pandas.core.frame.DataFrame'>\n",
      "Int64Index: 35659804 entries, 0 to 6506132\n",
      "Data columns (total 34 columns):\n",
      " #   Column                     Dtype  \n",
      "---  ------                     -----  \n",
      " 0   Horas extra diurnas        float64\n",
      " 1   Horas extra festivas       float64\n",
      " 2   Horas extra nocturnas      float64\n",
      " 3   Materno                    object \n",
      " 4   Mes                        object \n",
      " 5   Nombres                    object \n",
      " 6   Pago extra diurnas         float64\n",
      " 7   Pago extra festivas        float64\n",
      " 8   Pago extra nocturnas       float64\n",
      " 9   Paterno                    object \n",
      " 10  Regimen                    object \n",
      " 11  Tipo Estamento             object \n",
      " 12  Tipo Unidad monetaria      object \n",
      " 13  Tipo cargo                 object \n",
      " 14  Unnamed: 0                 int64  \n",
      " 15  activado                   object \n",
      " 16  anyo                       int64  \n",
      " 17  asignaciones               object \n",
      " 18  camino                     object \n",
      " 19  descripcion_funcion        object \n",
      " 20  enlace                     object \n",
      " 21  fecha_ingreso              object \n",
      " 22  fecha_publicacion          object \n",
      " 23  fecha_termino              object \n",
      " 24  grado_eus                  object \n",
      " 25  observaciones              object \n",
      " 26  organismo_codigo           object \n",
      " 27  organismo_nombre           object \n",
      " 28  pago_mensuales             object \n",
      " 29  region                     object \n",
      " 30  remuliquida_mensual        float64\n",
      " 31  remuneracionbruta_mensual  int64  \n",
      " 32  tipo_calificacionp         object \n",
      " 33  viaticos                   float64\n",
      "dtypes: float64(8), int64(3), object(23)\n",
      "memory usage: 9.3+ GB\n"
     ]
    }
   ],
   "metadata": {}
  },
  {
   "cell_type": "markdown",
   "source": [
    "#### **Limpieza de cada campo**"
   ],
   "metadata": {}
  },
  {
   "cell_type": "code",
   "execution_count": 5,
   "source": [
    "# eliminamos campos innecesarios\r\n",
    "funHist = funHist.drop(columns = {'camino', 'enlace', 'observaciones', 'remuliquida_mensual'})"
   ],
   "outputs": [],
   "metadata": {
    "scrolled": true
   }
  },
  {
   "cell_type": "markdown",
   "source": [
    "pd.set_option('display.max_rows', 500)\r\n",
    "pd.set_option('display.max_columns', 500)\r\n",
    "pd.set_option('display.width', 1000)\r\n",
    "funHist.iloc[1000000:1000004]"
   ],
   "metadata": {}
  },
  {
   "cell_type": "code",
   "execution_count": 6,
   "source": [
    "#Limpieza de las horas extras\r\n",
    "\r\n",
    "funHist = funHist.rename(columns={'Pago extra diurnas':'montoHExDiu', 'Horas extra diurnas':'cantHExDiu'\r\n",
    "                                , 'Pago extra nocturnas':'montoHExNoc', 'Horas extra nocturnas':'cantHExNoc'\r\n",
    "                                , 'Pago extra festivas':'montoHExFes', 'Horas extra festivas':'cantHExFes'})\r\n",
    "\r\n",
    "#Diurnas\r\n",
    "funHist['montoHExDiu'] = pd.to_numeric(funHist['montoHExDiu'], errors = 'coerce') # convertimos a números\r\n",
    "funHist['montoHExDiu'] = funHist['montoHExDiu'].fillna(0.0) # imputamos missing\r\n",
    "\r\n",
    "funHist['cantHExDiu'] = pd.to_numeric(funHist['cantHExDiu'], errors = 'coerce') # convertimos a números\r\n",
    "funHist['cantHExDiu'] = funHist['cantHExDiu'].fillna(0.0) # imputamos missing\r\n",
    "\r\n",
    "#Nocturnas\r\n",
    "funHist['montoHExNoc'] = pd.to_numeric(funHist['montoHExNoc'], errors = 'coerce') # convertimos a números\r\n",
    "funHist['montoHExNoc'] = funHist['montoHExNoc'].fillna(0.0) # imputamos missing\r\n",
    "\r\n",
    "funHist['cantHExNoc'] = pd.to_numeric(funHist['cantHExNoc'], errors = 'coerce') # convertimos a números\r\n",
    "funHist['cantHExNoc'] = funHist['cantHExNoc'].fillna(0.0) # imputamos missing\r\n",
    "\r\n",
    "#Festivas\r\n",
    "funHist['montoHExFes'] = pd.to_numeric(funHist['montoHExFes'], errors = 'coerce') # convertimos a números\r\n",
    "funHist['montoHExFes'] = funHist['montoHExFes'].fillna(0.0) # imputamos missing\r\n",
    "\r\n",
    "funHist['cantHExFes'] = pd.to_numeric(funHist['cantHExFes'], errors = 'coerce') # convertimos a números\r\n",
    "funHist['cantHExFes'] = funHist['cantHExFes'].fillna(0.0) # imputamos missing"
   ],
   "outputs": [],
   "metadata": {}
  },
  {
   "cell_type": "code",
   "execution_count": 7,
   "source": [
    "#Limpieza de fechas\r\n",
    "funHist['fecha_ingreso'] = funHist['fecha_ingreso'].str.replace(' 00:00:00.000', '').str.replace('1-01-01 00:00:00', '')\r\n",
    "funHist['fecha_ingreso'] = pd.to_datetime(funHist.fecha_ingreso, errors = 'coerce').dt.strftime('%d/%m/%Y')\r\n",
    "\r\n",
    "funHist['fecha_publicacion'] = funHist['fecha_publicacion'].str.replace(' 00:00:00.000', '').str.replace('1-01-01 00:00:00', '')\r\n",
    "funHist['fecha_publicacion'] = pd.to_datetime(funHist.fecha_publicacion, errors = 'coerce').dt.strftime('%d/%m/%Y')\r\n",
    "\r\n",
    "funHist['fecha_termino'] = funHist['fecha_termino'].str.replace(r'Indefinido|Sin fecha término','').str.replace(r'31\\/12\\/(([2-9][0-9][3-9][0-9])|([3-9][0-9][0-9][0-9])|([2-9][1-9][0-9][0-9]))', '').fillna('')\r\n",
    "funHist['fecha_termino'] = pd.to_datetime(funHist['fecha_termino'], errors = 'coerce').dt.strftime('%d/%m/%Y')"
   ],
   "outputs": [
    {
     "output_type": "stream",
     "name": "stderr",
     "text": [
      "<ipython-input-7-6373bf0e29d9>:2: FutureWarning: The default value of regex will change from True to False in a future version.\n",
      "  funHist['fecha_ingreso'] = funHist['fecha_ingreso'].str.replace(' 00:00:00.000', '').str.replace('1-01-01 00:00:00', '')\n",
      "<ipython-input-7-6373bf0e29d9>:5: FutureWarning: The default value of regex will change from True to False in a future version.\n",
      "  funHist['fecha_publicacion'] = funHist['fecha_publicacion'].str.replace(' 00:00:00.000', '').str.replace('1-01-01 00:00:00', '')\n",
      "<ipython-input-7-6373bf0e29d9>:8: FutureWarning: The default value of regex will change from True to False in a future version.\n",
      "  funHist['fecha_termino'] = funHist['fecha_termino'].str.replace(r'Indefinido|Sin fecha término','').str.replace(r'31\\/12\\/(([2-9][0-9][3-9][0-9])|([3-9][0-9][0-9][0-9])|([2-9][1-9][0-9][0-9]))', '').fillna('')\n"
     ]
    }
   ],
   "metadata": {}
  },
  {
   "cell_type": "code",
   "execution_count": 8,
   "source": [
    "funHist.keys()"
   ],
   "outputs": [
    {
     "output_type": "execute_result",
     "data": {
      "text/plain": [
       "Index(['cantHExDiu', 'cantHExFes', 'cantHExNoc', 'Materno', 'Mes', 'Nombres',\n",
       "       'montoHExDiu', 'montoHExFes', 'montoHExNoc', 'Paterno', 'Regimen',\n",
       "       'Tipo Estamento', 'Tipo Unidad monetaria', 'Tipo cargo', 'Unnamed: 0',\n",
       "       'activado', 'anyo', 'asignaciones', 'descripcion_funcion',\n",
       "       'fecha_ingreso', 'fecha_publicacion', 'fecha_termino', 'grado_eus',\n",
       "       'organismo_codigo', 'organismo_nombre', 'pago_mensuales', 'region',\n",
       "       'remuneracionbruta_mensual', 'tipo_calificacionp', 'viaticos'],\n",
       "      dtype='object')"
      ]
     },
     "metadata": {},
     "execution_count": 8
    }
   ],
   "metadata": {}
  },
  {
   "cell_type": "code",
   "execution_count": 9,
   "source": [
    "#limpieza de Tipo Cargo\r\n",
    "funHist['Tipo cargo'] = funHist['Tipo cargo'].str.title()\r\n",
    "\r\n",
    "#Limpieza de años\r\n",
    "funHist.loc[funHist['anyo'] < 1900, 'anyo'] = 0\r\n",
    "funHist.loc[funHist['anyo'] > 2021, 'anyo'] = 0\r\n",
    "\r\n",
    "#Limpieza de descripciones\r\n",
    "funHist['descripcion_funcion'] = funHist['descripcion_funcion'].str.title()\r\n",
    "\r\n",
    "#Limpieza de nombres\r\n",
    "funHist['nombre'] = funHist['Nombres'].str.title()\r\n",
    "\r\n",
    "#Limpieza de Organismo\r\n",
    "funHist['organismo_nombre'] = funHist['organismo_nombre'].str.title()\r\n",
    "\r\n",
    "#Limpieza de región\r\n",
    "funHist['region'] = funHist['region'].str.title()\r\n",
    "\r\n",
    "#Limpieza de tipo de calificación\r\n",
    "funHist['tipo_calificacionp'] = funHist['tipo_calificacionp'].str.title()   "
   ],
   "outputs": [],
   "metadata": {}
  },
  {
   "cell_type": "code",
   "execution_count": 10,
   "source": [
    "# Limpiamos las rentas que no están en pesos\r\n",
    "funHist.loc[(funHist['Tipo Unidad monetaria']!='Pesos') & (funHist['remuneracionbruta_mensual'] > 30000) , 'Tipo Unidad monetaria'] = 'Pesos'\r\n"
   ],
   "outputs": [],
   "metadata": {}
  },
  {
   "cell_type": "markdown",
   "source": [
    "## ***Pendiente limpieza a los grados en super complejo de abordar"
   ],
   "metadata": {}
  },
  {
   "cell_type": "markdown",
   "source": [
    "#### Descarga de datos para realizar transformaciones de moneda y correción monentaria"
   ],
   "metadata": {}
  },
  {
   "cell_type": "code",
   "execution_count": 11,
   "source": [
    "#Imports necesarios\r\n",
    "import time #librería necesaria para medir el tiempo de ejecución \r\n",
    "import datetime\r\n",
    "import pandas as pd\r\n",
    "import numpy as np\r\n",
    "from functools import reduce\r\n",
    "import urllib.request\r\n",
    "import json\r\n",
    "\r\n",
    "# Creamos los dataframes vacios para almacenar los valores de UTM y Fechas\r\n",
    "dolarDiarioDF = pd.DataFrame(columns=['Fecha', 'Dolar'])\r\n",
    "CLFDiarioDF = pd.DataFrame(columns=['Fecha', 'CLF'])\r\n",
    "euroDiarioDF = pd.DataFrame(columns=['Fecha', 'Euro'])\r\n",
    "utmDF = pd.DataFrame(columns=['Fecha', 'UTM'])\r\n",
    "ipcDF = pd.DataFrame(columns=['Fecha', 'IPC'])\r\n",
    "\r\n",
    "# Generamos el ciclo para recorrer los años y leer desde la API los datos de UTM\r\n",
    "for i in range(2008, 2021):\r\n",
    "    with urllib.request.urlopen(\"https://mindicador.cl/api/dolar/\"+str(i)) as url:\r\n",
    "        dolar = json.loads(url.read().decode())\r\n",
    "    \r\n",
    "    with urllib.request.urlopen(\"https://mindicador.cl/api/uf/\"+str(i)) as url:\r\n",
    "        uf = json.loads(url.read().decode())\r\n",
    "    \r\n",
    "    with urllib.request.urlopen(\"https://mindicador.cl/api/euro/\"+str(i)) as url:\r\n",
    "        euro = json.loads(url.read().decode())\r\n",
    "    \r\n",
    "    with urllib.request.urlopen(\"https://mindicador.cl/api/utm/\"+str(i)) as url:\r\n",
    "        utm = json.loads(url.read().decode())\r\n",
    "        \r\n",
    "    with urllib.request.urlopen(\"https://mindicador.cl/api/ipc/\"+str(i)) as url:\r\n",
    "        ipc = json.loads(url.read().decode())\r\n",
    "    \r\n",
    "    # Generamos los ciclos en que se añaden los dataframes los valores obtenidos desde la API    \r\n",
    "    for x in range(len(dolar['serie'])):\r\n",
    "        dolarDiarioDF = dolarDiarioDF.append({'Fecha' : dolar['serie'][x]['fecha'][0:7] , 'Dolar' : dolar['serie'][x]['valor']} , ignore_index=True) \r\n",
    "    \r\n",
    "    for x in range(len(uf['serie'])):\r\n",
    "        CLFDiarioDF = CLFDiarioDF.append({'Fecha' : uf['serie'][x]['fecha'][0:7] , 'CLF' : uf['serie'][x]['valor']} , ignore_index=True)\r\n",
    "    \r\n",
    "    for x in range(len(euro['serie'])):\r\n",
    "        euroDiarioDF = euroDiarioDF.append({'Fecha' : euro['serie'][x]['fecha'][0:7] , 'Euro' : euro['serie'][x]['valor']} , ignore_index=True)\r\n",
    "    \r\n",
    "    for x in range(len(utm['serie'])):\r\n",
    "        utmDF = utmDF.append({'Fecha' : utm['serie'][x]['fecha'][0:7] , 'UTM' : utm['serie'][x]['valor']} , ignore_index=True)\r\n",
    "        \r\n",
    "    for x in range(len(ipc['serie'])):\r\n",
    "        ipcDF = ipcDF.append({'Fecha' : ipc['serie'][x]['fecha'][0:7] , 'IPC' : ipc['serie'][x]['valor']} , ignore_index=True)\r\n",
    "\r\n",
    "\r\n",
    "# Agrupamos por promedio para efectos prácticos\r\n",
    "dolarDF = dolarDiarioDF.groupby(['Fecha'])[['Dolar']].mean()\r\n",
    "CLFDF = CLFDiarioDF.groupby(['Fecha'])[['CLF']].mean()\r\n",
    "euroDF = euroDiarioDF.groupby(['Fecha'])[['Euro']].mean()\r\n",
    "\r\n",
    "# Unimos los dataframes y lo guardamos en uno nuevo\r\n",
    "monedas = reduce(lambda x,y: pd.merge(x,y, on='Fecha', how='left'), [dolarDF, CLFDF, euroDF, utmDF, ipcDF])\r\n",
    "\r\n",
    "# calculamos el IPC en términos de su valor en índice\r\n",
    "monedas['IPC'] = monedas['IPC'].fillna(0)\r\n",
    "monedas['ipcIndices'] = 0.0\r\n",
    "for index, row in monedas.iterrows():\r\n",
    "    if index == 0:\r\n",
    "        monedas['ipcIndices'][index] =  72.0007284469403   \r\n",
    "    else:\r\n",
    "        monedas['ipcIndices'][index] = monedas['ipcIndices'][index - 1] + monedas['IPC'][index] * monedas['ipcIndices'][index - 1] / 100\r\n",
    "\r\n",
    "# en base al valor índice calculamos los factores de corrección y limpiamos el dataframe\r\n",
    "monedas['factorIPC'] = 0.0\r\n",
    "for index, row in monedas.iterrows():\r\n",
    "    monedas['factorIPC'][index] = monedas['ipcIndices'][len(monedas)-1] / monedas['ipcIndices'][index]\r\n",
    "    \r\n",
    "monedas = monedas.drop(columns = ['IPC'])\r\n"
   ],
   "outputs": [
    {
     "output_type": "stream",
     "name": "stderr",
     "text": [
      "<ipython-input-11-cf718a3d3fdb>:64: SettingWithCopyWarning: \n",
      "A value is trying to be set on a copy of a slice from a DataFrame\n",
      "\n",
      "See the caveats in the documentation: https://pandas.pydata.org/pandas-docs/stable/user_guide/indexing.html#returning-a-view-versus-a-copy\n",
      "  monedas['ipcIndices'][index] =  72.0007284469403\n",
      "<ipython-input-11-cf718a3d3fdb>:66: SettingWithCopyWarning: \n",
      "A value is trying to be set on a copy of a slice from a DataFrame\n",
      "\n",
      "See the caveats in the documentation: https://pandas.pydata.org/pandas-docs/stable/user_guide/indexing.html#returning-a-view-versus-a-copy\n",
      "  monedas['ipcIndices'][index] = monedas['ipcIndices'][index - 1] + monedas['IPC'][index] * monedas['ipcIndices'][index - 1] / 100\n",
      "<ipython-input-11-cf718a3d3fdb>:71: SettingWithCopyWarning: \n",
      "A value is trying to be set on a copy of a slice from a DataFrame\n",
      "\n",
      "See the caveats in the documentation: https://pandas.pydata.org/pandas-docs/stable/user_guide/indexing.html#returning-a-view-versus-a-copy\n",
      "  monedas['factorIPC'][index] = monedas['ipcIndices'][len(monedas)-1] / monedas['ipcIndices'][index]\n"
     ]
    }
   ],
   "metadata": {}
  },
  {
   "cell_type": "code",
   "execution_count": 12,
   "source": [
    "#elimación de datos de IPC innecesarios\r\n",
    "monedas = monedas.drop(columns = {'ipcIndices'})"
   ],
   "outputs": [],
   "metadata": {}
  },
  {
   "cell_type": "code",
   "execution_count": 13,
   "source": [
    "#creación del campo mes como \"numero\" para hacer merge con monedas\r\n",
    "funHist.loc[funHist['Mes']=='Enero', 'mesN'] = '01'\r\n",
    "funHist.loc[funHist['Mes']=='Febrero', 'mesN'] = '02'\r\n",
    "funHist.loc[funHist['Mes']=='Marzo', 'mesN'] = '03'\r\n",
    "funHist.loc[funHist['Mes']=='Abril', 'mesN'] = '04'\r\n",
    "funHist.loc[funHist['Mes']=='Mayo', 'mesN'] = '05'\r\n",
    "funHist.loc[funHist['Mes']=='Junio', 'mesN'] = '06'\r\n",
    "funHist.loc[funHist['Mes']=='Julio', 'mesN'] = '07'\r\n",
    "funHist.loc[funHist['Mes']=='Agosto', 'mesN'] = '08'\r\n",
    "funHist.loc[funHist['Mes']=='Septiembre', 'mesN'] = '09'\r\n",
    "funHist.loc[funHist['Mes']=='Octubre', 'mesN'] = '10'\r\n",
    "funHist.loc[funHist['Mes']=='Noviembre', 'mesN'] = '11'\r\n",
    "funHist.loc[funHist['Mes']=='Diciembre', 'mesN'] = '12'"
   ],
   "outputs": [],
   "metadata": {}
  },
  {
   "cell_type": "code",
   "execution_count": 14,
   "source": [
    "#creación del campo año mes para fusionar con monedas\r\n",
    "funHist['Fecha'] = funHist['anyo'].astype(str) + '-' + funHist['mesN']"
   ],
   "outputs": [],
   "metadata": {}
  },
  {
   "cell_type": "code",
   "execution_count": 15,
   "source": [
    "# merge con monedas\r\n",
    "funHist = funHist.merge(monedas, how = 'left', left_on = 'Fecha', right_on = 'Fecha')"
   ],
   "outputs": [],
   "metadata": {}
  },
  {
   "cell_type": "code",
   "execution_count": 16,
   "source": [
    "# Calculo de remuneración bruta mensual en pesos reales\r\n",
    "funHist['RemBrutaPesosReal'] = 0\r\n",
    "funHist.loc[funHist['Tipo Unidad monetaria']=='Pesos', 'RemBrutaPesosReal'] = funHist['remuneracionbruta_mensual'] * funHist['factorIPC']\r\n",
    "funHist.loc[funHist['Tipo Unidad monetaria']=='Dólares', 'RemBrutaPesosReal'] = funHist['remuneracionbruta_mensual'] * funHist['factorIPC'] * funHist['Dolar']\r\n",
    "funHist.loc[funHist['Tipo Unidad monetaria']=='UTM', 'RemBrutaPesosReal'] = funHist['remuneracionbruta_mensual'] * funHist['factorIPC'] * funHist['UTM']\r\n",
    "funHist.loc[funHist['Tipo Unidad monetaria']=='Miles de pesos', 'RemBrutaPesosReal'] = funHist['remuneracionbruta_mensual'] * funHist['factorIPC'] * 1000\r\n",
    "funHist.loc[funHist['Tipo Unidad monetaria']=='Euros', 'RemBrutaPesosReal'] = funHist['remuneracionbruta_mensual'] * funHist['factorIPC'] * funHist['Euro']\r\n",
    "funHist.loc[funHist['Tipo Unidad monetaria']=='UF', 'RemBrutaPesosReal'] = funHist['remuneracionbruta_mensual'] * funHist['factorIPC'] * funHist['CLF']\r\n"
   ],
   "outputs": [],
   "metadata": {
    "scrolled": true
   }
  },
  {
   "cell_type": "code",
   "execution_count": 17,
   "source": [
    "# Calculo de montos de horas extrasmensual en pesos reales\r\n",
    "funHist['HEDiuReal'] = funHist['montoHExDiu'] * funHist['factorIPC']\r\n",
    "funHist['HENocReal'] = funHist['montoHExNoc'] * funHist['factorIPC']\r\n",
    "funHist['HEFesReal'] = funHist['montoHExFes'] * funHist['factorIPC']\r\n",
    "funHist['ViaticosReal'] = funHist['viaticos'] * funHist['factorIPC']\r\n",
    "funHist['HorasExtrasMontoReal'] = funHist['HEDiuReal'] + funHist['HENocReal'] + funHist['HEFesReal']\r\n",
    "funHist['HorasExtrasCantTotal'] = funHist['cantHExDiu'] + funHist['cantHExNoc'] + funHist['cantHExFes']\r\n"
   ],
   "outputs": [],
   "metadata": {}
  },
  {
   "cell_type": "code",
   "execution_count": 18,
   "source": [
    "# Eliminamos las monedas a no ser usadas\r\n",
    "funHist = funHist.drop(columns = {'factorIPC', 'Dolar', 'UTM', 'Euro', 'CLF'})"
   ],
   "outputs": [],
   "metadata": {}
  },
  {
   "cell_type": "code",
   "execution_count": 19,
   "source": [
    "funHist['Regimen'] = funHist['Regimen'].astype('category')\r\n",
    "funHist['Tipo Estamento'] = funHist['Tipo Estamento'].astype('category')\r\n",
    "funHist['Tipo Unidad monetaria'] = funHist['Tipo Unidad monetaria'].astype('category')\r\n",
    "funHist['Tipo cargo'] = funHist['Tipo cargo'].astype('category')\r\n",
    "funHist['asignaciones'] = funHist['asignaciones'].astype('category')\r\n",
    "funHist['descripcion_funcion'] = funHist['descripcion_funcion'].astype('category')\r\n",
    "funHist['fecha_ingreso'] = pd.to_datetime(funHist['fecha_ingreso'])\r\n",
    "funHist['fecha_publicacion'] = pd.to_datetime(funHist['fecha_publicacion'])\r\n",
    "funHist['fecha_termino'] = pd.to_datetime(funHist['fecha_termino'])\r\n",
    "funHist['grado_eus'] = funHist['grado_eus'].astype('category')\r\n",
    "funHist['nombre'] = funHist['nombre'].astype('category')\r\n",
    "funHist['organismo_codigo'] = funHist['organismo_codigo'].astype('category')\r\n",
    "funHist['organismo_nombre'] = funHist['organismo_nombre'].astype('category')\r\n",
    "funHist['pago_mensuales'] = funHist['pago_mensuales'].astype('category')\r\n",
    "funHist['region'] = funHist['region'].astype('category')\r\n",
    "funHist['tipo_calificacionp'] = funHist['tipo_calificacionp'].astype('category')\r\n",
    "funHist['mesN'] = funHist['mesN'].astype('category')\r\n",
    "funHist['Fecha'] = funHist['Fecha'].astype('category')\r\n",
    "funHist['RemBrutaPesosReal'] = funHist['RemBrutaPesosReal'].astype(float)"
   ],
   "outputs": [],
   "metadata": {}
  },
  {
   "cell_type": "code",
   "execution_count": 20,
   "source": [
    "funHist2 = funHist.copy()"
   ],
   "outputs": [],
   "metadata": {}
  },
  {
   "cell_type": "markdown",
   "source": [
    "### Respaldo de lo trabajado en bbdd"
   ],
   "metadata": {}
  },
  {
   "cell_type": "code",
   "execution_count": 21,
   "source": [
    "import sqlalchemy as sa\r\n",
    "import vertica_python\r\n",
    "from sqlalchemy import event\r\n",
    "\r\n",
    "engine2 = sa.create_engine('vertica+vertica_python://dbadmin:1@192.168.2.2:5433/chc')\r\n",
    "\r\n",
    "@event.listens_for(engine2, \"before_cursor_execute\")\r\n",
    "def receive_before_cursor_execute(\r\n",
    "       conn, cursor, statement, params, context, executemany\r\n",
    "        ):\r\n",
    "            if executemany:\r\n",
    "                cursor.fast_executemany = True"
   ],
   "outputs": [],
   "metadata": {}
  },
  {
   "cell_type": "markdown",
   "source": [
    "### Tabla de Servicios"
   ],
   "metadata": {}
  },
  {
   "cell_type": "code",
   "execution_count": 22,
   "source": [
    "funHist2.info()"
   ],
   "outputs": [
    {
     "output_type": "stream",
     "name": "stdout",
     "text": [
      "<class 'pandas.core.frame.DataFrame'>\n",
      "Int64Index: 35659804 entries, 0 to 35659803\n",
      "Data columns (total 40 columns):\n",
      " #   Column                     Dtype         \n",
      "---  ------                     -----         \n",
      " 0   cantHExDiu                 float64       \n",
      " 1   cantHExFes                 float64       \n",
      " 2   cantHExNoc                 float64       \n",
      " 3   Materno                    object        \n",
      " 4   Mes                        object        \n",
      " 5   Nombres                    object        \n",
      " 6   montoHExDiu                float64       \n",
      " 7   montoHExFes                float64       \n",
      " 8   montoHExNoc                float64       \n",
      " 9   Paterno                    object        \n",
      " 10  Regimen                    category      \n",
      " 11  Tipo Estamento             category      \n",
      " 12  Tipo Unidad monetaria      category      \n",
      " 13  Tipo cargo                 category      \n",
      " 14  Unnamed: 0                 int64         \n",
      " 15  activado                   object        \n",
      " 16  anyo                       int64         \n",
      " 17  asignaciones               category      \n",
      " 18  descripcion_funcion        category      \n",
      " 19  fecha_ingreso              datetime64[ns]\n",
      " 20  fecha_publicacion          datetime64[ns]\n",
      " 21  fecha_termino              datetime64[ns]\n",
      " 22  grado_eus                  category      \n",
      " 23  organismo_codigo           category      \n",
      " 24  organismo_nombre           category      \n",
      " 25  pago_mensuales             category      \n",
      " 26  region                     category      \n",
      " 27  remuneracionbruta_mensual  int64         \n",
      " 28  tipo_calificacionp         category      \n",
      " 29  viaticos                   float64       \n",
      " 30  nombre                     category      \n",
      " 31  mesN                       category      \n",
      " 32  Fecha                      category      \n",
      " 33  RemBrutaPesosReal          float64       \n",
      " 34  HEDiuReal                  float64       \n",
      " 35  HENocReal                  float64       \n",
      " 36  HEFesReal                  float64       \n",
      " 37  ViaticosReal               float64       \n",
      " 38  HorasExtrasMontoReal       float64       \n",
      " 39  HorasExtrasCantTotal       float64       \n",
      "dtypes: category(15), datetime64[ns](3), float64(14), int64(3), object(5)\n",
      "memory usage: 9.1+ GB\n"
     ]
    }
   ],
   "metadata": {}
  },
  {
   "cell_type": "code",
   "execution_count": 23,
   "source": [
    "funHist2 = funHist2.rename(columns = {'Tipo Estamento':'TipoEstamento', 'Tipo Unidad monetaria':'TipoUnidadMonetaria', \r\n",
    "                                     'Tipo cargo': 'TipoCargo', 'descripcion_funcion':'DescripcionFuncion',\r\n",
    "                                     'fecha_ingreso': 'FechaIngreso', 'fecha_publicacion':'FechaPublicacion',\r\n",
    "                                     'fecha_termino':'FechaTermino', 'grado_eus':'GradoEus', 'organismo_codigo':'OrganismoCodigo',\r\n",
    "                                     'organismo_nombre':'OrganismoNombre', 'pago_mensuales':'PagoMensuales',\r\n",
    "                                     'tipo_calificacionp':'TipoCalificacionp', 'remuneracionbruta_mensual':'remuneracionbrutamensual', 'Unnamed: 0':'indice'})"
   ],
   "outputs": [],
   "metadata": {}
  },
  {
   "cell_type": "code",
   "execution_count": 24,
   "source": [
    "funHist2.to_sql(name='full', con=engine2, if_exists = 'replace', index=False ,chunksize = 60000, schema = 'funcionarios',\r\n",
    "               dtype={'Mes': sa.types.VARCHAR(50),\r\n",
    "                      'Regimen': sa.types.VARCHAR(50),\r\n",
    "                      'TipoEstamento': sa.types.VARCHAR(255),\r\n",
    "                      'TipoUnidadMonetaria': sa.types.VARCHAR(50),\r\n",
    "                      'TipoCargo': sa.types.VARCHAR(255),\r\n",
    "                      'asignaciones': sa.types.VARCHAR(2500),\r\n",
    "                      'DescripcionFuncion': sa.types.VARCHAR(8000),\r\n",
    "                      'FechaIngreso': sa.types.VARCHAR(50),\r\n",
    "                      'FechaPublicacion': sa.types.VARCHAR(50),\r\n",
    "                      'FechaTermino': sa.types.VARCHAR(50),\r\n",
    "                      'GradoEus': sa.types.VARCHAR(255),\r\n",
    "                      'Nombres': sa.types.VARCHAR(500),\r\n",
    "                      'Materno': sa.types.VARCHAR(500),\r\n",
    "                      'Paterno': sa.types.VARCHAR(500),\r\n",
    "                      'OrganismoCodigo': sa.types.VARCHAR(50),\r\n",
    "                      'OrganismoNombre': sa.types.VARCHAR(255),\r\n",
    "                      'PagoMensuales': sa.types.VARCHAR(255),\r\n",
    "                      'region': sa.types.VARCHAR(255),\r\n",
    "                      'TipoCalificacionp': sa.types.VARCHAR(2500),\r\n",
    "                      'Fecha': sa.types.VARCHAR(255),\r\n",
    "                      'mesN': sa.types.VARCHAR(50),\r\n",
    "                      'nombre': sa.types.VARCHAR(500),\r\n",
    "                      'activado': sa.types.VARCHAR(50)})"
   ],
   "outputs": [],
   "metadata": {}
  },
  {
   "cell_type": "code",
   "execution_count": 25,
   "source": [
    "Servicios = pd.read_csv('http://www.cplt.cl/transparencia_activa/datoabierto/archivos/Organismos_360.csv', encoding = 'cp1252', sep = ';')\r\n",
    "Servicios.to_sql(name='Servicios', con=engine2, if_exists = 'replace', index=False ,chunksize = 1000, schema = 'funcionarios',\r\n",
    "               dtype={\"Codigo_org\": sa.types.VARCHAR(50), \r\n",
    "                        \"Organismo\" : sa.types.VARCHAR(255), \r\n",
    "                        \"Codigo_padre\" : sa.types.VARCHAR(255), \r\n",
    "                        \"Padre_org\" : sa.types.VARCHAR(255), \r\n",
    "                        \"Region\" : sa.types.VARCHAR(255), \r\n",
    "                        \"Municipalidad\" : sa.types.VARCHAR(255), \r\n",
    "                        \"direccion\" : sa.types.VARCHAR(255), \r\n",
    "                        \"telefono\" : sa.types.VARCHAR(255), \r\n",
    "                        \"url_organismo\" : sa.types.VARCHAR(255), \r\n",
    "                        \"url_orgtransparencia\" : sa.types.VARCHAR(255), \r\n",
    "                        \"horario_publico\" : sa.types.VARCHAR(500), \r\n",
    "                        \"nombre_encargado\" : sa.types.VARCHAR(255), \r\n",
    "                        \"email\" : sa.types.VARCHAR(255), \r\n",
    "                        \"rut\" : sa.types.VARCHAR(255), \r\n",
    "                        \"tipo_cuenta\" : sa.types.VARCHAR(255), \r\n",
    "                        \"banco\" : sa.types.VARCHAR(255), \r\n",
    "                        \"url_sai\" : sa.types.VARCHAR(255), \r\n",
    "                        \"fax\" : sa.types.VARCHAR(255), \r\n",
    "                        \"Ingresa\" : sa.types.VARCHAR(255), \r\n",
    "                        \"obligadorecibir_sai\" : sa.types.VARCHAR(255), \r\n",
    "                        \"organismo_autonomo\" : sa.types.VARCHAR(255), \r\n",
    "                        \"interopera\" : sa.types.VARCHAR(255), \r\n",
    "                        \"tiene_ta\" : sa.types.VARCHAR(255), \r\n",
    "                        \"fecha_ta\" : sa.types.VARCHAR(255),\r\n",
    "                        'activado': sa.types.VARCHAR(50)})"
   ],
   "outputs": [],
   "metadata": {}
  },
  {
   "cell_type": "code",
   "execution_count": null,
   "source": [],
   "outputs": [],
   "metadata": {}
  }
 ],
 "metadata": {
  "kernelspec": {
   "name": "python3",
   "display_name": "Python 3.8.11 64-bit ('base': conda)"
  },
  "language_info": {
   "codemirror_mode": {
    "name": "ipython",
    "version": 3
   },
   "file_extension": ".py",
   "mimetype": "text/x-python",
   "name": "python",
   "nbconvert_exporter": "python",
   "pygments_lexer": "ipython3",
   "version": "3.8.11"
  },
  "interpreter": {
   "hash": "b3ba2566441a7c06988d0923437866b63cedc61552a5af99d1f4fb67d367b25f"
  }
 },
 "nbformat": 4,
 "nbformat_minor": 4
}