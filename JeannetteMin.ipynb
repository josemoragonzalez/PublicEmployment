{
 "cells": [
  {
   "cell_type": "code",
   "execution_count": 2,
   "metadata": {},
   "outputs": [],
   "source": [
    "import mysql.connector as sql\n",
    "import pandas as pd\n",
    "\n",
    "# Hacemos la query  e importamos el resultado en un df\n",
    "db_connection = sql.connect(host='127.0.0.1', database='funcionarios', user='root', password='stavros2020')\n",
    "\n",
    "query8='''\n",
    "select Mes , Regimen , `Tipo Estamento` , `Tipo cargo` , anyo , grado_eus , nombre , organismo_nombre , region , RemBrutaPesosReal , cantHExDiu , cantHExFes, cantHExNoc , montoHExDiu , montoHExFes , montoHExNoc , mesN , HEDiuReal , HEFesReal , HENocReal \n",
    "from funcionarios.`full` f\n",
    "Where (anyo >= 2019)\n",
    "'''\n",
    "\n",
    "datos = pd.read_sql(query8, con=db_connection)\n",
    "db_connection.close()\n",
    "\n",
    "\n",
    "datos.to_csv('HHEE2019.csv', sep = ';')\n",
    "\n",
    "Remuneración bruta mensual"
   ]
  }
 ],
 "metadata": {
  "kernelspec": {
   "display_name": "Python 3",
   "language": "python",
   "name": "python3"
  },
  "language_info": {
   "codemirror_mode": {
    "name": "ipython",
    "version": 3
   },
   "file_extension": ".py",
   "mimetype": "text/x-python",
   "name": "python",
   "nbconvert_exporter": "python",
   "pygments_lexer": "ipython3",
   "version": "3.7.7"
  }
 },
 "nbformat": 4,
 "nbformat_minor": 4
}
