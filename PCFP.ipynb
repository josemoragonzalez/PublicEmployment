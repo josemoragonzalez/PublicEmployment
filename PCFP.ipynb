{
 "cells": [
  {
   "cell_type": "markdown",
   "metadata": {},
   "source": [
    "El presente documento pretende dar a conocer la realidad de los datos abiertos existentes relacionados con los **funcionarios públicos**, para ello me remití a usar como fuente de análisis los datos publicados por el Consejo Para La Transparencia (CPLT), en su [repositorio](https://www.portaltransparencia.cl/PortalPdT/web/guest/opendata)\n",
    "\n",
    "La información presentada en este portal corresponde a la de aquellos Servicios Públicos que han adoptado el sistema de publicación de Transparencia Activa que promueve el CPLT, y que por lo tanto, es posible de disponibilizar de manera estándar. En este punto se produce el primer hallazgo del análisis, puesto que de acuerdo a lo señalado por el CPLT, los organismos están obligados a generar portales de Transparencia Activa, esto según la ley 20.285, sin embargo, no se indica en esta ley, que deba ser usando la plataforma que disponibiliza el CPLT, y de la cual se obtienen los datos que son puesto a disponibilidad en el sitio de datos abiertos. Con ellos nos surge de inmediato la siguiente duda, **¿Por qué no usan esta plataforma todos los servicios obligados?**\n",
    "\n",
    "En los siguientes acápites revisaremos problemáticas asociadas a la coherencia y fiabilidad de la información publicada, que hacen difícil poder sacar conclusiones de la información disponible."
   ]
  },
  {
   "cell_type": "markdown",
   "metadata": {},
   "source": [
    "# Diccionario de datos\n",
    "\n",
    "Uno de los primeros puntos a destacar es la falta de un diccionario en el [repositorio de datos abiertos](https://www.portaltransparencia.cl/PortalPdT/web/guest/opendata), lo que significa una dificultad extra a la hora de poder analizar los datos, ya que se deben hacer supuestos respecto del significado de cada variable, y dichos supuestos se hacen en base a obviamente el nombre dado, el contenido y el contexto, por lo tanto, requieren de un esfuerzo extra y añaden un riesgo de error a los resultados.\n",
    "- En conclusión como primera sugerencia se invita al CPLT a **añadir un diccionario de variables en su repositorio de datos abiertos**"
   ]
  },
  {
   "cell_type": "markdown",
   "metadata": {},
   "source": [
    "# Ambiente de análisis de datos"
   ]
  },
  {
   "cell_type": "markdown",
   "metadata": {},
   "source": [
    "Para los posteriores análisis se asume que el lector ha montado un ambiente de análisis de los datos de funcionarios del sector público provenientes del repositorio de datos abiertos del CPLT, y se encuentran en una base de datos de MySQL.\n",
    "\n",
    "Para quienes deseen simplificar este paso, en el siguiente [repositorio personal de GitHub](https://www.repositorio.com/actualizaralterminar) se encuentra un notebook llamado \"DescargayRespaldo\", el cual realiza la descarga, limpieza parcial y posterior carga en la base de datos de los datos, se requiere como prerequisito lo siguiente:\n",
    "\n",
    "- Tener instalado el gestor de base de datos MySQL en algún servidor accesible por el usuario con permisos de escritura.\n",
    "- Tener instalado Anaconda Python y creado un ambiente que contenga las siguientes librerías: pandas, numpy, time, date, datetime, functools, urllib, json, mysql.connector, sqlalchemy\n"
   ]
  },
  {
   "cell_type": "markdown",
   "metadata": {},
   "source": [
    "# Fechas de publicación"
   ]
  },
  {
   "cell_type": "markdown",
   "metadata": {},
   "source": [
    "Es esencial para poder comenzar el análisis conocer la periodicidad con que se publica la información, esto porque los datos que se publican son acumulativos, es decir en la medida que se publica una actualización, se añade a la información ya publicada, dentro del mismo archivo.\n",
    "Actualmente existen en el archivo varios campos que contienen datos de fecha, sin embargo, los que podrían estar relacionados con la fecha de publicación:\n",
    "\n",
    "- Fecha de publicación:\n",
    "- Anyo\n",
    "- Mes\n",
    "\n",
    "Aparentemente esos tres datos deberían coincidir ya que el Anyo, debería ser el año de publicación, y el mes correspondería al mes de publicación.\n",
    "En vista de las definiciones anteriores realicé la consulta respectiva para verificar la hipótesis."
   ]
  },
  {
   "cell_type": "code",
   "execution_count": null,
   "metadata": {},
   "outputs": [],
   "source": []
  },
  {
   "cell_type": "code",
   "execution_count": 67,
   "metadata": {
    "tags": [
     "remove"
    ]
   },
   "outputs": [],
   "source": [
    "import os\n",
    "os.environ['MYSQL_FUNC_USER'] = 'dbadmin'\n",
    "os.environ['MYSQL_FUNC_PASS'] = '1'\n",
    "os.environ['MYSQL_FUNC_HOST'] = '192.168.2.2'\n",
    "os.environ['MYSQL_FUNC_DB'] = 'chc'"
   ]
  },
  {
   "cell_type": "code",
   "execution_count": 68,
   "metadata": {},
   "outputs": [],
   "source": [
    "#Importamos las credenciales que usaremos en todo el notebook\n",
    "import os\n",
    "user = os.getenv('MYSQL_FUNC_USER')\n",
    "passwd = os.getenv('MYSQL_FUNC_PASS')\n",
    "host = os.getenv('MYSQL_FUNC_HOST')\n",
    "db = os.getenv('MYSQL_FUNC_DB')"
   ]
  },
  {
   "cell_type": "code",
   "execution_count": 2,
   "metadata": {},
   "outputs": [],
   "source": [
    "import vertica_python\n",
    "import pandas as pd\n",
    "import numpy as np\n",
    "\n",
    "# información de conexión a vertica\n",
    "conn_info = {'host': '192.168.2.2',\n",
    "             'port': 5433,\n",
    "             'user': 'dbadmin',\n",
    "             'password': '1',\n",
    "             'database': 'chc',\n",
    "             # default throw error on invalid UTF-8 results\n",
    "             'unicode_error': 'strict',\n",
    "             # SSL is disabled by default\n",
    "             'ssl': False,\n",
    "             # using server-side prepared statements is disabled by default\n",
    "             'use_prepared_statements': False}\n",
    "\n",
    "# conexión simple con cierre manual\n",
    "cnxn = vertica_python.connect(**conn_info)\n",
    "\n",
    "# Hacemos la query  e importamos el resultado en un df\n",
    "query1 = '''\n",
    "SELECT round(SUM(año)/count(año), 4) * 100 as PorcAño, \n",
    "round(SUM(Mes)/count(Mes), 4) * 100 as PorcMes,\n",
    "round((SUM(año) + SUM(Mes))/(count(año)*2), 4) * 100 as PorcAmbos\n",
    "FROM (\n",
    "SELECT \n",
    "CASE WHEN f.anyo = YEAR(date(fechapublicacion) ) then 0 else 1 end as año,\n",
    "CASE WHEN to_number(MesN) = month(date(fechapublicacion)) then 0 else 1 end as Mes \n",
    "FROM funcionarios.\"full\" f \n",
    ") as t\n",
    "'''\n",
    "\n",
    "df1 = pd.read_sql(query1, cnxn)\n",
    "\n",
    "cnxn.close()"
   ]
  },
  {
   "cell_type": "markdown",
   "metadata": {
    "variables": {
     "df1['PorcAmbos'][0]": "91.01",
     "df1['PorcAño'][0]": "89.15",
     "df1['PorcMes'][0]": "92.88"
    }
   },
   "source": [
    "Al revisar el porcentaje de coincidencia de fechas, año y mes vemos que el año de la fecha de publicación y el campo año difieren en un **{{df1['PorcAño'][0]}}%** las veces, asimismo, el campo mes tiene una divergencia del mes de publicación de **{{df1['PorcMes'][0]}}%** y un **{{df1['PorcAmbos'][0]}}%** en que ambos difieren.\n",
    "\n",
    "Por lo que, es posible afirmar que estos campos no se encuentran relacionados. Frente a esto se hace necesario determinar cual campo representa de mejor manera la fecha de publicación.\n",
    "\n",
    "La mejor forma de lograr esta estimación se obtiene luego de visitar cualquier sitio de transparencia de los servicios que usan la plataforma, en este caso lo hice con la Subsecretaría de Salud Pública, para verificarlo realicé los siguiente:\n",
    "\n",
    "- Ingresé a la [página de la subsecretaría](https://www.minsal.cl/)\n",
    "- Bajé hasta encontrar el banner de Transparencia Activa, [pinché](https://www.portaltransparencia.cl/PortalPdT/pdtta?codOrganismo=AO001)\n",
    "- Finalmente dentro del sitio, seleccioné [Personal a Contrata](https://www.portaltransparencia.cl/PortalPdT/pdtta/-/ta/AO001/PR/PCONT), luego [2020](https://www.portaltransparencia.cl/PortalPdT/pdtta/-/ta/AO001/PR/PCONT/46305762), y finalmente [Marzo](https://www.portaltransparencia.cl/PortalPdT/pdtta/-/ta/AO001/PR/PCONT/46305831)\n",
    "\n",
    "Dentro de la dirección descrita, se presenta una página como la mostrada en la imagen 1, donde queda en evidencia que los campos Anyo y Mes son los que se utilizan para definir el periodo o fecha de publicación.\n",
    "\n",
    "***Imagen 1: Página de Transparencia Activa de la Subsecretaría de Salud Pública, sección Personal Contrata, 2020, Marzo***\n",
    "<img src=\"img/image1.png\">\n"
   ]
  },
  {
   "cell_type": "markdown",
   "metadata": {},
   "source": [
    "## Distribución de las fechas de publicación\n",
    "\n",
    "Asumiendo entonces, en base a los resultados de la sección anterior, que los campos Anyo y Mes son los adecuados para analizar la fecha de publicación, surge otro de los puntos de interés, el cual corresponde a los años y meses que se han reportado, analizando cosas como desde cuando se ha reportado, y cuanta información se ha reportado."
   ]
  },
  {
   "cell_type": "code",
   "execution_count": 85,
   "metadata": {
    "scrolled": true
   },
   "outputs": [],
   "source": [
    "#Generamos la conexión\n",
    "cnxn = vertica_python.connect(**conn_info)\n",
    "\n",
    "# Hacemos la query  e importamos el resultado en un df\n",
    "query2 = '''\n",
    "SELECT f.anyo , f.Mes , count(*) as 'count(f.`index` )'\n",
    "FROM funcionarios.\"full\" f \n",
    "GROUP BY f.anyo , f.Mes, mesN\n",
    "order by f.anyo, mesN asc\n",
    "'''\n",
    "\n",
    "df2 = pd.read_sql(query2, con=cnxn)\n",
    "\n",
    "db_connection.close()\n",
    "\n",
    "df2['mesAño'] = df2['anyo'].astype(str) + '-' + df2['Mes']\n",
    "\n",
    "cnxn.close()"
   ]
  },
  {
   "cell_type": "code",
   "execution_count": 86,
   "metadata": {},
   "outputs": [
    {
     "data": {
      "text/markdown": [
       "***Figura 1: Distibución de registros por Año-Mes***"
      ],
      "text/plain": [
       "<IPython.core.display.Markdown object>"
      ]
     },
     "metadata": {},
     "output_type": "display_data"
    },
    {
     "data": {
      "image/png": "[encoded data removed]",
      "text/plain": [
       "<Figure size 1080x504 with 1 Axes>"
      ]
     },
     "metadata": {
      "needs_background": "light"
     },
     "output_type": "display_data"
    }
   ],
   "source": [
    "import matplotlib.pyplot as plt\n",
    "import numpy as np\n",
    "from IPython.display import display, Markdown\n",
    "\n",
    "y = df2['count(f.`index` )']\n",
    "x = df2['mesAño']\n",
    "\n",
    "fig, ax = plt.subplots(figsize=(15,7))\n",
    "plt.xticks(rotation =90)\n",
    "plt.tight_layout() \n",
    "plt.bar(x, y)\n",
    "stepsize = 5\n",
    "start, end = ax.get_xlim()\n",
    "ax.xaxis.set_ticks(np.arange(start, end, stepsize)) \n",
    "ax.set_xlabel('Año-Mes ')\n",
    "\n",
    "# color de los ejes \n",
    "ax.spines['bottom'].set_color('#cccccc')\n",
    "ax.spines['top'].set_color('#cccccc') \n",
    "ax.spines['right'].set_color('white')\n",
    "ax.spines['left'].set_color('white')\n",
    "ax.legend(['Cantidad de registros por periodo'], loc = 'upper left', shadow = False, edgecolor = 'white')\n",
    "\n",
    "plt.text(df2['mesAño'][df2[df2['mesAño'] == '2013-Diciembre'].index.values[0]], 650000,\\\n",
    "         'Datos anteriores enero-2014 \\n parecen ser irrelevantes ', color = 'grey',\\\n",
    "        horizontalalignment='right')\n",
    "\n",
    "plt.text(df2['mesAño'][df2[df2['mesAño'] == '2020-Mayo'].index.values[0]], 650000,\\\n",
    "         ' Datos posteriores a Abril-2020\\n   parecen ser irrelevantes', color = 'grey',\\\n",
    "        horizontalalignment='left')\n",
    "display(Markdown('***Figura 1: Distibución de registros por Año-Mes***'))\n",
    "ax.axvline(x='2013-Diciembre', color = 'grey', ls = '--')\n",
    "ax.axvline(x='2020-Mayo', color = 'grey', ls = '--')\n",
    "plt.show()\n"
   ]
  },
  {
   "cell_type": "markdown",
   "metadata": {},
   "source": [
    "Como se aprecia en la figura 1, los datos presentan considerables problemas, pues se tienen registros desde el año 0 hasta 2021, y pese a que son pocos los registros que están asociados a un año fuera de los normal, su sola existencia ya genera alteraciones. \n",
    "\n",
    "Por otro lado, se aprecia en el gráfico que a partir de enero de 2014 ya comienzan a aparecer una cantidad de registros importantes (más de 10.000), y desde entonces el sistema ha ido aumentando la cantidad de registros por cada periodo.\n",
    "Este gráfico nos deja claro que será necesario considerar un filtro que excluya del análisis datos previos a 2014 y posteriores al último mes con una cantidad de registro similar a la tendencia de los último tres meses ya cerrados, en este caso es marzo 2020."
   ]
  },
  {
   "cell_type": "markdown",
   "metadata": {},
   "source": [
    "\n",
    "# ¿Quiénes informan?\n",
    "\n",
    "El siguiente punto a analizar corresponde a conocer cuáles son los Servicios que informan a través del sistema de transparencia activa que promueve el CPLT, y describiendo el comportamiento de información de estos.\n",
    "Lo primero es saber que Servicios están obligados a informar vía Transparencia Activa, para ello el CPLT dispone de un **[listado](https://www.portaltransparencia.cl/PortalPdT/web/guest/opendata#_48_INSTANCE_GI66ozEZ7DNy_=dataset%2Forganismos%2Fresource%2F527e355d-f401-48c7-b984-2d2971db9713)** accesible en sus página de datos abiertos, el cual será la base para conocer quiénes informan utilizando la plataforma del CPLT y quienes no."
   ]
  },
  {
   "cell_type": "markdown",
   "metadata": {},
   "source": [
    "## Servicios Obligados\n",
    "La Ley 20.285 es la que establece que Servicios están obligados a informar a través de transparencia activa y quienes quedan excluidos, específicamente en el [articulo 2º](https://www.leychile.cl/Navegar?idNorma=276363).\n",
    "El problema es que ese artículo enumera a los Servicios de manera genérica, por ejemplo, señala: \n",
    ">Las disposiciones de esta ley serán aplicables a los ministerios, las intendencias, las gobernaciones, los gobiernos regionales, las municipalidades, las Fuerzas Armadas, de Orden y Seguridad Pública, y **los órganos y servicios públicos creados para el cumplimiento de la función administrativa**.\n",
    "\n",
    "Como se puede apreciar en lo que está resaltado no se da en la ley un listado extensivo.\n",
    "\n",
    "Realizando diferentes búsquedas, no fue posible encontrar aproximaciones aceptables de ese listado, por lo que utilizaremos el **[listado](https://www.portaltransparencia.cl/PortalPdT/web/guest/opendata#_48_INSTANCE_GI66ozEZ7DNy_=dataset%2Forganismos%2Fresource%2F527e355d-f401-48c7-b984-2d2971db9713)** que disponibiliza el CPLT como proxy de ese listado."
   ]
  },
  {
   "cell_type": "code",
   "execution_count": 87,
   "metadata": {
    "scrolled": true
   },
   "outputs": [],
   "source": [
    "df3 = pd.read_csv(\n",
    "    'http://www.cplt.cl/transparencia_activa/datoabierto/archivos/Organismos_360.csv',\n",
    "    encoding='cp1252',\n",
    "    sep = ';')"
   ]
  },
  {
   "cell_type": "code",
   "execution_count": 128,
   "metadata": {
    "scrolled": true
   },
   "outputs": [
    {
     "data": {
      "text/markdown": [
       "En este listado se declaran **966 Instituciones**, donde además vemos que existe un campo que aparentemente señala aquellos que realmente están obligados (obligadorecibir_sai), según este campo, los obligados serían **897 Instituciones**, además el campo \"interopera\" aparentemente entrega la información respecto a si los organismos informan usando la plataforma promovida por el CPLT, y de acuerdo a esto aquellos que estarían obligados y que además interoperan serían **107 Instituciones**, es decir un 11.93%"
      ],
      "text/plain": [
       "<IPython.core.display.Markdown object>"
      ]
     },
     "metadata": {},
     "output_type": "display_data"
    }
   ],
   "source": [
    "qServ = df3['Codigo_org'].count()\n",
    "qOblig = df3[df3['obligadorecibir_sai']=='SÍ']['Codigo_org'].count()\n",
    "qObligInt = df3[(df3['obligadorecibir_sai']=='SÍ')&(df3['interopera']=='SÍ')]['Codigo_org'].count()\n",
    "porcOI = round(float(qObligInt) / float(qOblig) * 100.0, 2)\n",
    "display(Markdown('En este listado se declaran **{} Instituciones**, donde además vemos que existe un campo que aparentemente \\\n",
    "señala aquellos que realmente están obligados (obligadorecibir_sai), según este campo, los obligados serían \\\n",
    "**{} Instituciones**, además el campo \"interopera\" aparentemente entrega la información respecto a si los organismos\\\n",
    " informan usando la plataforma promovida por el CPLT, y de acuerdo a esto aquellos que estarían obligados y que además\\\n",
    " interoperan serían **{} Instituciones**, es decir un {}%'.format(qServ, qOblig,qObligInt, porcOI)))"
   ]
  },
  {
   "cell_type": "code",
   "execution_count": 89,
   "metadata": {},
   "outputs": [
    {
     "data": {
      "text/markdown": [
       "Estas instituciones quedarían distribuidas según categoría de la siguiente manera:"
      ],
      "text/plain": [
       "<IPython.core.display.Markdown object>"
      ]
     },
     "metadata": {},
     "output_type": "display_data"
    },
    {
     "data": {
      "text/markdown": [
       "***Tabla 1: distribución de instituciones que están obligadas a disponer Transparencia Activa***"
      ],
      "text/plain": [
       "<IPython.core.display.Markdown object>"
      ]
     },
     "metadata": {},
     "output_type": "display_data"
    },
    {
     "data": {
      "text/markdown": [
       "| Categoría                                               |   Obligados |   Obligados que Interoperan |\n",
       "|:--------------------------------------------------------|------------:|----------------------------:|\n",
       "| Agricultura                                             |          11 |                           0 |\n",
       "| Asociación Municipal                                    |          57 |                           0 |\n",
       "| Bienes Nacionales                                       |           1 |                           1 |\n",
       "| Centro de Formación Técnica                             |           8 |                           0 |\n",
       "| Ciencia Tecnología e Innovación                         |           1 |                           0 |\n",
       "| Congreso Nacional                                       |           3 |                           0 |\n",
       "| Consejo Defensa del Estado                              |           1 |                           0 |\n",
       "| Consejo Fiscal Autónomo                                 |           1 |                           0 |\n",
       "| Consejo de Cultura y Artes                              |           1 |                           0 |\n",
       "| Consejo para la Transparencia                           |           1 |                           0 |\n",
       "| Contraloría de la República                             |           1 |                           0 |\n",
       "| Corporaciones Municipales                               |          57 |                           0 |\n",
       "| Culturas y las Artes                                    |           3 |                           1 |\n",
       "| Defensa Nacional                                        |          13 |                           0 |\n",
       "| Defensoría de los Derechos de la Niñez                  |           1 |                           0 |\n",
       "| Deporte                                                 |           2 |                           0 |\n",
       "| Desarrollo Social                                       |           8 |                           0 |\n",
       "| Economía Fomento y Turismo                              |          15 |                           2 |\n",
       "| Educación                                               |          23 |                           1 |\n",
       "| Empresas y Sociedades                                   |           4 |                           0 |\n",
       "| Energía                                                 |           4 |                           0 |\n",
       "| Fundaciones y corporaciones                             |           9 |                           0 |\n",
       "| Hacienda                                                |          12 |                           2 |\n",
       "| Instituto Derechos Humanos                              |           1 |                           0 |\n",
       "| Instituto Nacional de Hidráulica (INH)                  |           1 |                           0 |\n",
       "| Interior y Seguridad Pública                            |          97 |                          69 |\n",
       "| Justicia                                                |          11 |                           0 |\n",
       "| La Mujer y Equidad de Género                            |           2 |                           0 |\n",
       "| Medio Ambiente                                          |           3 |                           0 |\n",
       "| Minería                                                 |           3 |                           0 |\n",
       "| Municipios de Antofagasta                               |           9 |                           0 |\n",
       "| Municipios de Arica y  Parinacota                       |           4 |                           0 |\n",
       "| Municipios de Atacama                                   |           9 |                           0 |\n",
       "| Municipios de Aysen del General Carlos Ibáñez del Campo |          10 |                           0 |\n",
       "| Municipios de Coquimbo                                  |          15 |                           0 |\n",
       "| Municipios de La Araucanía                              |          32 |                           0 |\n",
       "| Municipios de Los Lagos                                 |          30 |                           0 |\n",
       "| Municipios de Los Ríos                                  |          12 |                           0 |\n",
       "| Municipios de Magallanes y de la Antártica Chilena      |          10 |                           0 |\n",
       "| Municipios de R. Metropolitana de Santiago              |          52 |                           0 |\n",
       "| Municipios de Tarapacá                                  |           7 |                           0 |\n",
       "| Municipios de Valparaíso                                |          38 |                           0 |\n",
       "| Municipios de Ñuble                                     |          21 |                           0 |\n",
       "| Municipios del Bíobio                                   |          33 |                           0 |\n",
       "| Municipios del Libertador General Bernardo OHiggins     |          33 |                           0 |\n",
       "| Municipios del Maule                                    |          30 |                           0 |\n",
       "| Obras Públicas                                          |          12 |                          12 |\n",
       "| Partidos Políticos                                      |           9 |                           0 |\n",
       "| Poder Judicial                                          |           1 |                           0 |\n",
       "| Presidencia de la República                             |           1 |                           0 |\n",
       "| Relaciones Exteriores                                   |           7 |                           0 |\n",
       "| Salud                                                   |         112 |                           0 |\n",
       "| Secretaría General de Gobierno                          |           2 |                           0 |\n",
       "| Secretaría General de la Presidencia                    |           1 |                           0 |\n",
       "| Servicio Electoral                                      |           1 |                           0 |\n",
       "| Superintendencia de Servicios Sanitarios                |           1 |                           0 |\n",
       "| Trabajo y Previsión Social                              |          10 |                           2 |\n",
       "| Transportes y Telecomunicaciones                        |           3 |                           0 |\n",
       "| Tribunal Constitucional                                 |           1 |                           0 |\n",
       "| Universidades                                           |          18 |                           0 |\n",
       "| Vivienda y Urbanismo                                    |          18 |                          17 |\n",
       "| Total                                                   |         897 |                         107 |"
      ],
      "text/plain": [
       "<IPython.core.display.Markdown object>"
      ]
     },
     "metadata": {},
     "output_type": "display_data"
    }
   ],
   "source": [
    "from ipypublish import nb_setup\n",
    "\n",
    "display(Markdown('Estas instituciones quedarían distribuidas según categoría de la siguiente manera:'))\n",
    "display(Markdown('***Tabla 1: distribución de instituciones que están obligadas a disponer Transparencia Activa***'))\n",
    "qOblig = df3[df3['obligadorecibir_sai']=='SÍ']\n",
    "tablaT1 = qOblig.groupby(by = ['Padre_org'])['Codigo_org'].count().reset_index()\n",
    "\n",
    "qObligInt = df3[(df3['obligadorecibir_sai']=='SÍ')&(df3['interopera']=='SÍ')]\n",
    "tablaT2 = qObligInt.groupby(by = ['Padre_org'])['Codigo_org'].count().reset_index()\n",
    "\n",
    "tabla1 = tablaT1.merge(tablaT2, how = 'left', left_on = 'Padre_org', right_on = 'Padre_org').fillna(0)\n",
    "\n",
    "tabla1 = tabla1.rename(columns = {'Codigo_org_x': 'Obligados'\n",
    "                                  , 'Codigo_org_y': 'Obligados que Interoperan'\n",
    "                                  , 'Padre_org': 'Categoría'})\n",
    "\n",
    "tabla1 = tabla1.append(tabla1.sum(numeric_only=True), ignore_index=True)\n",
    "tabla1['Categoría'] = tabla1['Categoría'].fillna('Total')\n",
    "\n",
    "from tabulate import tabulate\n",
    "\n",
    "display(Markdown(tabulate(tabla1, headers='keys', tablefmt='pipe', showindex=False)))"
   ]
  },
  {
   "cell_type": "markdown",
   "metadata": {},
   "source": [
    "## Cantidad de Servicios que han informado"
   ]
  },
  {
   "cell_type": "markdown",
   "metadata": {},
   "source": [
    "De acuerdo a la sección anterior, 107 son los servicios que informan, sin embargo, de ser así esto no ha sido así siempre a través del tiempo, o al menos eso se sospecha a partir de la figura 1.\n",
    "Para ratificar que mi sospecha fuera correcta, generé la figura 2, en ella se puede ver a través del tiempo, como se han ido incorporando instituciones a la plataforma (para este análisis solo se tomaron datos cuya fecha fuera superior a diciembre 2013 y menor a abril 2020)\n",
    "\n",
    "***Figura 2: Evolución de Servicios que utilizan la plataforma del CPLT para disponer su información de Transparencia Activa***\n"
   ]
  },
  {
   "cell_type": "code",
   "execution_count": 98,
   "metadata": {},
   "outputs": [],
   "source": [
    "#Generamos la conexión\n",
    "cnxn = vertica_python.connect(**conn_info)\n",
    "\n",
    "# Hacemos la query  e importamos el resultado en un df\n",
    "query4 = '''\n",
    "SELECT DISTINCT anyo, mesN, OrganismoCodigo\n",
    "FROM funcionarios.\"full\" f \n",
    "WHERE anyo  > 2013\n",
    "AND anyo * 100 + mesN < 202005\n",
    "'''\n",
    "\n",
    "df4 = pd.read_sql(query4, con=cnxn)\n",
    "\n",
    "cnxn.close()\n",
    "\n",
    "df4 = df4.rename(columns = {'OrganismoCodigo': 'organismo_codigo'})"
   ]
  },
  {
   "cell_type": "code",
   "execution_count": 99,
   "metadata": {},
   "outputs": [],
   "source": [
    "# creación del campo año mes\n",
    "df4['mesAño'] = df4['anyo'].astype(str) + '-' + df4['mesN'].astype(str)\n",
    "# unión con df que describe a los servicios\n",
    "\n",
    "df4M = df4.merge(df3, how = 'left', left_on = 'organismo_codigo', right_on = 'Codigo_org')\n",
    "# filtrado por solo los obligados\n",
    "df4F = df4M[df4M['obligadorecibir_sai'] == 'SÍ']\n",
    "# conteo de los servicios que publican información mensual\n",
    "df4G = df4F.groupby('mesAño')['organismo_codigo'].nunique().reset_index()"
   ]
  },
  {
   "cell_type": "code",
   "execution_count": 100,
   "metadata": {},
   "outputs": [
    {
     "data": {
      "image/png": "[encoded data removed]",
      "text/plain": [
       "<Figure size 1080x504 with 1 Axes>"
      ]
     },
     "metadata": {
      "needs_background": "light"
     },
     "output_type": "display_data"
    }
   ],
   "source": [
    "#---------------------\n",
    "# Grafico 2\n",
    "#---------------------\n",
    "\n",
    "import matplotlib.pyplot as plt\n",
    "import numpy as np\n",
    "from IPython.display import display, Markdown\n",
    "\n",
    "y = df4G['organismo_codigo']\n",
    "x = df4G['mesAño']\n",
    "\n",
    "fig, ax = plt.subplots(figsize=(15,7))\n",
    "plt.xticks(rotation =90)\n",
    "plt.tight_layout() \n",
    "plt.bar(x, y)\n",
    "stepsize = 5\n",
    "start, end = ax.get_xlim()\n",
    "ax.xaxis.set_ticks(np.arange(start, end, stepsize)) \n",
    "ax.set_xlabel('Año-Mes ')\n",
    "\n",
    "# color de los ejes \n",
    "ax.spines['bottom'].set_color('#cccccc')\n",
    "ax.spines['top'].set_color('#cccccc') \n",
    "ax.spines['right'].set_color('white')\n",
    "ax.spines['left'].set_color('white')\n",
    "ax.legend(['Cantidad de Servicios que publican por periodo'], loc = 'upper left', shadow = False, edgecolor = 'white')\n",
    "\n",
    "plt.text(df4G['mesAño'][df4G[df4G['mesAño'] == '2020-04'].index.values[0]],df4G['organismo_codigo'][df4G[df4G['mesAño'] == '2020-04'].index.values[0]] +10,\\\n",
    "         str(df4G['organismo_codigo'][df4G[df4G['mesAño'] == '2020-04'].index.values[0]]), color = 'darkblue',\\\n",
    "        horizontalalignment='left')\n",
    "\n",
    "plt.show()"
   ]
  },
  {
   "cell_type": "markdown",
   "metadata": {},
   "source": [
    "Como podemos apreciar en la figura 2, la cantidad de instituciones que publican información en la plataforma del CPLT ha ido creciendo considerablemente, y de hecho, superan con creces las 107 declaradas en  el **[listado](https://www.portaltransparencia.cl/PortalPdT/web/guest/opendata#_48_INSTANCE_GI66ozEZ7DNy_=dataset%2Forganismos%2Fresource%2F527e355d-f401-48c7-b984-2d2971db9713)**, por lo que quizás esté mal interpretando el significado de lo que significa el campo \"interopera\" o simplemente los datos no se encuentran actualizados. Cualquiera sea el caso, el punto es que en la plataforma se encuentran publicando una cantidad considerable de servicios obligados, sin embargo, de los 895, aún faltan más de 200 por incorporarse.\n",
    "Aquí surge una duda, aquellos Servicios que no publicaron corresponde a instituciones que no utilizan las plataforma y por lo tanto, sus datos nunca han estado en el dataset, o hay servicios que informan de manera intermitente. Mirando la figura 2 se aprecia que la respuesta debe estar compuesta por un poco de ambas afirmaciones, ya que, en marzo 2020 informaron menos Servicios que en febrero del mismo año, por lo que hay Servicios que no informaron en el último mes pero que si lo hicieron el mes anterior. Asimismo, nunca se ha alcanzado el máximo de 895 Servicios, por lo que deben haber instituciones que no se han informado nunca porque no están integrados en la plataforma del CPLT.\n",
    "\n",
    "En la tabla 2 se presentan los Servicios que algunas vez informaron a través del dataset, pero que en marzo no tienen registros."
   ]
  },
  {
   "cell_type": "code",
   "execution_count": 131,
   "metadata": {
    "scrolled": true
   },
   "outputs": [
    {
     "data": {
      "text/markdown": [
       "***Tabla 2: Servicios que han publicado datos en el dataset, pero que no publicaron el último mes***"
      ],
      "text/plain": [
       "<IPython.core.display.Markdown object>"
      ]
     },
     "metadata": {},
     "output_type": "display_data"
    },
    {
     "data": {
      "text/markdown": [
       "\\begin{tabular}{ p{5cm} | p{5cm} | p{5cm} }\n",
       "\\toprule\n",
       "                            Municipalidad de Maule &                Corporación Municipal Isla de Maipo &           Corporación Municipal de Maipú (CODEDUC) \\\\\n",
       "                         Municipalidad de Porvenir &                       CFT de la Región de Coquimbo &                     Municipalidad de Independencia \\\\\n",
       "                          Municipalidad de Iquique &               Hospital Mauricio Heyermann de Angol &                         Municipalidad de El Carmen \\\\\n",
       "                           Municipalidad de Retiro &                          Municipalidad de Colchane &  Dirección Nacional de Fronteras y Límites del ... \\\\\n",
       "                   Corporación Municipal de Pirque &                           Hospital Roberto del Río &  Asociación de Municipalidades Territorio de Ri... \\\\\n",
       "                        Municipalidad de Río Verde &                       SEREMI de Salud de Los Lagos &  Asociación de Municipalidades Desarrollo Apicu... \\\\\n",
       "                       Municipalidad de Llanquihue &  Dirección General de Relaciones Económicas Int... &  Fundación de Comunicación Capacitación y Cultu... \\\\\n",
       "                            Municipalidad de Putre &                               Gendarmería de Chile &  Ex Consejo Nacional de la Cultura y las Artes ... \\\\\n",
       "    Asociación de Municipalidades Nahuelbuta (AMN) &   Asociación de Municipalidades del Norte de Chile &                               Carabineros de Chile \\\\\n",
       "                        Municipalidad de Llay Llay &                      CFT de la Región de los Lagos &  Asociación Municipalidades Provincia de Llanqu... \\\\\n",
       " Gobierno Regional de La Araucanía (Gore Arauca... &        Servicio Nacional del Adulto Mayor (SENAMA) &                            Municipalidad de Vicuña \\\\\n",
       "                         Municipalidad de Litueche &  Asociación de Municipalidades de la Región de ... &  Asociación de Municipalidades del Valle del Maipo \\\\\n",
       "                          Municipalidad de Carahue &  Asociación de Municipios Cordillera de la Cost... &  Asociación de Municipalidades para la Preserva... \\\\\n",
       "                         SERVIU Región de Coquimbo &                            Municipalidad de Camiña &                                                    \\\\\n",
       "                           Municipalidad de Malloa &                            Municipalidad de Antuco &                                                    \\\\\n",
       "                           Municipalidad de Ninhue &                           Municipalidad de Negrete &                                                    \\\\\n",
       "                    Corporación Municipal de Ancud &  Asociación de Municipalidades Paisajes de Cons... &                                                    \\\\\n",
       " Asociación de Municipalidades de la Provincia ... &                       Municipalidad de Santa María &                                                    \\\\\n",
       "                         Municipalidad de Valdivia &                        Municipalidad de Puchuncaví &                                                    \\\\\n",
       "                       SEREMI de Salud del Bío Bío &                             Defensa Civil de Chile &                                                    \\\\\n",
       "                          Municipalidad de Cochamó &  Asociación de Municipalidades de la Provincia ... &                                                    \\\\\n",
       "                      Municipalidad de San Ignacio &                         Municipalidad de Melipilla &                                                    \\\\\n",
       "                     Municipalidad de San Fernando &  Superintendencia de Bancos e Instituciones Fin... &                                                    \\\\\n",
       "                        Municipalidad de Vichuquén &  Asociación de Municipalidades Quinta Región Co... &                                                    \\\\\n",
       "                           Universidad de Ohiggins &                          Municipalidad de Vallenar &                                                    \\\\\n",
       "\\bottomrule\n",
       "\\end{tabular}\n"
      ],
      "text/plain": [
       "<IPython.core.display.Markdown object>"
      ]
     },
     "metadata": {},
     "output_type": "display_data"
    }
   ],
   "source": [
    "# Dividimos el dataset en dos, los que han publicado antes del último mes y los del último mes\n",
    "df4FFeb = df4F[df4F['mesAño'] != '2020-04']\n",
    "df4FFeb = df4FFeb['organismo_codigo'].drop_duplicates().to_frame()\n",
    "df4FMar = df4F[df4F['mesAño'] == '2020-04']\n",
    "df4FMar = df4FMar['organismo_codigo'].drop_duplicates().to_frame()\n",
    "df4FMar = df4FMar.rename(columns = {'organismo_codigo': 'orgcode'})\n",
    "\n",
    "# Unimos los dataset para ver las diferencias entre uno y otro\n",
    "df4NotP = df4FFeb.merge(df4FMar, how = 'left', left_on = 'organismo_codigo', right_on = 'orgcode')\n",
    "df4NotP = df4NotP[df4NotP['orgcode'].isnull()]\n",
    "nombresS = df3[['Codigo_org', 'Organismo']]\n",
    "df4NotP = df4NotP.merge(nombresS, how = 'left', left_on = 'organismo_codigo', right_on = 'Codigo_org')\n",
    "df4NotP = df4NotP[df4NotP['Organismo'].notnull()]\n",
    "\n",
    "# Imprimimos en 3 columnas\n",
    "d = df4NotP['Organismo'].reset_index().drop(columns = {'index'})\n",
    "d.index = pd.MultiIndex.from_tuples(d.index.map(lambda x: (x//25, x%25)))\n",
    "df4NotPP = d.unstack(0).fillna('')\n",
    "headers = ['', '', '', '', '']\n",
    "df4NotPP.to_csv('nopublican.csv', encoding = 'cp1252')\n",
    "display(Markdown('***Tabla 2: Servicios que han publicado datos en el dataset, pero que no publicaron el último mes***'))\n",
    "display(Markdown(df4NotPP.to_latex(header = False, index = False, column_format = ' p{5cm} | p{5cm} | p{5cm} ')))"
   ]
  },
  {
   "cell_type": "markdown",
   "metadata": {},
   "source": [
    "Por otro lado tenemos los Servicios que nunca han informado en el dataset, probablemente debido a que no están integrados en la plataforma que dispone el CPLT.\n",
    "\n",
    "Estos alcanzan la cifra de 216 de los 895, es decir, aún falta que un 24% de los Servicios se incorpore a la plataforma.\n",
    "En el anexo 1 se encuentra el detalle de los Servicios que nunca ha publicado en el dataset."
   ]
  },
  {
   "cell_type": "markdown",
   "metadata": {},
   "source": [
    "Como vemos hay una gran cantidad de Servicios que ya reportan por la plataforma del CPLT, pero aún faltan algunos que son de tamaño considerable, como el Servicio de Impuestos Internos o la Contraloría General entre otros, por lo que se hace un llamado a estas instituciones a hacer los esfuerzos necesarios para incorporarse a la plataforma."
   ]
  },
  {
   "cell_type": "markdown",
   "metadata": {},
   "source": [
    "## Regularidad de Publicación de los Servicios\n",
    "\n",
    "Otro punto importante es la regularidad con que los servicios publican su información, para ello se elaboró un indicador para rankear los más  y los menos regulares. El indicador es simple, y se calcula de la siguiente manera:\n",
    "\n",
    "a: Cantidad de veces que ha publicado desde la primera publicación\n",
    "\n",
    "b: Cantidad de periodos ocurridos desde la primera publicación\n",
    "\n",
    "$$\\frac{a}{b}*100$$"
   ]
  },
  {
   "cell_type": "code",
   "execution_count": 102,
   "metadata": {},
   "outputs": [],
   "source": [
    "#Generamos la conexión\n",
    "cnxn = vertica_python.connect(**conn_info)\n",
    "\n",
    "# Hacemos la query  e importamos el resultado en un df\n",
    "qPeriodos = '''\n",
    "SELECT anyo , mesN , OrganismoCodigo as organismo_codigo , OrganismoNombre as organismo_nombre \n",
    "FROM funcionarios.\"full\" f \n",
    "WHERE anyo  > 2013\n",
    "AND anyo * 100 + mesN < 202005\n",
    "'''\n",
    "\n",
    "dfPer = pd.read_sql(qPeriodos, con=cnxn)\n",
    "\n",
    "cnxn.close()"
   ]
  },
  {
   "cell_type": "code",
   "execution_count": 134,
   "metadata": {},
   "outputs": [],
   "source": [
    "#Variable año mes\n",
    "dfPer['fecha'] = pd.to_datetime(dfPer['anyo'].astype(str)+'/'+dfPer['mesN'].astype(str))"
   ]
  },
  {
   "cell_type": "code",
   "execution_count": 135,
   "metadata": {},
   "outputs": [
    {
     "data": {
      "text/html": [
       "<div>\n",
       "<style scoped>\n",
       "    .dataframe tbody tr th:only-of-type {\n",
       "        vertical-align: middle;\n",
       "    }\n",
       "\n",
       "    .dataframe tbody tr th {\n",
       "        vertical-align: top;\n",
       "    }\n",
       "\n",
       "    .dataframe thead th {\n",
       "        text-align: right;\n",
       "    }\n",
       "</style>\n",
       "<table border=\"1\" class=\"dataframe\">\n",
       "  <thead>\n",
       "    <tr style=\"text-align: right;\">\n",
       "      <th></th>\n",
       "      <th>anyo</th>\n",
       "      <th>mesN</th>\n",
       "      <th>organismo_codigo</th>\n",
       "      <th>organismo_nombre</th>\n",
       "      <th>fecha</th>\n",
       "    </tr>\n",
       "  </thead>\n",
       "  <tbody>\n",
       "    <tr>\n",
       "      <th>0</th>\n",
       "      <td>2019</td>\n",
       "      <td>04</td>\n",
       "      <td>MU342</td>\n",
       "      <td>Municipalidad De Yerbas Buenas</td>\n",
       "      <td>2019-04-01</td>\n",
       "    </tr>\n",
       "    <tr>\n",
       "      <th>1</th>\n",
       "      <td>2019</td>\n",
       "      <td>04</td>\n",
       "      <td>MU342</td>\n",
       "      <td>Municipalidad De Yerbas Buenas</td>\n",
       "      <td>2019-04-01</td>\n",
       "    </tr>\n",
       "    <tr>\n",
       "      <th>2</th>\n",
       "      <td>2019</td>\n",
       "      <td>04</td>\n",
       "      <td>MU342</td>\n",
       "      <td>Municipalidad De Yerbas Buenas</td>\n",
       "      <td>2019-04-01</td>\n",
       "    </tr>\n",
       "    <tr>\n",
       "      <th>3</th>\n",
       "      <td>2020</td>\n",
       "      <td>04</td>\n",
       "      <td>MU342</td>\n",
       "      <td>Municipalidad De Yerbas Buenas</td>\n",
       "      <td>2020-04-01</td>\n",
       "    </tr>\n",
       "    <tr>\n",
       "      <th>4</th>\n",
       "      <td>2020</td>\n",
       "      <td>04</td>\n",
       "      <td>MU342</td>\n",
       "      <td>Municipalidad De Yerbas Buenas</td>\n",
       "      <td>2020-04-01</td>\n",
       "    </tr>\n",
       "  </tbody>\n",
       "</table>\n",
       "</div>"
      ],
      "text/plain": [
       "   anyo mesN organismo_codigo                organismo_nombre      fecha\n",
       "0  2019   04            MU342  Municipalidad De Yerbas Buenas 2019-04-01\n",
       "1  2019   04            MU342  Municipalidad De Yerbas Buenas 2019-04-01\n",
       "2  2019   04            MU342  Municipalidad De Yerbas Buenas 2019-04-01\n",
       "3  2020   04            MU342  Municipalidad De Yerbas Buenas 2020-04-01\n",
       "4  2020   04            MU342  Municipalidad De Yerbas Buenas 2020-04-01"
      ]
     },
     "execution_count": 135,
     "metadata": {},
     "output_type": "execute_result"
    }
   ],
   "source": [
    "dfPer.head()"
   ]
  },
  {
   "cell_type": "code",
   "execution_count": 136,
   "metadata": {
    "scrolled": true
   },
   "outputs": [],
   "source": [
    "#Calculo de periodos que debería haber publicado\n",
    "dfMesIni = dfPer.groupby(by=['organismo_codigo'])['fecha'].min().reset_index()\n",
    "dfMesIni['max'] = pd.to_datetime('2020-05-01')\n",
    "dfMesIni['diff'] = (dfMesIni['max'] - dfMesIni['fecha'])\n",
    "dfMesIni['diff'] = round(dfMesIni['diff']/np.timedelta64(1,'M') + 1)\n"
   ]
  },
  {
   "cell_type": "code",
   "execution_count": 137,
   "metadata": {},
   "outputs": [],
   "source": [
    "#Calculo de peridos que ha publicado\n",
    "dfPubl = dfPer.groupby(by=['organismo_codigo'])['fecha'].nunique().reset_index().rename(columns={'fecha':'Qpublica'})"
   ]
  },
  {
   "cell_type": "code",
   "execution_count": 138,
   "metadata": {},
   "outputs": [],
   "source": [
    "# Merges y filtros para obtener dataset final\n",
    "dfRegula = dfMesIni.merge(dfPubl, how = 'left', left_on = 'organismo_codigo', right_on = 'organismo_codigo')\n",
    "dfRegula['indicador'] = round(dfRegula['Qpublica']/dfRegula['diff'] * 100, 1)\n",
    "df4TotalF = df3[df3['obligadorecibir_sai'] == 'SÍ']\n",
    "dfRegula = dfRegula.merge(df4TotalF, how = 'inner', left_on = 'organismo_codigo', right_on = 'Codigo_org')\n",
    "dfRegula = dfRegula[['organismo_codigo', 'fecha', 'diff', 'Qpublica','indicador', 'Organismo']]\n",
    "\n",
    "dfRegula = dfRegula.sort_values(by = 'indicador', ascending = True)"
   ]
  },
  {
   "cell_type": "code",
   "execution_count": 139,
   "metadata": {},
   "outputs": [],
   "source": [
    "# Calculo de variables a usar en parrafo\n",
    "novel = int(min(dfRegula['diff']))\n",
    "qnovel = int(len(dfRegula[dfRegula['diff'] == novel]))\n",
    "noveles = dfRegula[dfRegula['diff'] == novel]\n",
    "noveles = noveles[['Organismo']].sort_values(by = 'Organismo')\n",
    "\n",
    "old = int(max(dfRegula['diff']))\n",
    "qold = int(len(dfRegula[dfRegula['diff'] == old]))\n",
    "olds = dfRegula[dfRegula['diff'] == old]\n",
    "olds = olds[['Organismo']].sort_values(by = 'Organismo')\n",
    "\n",
    "maximo = int(len(dfRegula[dfRegula['indicador'] == 100]))\n",
    "hanpubli = len(dfRegula)\n",
    "porcentaje = round(maximo / hanpubli * 100, 2)\n",
    "\n",
    "peores = dfRegula[['Organismo', 'indicador']].head(25)"
   ]
  },
  {
   "cell_type": "code",
   "execution_count": 151,
   "metadata": {},
   "outputs": [
    {
     "data": {
      "text/html": [
       "<div>\n",
       "<style scoped>\n",
       "    .dataframe tbody tr th:only-of-type {\n",
       "        vertical-align: middle;\n",
       "    }\n",
       "\n",
       "    .dataframe tbody tr th {\n",
       "        vertical-align: top;\n",
       "    }\n",
       "\n",
       "    .dataframe thead th {\n",
       "        text-align: right;\n",
       "    }\n",
       "</style>\n",
       "<table border=\"1\" class=\"dataframe\">\n",
       "  <thead>\n",
       "    <tr style=\"text-align: right;\">\n",
       "      <th></th>\n",
       "      <th>organismo_codigo</th>\n",
       "      <th>fecha</th>\n",
       "      <th>diff</th>\n",
       "      <th>Qpublica</th>\n",
       "      <th>indicador</th>\n",
       "      <th>Organismo</th>\n",
       "    </tr>\n",
       "  </thead>\n",
       "  <tbody>\n",
       "    <tr>\n",
       "      <th>578</th>\n",
       "      <td>MU229</td>\n",
       "      <td>2014-07-01</td>\n",
       "      <td>71.0</td>\n",
       "      <td>1</td>\n",
       "      <td>1.4</td>\n",
       "      <td>Municipalidad de Puchuncaví</td>\n",
       "    </tr>\n",
       "    <tr>\n",
       "      <th>449</th>\n",
       "      <td>MU083</td>\n",
       "      <td>2015-06-01</td>\n",
       "      <td>60.0</td>\n",
       "      <td>1</td>\n",
       "      <td>1.7</td>\n",
       "      <td>Municipalidad de El Carmen</td>\n",
       "    </tr>\n",
       "    <tr>\n",
       "      <th>298</th>\n",
       "      <td>CM007</td>\n",
       "      <td>2016-06-01</td>\n",
       "      <td>48.0</td>\n",
       "      <td>1</td>\n",
       "      <td>2.1</td>\n",
       "      <td>Corporación Municipal de Maipú (CODEDUC)</td>\n",
       "    </tr>\n",
       "    <tr>\n",
       "      <th>670</th>\n",
       "      <td>MU335</td>\n",
       "      <td>2017-01-01</td>\n",
       "      <td>41.0</td>\n",
       "      <td>1</td>\n",
       "      <td>2.4</td>\n",
       "      <td>Municipalidad de Vicuña</td>\n",
       "    </tr>\n",
       "    <tr>\n",
       "      <th>28</th>\n",
       "      <td>AD009</td>\n",
       "      <td>2014-04-01</td>\n",
       "      <td>74.0</td>\n",
       "      <td>2</td>\n",
       "      <td>2.7</td>\n",
       "      <td>Carabineros de Chile</td>\n",
       "    </tr>\n",
       "    <tr>\n",
       "      <th>...</th>\n",
       "      <td>...</td>\n",
       "      <td>...</td>\n",
       "      <td>...</td>\n",
       "      <td>...</td>\n",
       "      <td>...</td>\n",
       "      <td>...</td>\n",
       "    </tr>\n",
       "    <tr>\n",
       "      <th>572</th>\n",
       "      <td>MU222</td>\n",
       "      <td>2014-01-01</td>\n",
       "      <td>77.0</td>\n",
       "      <td>76</td>\n",
       "      <td>98.7</td>\n",
       "      <td>Municipalidad de Pitrufquén</td>\n",
       "    </tr>\n",
       "    <tr>\n",
       "      <th>546</th>\n",
       "      <td>MU193</td>\n",
       "      <td>2014-01-01</td>\n",
       "      <td>77.0</td>\n",
       "      <td>76</td>\n",
       "      <td>98.7</td>\n",
       "      <td>Municipalidad de Padre Hurtado</td>\n",
       "    </tr>\n",
       "    <tr>\n",
       "      <th>465</th>\n",
       "      <td>MU100</td>\n",
       "      <td>2014-01-01</td>\n",
       "      <td>77.0</td>\n",
       "      <td>76</td>\n",
       "      <td>98.7</td>\n",
       "      <td>Municipalidad de Graneros</td>\n",
       "    </tr>\n",
       "    <tr>\n",
       "      <th>516</th>\n",
       "      <td>MU161</td>\n",
       "      <td>2014-01-01</td>\n",
       "      <td>77.0</td>\n",
       "      <td>76</td>\n",
       "      <td>98.7</td>\n",
       "      <td>Municipalidad de Macul</td>\n",
       "    </tr>\n",
       "    <tr>\n",
       "      <th>647</th>\n",
       "      <td>MU310</td>\n",
       "      <td>2014-01-01</td>\n",
       "      <td>77.0</td>\n",
       "      <td>76</td>\n",
       "      <td>98.7</td>\n",
       "      <td>Municipalidad de Sierra Gorda</td>\n",
       "    </tr>\n",
       "  </tbody>\n",
       "</table>\n",
       "<p>681 rows × 6 columns</p>\n",
       "</div>"
      ],
      "text/plain": [
       "    organismo_codigo      fecha  diff  Qpublica  indicador  \\\n",
       "578  MU229           2014-07-01  71.0  1         1.4         \n",
       "449  MU083           2015-06-01  60.0  1         1.7         \n",
       "298  CM007           2016-06-01  48.0  1         2.1         \n",
       "670  MU335           2017-01-01  41.0  1         2.4         \n",
       "28   AD009           2014-04-01  74.0  2         2.7         \n",
       "..     ...                  ...   ... ..         ...         \n",
       "572  MU222           2014-01-01  77.0  76        98.7        \n",
       "546  MU193           2014-01-01  77.0  76        98.7        \n",
       "465  MU100           2014-01-01  77.0  76        98.7        \n",
       "516  MU161           2014-01-01  77.0  76        98.7        \n",
       "647  MU310           2014-01-01  77.0  76        98.7        \n",
       "\n",
       "                                    Organismo  \n",
       "578  Municipalidad de Puchuncaví               \n",
       "449  Municipalidad de El Carmen                \n",
       "298  Corporación Municipal de Maipú (CODEDUC)  \n",
       "670  Municipalidad de Vicuña                   \n",
       "28   Carabineros de Chile                      \n",
       "..                    ...                      \n",
       "572  Municipalidad de Pitrufquén               \n",
       "546  Municipalidad de Padre Hurtado            \n",
       "465  Municipalidad de Graneros                 \n",
       "516  Municipalidad de Macul                    \n",
       "647  Municipalidad de Sierra Gorda             \n",
       "\n",
       "[681 rows x 6 columns]"
      ]
     },
     "execution_count": 151,
     "metadata": {},
     "output_type": "execute_result"
    }
   ],
   "source": [
    "dfRegula"
   ]
  },
  {
   "cell_type": "markdown",
   "metadata": {
    "variables": {
     "novel": "2",
     "qnovel": "3"
    }
   },
   "source": [
    "Antes de pasar a revisar el ranking, es importante dar un poco de contexto de las cifras, por ejemplo, existen **{{qnovel}}** Servicios que se incorporaron al dataset hace sólo **{{novel}}** meses publicando información, estos son los que aparecen en la tabla 3: \n",
    "\n",
    "**Tabla 3: Servicios que se incorporaron recientemente al dataset**"
   ]
  },
  {
   "cell_type": "code",
   "execution_count": 141,
   "metadata": {},
   "outputs": [
    {
     "data": {
      "text/markdown": [
       "\\begin{tabular}{l}\n",
       "\\toprule\n",
       " Dirección de Compras y Contratación Pública (C... \\\\\n",
       "                        Hospital Exequiel González \\\\\n",
       "                      SERVIU Región de Antofagasta \\\\\n",
       "\\bottomrule\n",
       "\\end{tabular}\n"
      ],
      "text/plain": [
       "<IPython.core.display.Markdown object>"
      ]
     },
     "metadata": {},
     "output_type": "display_data"
    }
   ],
   "source": [
    "display(Markdown(noveles.to_latex(header = False, index = False)))"
   ]
  },
  {
   "cell_type": "markdown",
   "metadata": {
    "variables": {
     "old": "77",
     "qold": "18"
    }
   },
   "source": [
    "Por otro lado tenemos los Servicios que llevan mucho tiempo en la plataforma, estos ascienden a **{{qold}}** Servicios que se incorporaron hace **{{old}}** meses al dataset, estos son los que aparecen en la tabla 4:\n",
    "\n",
    "\n",
    "**Tabla 4: Servicios con mayor antigüedad de incorporación al dataset**"
   ]
  },
  {
   "cell_type": "code",
   "execution_count": 150,
   "metadata": {},
   "outputs": [
    {
     "name": "stderr",
     "output_type": "stream",
     "text": [
      "C:\\ProgramData\\Anaconda3\\lib\\site-packages\\ipykernel_launcher.py:1: FutureWarning: Passing a negative integer is deprecated in version 1.0 and will not be supported in future version. Instead, use None to not limit the column width.\n",
      "  \"\"\"Entry point for launching an IPython kernel.\n"
     ]
    },
    {
     "data": {
      "text/plain": [
       "Organismo    Corporación Municipal de Educación y Servicios Ramón Freire Dalcahue\n",
       "Name: 302, dtype: object"
      ]
     },
     "execution_count": 150,
     "metadata": {},
     "output_type": "execute_result"
    }
   ],
   "source": [
    "pd.set_option('display.max_colwidth', -1)\n",
    "olds.iloc[1]"
   ]
  },
  {
   "cell_type": "code",
   "execution_count": 142,
   "metadata": {
    "scrolled": true
   },
   "outputs": [
    {
     "data": {
      "text/markdown": [
       "\\begin{tabular}{l}\n",
       "\\toprule\n",
       " Asociación de Municipalidades Paisajes de Cons... \\\\\n",
       " Corporación Municipal de Educación y Servicios... \\\\\n",
       "                      Municipalidad de Antofagasta \\\\\n",
       "                          Municipalidad de Calbuco \\\\\n",
       "                         Municipalidad de Graneros \\\\\n",
       "                        Municipalidad de La Granja \\\\\n",
       "                        Municipalidad de Los Andes \\\\\n",
       "                            Municipalidad de Macul \\\\\n",
       "                    Municipalidad de Padre Hurtado \\\\\n",
       "                            Municipalidad de Peumo \\\\\n",
       "                         Municipalidad de Peñaflor \\\\\n",
       "                       Municipalidad de Pitrufquén \\\\\n",
       "                         Municipalidad de Porvenir \\\\\n",
       "                        Municipalidad de Quilicura \\\\\n",
       "                         Municipalidad de Requínoa \\\\\n",
       "                        Municipalidad de Rio Bueno \\\\\n",
       "                      Municipalidad de San Rosendo \\\\\n",
       "                     Municipalidad de Sierra Gorda \\\\\n",
       "\\bottomrule\n",
       "\\end{tabular}\n"
      ],
      "text/plain": [
       "<IPython.core.display.Markdown object>"
      ]
     },
     "metadata": {},
     "output_type": "display_data"
    }
   ],
   "source": [
    "display(Markdown(olds.to_latex(header = False, index = False)))"
   ]
  },
  {
   "cell_type": "markdown",
   "metadata": {
    "variables": {
     "hanpubli": "681",
     "maximo": "477",
     "porcentaje": "70.04"
    }
   },
   "source": [
    "Adicionalmente respecto de este contexto, es importante señalar que existen **{{maximo}}** Servicios que han publicado en todos los periodos desde que se incorporaron al dataset, esto corresponde a un **{{porcentaje}}**% de los {{hanpubli}} que alguna vez han publicado. En el anexo 2 se encuentra el listado detallado de estos Servicios."
   ]
  },
  {
   "cell_type": "markdown",
   "metadata": {},
   "source": [
    "Finalmente en la tabla 5 se presentan los 25 Servicios peor rankeados en el indicador, es decir que porcentualmente menos han publicado.\n",
    "\n",
    "**Tabla 5: Servicios que con peor indicador de regularidad de publicación.**"
   ]
  },
  {
   "cell_type": "code",
   "execution_count": 172,
   "metadata": {},
   "outputs": [],
   "source": [
    "peores.to_csv('peores.csv', sep = ';', encoding = 'cp1252')"
   ]
  },
  {
   "cell_type": "code",
   "execution_count": 110,
   "metadata": {
    "variables": {
     "peores": "\\begin{tabular}{llr}\n\\toprule\n{} &                                          Organismo &  indicador \\\\\n\\midrule\n576 &                        Municipalidad de Puchuncaví &        1.4 \\\\\n447 &                         Municipalidad de El Carmen &        1.7 \\\\\n297 &           Corporación Municipal de Maipú (CODEDUC) &        2.2 \\\\\n668 &                            Municipalidad de Vicuña &        2.6 \\\\\n28  &                               Carabineros de Chile &        2.8 \\\\\n373 &  Asociación de Municipalidades del Valle del Maipo &        2.9 \\\\\n555 &                           Municipalidad de Pelarco &        3.4 \\\\\n355 &  Asociación Municipalidades Provincia de Llanqu... &        3.4 \\\\\n344 &  Asociación de Municipalidades Territorio de Ri... &        4.2 \\\\\n368 &  Asociación de Municipalidades para la Preserva... &        6.2 \\\\\n349 &  Asociación de Municipalidades Desarrollo Apicu... &       10.0 \\\\\n271 &  Ex Consejo Nacional de la Cultura y las Artes ... &       14.8 \\\\\n642 &                       Municipalidad de Santa María &       15.4 \\\\\n29  &                             Defensa Civil de Chile &       16.7 \\\\\n21  &  Dirección General de Relaciones Económicas Int... &       17.2 \\\\\n124 &                 Subsecretaría de Transportes (MTT) &       31.2 \\\\\n473 &                     Municipalidad de Independencia &       33.3 \\\\\n22  &  Dirección Nacional de Fronteras y Límites del ... &       37.5 \\\\\n664 &                          Municipalidad de Valdivia &       37.9 \\\\\n345 &  Asociación de Municipalidades Paisajes de Cons... &       41.3 \\\\\n347 &  Asociación de Municipalidades de la Provincia ... &       43.2 \\\\\n357 &  Asociación Municipal para la sustentabilidad a... &       44.4 \\\\\n348 &  Asociación de Municipalidades Quinta Región Co... &       48.3 \\\\\n617 &                   Municipalidad de Sagrada Familia &       60.0 \\\\\n416 &                           Municipalidad de Chonchi &       61.5 \\\\\n\\bottomrule\n\\end{tabular}\n"
    }
   },
   "outputs": [
    {
     "data": {
      "text/markdown": [
       "\\begin{tabular}{lr}\n",
       "\\toprule\n",
       "                       Municipalidad de Puchuncaví &   1.4 \\\\\n",
       "                        Municipalidad de El Carmen &   1.7 \\\\\n",
       "          Corporación Municipal de Maipú (CODEDUC) &   2.1 \\\\\n",
       "                           Municipalidad de Vicuña &   2.5 \\\\\n",
       "                              Carabineros de Chile &   2.7 \\\\\n",
       " Asociación de Municipalidades del Valle del Maipo &   2.9 \\\\\n",
       " Asociación Municipalidades Provincia de Llanqu... &   3.3 \\\\\n",
       " Asociación de Municipalidades Territorio de Ri... &   4.0 \\\\\n",
       " Asociación de Municipalidades para la Preserva... &   5.9 \\\\\n",
       "                          Municipalidad de Pelarco &   8.3 \\\\\n",
       " Asociación de Municipalidades Desarrollo Apicu... &   9.1 \\\\\n",
       " Ex Consejo Nacional de la Cultura y las Artes ... &  14.3 \\\\\n",
       "                      Municipalidad de Santa María &  14.3 \\\\\n",
       "                            Defensa Civil de Chile &  16.0 \\\\\n",
       " Dirección General de Relaciones Económicas Int... &  16.7 \\\\\n",
       "                    Municipalidad de Independencia &  25.0 \\\\\n",
       " Dirección Nacional de Fronteras y Límites del ... &  33.3 \\\\\n",
       "                Subsecretaría de Transportes (MTT) &  35.3 \\\\\n",
       "                         Municipalidad de Valdivia &  37.3 \\\\\n",
       " Asociación de Municipalidades Paisajes de Cons... &  40.8 \\\\\n",
       " Asociación de Municipalidades de la Provincia ... &  42.1 \\\\\n",
       " Asociación Municipal para la sustentabilidad a... &  46.4 \\\\\n",
       " Asociación de Municipalidades Quinta Región Co... &  46.7 \\\\\n",
       " Fundación de Comunicación Capacitación y Cultu... &  50.0 \\\\\n",
       "                  Municipalidad de Sagrada Familia &  60.7 \\\\\n",
       "\\bottomrule\n",
       "\\end{tabular}\n"
      ],
      "text/plain": [
       "<IPython.core.display.Markdown object>"
      ]
     },
     "metadata": {},
     "output_type": "display_data"
    }
   ],
   "source": [
    "display(Markdown(peores.to_latex(header = False, index = False)))"
   ]
  },
  {
   "cell_type": "markdown",
   "metadata": {},
   "source": [
    "# Falta de estandarización de datos"
   ]
  },
  {
   "cell_type": "markdown",
   "metadata": {},
   "source": [
    "Como último punto a analizar, se revisó el estado de la estandarización de algunos de los principales campos de descriptivos de cada uno de los funcionarios pertenecientes al dataset.\n",
    "Entiendase como estandarización al nivel de ordenamiento y agrupación de datos similares, ejemplo: si el campo profesión tiene entre sus valores los siguiente: Ingeniero Comercial MBA en Universidad xX, Ingeniero Comercial Mención Economía. Entonces nos encontramos con un campo \"profesión\" con bajo nivel de estandarización, esto probablemente se debe a que el ingreso de estos datos es digitado y no a partir de una lista pregenerada.\n",
    "Entre los campos que se analizaron están: \n",
    "\n",
    "- Tipo Estamento\n",
    "- Tipo Cargo\n",
    "- Grado\n",
    "- Tipo de Calificación"
   ]
  },
  {
   "cell_type": "code",
   "execution_count": null,
   "metadata": {},
   "outputs": [],
   "source": []
  },
  {
   "cell_type": "markdown",
   "metadata": {},
   "source": [
    "## Tipo de Estamento"
   ]
  },
  {
   "cell_type": "code",
   "execution_count": 112,
   "metadata": {},
   "outputs": [],
   "source": [
    "#Generamos la conexión\n",
    "cnxn = vertica_python.connect(**conn_info)\n",
    "\n",
    "# Hacemos la query  e importamos el resultado en un df\n",
    "sqlEstamento = '''\n",
    "SELECT distinct TipoEstamento\n",
    "FROM funcionarios.\"full\" f \n",
    "'''\n",
    "estamentos = pd.read_sql(sqlEstamento , con = cnxn)\n",
    "\n",
    "cnxn.close()"
   ]
  },
  {
   "cell_type": "code",
   "execution_count": 114,
   "metadata": {
    "scrolled": true
   },
   "outputs": [],
   "source": [
    "cantTE = len(estamentos)\n",
    "estClaros = estamentos.sort_values('TipoEstamento').head()\n",
    "estRaros = estamentos.sort_values('TipoEstamento').tail()"
   ]
  },
  {
   "cell_type": "markdown",
   "metadata": {
    "variables": {
     "cantTE": "34"
    }
   },
   "source": [
    "El primer campo analizado corresponde a Tipo de Estamento, el cual contiene información respecto del estamento al cual pertenece el funcionario. \n",
    "Actualmente ese campo contiene {{cantTE}} elementos distintos, lo que pareciera ser un número bastante razonable de elementos, sin y de hecho si vemos los primeros 5 elementos, que aparecen en la tabla 6, podríamos pensar que así es, si embargo, en la  tabla 7 se muestran los últimos 5 elementos, y ahí la calidad de la información acerca del Estamento no es tan evidente, ya que hay elementos como \"Técnico\", \"Técnicopedagógico\", \"Técnico de Salud\" y \"Técnicos de nivel superior\", que aparentemente podrían estar agrupados en un estamento más genérico."
   ]
  },
  {
   "cell_type": "code",
   "execution_count": 115,
   "metadata": {},
   "outputs": [
    {
     "data": {
      "text/markdown": [
       "**Tabla 6:  primeros cinco elementos del campo Tipo Estamento**"
      ],
      "text/plain": [
       "<IPython.core.display.Markdown object>"
      ]
     },
     "metadata": {},
     "output_type": "display_data"
    },
    {
     "data": {
      "text/markdown": [
       "\\begin{tabular}{l}\n",
       "\\toprule\n",
       " (1) Presidente del Consejo Directivo \\\\\n",
       "                       Administrativo \\\\\n",
       "             Administrativos de Salud \\\\\n",
       "                              Alcalde \\\\\n",
       "                Autoridad de Gobierno \\\\\n",
       "\\bottomrule\n",
       "\\end{tabular}\n"
      ],
      "text/plain": [
       "<IPython.core.display.Markdown object>"
      ]
     },
     "metadata": {},
     "output_type": "display_data"
    }
   ],
   "source": [
    "display(Markdown('**Tabla 6:  primeros cinco elementos del campo Tipo Estamento**'))\n",
    "display(Markdown(estClaros.to_latex(header = False, index = False)))"
   ]
  },
  {
   "cell_type": "code",
   "execution_count": 116,
   "metadata": {},
   "outputs": [
    {
     "data": {
      "text/markdown": [
       "**Tabla 7:  últimos cinco elementos del campo Tipo Estamento**"
      ],
      "text/plain": [
       "<IPython.core.display.Markdown object>"
      ]
     },
     "metadata": {},
     "output_type": "display_data"
    },
    {
     "data": {
      "text/markdown": [
       "\\begin{tabular}{l}\n",
       "\\toprule\n",
       "                                 Técnico \\\\\n",
       "                       Técnicopedagógico \\\\\n",
       "                       Técnicos de Salud \\\\\n",
       " Técnicos de nivel superior (Ley 19.378) \\\\\n",
       "                                    None \\\\\n",
       "\\bottomrule\n",
       "\\end{tabular}\n"
      ],
      "text/plain": [
       "<IPython.core.display.Markdown object>"
      ]
     },
     "metadata": {},
     "output_type": "display_data"
    }
   ],
   "source": [
    "display(Markdown('**Tabla 7:  últimos cinco elementos del campo Tipo Estamento**'))\n",
    "display(Markdown(estRaros.to_latex(header = False, index = False)))"
   ]
  },
  {
   "cell_type": "markdown",
   "metadata": {},
   "source": [
    "## Tipo Cargo"
   ]
  },
  {
   "cell_type": "code",
   "execution_count": 117,
   "metadata": {},
   "outputs": [],
   "source": [
    "#Generamos la conexión\n",
    "cnxn = vertica_python.connect(**conn_info)\n",
    "\n",
    "# Hacemos la query  e importamos el resultado en un df\n",
    "sqlCargo = '''\n",
    "SELECT distinct TipoCargo\n",
    "FROM funcionarios.\"full\" f \n",
    "'''\n",
    "cargos = pd.read_sql(sqlCargo , con = cnxn)\n",
    "\n",
    "cnxn.close()"
   ]
  },
  {
   "cell_type": "code",
   "execution_count": 118,
   "metadata": {},
   "outputs": [],
   "source": [
    "cantTC = len(cargos)\n",
    "carClaros = cargos.sort_values('TipoCargo').head(20)"
   ]
  },
  {
   "cell_type": "markdown",
   "metadata": {
    "variables": {
     "cantTC": "329276"
    }
   },
   "source": [
    "El campo Tipo Cargo, el cual aparentemente contiene información respecto del **nombre del cargo** al cual pertenece el funcionario. \n",
    "Actualmente ese campo contiene **{{cantTC}}** elementos distintos, lo que pareciera ser un número inmanejable de elementos como para efectivamente realizar algún tipo de análisis, y esto probablemente se deba a la falta de estandarización del campo, de hecho en la tabla 8, se puede ver una muestra de los que se encuentra en ese campo, y se puede apreciar que efectivamente los datos contiene bajo nivel de estandarización, y mucho dato mal ingresado. En conclusión se requiere hacer una análisis respecto de este campo para que se cree una lista seleccionable que permita generar información comparable entre las distintas instituciones."
   ]
  },
  {
   "cell_type": "code",
   "execution_count": 119,
   "metadata": {},
   "outputs": [
    {
     "data": {
      "text/markdown": [
       "**Tabla 8: muestra de 25 elementos del campo Tipo Cargo**"
      ],
      "text/plain": [
       "<IPython.core.display.Markdown object>"
      ]
     },
     "metadata": {},
     "output_type": "display_data"
    },
    {
     "data": {
      "text/markdown": [
       "\\begin{tabular}{l}\n",
       "\\toprule\n",
       "                                    (01)Chero \\\\\n",
       "                                    (1)+I8:L9 \\\\\n",
       "            (131)(26)(51)(37)(43)(46)(08)(09) \\\\\n",
       "            (A999 ) Departamento De Educacion \\\\\n",
       "                 (C095 ) Liceo De La Frontera \\\\\n",
       "        (C950 ) Liceo La Frontera Educ. Media \\\\\n",
       "                        (F1051) Escuela Rihue \\\\\n",
       "                       (F1052) Escuela Coigue \\\\\n",
       "                  (G1049) Escuela De Vaqueria \\\\\n",
       "               (S) Director Seguridad Publica \\\\\n",
       " (Servicio De Orientación Médico Estadístico) \\\\\n",
       "                               ************** \\\\\n",
       "                       ********************** \\\\\n",
       "                    ************************* \\\\\n",
       "                   ************************** \\\\\n",
       "            *Tec En Tto Y Transporte Publicio \\\\\n",
       "                                            . \\\\\n",
       "      . Encargado  Escuela Rural La Illahuape \\\\\n",
       "        . Profesor Filosofía Y Religión Liceo \\\\\n",
       "                                            0 \\\\\n",
       "\\bottomrule\n",
       "\\end{tabular}\n"
      ],
      "text/plain": [
       "<IPython.core.display.Markdown object>"
      ]
     },
     "metadata": {},
     "output_type": "display_data"
    }
   ],
   "source": [
    "display(Markdown('**Tabla 8: muestra de 25 elementos del campo Tipo Cargo**'))\n",
    "display(Markdown(carClaros.to_latex(header = False, index = False)))"
   ]
  },
  {
   "cell_type": "markdown",
   "metadata": {},
   "source": [
    "## Grados"
   ]
  },
  {
   "cell_type": "code",
   "execution_count": 120,
   "metadata": {},
   "outputs": [],
   "source": [
    "#Generamos la conexión\n",
    "cnxn = vertica_python.connect(**conn_info)\n",
    "\n",
    "# Hacemos la query  e importamos el resultado en un df\n",
    "sqlGrado = '''\n",
    "SELECT distinct GradoEus\n",
    "FROM funcionarios.\"full\" f \n",
    "'''\n",
    "grados = pd.read_sql(sqlGrado, con = cnxn)\n",
    "\n",
    "cnxn.close()"
   ]
  },
  {
   "cell_type": "code",
   "execution_count": 121,
   "metadata": {},
   "outputs": [],
   "source": [
    "cantG = len(grados)\n",
    "graClaros = grados.sort_values('GradoEus').tail(20)"
   ]
  },
  {
   "cell_type": "markdown",
   "metadata": {
    "variables": {
     "cantG": "18099"
    }
   },
   "source": [
    "Otro campo de alto interés para realizar análisis evolutivos y comparativos dentro de los funcionarios públicos corresponde al grado, sin embargo, este campo también presenta problemas de estandarización, de hecho, el campo contiene {{cantG}} elementos, lo que nuevamente hace que las comparativas sean prácticamente imposibles de realizar. En la tabla 9 se puede apreciar luna muestra del contenido de este campo, donde es posible visualizar que dentro de los elementos incluso se pueden encontrar nombres o cantidad de horas. Frente a este problema nuevamente se invita a  los responsables a desarrollar un análisis que permita generar estándares en este campo."
   ]
  },
  {
   "cell_type": "code",
   "execution_count": 122,
   "metadata": {},
   "outputs": [
    {
     "data": {
      "text/markdown": [
       "**Tabla 9: muestra de 20 elementos del campo Grado**"
      ],
      "text/plain": [
       "<IPython.core.display.Markdown object>"
      ]
     },
     "metadata": {},
     "output_type": "display_data"
    },
    {
     "data": {
      "text/markdown": [
       "\\begin{tabular}{l}\n",
       "\\toprule\n",
       "               o Asimilado a Grado \\\\\n",
       "                                 p \\\\\n",
       "                 pago asignaciones \\\\\n",
       "                         pago bono \\\\\n",
       "                pago de asignacion \\\\\n",
       "              pago de asignaciones \\\\\n",
       "                      pago de bono \\\\\n",
       "                  pago retroactivo \\\\\n",
       "                       profesional \\\\\n",
       "                                sg \\\\\n",
       "                         sin grado \\\\\n",
       "                         sociologo \\\\\n",
       "                titular de 44 hrs. \\\\\n",
       "                                uh \\\\\n",
       "                                xx \\\\\n",
       "                              xxxx \\\\\n",
       "                                 y \\\\\n",
       "                                 \\} \\\\\n",
       " ÑANCUCHEO PAILAHUEQUE ARTURO LUIS \\\\\n",
       "                              None \\\\\n",
       "\\bottomrule\n",
       "\\end{tabular}\n"
      ],
      "text/plain": [
       "<IPython.core.display.Markdown object>"
      ]
     },
     "metadata": {},
     "output_type": "display_data"
    }
   ],
   "source": [
    "display(Markdown('**Tabla 9: muestra de 20 elementos del campo Grado**'))\n",
    "display(Markdown(graClaros.to_latex(header = False, index = False)))"
   ]
  },
  {
   "cell_type": "markdown",
   "metadata": {},
   "source": [
    "## Tipo Calificación"
   ]
  },
  {
   "cell_type": "code",
   "execution_count": 123,
   "metadata": {},
   "outputs": [],
   "source": [
    "#Generamos la conexión\n",
    "cnxn = vertica_python.connect(**conn_info)\n",
    "\n",
    "# Hacemos la query  e importamos el resultado en un df\n",
    "sqlCalifica = '''\n",
    "SELECT distinct TipoCalificacionp \n",
    "FROM funcionarios.\"full\" f \n",
    "'''\n",
    "tcalifica = pd.read_sql(sqlCalifica , con = cnxn)\n",
    "\n",
    "cnxn.close()"
   ]
  },
  {
   "cell_type": "code",
   "execution_count": 124,
   "metadata": {},
   "outputs": [],
   "source": [
    "cantC = len(tcalifica)\n",
    "calificaClaros = tcalifica.sort_values('TipoCalificacionp').tail(20)"
   ]
  },
  {
   "cell_type": "markdown",
   "metadata": {
    "variables": {
     "cantC": "146342"
    }
   },
   "source": [
    "Finalmente se revisó el campo tipo de calificación, que contiene información a cerca del nivel de estudios de los funcionarios públicos, especificando la profesión u oficio. Nuevamente, este campo contiene un nivel de falta de estandarización extraordinariamente alto, de hecho el campo contiene {{cantC}} elementos distintos. En la tabla 10 se presentan una muestra del contenido de este campo, en ella se puede apreciar, por ejemplo, la palabra técnico mal escrita en varias ocasiones, lo que implica que estos elementos no se agrupen correctamente y por lo tanto no sea posible realizar un análisis preciso de la información de este campo.\n",
    "\n",
    "\n",
    "En vista del resultado encontrado en este y los campos anteriores, se conmina al CPLT y los servicios afiliados a su plataforma a trabajar sobre esta información con la finalidad que la información producida sea de utilidad para la toma de decisiones relativas a personal del Estado."
   ]
  },
  {
   "cell_type": "code",
   "execution_count": 125,
   "metadata": {},
   "outputs": [
    {
     "data": {
      "text/markdown": [
       "**Tabla 10: muestra de 20 elementos del campo Tipo de Calificación**"
      ],
      "text/plain": [
       "<IPython.core.display.Markdown object>"
      ]
     },
     "metadata": {},
     "output_type": "display_data"
    },
    {
     "data": {
      "text/markdown": [
       "\\begin{tabular}{l}\n",
       "\\toprule\n",
       "   Árbitro Y Oficial De Mesa De Control Basquetbol \\\\\n",
       "                                          Árbitros \\\\\n",
       "                       Área Ambiental Agripecuario \\\\\n",
       "                               Área De Convivencia \\\\\n",
       "                           Área De La Construcción \\\\\n",
       "                             Área De Participación \\\\\n",
       "                                  Área Informatica \\\\\n",
       "                                  Área Informática \\\\\n",
       "                                Áreas De Servicios \\\\\n",
       "                         Áreas De Servicios Dideco \\\\\n",
       "                        Áreas De Servicios Dideco. \\\\\n",
       "                                Áribitro De Futbol \\\\\n",
       "                                  Ásistente Social \\\\\n",
       " Écnico  Técnica De Nivel Superior En Administr... \\\\\n",
       "            Écnico De Nivel Superior En Enfermería \\\\\n",
       "  Écnico Industrial Con Mención En Electromecánica \\\\\n",
       "     Écnico Nivel Superior En Educación Parvularia \\\\\n",
       " Écnico Universitario En Construcciones (Univer... \\\\\n",
       "                          Énseñanza Media Completa \\\\\n",
       "                                              None \\\\\n",
       "\\bottomrule\n",
       "\\end{tabular}\n"
      ],
      "text/plain": [
       "<IPython.core.display.Markdown object>"
      ]
     },
     "metadata": {},
     "output_type": "display_data"
    }
   ],
   "source": [
    "display(Markdown('**Tabla 10: muestra de 20 elementos del campo Tipo de Calificación**'))\n",
    "display(Markdown(calificaClaros.to_html(header = False, index = False)))"
   ]
  },
  {
   "cell_type": "code",
   "execution_count": 8,
   "metadata": {},
   "outputs": [
    {
     "data": {
      "text/markdown": [
       "## hola"
      ],
      "text/plain": [
       "<IPython.core.display.Markdown object>"
      ]
     },
     "metadata": {},
     "output_type": "display_data"
    }
   ],
   "source": []
  },
  {
   "cell_type": "code",
   "execution_count": 9,
   "metadata": {},
   "outputs": [],
   "source": [
    "#Generamos la conexión\n",
    "cnxn = vertica_python.connect(**conn_info)\n",
    "\n",
    "# Hacemos la query  e importamos el resultado en un df\n",
    "sqlGrado = '''\n",
    "SELECT distinct GradoEus\n",
    "FROM funcionarios.\"full\" f \n",
    "'''\n",
    "únicos = pd.read_sql(sqlGrado, con = cnxn)\n",
    "\n",
    "cnxn.close()"
   ]
  },
  {
   "cell_type": "code",
   "execution_count": null,
   "metadata": {},
   "outputs": [],
   "source": []
  },
  {
   "cell_type": "code",
   "execution_count": null,
   "metadata": {},
   "outputs": [],
   "source": []
  },
  {
   "cell_type": "code",
   "execution_count": null,
   "metadata": {},
   "outputs": [],
   "source": []
  },
  {
   "cell_type": "code",
   "execution_count": 126,
   "metadata": {
    "scrolled": true
   },
   "outputs": [
    {
     "data": {
      "text/markdown": [
       "# ANEXOS"
      ],
      "text/plain": [
       "<IPython.core.display.Markdown object>"
      ]
     },
     "metadata": {},
     "output_type": "display_data"
    },
    {
     "data": {
      "text/markdown": [
       "## ANEXO 1: Servicios obligados que nunca han publicado en el dataset"
      ],
      "text/plain": [
       "<IPython.core.display.Markdown object>"
      ]
     },
     "metadata": {},
     "output_type": "display_data"
    },
    {
     "data": {
      "text/markdown": [
       "\\begin{longtable}{ p{5cm} | p{5cm} | p{5cm} }\n",
       "\\toprule\n",
       "            Agencia Nacional de Inteligencia (ANI) &                     Gobernación de General Carrera &                       Municipalidad de Los Muermos \\\\\n",
       "             Asociación Chilena de Municipalidades &                              Gobernación de Huasco &                              Municipalidad de Lota \\\\\n",
       " Asociación Regional de Municipalidades de Maga... &                             Gobernación de Iquique &                       Municipalidad de María Elena \\\\\n",
       "     Asociación de Municipalidades Región de Aysén &                      Gobernación de Isla de Pascua &                    Municipalidad de Nueva Imperial \\\\\n",
       " Asociación de Municipalidades Turísticas lacus... &                               Gobernación de Itata &                             Municipalidad de Paine \\\\\n",
       " Asociación de Municipalidades de la Provincia ... &                Gobernación de La Antártica Chilena &                         Municipalidad de Panquehue \\\\\n",
       " Asociación de Municipalidades de la Región del... &                              Gobernación de Limarí &                           Municipalidad de Petorca \\\\\n",
       " Asociación de Municipalidades de la Zona Orien... &                             Gobernación de Linares &                       Municipalidad de Providencia \\\\\n",
       " Asociación de Municipalidades de la cuenca del... &                          Gobernación de Llanquihue &                       Municipalidad de Puente Alto \\\\\n",
       " Asociación de Municipalidades para la Segurida... &                           Gobernación de Los Andes &                             Municipalidad de Purén \\\\\n",
       "       Asociación de Municipios Mapocho  La Chimba &                          Gobernación de Magallanes &                           Municipalidad de Quilaco \\\\\n",
       " Asociación de Municipios Rurales Regiones de T... &                               Gobernación de Maipo &                           Municipalidad de Quillón \\\\\n",
       " Asociación de Municipios de Desarrollo Interco... &                             Gobernación de Malleco &                          Municipalidad de Quinchao \\\\\n",
       " Asociación de Municipios para el Desarrollo Tu... &                           Gobernación de Melipilla &                 Municipalidad de Quinta de Tilcoco \\\\\n",
       " Asociación de municipalidades con casinos de j... &                              Gobernación de Osorno &                          Municipalidad de Recoleta \\\\\n",
       "            Biblioteca del Congreso Nacional (BCN) &                              Gobernación de Palena &                         Municipalidad de Rinconada \\\\\n",
       "                    CFT de la región metropolitana &                          Gobernación de Parinacota &              Municipalidad de San Pedro de Atacama \\\\\n",
       " Centro de Información de Recursos Naturales (C... &                             Gobernación de Petorca &                        Municipalidad de San Rafael \\\\\n",
       "      Centro de Investigación Minera y Metalúrgica &                        Gobernación de Puerto Aysén &                     Municipalidad de Santa Bárbara \\\\\n",
       "           Consejo de Calificación Cinematográfica &                             Gobernación de Punilla &                        Municipalidad de Santa Cruz \\\\\n",
       "         Contraloría General de la República (CGR) &                            Gobernación de Quillota &                            Municipalidad de Temuco \\\\\n",
       "          Corporación Municipal de Calera De Tango &                               Gobernación de Ranco &                          Municipalidad de Victoria \\\\\n",
       "                 Corporación Municipal de Conchali &                         Gobernación de San Antonio &                          Municipalidad de Vitacura \\\\\n",
       " Corporación Municipal de Deportes Recreación y... &                          Gobernación de San Felipe &                      Municipalidad de Viña del Mar \\\\\n",
       " Corporación Municipal de Fomento y Desarrollo ... &                           Gobernación de Talagante &                                Partido ANDHA Chile \\\\\n",
       "                  Corporación Municipal de Iquique &                               Gobernación de Talca &  Partido Federación Regionalista Verde Social  ... \\\\\n",
       "               Corporación Municipal de La Florida &                           Gobernación de Tamarugal &  Partido Izquierda Anticapitalista de los Traba... \\\\\n",
       "                Corporación Municipal de La Serena &                    Gobernación de Tierra del Fuego &                        Partido Izquierda Ciudadana \\\\\n",
       "               Corporación Municipal de Las Condes &                           Gobernación de Tocopilla &                                 Partido MAS Región \\\\\n",
       "       Corporación Municipal de Peñalolén (CORMUP) &                            Gobernación de Valdivia &                           Partido Pais Progresista \\\\\n",
       "              Corporación Municipal de Providencia &                          Gobernación de Valparaíso &                Partido Por La Integración Regional \\\\\n",
       "           Corporación Municipal de Puerto Natales &                    Gobernación de última Esperanza &  Partido Regionalista Independiente Demócrata (... \\\\\n",
       "   Corporación Municipal de Punta Arenas (CORMUPA) &    Gobierno Regional de Los Lagos (Gore Los Lagos) &            Partido de Trabajadores Revolucionarios \\\\\n",
       "                 Corporación Municipal de Quinchao &                         Instituto Forestal (INFOR) &                                     Poder Judicial \\\\\n",
       "  Corporación Municipal de San Fernando (CORMUSAF) &             Instituto Nacional de Hidráulica (INH) &                   Policía de Investigaciones (PDI) \\\\\n",
       "        Corporación Municipal de San Jose De Maipo &  Instituto de Investigaciones Agropecuarias (INIA) &                            SERVIU Región del Ñuble \\\\\n",
       "               Corporación Municipal de San Miguel &                     Intendencia Arica y Parinacota &                                             Senado \\\\\n",
       "             Corporación Municipal de Viña Del Mar &                          Intendencia Metropolitana &             Servicio Aerofotogramétrico FACH (SAF) \\\\\n",
       " Corporación Municipal de deportes y recreación... &                         Intendencia de Antofagasta &                        Servicio Electoral (SERVEL) \\\\\n",
       " Corporación Municipal del Desarrollo Social de... &                             Intendencia de Atacama &  Servicio Hidrográfico y Oceanográfico de La Ar... \\\\\n",
       "             Corporación Nacional Forestal (CONAF) &                               Intendencia de Aysén &      Servicio Local de Educación Pública Colchagua \\\\\n",
       " Corporación Regional de Desarrollo Productivo ... &                            Intendencia de Coquimbo &        Servicio Nacional de Discapacidad (SENADIS) \\\\\n",
       "                               Cámara de Diputados &                        Intendencia de La Araucanía &                      Servicio de Gobierno Interior \\\\\n",
       "   Dirección General de Promoción de Exportaciones &                           Intendencia de Los Lagos &               Servicio de Impuestos Internos (SII) \\\\\n",
       " Dirección General del Territorio Marítimo y Ma... &                            Intendencia de Los Ríos &                 Sistema de Empresas Públicas (SEP) \\\\\n",
       "                               Fundación Chilenter &                          Intendencia de Magallanes &  Subsecretaría de Relaciones Económicas Interna... \\\\\n",
       "                                 Fundación Integra &                           Intendencia de O Higgins &                         Subsecretaría del Interior \\\\\n",
       " Fundación de Orquestas Juveniles e Infantiles ... &                            Intendencia de Tarapacá &                       Tribunal Constitucional (TC) \\\\\n",
       "                         Fundación de las Familias &                          Intendencia de Valparaíso &            Tribunal de Propiedad Industrial (TDPI) \\\\\n",
       "        Fundación para la Innovación Agraria (FIA) &                               Intendencia de Ñuble &                     Universidad Arturo Prat (UNAP) \\\\\n",
       " Fundación para la Promoción y Desarrollo de la... &                            Intendencia del Bío Bío &  Universidad Metropolitana de Ciencias de la Ed... \\\\\n",
       "       Fábricas y Maestranzas del Ejército (FAMAE) &                              Intendencia del Maule &       Universidad Tecnológica Metropolitana (UTEM) \\\\\n",
       "             Gobernación Provincial de Marga Marga &                         Municipalidad de Algarrobo &                         Universidad de Antofagasta \\\\\n",
       "                        Gobernación de Antofagasta &                     Municipalidad de Alto Hospicio &                             Universidad de Atacama \\\\\n",
       "                             Gobernación de Arauco &                             Municipalidad de Ancud &                      Universidad de Chile (UCHILE) \\\\\n",
       "                              Gobernación de Arica &                             Municipalidad de Arica &                  Universidad de La Frontera (UFRO) \\\\\n",
       "                             Gobernación de Bíobío &                           Municipalidad de Cabrero &                           Universidad de La Serena \\\\\n",
       "                          Gobernación de Cachapoal &                            Municipalidad de Calama &                           Universidad de Los Lagos \\\\\n",
       "                       Gobernación de Capitán Prat &                            Municipalidad de Castro &                          Universidad de Magallanes \\\\\n",
       "                      Gobernación de Cardenal Caro &                     Municipalidad de Chillán Viejo &                  Universidad de Playa Ancha (UPLA) \\\\\n",
       "                          Gobernación de Cauquenes &                            Municipalidad de Concón &           Universidad de Santiago de Chile (USACH) \\\\\n",
       "                             Gobernación de Cautín &                          Municipalidad de Contulmo &                      Universidad de Talca (UTALCA) \\\\\n",
       "                          Gobernación de Chacabuco &                           Municipalidad de Copiapó &                            Universidad de Tarapacá \\\\\n",
       "                           Gobernación de Chañaral &                          Municipalidad de Curacaví &                          Universidad de Valparaíso \\\\\n",
       "                             Gobernación de Chiloé &                   Municipalidad de Curaco de Vélez &                      Universidad del Bío Bío (UBB) \\\\\n",
       "                             Gobernación de Choapa &                           Municipalidad de Curepto &                                ZOFRI S.A.  (ZOFRI) \\\\\n",
       "                          Gobernación de Colchagua &                            Municipalidad de Freire &                                                    \\\\\n",
       "                         Gobernación de Concepción &                           Municipalidad de Hualañé &                                                    \\\\\n",
       "                            Gobernación de Copiapó &                         Municipalidad de La Calera &                                                    \\\\\n",
       "                         Gobernación de Cordillera &                        Municipalidad de La Florida &                                                    \\\\\n",
       "                          Gobernación de Coyhaique &                         Municipalidad de La Serena &                                                    \\\\\n",
       "                             Gobernación de Curicó &                        Municipalidad de Las Condes &                                                    \\\\\n",
       "                          Gobernación de Diguillín &                           Municipalidad de Linares &                                                    \\\\\n",
       "                             Gobernación de El Loa &                      Municipalidad de Lo Barnechea &                                                    \\\\\n",
       "                              Gobernación de Elqui &                           Municipalidad de Longaví &                                                    \\\\\n",
       "\\end{longtable}\n"
      ],
      "text/plain": [
       "<IPython.core.display.Markdown object>"
      ]
     },
     "metadata": {},
     "output_type": "display_data"
    }
   ],
   "source": [
    "df4Nunca = df4F['organismo_codigo'].drop_duplicates()\n",
    "df4TotalF = df3[df3['obligadorecibir_sai'] == 'SÍ']\n",
    "\n",
    "df4Fdiff = df4TotalF.merge(df4Nunca, how = 'left', left_on = 'Codigo_org', right_on = 'organismo_codigo')\n",
    "df4Fdiff = df4Fdiff[df4Fdiff['organismo_codigo'].isnull()]\n",
    "df4Fdiff = df4Fdiff[['Organismo']].sort_values(by = 'Organismo')\n",
    "\n",
    "# Imprimimos en 3 columnas\n",
    "d2 = df4Fdiff['Organismo'].reset_index().drop(columns=['index'])\n",
    "d2.index = pd.MultiIndex.from_tuples(d2.index.map(lambda x: (x//75, x%75)))\n",
    "df5NotPP = d2.unstack(0).fillna('')\n",
    "headers = ['', '', '', '', '']\n",
    "display(Markdown('# ANEXOS'))\n",
    "display(Markdown('## ANEXO 1: Servicios obligados que nunca han publicado en el dataset'))\n",
    "display(Markdown(df5NotPP.to_latex(header = False, index = False, column_format = ' p{5cm} | p{5cm} | p{5cm} ', longtable = True)))"
   ]
  },
  {
   "cell_type": "code",
   "execution_count": 173,
   "metadata": {},
   "outputs": [],
   "source": [
    "df5NotPP.to_csv('anexo1.csv', sep = ';', encoding = 'cp1252')"
   ]
  },
  {
   "cell_type": "code",
   "execution_count": 127,
   "metadata": {},
   "outputs": [
    {
     "data": {
      "text/markdown": [
       "## ANEXO 2: Servicios obligados que han publicado todos los meses desde que se integraron a la plataforma de CPLT"
      ],
      "text/plain": [
       "<IPython.core.display.Markdown object>"
      ]
     },
     "metadata": {},
     "output_type": "display_data"
    },
    {
     "data": {
      "text/markdown": [
       "\\begin{longtable}{ p{5cm} | p{5cm} | p{5cm} }\n",
       "\\toprule\n",
       " AGENCIA CHILENA DE COOPERACIÓN INTERNACIONAL P... &                                   Hospital de Tomé &                           Municipalidad de Quilpué \\\\\n",
       " Administradora de los Tribunales Tributarios y... &                           Hospital de las Higueras &                     Municipalidad de Quinta Normal \\\\\n",
       "                Agencia de Calidad de la Educación &                              Hospital del Salvador &                          Municipalidad de Quintero \\\\\n",
       "   Agencia de Promoción de la Inversión Extranjera &      Instituto Nacional de Derechos Humanos (INDH) &                          Municipalidad de Quirihue \\\\\n",
       "                                   Armada de Chile &  Instituto Nacional de Desarrollo Sustentable d... &                          Municipalidad de Rancagua \\\\\n",
       " Asociación Chilena de Municipalidades con Farm... &           Instituto Nacional de Estadisticas (INE) &                           Municipalidad de Renaico \\\\\n",
       " Asociación Nacional de Municipalidades de Ciud... &              Instituto Nacional de Geriatría (ING) &                             Municipalidad de Renca \\\\\n",
       "      Asociación Regional de Municipios de Atacama &  Instituto Nacional de Rehabilitación Pedro Agu... &                             Municipalidad de Rengo \\\\\n",
       "      Asociación de Municipalidades Bio Bio Centro &                      Instituto Nacional del Cáncer &                         Municipalidad de Rio Bueno \\\\\n",
       " Asociación de Municipalidades Cordilleranas de... &               Instituto Nacional del Deporte (IND) &                           Municipalidad de Romeral \\\\\n",
       "   Asociación de Municipalidades Parque Cordillera &                       Instituto Nacional del Tórax &                           Municipalidad de Ránquil \\\\\n",
       " Asociación de Municipalidades Rurales de la Re... &                             Instituto Psiquiátrico &                         Municipalidad de Río Claro \\\\\n",
       " Asociación de Municipalidades con Alcalde Mapuche &                           Instituto Traumatológico &                       Municipalidad de Río Hurtado \\\\\n",
       "      Asociación de Municipalidades de Chile AMUCH &       Instituto de Desarrollo Agropecuario (INDAP) &                        Municipalidad de Río Ibáñez \\\\\n",
       " Asociación de Municipalidades de Ciudades Puer... &                          Instituto de Neurocirugía &                         Municipalidad de Río Negro \\\\\n",
       " Asociación de Municipalidades de la Provincia ... &                Instituto de Previsión Social (IPS) &                          Municipalidad de Saavedra \\\\\n",
       " Asociación de Municipalidades de la Región de ... &                   Instituto de Salud Pública (ISP) &                         Municipalidad de Salamanca \\\\\n",
       " Asociación de Municipalidades de la Región de ... &               Instituto de Seguridad Laboral (ISL) &                       Municipalidad de San Antonio \\\\\n",
       " Asociación de Municipalidades de la Región de ... &  Junta Nacional de Auxilio Escolar y Becas (JUN... &                      Municipalidad de San Bernardo \\\\\n",
       " Asociación de Municipalidades de la Región del... &      Junta Nacional de Jardines Infantiles (JUNJI) &                        Municipalidad de San Carlos \\\\\n",
       " Asociación de Municipalidades del Valle del Itata &                   Junta de Aeronáutica Civil (JAC) &                      Municipalidad de San Clemente \\\\\n",
       " Asociación de Municipalidades para el Desarrol... &                             Municipalidad de Alhué &                        Municipalidad de San Fabián \\\\\n",
       "               Asociación de Municipios Ciudad Sur &                       Municipalidad de Alto Biobío &                      Municipalidad de San Gregorio \\\\\n",
       " Asociación de Municipios de La Región de Los Ríos &                   Municipalidad de Alto del Carmen &                        Municipalidad de San Javier \\\\\n",
       "                    CFT de la Región de Valparaíso &                         Municipalidad de Andacollo &                 Municipalidad de San José de Maipo \\\\\n",
       "                  CFT de la Región de la Araucanía &                             Municipalidad de Angol &              Municipalidad de San Juan de la Costa \\\\\n",
       "                      CFT de la Región de los Ríos &                            Municipalidad de Arauco &                        Municipalidad de San Miguel \\\\\n",
       "                        CFT de la Región del Maule &                             Municipalidad de Aysen &                       Municipalidad de San Nicolás \\\\\n",
       "                     CFT de la Región del Tarapacá &                              Municipalidad de Buin &                         Municipalidad de San Pedro \\\\\n",
       " Caja de Previsión de la Defensa Nacional (CAPR... &                           Municipalidad de Cabildo &        Municipalidad de San Vicente de Tagua Tagua \\\\\n",
       " Central de Abastecimiento del Sistema Nacional... &        Municipalidad de Cabo de Hornos y Antártica &                       Municipalidad de Santa Juana \\\\\n",
       "     Centro de Referencia de Salud de Maipú (CRSM) &                           Municipalidad de Calbuco &                          Municipalidad de Santiago \\\\\n",
       " Centro de Referencia de Salud de Peñalolén Cor... &                           Municipalidad de Caldera &                      Municipalidad de Sierra Gorda \\\\\n",
       "       Comisión Chilena de Energía Nuclear (CCHEN) &                   Municipalidad de Calera de Tango &                         Municipalidad de Talagante \\\\\n",
       "             Comisión Chilena del Cobre (COCHILCO) &                       Municipalidad de Calle Larga &                             Municipalidad de Talca \\\\\n",
       "           Comisión Nacional de Acreditación (CNA) &                         Municipalidad de Camarones &                            Municipalidad de Taltal \\\\\n",
       "                Comisión Nacional de Energía (CNE) &                            Municipalidad de Canela &                   Municipalidad de Teodoro Schmidt \\\\\n",
       " Comisión Nacional de Investigación Científica ... &                         Municipalidad de Cartagena &                            Municipalidad de Tiltil \\\\\n",
       "                  Comisión Nacional de Riego (CNR) &                        Municipalidad de Casablanca &                             Municipalidad de Tirúa \\\\\n",
       " Comisión del Sistema Nacional de Certificación... &                            Municipalidad de Catemu &                         Municipalidad de Tocopilla \\\\\n",
       " Comisión para el Mercado Financiero (CMF  ex SVS) &                         Municipalidad de Cauquenes &                            Municipalidad de Toltén \\\\\n",
       "                           Consejo Fiscal Autónomo &                            Municipalidad de Cañete &                              Municipalidad de Tome \\\\\n",
       "              Consejo Nacional de Educación (CNED) &                       Municipalidad de Cerro Navia &                  Municipalidad de Torres del Paine \\\\\n",
       "             Consejo Nacional de Televisión (CNTV) &                          Municipalidad de Chañaral &                            Municipalidad de Tortel \\\\\n",
       "               Consejo de Defensa del Estado (CDE) &                       Municipalidad de Chiguayante &                           Municipalidad de Tucapel \\\\\n",
       "                               Consejo de Rectores &                       Municipalidad de Chile Chico &                        Municipalidad de Valparaíso \\\\\n",
       "              Consejo para la Transparencia (CPLT) &                           Municipalidad de Chillán &                            Municipalidad de Vilcún \\\\\n",
       " Corporación Municipal Cultural y Patrimonial d... &                       Municipalidad de Chimbarongo &                      Municipalidad de Villa Alegre \\\\\n",
       "                     Corporación Municipal de Buin &                          Municipalidad de Cholchol &                     Municipalidad de Villa Alemana \\\\\n",
       "                   Corporación Municipal de Castro &                           Municipalidad de Chépica &                     Municipalidad de Yerbas Buenas \\\\\n",
       "              Corporación Municipal de Cerro Navia &                            Municipalidad de Cisnes &                            Municipalidad de Yumbel \\\\\n",
       "                   Corporación Municipal de Colina &                          Municipalidad de Cochrane &                            Municipalidad de Yungay \\\\\n",
       "          Corporación Municipal de Curaco De Velez &                           Municipalidad de Codegua &  Oficinas de Estudios y Políticas Agrarias (ODEPA) \\\\\n",
       " Corporación Municipal de Desarrollo Social de ... &                           Municipalidad de Coelemu &                   Parque Metropolitano de Santiago \\\\\n",
       " Corporación Municipal de Desarrollo Social de ... &                            Municipalidad de Coinco &                        Presidencia de la República \\\\\n",
       " Corporación Municipal de Desarrollo Social de ... &                            Municipalidad de Colbún &         SEREMI de Salud  Metropolitano de Santiago \\\\\n",
       " Corporación Municipal de Desarrollo Social de ... &                            Municipalidad de Colina &                    SEREMI de Salud  de Antofagasta \\\\\n",
       " Corporación Municipal de Educación y Servicios... &                        Municipalidad de Collipulli &                        SEREMI de Salud  de Atacama \\\\\n",
       "                 Corporación Municipal de La Reina &                          Municipalidad de Coltauco &                       SEREMI de Salud  de Tarapacá \\\\\n",
       "              Corporación Municipal de Maria Pinto &                        Municipalidad de Combarbalá &                     SEREMI de Salud  de Valparaíso \\\\\n",
       "                Corporación Municipal de Melipilla &                        Municipalidad de Concepción &                           SEREMI de Salud de Aysén \\\\\n",
       "              Corporación Municipal de Panguipulli &                          Municipalidad de Conchalí &                    SEREMI de Salud de La Araucanía \\\\\n",
       "             Corporación Municipal de Pozo Almonte &                      Municipalidad de Constitución &                        SEREMI de Salud de Los Ríos \\\\\n",
       "              Corporación Municipal de Puente Alto &                           Municipalidad de Coronel &                        SEREMI de Salud de OHiggins \\\\\n",
       "                Corporación Municipal de Puqueldón &                         Municipalidad de Coyhaique &                          SEREMI de Salud del Maule \\\\\n",
       "                  Corporación Municipal de Queilen &                             Municipalidad de Cunco &                          SEREMI de Salud del Ñuble \\\\\n",
       "                  Corporación Municipal de Quellón &                        Municipalidad de Curacautín &            SERVIU Región Metropolitana de Santiago \\\\\n",
       "                  Corporación Municipal de Quilpué &                          Municipalidad de Dalcahue &                       SERVIU Región de Antofagasta \\\\\n",
       "        Corporación Municipal de Rancagua (CORMUN) &                  Municipalidad de Diego de Almagro &  SERVIU Región de Aysén del General Carlos Ibáñ... \\\\\n",
       "             Corporación Municipal de San Bernardo &                           Municipalidad de Doñihue &                         SERVIU Región de Los Lagos \\\\\n",
       "              Corporación Municipal de San Joaquin &                         Municipalidad de El Bosque &  SERVIU Región de Magallanes y la Antártica Chi... \\\\\n",
       "              Corporación Municipal de San Vicente &                          Municipalidad de El Monte &                        SERVIU Región de Valparaíso \\\\\n",
       "                Corporación Municipal de Talagante &                         Municipalidad de El Quisco &                      SERVIU Región de la Araucanía \\\\\n",
       "               Corporación Municipal de Valparaíso &                         Municipalidad de Empedrado &     SERVIU Región del Libertador Bernardo OHiggins \\\\\n",
       " Corporación Municipal para el Desarrollo Socia... &                          Municipalidad de Freirina &                            SERVIU Región del Maule \\\\\n",
       " Corporación de Asistencia Judicial Regiones Ta... &                         Municipalidad de Frutillar &                 Servicio Agrícola y Ganadero (SAG) \\\\\n",
       " Corporación de Asistencia Judicial Región Bío ... &                         Municipalidad de Futaleufú &   Servicio Local de Educación Pública Andalién Sur \\\\\n",
       " Corporación de Asistencia Judicial Región Valp... &                           Municipalidad de Futrono &     Servicio Local de Educación Pública Chinchorro \\\\\n",
       " Corporación de Fomento Para La Producción (CORFO) &                         Municipalidad de Galvarino &  Servicio Local de Educación Pública Costa Arau... \\\\\n",
       "                    Defensoría Penal Pública (DPP) &                     Municipalidad de General Lagos &  Servicio Local de Educación Pública Gabriela M... \\\\\n",
       "     Dirección General de Aeronáutica Civil (DGAC) &                          Municipalidad de Graneros &         Servicio Local de Educación Pública Huasco \\\\\n",
       "                  Dirección General de Aguas (DGA) &                          Municipalidad de Hijuelas &   Servicio Local de Educación Pública de Barrancas \\\\\n",
       " Dirección General de Concesiones de Obras Públ... &                         Municipalidad de Hualaihué &                        Servicio Médico Legal (SML) \\\\\n",
       "   Dirección General de Crédito Prendario (DICREP) &                           Municipalidad de Hualpén &                       Servicio Nacional de Aduanas \\\\\n",
       "        Dirección General de Obras Públicas (DGOP) &                           Municipalidad de Hualqui &  Servicio Nacional de Capacitación y Empleo (SE... \\\\\n",
       "             Dirección Nacional del Servicio Civil &                     Municipalidad de Isla de Maipo &  Servicio Nacional de Geología y Minería (SERNA... \\\\\n",
       "                    Dirección de Aeropuertos (DAP) &         Municipalidad de Isla de Pascua (Rapa Nui) &              Servicio Nacional de Menores (SENAME) \\\\\n",
       "                  Dirección de Arquitectura (DARQ) &                    Municipalidad de Juan Fernández &  Servicio Nacional de Pesca y Acuicultura (SERN... \\\\\n",
       " Dirección de Compras y Contratación Pública (C... &                       Municipalidad de La Cisterna &  Servicio Nacional de la Mujer y la Equidad de ... \\\\\n",
       "       Dirección de Contabilidad y Finanzas (DCYF) &                       Municipalidad de La Estrella &          Servicio Nacional del Consumidor (SERNAC) \\\\\n",
       "                    Dirección de Educación Pública &                         Municipalidad de La Granja &          Servicio Nacional del Patrimonio Cultural \\\\\n",
       "              Dirección de Obras Hidráulicas (DOH) &                          Municipalidad de La Ligua &         Servicio de Cooperación Técnica (SERCOTEC) \\\\\n",
       "               Dirección de Obras Portuarias (DOP) &                        Municipalidad de La Pintana &             Servicio de Evaluación Ambiental (SEA) \\\\\n",
       "               Dirección de Planeamiento (DIRPLAN) &                          Municipalidad de La Unión &        Servicio de Registro Civil e Identificación \\\\\n",
       "                Dirección de Presupuestos (DIPRES) &                        Municipalidad de Lago Ranco &                        Servicio de Salud Aconcagua \\\\\n",
       " Dirección de Previsión de Carabineros de Chile... &                        Municipalidad de Lago Verde &                      Servicio de Salud Antofagasta \\\\\n",
       "                  Dirección de Vialidad (VIALIDAD) &                     Municipalidad de Laguna Blanca &                  Servicio de Salud Araucanía Norte \\\\\n",
       "                        Dirección del Trabajo (DT) &                              Municipalidad de Laja &                            Servicio de Salud Arica \\\\\n",
       "                                 Ejército de Chile &                             Municipalidad de Lampa &                            Servicio de Salud Aysén \\\\\n",
       "                      Estado Mayor Conjunto (EMCO) &                             Municipalidad de Lanco &                           Servicio de Salud Bíobío \\\\\n",
       "                                      Fiscalía MOP &                        Municipalidad de Las Cabras &                         Servicio de Salud Coquimbo \\\\\n",
       "                 Fiscalía Nacional Económica (FNE) &                           Municipalidad de Lautaro &                          Servicio de Salud Iquique \\\\\n",
       "                  Fondo Nacional de Salud (FONASA) &                              Municipalidad de Lebu &                       Servicio de Salud Magallanes \\\\\n",
       "   Fondo de Solidaridad e Inversión Social (FOSIS) &                           Municipalidad de Limache &                            Servicio de Salud Maule \\\\\n",
       " Fuerza Aérea de Chile (Incluye al Servicio Aer... &                         Municipalidad de Lo Espejo &            Servicio de Salud Metropolitano Central \\\\\n",
       "                     Fundación Artesanías de Chile &                             Municipalidad de Lolol &              Servicio de Salud Metropolitano Norte \\\\\n",
       "                    Fundación Cultural Providencia &                         Municipalidad de Lonquimay &          Servicio de Salud Metropolitano Occidente \\\\\n",
       "                    Fundación Tiempos Nuevos (MIM) &                        Municipalidad de Los Alamos &                Servicio de Salud Metropolitano Sur \\\\\n",
       " Gobierno Regional Metropolitano de Santiago  (... &                         Municipalidad de Los Vilos &                         Servicio de Salud OHiggins \\\\\n",
       "           Gobierno Regional de Arica y Parinacota &                            Municipalidad de Lumaco &                           Servicio de Salud Osorno \\\\\n",
       "                      Gobierno Regional de Atacama &                             Municipalidad de Macul &                       Servicio de Salud Talcahuano \\\\\n",
       "           Gobierno Regional de Aysén (GORE Aysén) &                             Municipalidad de Maipú &                         Servicio de Salud Valdivia \\\\\n",
       "                     Gobierno Regional de Coquimbo &                         Municipalidad de Mariquina &          Servicio de Salud Valparaíso  San Antonio \\\\\n",
       " Gobierno Regional de Magallanes y de la Antárt... &                       Municipalidad de María Pinto &           Servicio de Salud Viña del Mar  Quillota \\\\\n",
       "     Gobierno Regional de OHiggins (Gore OHiggins) &                        Municipalidad de Mejillones &                    Servicio de Salud del Reloncaví \\\\\n",
       "                     Gobierno Regional de Tarapacá &                          Municipalidad de Mostazal &                  Subsecretaria de Derechos Humanos \\\\\n",
       " Gobierno Regional de Valparaíso  ( GORE Valpar... &                        Municipalidad de Nacimiento &                 Subsecretaria de Evaluación Social \\\\\n",
       "                        Gobierno Regional de Ñuble &                           Municipalidad de Navidad &        Subsecretaría General de Gobierno (SEGEGOB) \\\\\n",
       "      Gobierno Regional del Bío Bío (Gore Bío Bío) &                           Municipalidad de Ollague &  Subsecretaría General de La Presidencia (SEGPRES) \\\\\n",
       "          Gobierno Regional del Maule (Gore Maule) &                            Municipalidad de Osorno &                 Subsecretaría de Bienes Nacionales \\\\\n",
       "                         Hospital Base de Valdivia &                            Municipalidad de Ovalle &  Subsecretaría de Ciencia Tecnología Conocimien... \\\\\n",
       "                         Hospital Carlos Van Buren &                     Municipalidad de Padre Hurtado &                           Subsecretaría de Defensa \\\\\n",
       "            Hospital Claudio Vicuña de San Antonio &                          Municipalidad de Paihuano &     Subsecretaría de Desarrollo Regional (SUBDERE) \\\\\n",
       " Hospital Clínico Magallanes Dr Lautaro Navarro... &                          Municipalidad de Paillaco &                Subsecretaría de Economía (MINECON) \\\\\n",
       "            Hospital Dr. Augusto Riffart de Castro &                          Municipalidad de Palmilla &               Subsecretaría de Educación (MINEDUC) \\\\\n",
       "   Hospital Dr. Hernán Henríquez Aravena de Temuco &                       Municipalidad de Panguipulli &              Subsecretaría de Educación Parvularia \\\\\n",
       "            Hospital Eduardo Pereira de Valparaíso &                            Municipalidad de Papudo &                Subsecretaría de Educación Superior \\\\\n",
       "      Hospital El Carmen Dr. Luis Valentín Ferrada &                         Municipalidad de Paredones &                           Subsecretaría de Energía \\\\\n",
       "                Hospital Ernesto Torres de Iquique &                            Municipalidad de Parral &                          Subsecretaría de Hacienda \\\\\n",
       "                        Hospital Exequiel González &               Municipalidad de Pedro Aguirre Cerda &                          Subsecretaría de Justicia \\\\\n",
       "                             Hospital Félix Bulnes &                          Municipalidad de Pelluhue &                           Subsecretaría de Minería \\\\\n",
       "  Hospital Guillermo Grant Benavente de Concepción &                            Municipalidad de Pemuco &              Subsecretaría de Obras Públicas (MOP) \\\\\n",
       "                          Hospital Herminda Martin &                          Municipalidad de Pencahue &               Subsecretaría de Pesca y Acuicultura \\\\\n",
       "                        Hospital Juan Noé de Arica &                             Municipalidad de Penco &             Subsecretaría de Prevención del Delito \\\\\n",
       "           Hospital Leonardo Guzmán de Antofagasta &                         Municipalidad de Peralillo &            Subsecretaría de Previsión Social (SPS) \\\\\n",
       "                      Hospital Luis Calvo Mackenna &                             Municipalidad de Peumo &               Subsecretaría de Redes Asistenciales \\\\\n",
       "                               Hospital Luis Tisné &                          Municipalidad de Peñaflor &            Subsecretaría de Salud Pública (MINSAL) \\\\\n",
       "                            Hospital Padre Hurtado &                         Municipalidad de Peñalolén &                Subsecretaría de Servicios Sociales \\\\\n",
       "                       Hospital Regional Coyhaique &                              Municipalidad de Pica &       Subsecretaría de Telecomunicaciones (SUBTEL) \\\\\n",
       "                     Hospital Regional de Rancagua &                         Municipalidad de Pichilemu &                           Subsecretaría de Turismo \\\\\n",
       "                        Hospital Regional de Talca &                             Municipalidad de Pinto &   Subsecretaría de la Mujer y la Equidad de Género \\\\\n",
       "                      Hospital San José de Coronel &                            Municipalidad de Pirque &          Subsecretaría de las Culturas y las Artes \\\\\n",
       "                         Hospital San Juan de Dios &                        Municipalidad de Pitrufquén &              Subsecretaría del Patrimonio Cultural \\\\\n",
       "            Hospital San Juan de Dios de Los Andes &                          Municipalidad de Placilla &                Subsecretaría del Trabajo (MINTRAB) \\\\\n",
       "         Hospital San Juan de Dios de San Fernando &                        Municipalidad de Portezuelo &    Subsecretaría para las Fuerzas Armadas (SSFFAA) \\\\\n",
       "                   Hospital San Martín de Quillota &                      Municipalidad de Pozo Almonte &         Superintendencia de Casinos de Juego (SCJ) \\\\\n",
       "                    Hospital San Pablo de Coquimbo &                         Municipalidad de Primavera &                      Superintendencia de Educación \\\\\n",
       "                           Hospital Sótero del Río &                             Municipalidad de Pucón &             Superintendencia de Educación Superior \\\\\n",
       "       Hospital Urgencia Asistencia Pública (HUAP) &                      Municipalidad de Puerto Montt &  Superintendencia de Electricidad y Combustible... \\\\\n",
       "          Hospital Víctor Ríos Ruiz de Los Angeles &                    Municipalidad de Puerto Natales &  Superintendencia de Insolvencia y Reemprendimi... \\\\\n",
       "                                Hospital de Curicó &                      Municipalidad de Puerto Octay &                 Superintendencia de Pensiones (SP) \\\\\n",
       "                               Hospital de Linares &                         Municipalidad de Punitaqui &      Superintendencia de Seguridad Social (SUSESO) \\\\\n",
       "                                  Hospital de Lota &                         Municipalidad de Purranque &    Superintendencia de Servicios Sanitarios (SISS) \\\\\n",
       "                             Hospital de Melipilla &                          Municipalidad de Putaendo &          Superintendencia del Medio Ambiente (SMA) \\\\\n",
       "                                Hospital de Osorno &                           Municipalidad de Puyehue &            Tesorería General de la República (TGR) \\\\\n",
       "                                Hospital de Ovalle &                           Municipalidad de Queilén &                      Unidad de Análisis Financiero \\\\\n",
       "                          Hospital de Puerto Montt &                           Municipalidad de Quellón &                               Universidad de Aysén \\\\\n",
       "\\end{longtable}\n"
      ],
      "text/plain": [
       "<IPython.core.display.Markdown object>"
      ]
     },
     "metadata": {},
     "output_type": "display_data"
    }
   ],
   "source": [
    "d3 = dfRegula[dfRegula['indicador'] == 100]['Organismo'].sort_values().dropna().reset_index().drop(columns = {'index'})\n",
    "d3.index = pd.MultiIndex.from_tuples(d3.index.map(lambda x: (x//160, x%160)))\n",
    "dfFullPublica = d3.unstack(0).dropna()\n",
    "headers = ['', '', '', '', '']\n",
    "display(Markdown('## ANEXO 2: Servicios obligados que han publicado todos los meses desde que se integraron a la plataforma de CPLT'))\n",
    "display(Markdown(dfFullPublica.to_latex(header = False, index = False, column_format = ' p{5cm} | p{5cm} | p{5cm} ', longtable = True)))"
   ]
  },
  {
   "cell_type": "code",
   "execution_count": 174,
   "metadata": {},
   "outputs": [],
   "source": [
    "dfFullPublica.to_csv('anexo2.csv', sep = ';', encoding = 'cp1252')"
   ]
  },
  {
   "cell_type": "code",
   "execution_count": null,
   "metadata": {},
   "outputs": [],
   "source": []
  },
  {
   "cell_type": "code",
   "execution_count": null,
   "metadata": {},
   "outputs": [],
   "source": []
  },
  {
   "cell_type": "code",
   "execution_count": 67,
   "metadata": {},
   "outputs": [
    {
     "name": "stdout",
     "output_type": "stream",
     "text": [
      "fin\n"
     ]
    }
   ],
   "source": [
    "print('fin')"
   ]
  }
 ],
 "metadata": {
  "kernelspec": {
   "display_name": "Python 3",
   "language": "python",
   "name": "python3"
  },
  "language_info": {
   "codemirror_mode": {
    "name": "ipython",
    "version": 3
   },
   "file_extension": ".py",
   "mimetype": "text/x-python",
   "name": "python",
   "nbconvert_exporter": "python",
   "pygments_lexer": "ipython3",
   "version": "3.7.6"
  },
  "latex_metadata": {
   "affiliation": "Observatorio del Gasto Fiscal en Chile",
   "author": "José Mora González",
   "title": "Problemas en los Datos de Funcionarios Públicos"
  }
 },
 "nbformat": 4,
 "nbformat_minor": 4
}
